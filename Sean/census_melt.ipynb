{
 "cells": [
  {
   "cell_type": "markdown",
   "metadata": {},
   "source": [
    "## Census Data Pandas Melt"
   ]
  },
  {
   "cell_type": "code",
   "execution_count": 1,
   "metadata": {},
   "outputs": [],
   "source": [
    "import pandas as pd\n",
    "import numpy as np"
   ]
  },
  {
   "cell_type": "code",
   "execution_count": 46,
   "metadata": {},
   "outputs": [],
   "source": [
    "df = pd.read_csv('../data_files/census_data/acs5_name.csv', index_col = 0)"
   ]
  },
  {
   "cell_type": "markdown",
   "metadata": {},
   "source": [
    "#### The census data import was structured to create individual columns for each variable (males in one column and females in another).  The result was a very wide, cumbersome dataframe. To make the data easier to work with, like variables were unpivoted (i.e. pandas 'melt') to create individual dataframes (e.g. race/ethnicity became one long variable instead of 6 separate ones). Each dataframe was saved as a csv file. "
   ]
  },
  {
   "cell_type": "markdown",
   "metadata": {},
   "source": [
    " "
   ]
  },
  {
   "cell_type": "code",
   "execution_count": 47,
   "metadata": {},
   "outputs": [],
   "source": [
    "pd.set_option('display.max_columns', None)"
   ]
  },
  {
   "cell_type": "code",
   "execution_count": 48,
   "metadata": {},
   "outputs": [
    {
     "data": {
      "text/html": [
       "<div>\n",
       "<style scoped>\n",
       "    .dataframe tbody tr th:only-of-type {\n",
       "        vertical-align: middle;\n",
       "    }\n",
       "\n",
       "    .dataframe tbody tr th {\n",
       "        vertical-align: top;\n",
       "    }\n",
       "\n",
       "    .dataframe thead th {\n",
       "        text-align: right;\n",
       "    }\n",
       "</style>\n",
       "<table border=\"1\" class=\"dataframe\">\n",
       "  <thead>\n",
       "    <tr style=\"text-align: right;\">\n",
       "      <th></th>\n",
       "      <th>sex_age_tot</th>\n",
       "      <th>sex_age_tot_m</th>\n",
       "      <th>sex_age_tot_f</th>\n",
       "      <th>sex_work_age_tot</th>\n",
       "      <th>sex_work_age_tot_m</th>\n",
       "      <th>sex_work_age_tot_f</th>\n",
       "      <th>sex_not_work_age_tot</th>\n",
       "      <th>sex_not_work_age_tot_m</th>\n",
       "      <th>sex_not_work_age_tot_f</th>\n",
       "      <th>race_tot</th>\n",
       "      <th>non_hisp_total</th>\n",
       "      <th>race_tot_w</th>\n",
       "      <th>race_tot_b</th>\n",
       "      <th>race_tot_a</th>\n",
       "      <th>non_hisp_oth</th>\n",
       "      <th>hisp_tot</th>\n",
       "      <th>commute_time_tot</th>\n",
       "      <th>commute_time_tot_00_14</th>\n",
       "      <th>commute_time_tot_15_29</th>\n",
       "      <th>commute_time_tot_30_59</th>\n",
       "      <th>commute_time_tot_60_plus</th>\n",
       "      <th>commute_time_car</th>\n",
       "      <th>commute_time_car_00_14</th>\n",
       "      <th>commute_time_car_15_29</th>\n",
       "      <th>commute_time_car_30_59</th>\n",
       "      <th>commute_time_car_60_plus</th>\n",
       "      <th>commute_time_bus</th>\n",
       "      <th>commute_time_bus_00_14</th>\n",
       "      <th>commute_time_bus_15_29</th>\n",
       "      <th>commute_time_bus_30_59</th>\n",
       "      <th>commute_time_bus_60_plus</th>\n",
       "      <th>commute_means_tot</th>\n",
       "      <th>commute_car</th>\n",
       "      <th>commute_car_sov</th>\n",
       "      <th>commute_car_hov</th>\n",
       "      <th>commute_bus</th>\n",
       "      <th>commute_wfh</th>\n",
       "      <th>time_leave_to_work_tot</th>\n",
       "      <th>time_leave_to_work_00_05</th>\n",
       "      <th>time_leave_to_work_05_06</th>\n",
       "      <th>time_leave_to_work_06_07</th>\n",
       "      <th>time_leave_to_work_07_08</th>\n",
       "      <th>time_leave_to_work_08_09</th>\n",
       "      <th>time_leave_to_work_09_10</th>\n",
       "      <th>time_leave_to_work_10_12</th>\n",
       "      <th>time_leave_to_work_12_16</th>\n",
       "      <th>time_leave_to_work_16_00</th>\n",
       "      <th>house_ann_inc_total</th>\n",
       "      <th>house_ann_inc_000_010</th>\n",
       "      <th>house_ann_inc_010_025</th>\n",
       "      <th>house_ann_inc_025_050</th>\n",
       "      <th>house_ann_inc_050_100</th>\n",
       "      <th>house_ann_inc_100_200</th>\n",
       "      <th>house_ann_inc_200_plus</th>\n",
       "      <th>house_earnings_tot</th>\n",
       "      <th>house_earnings_yes</th>\n",
       "      <th>house_earnings_no</th>\n",
       "      <th>house_wage_sal_yes</th>\n",
       "      <th>house_wage_sal_no</th>\n",
       "      <th>house_self_emp_yes</th>\n",
       "      <th>house_self_emp_no</th>\n",
       "      <th>house_int_div_rent_yes</th>\n",
       "      <th>house_int_div_rent_no</th>\n",
       "      <th>house_soc_sec_yes</th>\n",
       "      <th>house_soc_sec_no</th>\n",
       "      <th>house_sup_sec_yes</th>\n",
       "      <th>house_sup_sec_no</th>\n",
       "      <th>house_pub_assist_yes</th>\n",
       "      <th>house_pub_assist_no</th>\n",
       "      <th>house_pub_snap_yes</th>\n",
       "      <th>house_pub_snap_no</th>\n",
       "      <th>house_retire_yes</th>\n",
       "      <th>house_retire_no</th>\n",
       "      <th>house_other_yes</th>\n",
       "      <th>house_other_no</th>\n",
       "      <th>workers_total</th>\n",
       "      <th>workers_a_profit</th>\n",
       "      <th>wokers_a_non_profit</th>\n",
       "      <th>workers_a_gvt</th>\n",
       "      <th>workers_a_noncorp_self</th>\n",
       "      <th>workers_a_unpay_fam</th>\n",
       "      <th>workers_m</th>\n",
       "      <th>workers_m_profit</th>\n",
       "      <th>wokers_m_non_profit</th>\n",
       "      <th>workers_m_gvt</th>\n",
       "      <th>workers_m_noncorp_self</th>\n",
       "      <th>workers_m_unpay_fam</th>\n",
       "      <th>workers_f</th>\n",
       "      <th>workers_f_for_profit</th>\n",
       "      <th>wokers_f_non_profit</th>\n",
       "      <th>workers_f_gvt</th>\n",
       "      <th>workers_f_noncorp_self</th>\n",
       "      <th>workers_f_unpay_fam</th>\n",
       "      <th>ratio_inc_pov_ann_total</th>\n",
       "      <th>ratio_inc_pov_ann_000_050</th>\n",
       "      <th>ratio_inc_pov_ann_050_099</th>\n",
       "      <th>ratio_inc_pov_ann_100_150</th>\n",
       "      <th>ratio_inc_pov_ann_150_199</th>\n",
       "      <th>ratio_inc_pov_ann_200_plus</th>\n",
       "      <th>block_group</th>\n",
       "    </tr>\n",
       "    <tr>\n",
       "      <th>block_group</th>\n",
       "      <th></th>\n",
       "      <th></th>\n",
       "      <th></th>\n",
       "      <th></th>\n",
       "      <th></th>\n",
       "      <th></th>\n",
       "      <th></th>\n",
       "      <th></th>\n",
       "      <th></th>\n",
       "      <th></th>\n",
       "      <th></th>\n",
       "      <th></th>\n",
       "      <th></th>\n",
       "      <th></th>\n",
       "      <th></th>\n",
       "      <th></th>\n",
       "      <th></th>\n",
       "      <th></th>\n",
       "      <th></th>\n",
       "      <th></th>\n",
       "      <th></th>\n",
       "      <th></th>\n",
       "      <th></th>\n",
       "      <th></th>\n",
       "      <th></th>\n",
       "      <th></th>\n",
       "      <th></th>\n",
       "      <th></th>\n",
       "      <th></th>\n",
       "      <th></th>\n",
       "      <th></th>\n",
       "      <th></th>\n",
       "      <th></th>\n",
       "      <th></th>\n",
       "      <th></th>\n",
       "      <th></th>\n",
       "      <th></th>\n",
       "      <th></th>\n",
       "      <th></th>\n",
       "      <th></th>\n",
       "      <th></th>\n",
       "      <th></th>\n",
       "      <th></th>\n",
       "      <th></th>\n",
       "      <th></th>\n",
       "      <th></th>\n",
       "      <th></th>\n",
       "      <th></th>\n",
       "      <th></th>\n",
       "      <th></th>\n",
       "      <th></th>\n",
       "      <th></th>\n",
       "      <th></th>\n",
       "      <th></th>\n",
       "      <th></th>\n",
       "      <th></th>\n",
       "      <th></th>\n",
       "      <th></th>\n",
       "      <th></th>\n",
       "      <th></th>\n",
       "      <th></th>\n",
       "      <th></th>\n",
       "      <th></th>\n",
       "      <th></th>\n",
       "      <th></th>\n",
       "      <th></th>\n",
       "      <th></th>\n",
       "      <th></th>\n",
       "      <th></th>\n",
       "      <th></th>\n",
       "      <th></th>\n",
       "      <th></th>\n",
       "      <th></th>\n",
       "      <th></th>\n",
       "      <th></th>\n",
       "      <th></th>\n",
       "      <th></th>\n",
       "      <th></th>\n",
       "      <th></th>\n",
       "      <th></th>\n",
       "      <th></th>\n",
       "      <th></th>\n",
       "      <th></th>\n",
       "      <th></th>\n",
       "      <th></th>\n",
       "      <th></th>\n",
       "      <th></th>\n",
       "      <th></th>\n",
       "      <th></th>\n",
       "      <th></th>\n",
       "      <th></th>\n",
       "      <th></th>\n",
       "      <th></th>\n",
       "      <th></th>\n",
       "      <th></th>\n",
       "      <th></th>\n",
       "      <th></th>\n",
       "      <th></th>\n",
       "      <th></th>\n",
       "      <th></th>\n",
       "    </tr>\n",
       "  </thead>\n",
       "  <tbody>\n",
       "    <tr>\n",
       "      <th>480291805031</th>\n",
       "      <td>659.0</td>\n",
       "      <td>417.0</td>\n",
       "      <td>242.0</td>\n",
       "      <td>454.0</td>\n",
       "      <td>279.0</td>\n",
       "      <td>175.0</td>\n",
       "      <td>205.0</td>\n",
       "      <td>138.0</td>\n",
       "      <td>67.0</td>\n",
       "      <td>659.0</td>\n",
       "      <td>71.0</td>\n",
       "      <td>71.0</td>\n",
       "      <td>0.0</td>\n",
       "      <td>0.0</td>\n",
       "      <td>0.0</td>\n",
       "      <td>588.0</td>\n",
       "      <td>366.0</td>\n",
       "      <td>43.0</td>\n",
       "      <td>154.0</td>\n",
       "      <td>169.0</td>\n",
       "      <td>0.0</td>\n",
       "      <td>336.0</td>\n",
       "      <td>43.0</td>\n",
       "      <td>129.0</td>\n",
       "      <td>164.0</td>\n",
       "      <td>0.0</td>\n",
       "      <td>5.0</td>\n",
       "      <td>0.0</td>\n",
       "      <td>0.0</td>\n",
       "      <td>5.0</td>\n",
       "      <td>0.0</td>\n",
       "      <td>366.0</td>\n",
       "      <td>336.0</td>\n",
       "      <td>294.0</td>\n",
       "      <td>42.0</td>\n",
       "      <td>5.0</td>\n",
       "      <td>0.0</td>\n",
       "      <td>366.0</td>\n",
       "      <td>0.0</td>\n",
       "      <td>57.0</td>\n",
       "      <td>51.0</td>\n",
       "      <td>143.0</td>\n",
       "      <td>57.0</td>\n",
       "      <td>10.0</td>\n",
       "      <td>0.0</td>\n",
       "      <td>46.0</td>\n",
       "      <td>2.0</td>\n",
       "      <td>240.0</td>\n",
       "      <td>10.0</td>\n",
       "      <td>8.0</td>\n",
       "      <td>40.0</td>\n",
       "      <td>164.0</td>\n",
       "      <td>18.0</td>\n",
       "      <td>0.0</td>\n",
       "      <td>240.0</td>\n",
       "      <td>203.0</td>\n",
       "      <td>37.0</td>\n",
       "      <td>203.0</td>\n",
       "      <td>37.0</td>\n",
       "      <td>0.0</td>\n",
       "      <td>240.0</td>\n",
       "      <td>29.0</td>\n",
       "      <td>211.0</td>\n",
       "      <td>69.0</td>\n",
       "      <td>171.0</td>\n",
       "      <td>21.0</td>\n",
       "      <td>219.0</td>\n",
       "      <td>10.0</td>\n",
       "      <td>230.0</td>\n",
       "      <td>20.0</td>\n",
       "      <td>220.0</td>\n",
       "      <td>63.0</td>\n",
       "      <td>177.0</td>\n",
       "      <td>10.0</td>\n",
       "      <td>230.0</td>\n",
       "      <td>366.0</td>\n",
       "      <td>255.0</td>\n",
       "      <td>24.0</td>\n",
       "      <td>87.0</td>\n",
       "      <td>0.0</td>\n",
       "      <td>0.0</td>\n",
       "      <td>186.0</td>\n",
       "      <td>113.0</td>\n",
       "      <td>22.0</td>\n",
       "      <td>51.0</td>\n",
       "      <td>0.0</td>\n",
       "      <td>0.0</td>\n",
       "      <td>180.0</td>\n",
       "      <td>142.0</td>\n",
       "      <td>2.0</td>\n",
       "      <td>36.0</td>\n",
       "      <td>0.0</td>\n",
       "      <td>0.0</td>\n",
       "      <td>659.0</td>\n",
       "      <td>33.0</td>\n",
       "      <td>0.0</td>\n",
       "      <td>193.0</td>\n",
       "      <td>39.0</td>\n",
       "      <td>394.0</td>\n",
       "      <td>480291805031</td>\n",
       "    </tr>\n",
       "    <tr>\n",
       "      <th>480291805032</th>\n",
       "      <td>1942.0</td>\n",
       "      <td>806.0</td>\n",
       "      <td>1136.0</td>\n",
       "      <td>1319.0</td>\n",
       "      <td>553.0</td>\n",
       "      <td>766.0</td>\n",
       "      <td>623.0</td>\n",
       "      <td>253.0</td>\n",
       "      <td>370.0</td>\n",
       "      <td>1942.0</td>\n",
       "      <td>252.0</td>\n",
       "      <td>193.0</td>\n",
       "      <td>59.0</td>\n",
       "      <td>0.0</td>\n",
       "      <td>0.0</td>\n",
       "      <td>1690.0</td>\n",
       "      <td>765.0</td>\n",
       "      <td>187.0</td>\n",
       "      <td>374.0</td>\n",
       "      <td>204.0</td>\n",
       "      <td>0.0</td>\n",
       "      <td>765.0</td>\n",
       "      <td>187.0</td>\n",
       "      <td>374.0</td>\n",
       "      <td>204.0</td>\n",
       "      <td>0.0</td>\n",
       "      <td>0.0</td>\n",
       "      <td>0.0</td>\n",
       "      <td>0.0</td>\n",
       "      <td>0.0</td>\n",
       "      <td>0.0</td>\n",
       "      <td>777.0</td>\n",
       "      <td>765.0</td>\n",
       "      <td>656.0</td>\n",
       "      <td>109.0</td>\n",
       "      <td>0.0</td>\n",
       "      <td>12.0</td>\n",
       "      <td>765.0</td>\n",
       "      <td>38.0</td>\n",
       "      <td>201.0</td>\n",
       "      <td>128.0</td>\n",
       "      <td>130.0</td>\n",
       "      <td>43.0</td>\n",
       "      <td>0.0</td>\n",
       "      <td>86.0</td>\n",
       "      <td>68.0</td>\n",
       "      <td>71.0</td>\n",
       "      <td>536.0</td>\n",
       "      <td>33.0</td>\n",
       "      <td>116.0</td>\n",
       "      <td>91.0</td>\n",
       "      <td>244.0</td>\n",
       "      <td>52.0</td>\n",
       "      <td>0.0</td>\n",
       "      <td>536.0</td>\n",
       "      <td>422.0</td>\n",
       "      <td>114.0</td>\n",
       "      <td>422.0</td>\n",
       "      <td>114.0</td>\n",
       "      <td>16.0</td>\n",
       "      <td>520.0</td>\n",
       "      <td>19.0</td>\n",
       "      <td>517.0</td>\n",
       "      <td>117.0</td>\n",
       "      <td>419.0</td>\n",
       "      <td>20.0</td>\n",
       "      <td>516.0</td>\n",
       "      <td>8.0</td>\n",
       "      <td>528.0</td>\n",
       "      <td>36.0</td>\n",
       "      <td>500.0</td>\n",
       "      <td>141.0</td>\n",
       "      <td>395.0</td>\n",
       "      <td>82.0</td>\n",
       "      <td>454.0</td>\n",
       "      <td>809.0</td>\n",
       "      <td>656.0</td>\n",
       "      <td>80.0</td>\n",
       "      <td>66.0</td>\n",
       "      <td>7.0</td>\n",
       "      <td>0.0</td>\n",
       "      <td>362.0</td>\n",
       "      <td>302.0</td>\n",
       "      <td>18.0</td>\n",
       "      <td>35.0</td>\n",
       "      <td>7.0</td>\n",
       "      <td>0.0</td>\n",
       "      <td>447.0</td>\n",
       "      <td>354.0</td>\n",
       "      <td>62.0</td>\n",
       "      <td>31.0</td>\n",
       "      <td>0.0</td>\n",
       "      <td>0.0</td>\n",
       "      <td>1942.0</td>\n",
       "      <td>160.0</td>\n",
       "      <td>280.0</td>\n",
       "      <td>158.0</td>\n",
       "      <td>173.0</td>\n",
       "      <td>1171.0</td>\n",
       "      <td>480291805032</td>\n",
       "    </tr>\n",
       "    <tr>\n",
       "      <th>480291704013</th>\n",
       "      <td>1676.0</td>\n",
       "      <td>663.0</td>\n",
       "      <td>1013.0</td>\n",
       "      <td>838.0</td>\n",
       "      <td>327.0</td>\n",
       "      <td>511.0</td>\n",
       "      <td>838.0</td>\n",
       "      <td>336.0</td>\n",
       "      <td>502.0</td>\n",
       "      <td>1676.0</td>\n",
       "      <td>441.0</td>\n",
       "      <td>272.0</td>\n",
       "      <td>169.0</td>\n",
       "      <td>0.0</td>\n",
       "      <td>0.0</td>\n",
       "      <td>1235.0</td>\n",
       "      <td>416.0</td>\n",
       "      <td>92.0</td>\n",
       "      <td>175.0</td>\n",
       "      <td>133.0</td>\n",
       "      <td>16.0</td>\n",
       "      <td>332.0</td>\n",
       "      <td>92.0</td>\n",
       "      <td>175.0</td>\n",
       "      <td>65.0</td>\n",
       "      <td>0.0</td>\n",
       "      <td>43.0</td>\n",
       "      <td>0.0</td>\n",
       "      <td>0.0</td>\n",
       "      <td>27.0</td>\n",
       "      <td>16.0</td>\n",
       "      <td>416.0</td>\n",
       "      <td>332.0</td>\n",
       "      <td>249.0</td>\n",
       "      <td>83.0</td>\n",
       "      <td>43.0</td>\n",
       "      <td>0.0</td>\n",
       "      <td>416.0</td>\n",
       "      <td>18.0</td>\n",
       "      <td>0.0</td>\n",
       "      <td>79.0</td>\n",
       "      <td>151.0</td>\n",
       "      <td>84.0</td>\n",
       "      <td>41.0</td>\n",
       "      <td>0.0</td>\n",
       "      <td>34.0</td>\n",
       "      <td>9.0</td>\n",
       "      <td>409.0</td>\n",
       "      <td>130.0</td>\n",
       "      <td>181.0</td>\n",
       "      <td>73.0</td>\n",
       "      <td>13.0</td>\n",
       "      <td>12.0</td>\n",
       "      <td>0.0</td>\n",
       "      <td>409.0</td>\n",
       "      <td>272.0</td>\n",
       "      <td>137.0</td>\n",
       "      <td>272.0</td>\n",
       "      <td>137.0</td>\n",
       "      <td>12.0</td>\n",
       "      <td>397.0</td>\n",
       "      <td>0.0</td>\n",
       "      <td>409.0</td>\n",
       "      <td>152.0</td>\n",
       "      <td>257.0</td>\n",
       "      <td>91.0</td>\n",
       "      <td>318.0</td>\n",
       "      <td>16.0</td>\n",
       "      <td>393.0</td>\n",
       "      <td>232.0</td>\n",
       "      <td>177.0</td>\n",
       "      <td>65.0</td>\n",
       "      <td>344.0</td>\n",
       "      <td>43.0</td>\n",
       "      <td>366.0</td>\n",
       "      <td>416.0</td>\n",
       "      <td>381.0</td>\n",
       "      <td>15.0</td>\n",
       "      <td>20.0</td>\n",
       "      <td>0.0</td>\n",
       "      <td>0.0</td>\n",
       "      <td>141.0</td>\n",
       "      <td>126.0</td>\n",
       "      <td>15.0</td>\n",
       "      <td>0.0</td>\n",
       "      <td>0.0</td>\n",
       "      <td>0.0</td>\n",
       "      <td>275.0</td>\n",
       "      <td>255.0</td>\n",
       "      <td>0.0</td>\n",
       "      <td>20.0</td>\n",
       "      <td>0.0</td>\n",
       "      <td>0.0</td>\n",
       "      <td>1676.0</td>\n",
       "      <td>630.0</td>\n",
       "      <td>460.0</td>\n",
       "      <td>303.0</td>\n",
       "      <td>77.0</td>\n",
       "      <td>206.0</td>\n",
       "      <td>480291704013</td>\n",
       "    </tr>\n",
       "    <tr>\n",
       "      <th>480291704012</th>\n",
       "      <td>730.0</td>\n",
       "      <td>384.0</td>\n",
       "      <td>346.0</td>\n",
       "      <td>306.0</td>\n",
       "      <td>123.0</td>\n",
       "      <td>183.0</td>\n",
       "      <td>424.0</td>\n",
       "      <td>261.0</td>\n",
       "      <td>163.0</td>\n",
       "      <td>730.0</td>\n",
       "      <td>47.0</td>\n",
       "      <td>15.0</td>\n",
       "      <td>32.0</td>\n",
       "      <td>0.0</td>\n",
       "      <td>0.0</td>\n",
       "      <td>683.0</td>\n",
       "      <td>140.0</td>\n",
       "      <td>23.0</td>\n",
       "      <td>57.0</td>\n",
       "      <td>50.0</td>\n",
       "      <td>10.0</td>\n",
       "      <td>100.0</td>\n",
       "      <td>23.0</td>\n",
       "      <td>36.0</td>\n",
       "      <td>41.0</td>\n",
       "      <td>0.0</td>\n",
       "      <td>30.0</td>\n",
       "      <td>0.0</td>\n",
       "      <td>11.0</td>\n",
       "      <td>9.0</td>\n",
       "      <td>10.0</td>\n",
       "      <td>140.0</td>\n",
       "      <td>100.0</td>\n",
       "      <td>83.0</td>\n",
       "      <td>17.0</td>\n",
       "      <td>30.0</td>\n",
       "      <td>0.0</td>\n",
       "      <td>140.0</td>\n",
       "      <td>0.0</td>\n",
       "      <td>0.0</td>\n",
       "      <td>38.0</td>\n",
       "      <td>48.0</td>\n",
       "      <td>10.0</td>\n",
       "      <td>13.0</td>\n",
       "      <td>0.0</td>\n",
       "      <td>21.0</td>\n",
       "      <td>10.0</td>\n",
       "      <td>190.0</td>\n",
       "      <td>57.0</td>\n",
       "      <td>62.0</td>\n",
       "      <td>14.0</td>\n",
       "      <td>57.0</td>\n",
       "      <td>0.0</td>\n",
       "      <td>0.0</td>\n",
       "      <td>190.0</td>\n",
       "      <td>120.0</td>\n",
       "      <td>70.0</td>\n",
       "      <td>120.0</td>\n",
       "      <td>70.0</td>\n",
       "      <td>16.0</td>\n",
       "      <td>174.0</td>\n",
       "      <td>16.0</td>\n",
       "      <td>174.0</td>\n",
       "      <td>67.0</td>\n",
       "      <td>123.0</td>\n",
       "      <td>52.0</td>\n",
       "      <td>138.0</td>\n",
       "      <td>5.0</td>\n",
       "      <td>185.0</td>\n",
       "      <td>72.0</td>\n",
       "      <td>118.0</td>\n",
       "      <td>45.0</td>\n",
       "      <td>145.0</td>\n",
       "      <td>12.0</td>\n",
       "      <td>178.0</td>\n",
       "      <td>140.0</td>\n",
       "      <td>115.0</td>\n",
       "      <td>17.0</td>\n",
       "      <td>8.0</td>\n",
       "      <td>0.0</td>\n",
       "      <td>0.0</td>\n",
       "      <td>92.0</td>\n",
       "      <td>67.0</td>\n",
       "      <td>17.0</td>\n",
       "      <td>8.0</td>\n",
       "      <td>0.0</td>\n",
       "      <td>0.0</td>\n",
       "      <td>48.0</td>\n",
       "      <td>48.0</td>\n",
       "      <td>0.0</td>\n",
       "      <td>0.0</td>\n",
       "      <td>0.0</td>\n",
       "      <td>0.0</td>\n",
       "      <td>730.0</td>\n",
       "      <td>260.0</td>\n",
       "      <td>69.0</td>\n",
       "      <td>116.0</td>\n",
       "      <td>159.0</td>\n",
       "      <td>126.0</td>\n",
       "      <td>480291704012</td>\n",
       "    </tr>\n",
       "    <tr>\n",
       "      <th>480291914061</th>\n",
       "      <td>2612.0</td>\n",
       "      <td>1229.0</td>\n",
       "      <td>1383.0</td>\n",
       "      <td>1546.0</td>\n",
       "      <td>701.0</td>\n",
       "      <td>845.0</td>\n",
       "      <td>1066.0</td>\n",
       "      <td>528.0</td>\n",
       "      <td>538.0</td>\n",
       "      <td>2612.0</td>\n",
       "      <td>1652.0</td>\n",
       "      <td>1451.0</td>\n",
       "      <td>21.0</td>\n",
       "      <td>91.0</td>\n",
       "      <td>89.0</td>\n",
       "      <td>960.0</td>\n",
       "      <td>1211.0</td>\n",
       "      <td>179.0</td>\n",
       "      <td>648.0</td>\n",
       "      <td>355.0</td>\n",
       "      <td>29.0</td>\n",
       "      <td>1189.0</td>\n",
       "      <td>167.0</td>\n",
       "      <td>648.0</td>\n",
       "      <td>355.0</td>\n",
       "      <td>19.0</td>\n",
       "      <td>10.0</td>\n",
       "      <td>0.0</td>\n",
       "      <td>0.0</td>\n",
       "      <td>0.0</td>\n",
       "      <td>10.0</td>\n",
       "      <td>1459.0</td>\n",
       "      <td>1189.0</td>\n",
       "      <td>1116.0</td>\n",
       "      <td>73.0</td>\n",
       "      <td>10.0</td>\n",
       "      <td>248.0</td>\n",
       "      <td>1211.0</td>\n",
       "      <td>20.0</td>\n",
       "      <td>64.0</td>\n",
       "      <td>156.0</td>\n",
       "      <td>462.0</td>\n",
       "      <td>237.0</td>\n",
       "      <td>105.0</td>\n",
       "      <td>57.0</td>\n",
       "      <td>70.0</td>\n",
       "      <td>40.0</td>\n",
       "      <td>1133.0</td>\n",
       "      <td>0.0</td>\n",
       "      <td>56.0</td>\n",
       "      <td>228.0</td>\n",
       "      <td>258.0</td>\n",
       "      <td>379.0</td>\n",
       "      <td>212.0</td>\n",
       "      <td>1133.0</td>\n",
       "      <td>963.0</td>\n",
       "      <td>170.0</td>\n",
       "      <td>904.0</td>\n",
       "      <td>229.0</td>\n",
       "      <td>180.0</td>\n",
       "      <td>953.0</td>\n",
       "      <td>276.0</td>\n",
       "      <td>857.0</td>\n",
       "      <td>340.0</td>\n",
       "      <td>793.0</td>\n",
       "      <td>32.0</td>\n",
       "      <td>1101.0</td>\n",
       "      <td>0.0</td>\n",
       "      <td>1133.0</td>\n",
       "      <td>0.0</td>\n",
       "      <td>1133.0</td>\n",
       "      <td>352.0</td>\n",
       "      <td>781.0</td>\n",
       "      <td>72.0</td>\n",
       "      <td>1061.0</td>\n",
       "      <td>1459.0</td>\n",
       "      <td>854.0</td>\n",
       "      <td>155.0</td>\n",
       "      <td>283.0</td>\n",
       "      <td>167.0</td>\n",
       "      <td>0.0</td>\n",
       "      <td>798.0</td>\n",
       "      <td>526.0</td>\n",
       "      <td>31.0</td>\n",
       "      <td>140.0</td>\n",
       "      <td>101.0</td>\n",
       "      <td>0.0</td>\n",
       "      <td>661.0</td>\n",
       "      <td>328.0</td>\n",
       "      <td>124.0</td>\n",
       "      <td>143.0</td>\n",
       "      <td>66.0</td>\n",
       "      <td>0.0</td>\n",
       "      <td>2612.0</td>\n",
       "      <td>0.0</td>\n",
       "      <td>84.0</td>\n",
       "      <td>150.0</td>\n",
       "      <td>50.0</td>\n",
       "      <td>2328.0</td>\n",
       "      <td>480291914061</td>\n",
       "    </tr>\n",
       "  </tbody>\n",
       "</table>\n",
       "</div>"
      ],
      "text/plain": [
       "              sex_age_tot  sex_age_tot_m  sex_age_tot_f  sex_work_age_tot  \\\n",
       "block_group                                                                 \n",
       "480291805031        659.0          417.0          242.0             454.0   \n",
       "480291805032       1942.0          806.0         1136.0            1319.0   \n",
       "480291704013       1676.0          663.0         1013.0             838.0   \n",
       "480291704012        730.0          384.0          346.0             306.0   \n",
       "480291914061       2612.0         1229.0         1383.0            1546.0   \n",
       "\n",
       "              sex_work_age_tot_m  sex_work_age_tot_f  sex_not_work_age_tot  \\\n",
       "block_group                                                                  \n",
       "480291805031               279.0               175.0                 205.0   \n",
       "480291805032               553.0               766.0                 623.0   \n",
       "480291704013               327.0               511.0                 838.0   \n",
       "480291704012               123.0               183.0                 424.0   \n",
       "480291914061               701.0               845.0                1066.0   \n",
       "\n",
       "              sex_not_work_age_tot_m  sex_not_work_age_tot_f  race_tot  \\\n",
       "block_group                                                              \n",
       "480291805031                   138.0                    67.0     659.0   \n",
       "480291805032                   253.0                   370.0    1942.0   \n",
       "480291704013                   336.0                   502.0    1676.0   \n",
       "480291704012                   261.0                   163.0     730.0   \n",
       "480291914061                   528.0                   538.0    2612.0   \n",
       "\n",
       "              non_hisp_total  race_tot_w  race_tot_b  race_tot_a  \\\n",
       "block_group                                                        \n",
       "480291805031            71.0        71.0         0.0         0.0   \n",
       "480291805032           252.0       193.0        59.0         0.0   \n",
       "480291704013           441.0       272.0       169.0         0.0   \n",
       "480291704012            47.0        15.0        32.0         0.0   \n",
       "480291914061          1652.0      1451.0        21.0        91.0   \n",
       "\n",
       "              non_hisp_oth  hisp_tot  commute_time_tot  \\\n",
       "block_group                                              \n",
       "480291805031           0.0     588.0             366.0   \n",
       "480291805032           0.0    1690.0             765.0   \n",
       "480291704013           0.0    1235.0             416.0   \n",
       "480291704012           0.0     683.0             140.0   \n",
       "480291914061          89.0     960.0            1211.0   \n",
       "\n",
       "              commute_time_tot_00_14  commute_time_tot_15_29  \\\n",
       "block_group                                                    \n",
       "480291805031                    43.0                   154.0   \n",
       "480291805032                   187.0                   374.0   \n",
       "480291704013                    92.0                   175.0   \n",
       "480291704012                    23.0                    57.0   \n",
       "480291914061                   179.0                   648.0   \n",
       "\n",
       "              commute_time_tot_30_59  commute_time_tot_60_plus  \\\n",
       "block_group                                                      \n",
       "480291805031                   169.0                       0.0   \n",
       "480291805032                   204.0                       0.0   \n",
       "480291704013                   133.0                      16.0   \n",
       "480291704012                    50.0                      10.0   \n",
       "480291914061                   355.0                      29.0   \n",
       "\n",
       "              commute_time_car  commute_time_car_00_14  \\\n",
       "block_group                                              \n",
       "480291805031             336.0                    43.0   \n",
       "480291805032             765.0                   187.0   \n",
       "480291704013             332.0                    92.0   \n",
       "480291704012             100.0                    23.0   \n",
       "480291914061            1189.0                   167.0   \n",
       "\n",
       "              commute_time_car_15_29  commute_time_car_30_59  \\\n",
       "block_group                                                    \n",
       "480291805031                   129.0                   164.0   \n",
       "480291805032                   374.0                   204.0   \n",
       "480291704013                   175.0                    65.0   \n",
       "480291704012                    36.0                    41.0   \n",
       "480291914061                   648.0                   355.0   \n",
       "\n",
       "              commute_time_car_60_plus  commute_time_bus  \\\n",
       "block_group                                                \n",
       "480291805031                       0.0               5.0   \n",
       "480291805032                       0.0               0.0   \n",
       "480291704013                       0.0              43.0   \n",
       "480291704012                       0.0              30.0   \n",
       "480291914061                      19.0              10.0   \n",
       "\n",
       "              commute_time_bus_00_14  commute_time_bus_15_29  \\\n",
       "block_group                                                    \n",
       "480291805031                     0.0                     0.0   \n",
       "480291805032                     0.0                     0.0   \n",
       "480291704013                     0.0                     0.0   \n",
       "480291704012                     0.0                    11.0   \n",
       "480291914061                     0.0                     0.0   \n",
       "\n",
       "              commute_time_bus_30_59  commute_time_bus_60_plus  \\\n",
       "block_group                                                      \n",
       "480291805031                     5.0                       0.0   \n",
       "480291805032                     0.0                       0.0   \n",
       "480291704013                    27.0                      16.0   \n",
       "480291704012                     9.0                      10.0   \n",
       "480291914061                     0.0                      10.0   \n",
       "\n",
       "              commute_means_tot  commute_car  commute_car_sov  \\\n",
       "block_group                                                     \n",
       "480291805031              366.0        336.0            294.0   \n",
       "480291805032              777.0        765.0            656.0   \n",
       "480291704013              416.0        332.0            249.0   \n",
       "480291704012              140.0        100.0             83.0   \n",
       "480291914061             1459.0       1189.0           1116.0   \n",
       "\n",
       "              commute_car_hov  commute_bus  commute_wfh  \\\n",
       "block_group                                               \n",
       "480291805031             42.0          5.0          0.0   \n",
       "480291805032            109.0          0.0         12.0   \n",
       "480291704013             83.0         43.0          0.0   \n",
       "480291704012             17.0         30.0          0.0   \n",
       "480291914061             73.0         10.0        248.0   \n",
       "\n",
       "              time_leave_to_work_tot  time_leave_to_work_00_05  \\\n",
       "block_group                                                      \n",
       "480291805031                   366.0                       0.0   \n",
       "480291805032                   765.0                      38.0   \n",
       "480291704013                   416.0                      18.0   \n",
       "480291704012                   140.0                       0.0   \n",
       "480291914061                  1211.0                      20.0   \n",
       "\n",
       "              time_leave_to_work_05_06  time_leave_to_work_06_07  \\\n",
       "block_group                                                        \n",
       "480291805031                      57.0                      51.0   \n",
       "480291805032                     201.0                     128.0   \n",
       "480291704013                       0.0                      79.0   \n",
       "480291704012                       0.0                      38.0   \n",
       "480291914061                      64.0                     156.0   \n",
       "\n",
       "              time_leave_to_work_07_08  time_leave_to_work_08_09  \\\n",
       "block_group                                                        \n",
       "480291805031                     143.0                      57.0   \n",
       "480291805032                     130.0                      43.0   \n",
       "480291704013                     151.0                      84.0   \n",
       "480291704012                      48.0                      10.0   \n",
       "480291914061                     462.0                     237.0   \n",
       "\n",
       "              time_leave_to_work_09_10  time_leave_to_work_10_12  \\\n",
       "block_group                                                        \n",
       "480291805031                      10.0                       0.0   \n",
       "480291805032                       0.0                      86.0   \n",
       "480291704013                      41.0                       0.0   \n",
       "480291704012                      13.0                       0.0   \n",
       "480291914061                     105.0                      57.0   \n",
       "\n",
       "              time_leave_to_work_12_16  time_leave_to_work_16_00  \\\n",
       "block_group                                                        \n",
       "480291805031                      46.0                       2.0   \n",
       "480291805032                      68.0                      71.0   \n",
       "480291704013                      34.0                       9.0   \n",
       "480291704012                      21.0                      10.0   \n",
       "480291914061                      70.0                      40.0   \n",
       "\n",
       "              house_ann_inc_total  house_ann_inc_000_010  \\\n",
       "block_group                                                \n",
       "480291805031                240.0                   10.0   \n",
       "480291805032                536.0                   33.0   \n",
       "480291704013                409.0                  130.0   \n",
       "480291704012                190.0                   57.0   \n",
       "480291914061               1133.0                    0.0   \n",
       "\n",
       "              house_ann_inc_010_025  house_ann_inc_025_050  \\\n",
       "block_group                                                  \n",
       "480291805031                    8.0                   40.0   \n",
       "480291805032                  116.0                   91.0   \n",
       "480291704013                  181.0                   73.0   \n",
       "480291704012                   62.0                   14.0   \n",
       "480291914061                   56.0                  228.0   \n",
       "\n",
       "              house_ann_inc_050_100  house_ann_inc_100_200  \\\n",
       "block_group                                                  \n",
       "480291805031                  164.0                   18.0   \n",
       "480291805032                  244.0                   52.0   \n",
       "480291704013                   13.0                   12.0   \n",
       "480291704012                   57.0                    0.0   \n",
       "480291914061                  258.0                  379.0   \n",
       "\n",
       "              house_ann_inc_200_plus  house_earnings_tot  house_earnings_yes  \\\n",
       "block_group                                                                    \n",
       "480291805031                     0.0               240.0               203.0   \n",
       "480291805032                     0.0               536.0               422.0   \n",
       "480291704013                     0.0               409.0               272.0   \n",
       "480291704012                     0.0               190.0               120.0   \n",
       "480291914061                   212.0              1133.0               963.0   \n",
       "\n",
       "              house_earnings_no  house_wage_sal_yes  house_wage_sal_no  \\\n",
       "block_group                                                              \n",
       "480291805031               37.0               203.0               37.0   \n",
       "480291805032              114.0               422.0              114.0   \n",
       "480291704013              137.0               272.0              137.0   \n",
       "480291704012               70.0               120.0               70.0   \n",
       "480291914061              170.0               904.0              229.0   \n",
       "\n",
       "              house_self_emp_yes  house_self_emp_no  house_int_div_rent_yes  \\\n",
       "block_group                                                                   \n",
       "480291805031                 0.0              240.0                    29.0   \n",
       "480291805032                16.0              520.0                    19.0   \n",
       "480291704013                12.0              397.0                     0.0   \n",
       "480291704012                16.0              174.0                    16.0   \n",
       "480291914061               180.0              953.0                   276.0   \n",
       "\n",
       "              house_int_div_rent_no  house_soc_sec_yes  house_soc_sec_no  \\\n",
       "block_group                                                                \n",
       "480291805031                  211.0               69.0             171.0   \n",
       "480291805032                  517.0              117.0             419.0   \n",
       "480291704013                  409.0              152.0             257.0   \n",
       "480291704012                  174.0               67.0             123.0   \n",
       "480291914061                  857.0              340.0             793.0   \n",
       "\n",
       "              house_sup_sec_yes  house_sup_sec_no  house_pub_assist_yes  \\\n",
       "block_group                                                               \n",
       "480291805031               21.0             219.0                  10.0   \n",
       "480291805032               20.0             516.0                   8.0   \n",
       "480291704013               91.0             318.0                  16.0   \n",
       "480291704012               52.0             138.0                   5.0   \n",
       "480291914061               32.0            1101.0                   0.0   \n",
       "\n",
       "              house_pub_assist_no  house_pub_snap_yes  house_pub_snap_no  \\\n",
       "block_group                                                                \n",
       "480291805031                230.0                20.0              220.0   \n",
       "480291805032                528.0                36.0              500.0   \n",
       "480291704013                393.0               232.0              177.0   \n",
       "480291704012                185.0                72.0              118.0   \n",
       "480291914061               1133.0                 0.0             1133.0   \n",
       "\n",
       "              house_retire_yes  house_retire_no  house_other_yes  \\\n",
       "block_group                                                        \n",
       "480291805031              63.0            177.0             10.0   \n",
       "480291805032             141.0            395.0             82.0   \n",
       "480291704013              65.0            344.0             43.0   \n",
       "480291704012              45.0            145.0             12.0   \n",
       "480291914061             352.0            781.0             72.0   \n",
       "\n",
       "              house_other_no  workers_total  workers_a_profit  \\\n",
       "block_group                                                     \n",
       "480291805031           230.0          366.0             255.0   \n",
       "480291805032           454.0          809.0             656.0   \n",
       "480291704013           366.0          416.0             381.0   \n",
       "480291704012           178.0          140.0             115.0   \n",
       "480291914061          1061.0         1459.0             854.0   \n",
       "\n",
       "              wokers_a_non_profit  workers_a_gvt  workers_a_noncorp_self  \\\n",
       "block_group                                                                \n",
       "480291805031                 24.0           87.0                     0.0   \n",
       "480291805032                 80.0           66.0                     7.0   \n",
       "480291704013                 15.0           20.0                     0.0   \n",
       "480291704012                 17.0            8.0                     0.0   \n",
       "480291914061                155.0          283.0                   167.0   \n",
       "\n",
       "              workers_a_unpay_fam  workers_m  workers_m_profit  \\\n",
       "block_group                                                      \n",
       "480291805031                  0.0      186.0             113.0   \n",
       "480291805032                  0.0      362.0             302.0   \n",
       "480291704013                  0.0      141.0             126.0   \n",
       "480291704012                  0.0       92.0              67.0   \n",
       "480291914061                  0.0      798.0             526.0   \n",
       "\n",
       "              wokers_m_non_profit  workers_m_gvt  workers_m_noncorp_self  \\\n",
       "block_group                                                                \n",
       "480291805031                 22.0           51.0                     0.0   \n",
       "480291805032                 18.0           35.0                     7.0   \n",
       "480291704013                 15.0            0.0                     0.0   \n",
       "480291704012                 17.0            8.0                     0.0   \n",
       "480291914061                 31.0          140.0                   101.0   \n",
       "\n",
       "              workers_m_unpay_fam  workers_f  workers_f_for_profit  \\\n",
       "block_group                                                          \n",
       "480291805031                  0.0      180.0                 142.0   \n",
       "480291805032                  0.0      447.0                 354.0   \n",
       "480291704013                  0.0      275.0                 255.0   \n",
       "480291704012                  0.0       48.0                  48.0   \n",
       "480291914061                  0.0      661.0                 328.0   \n",
       "\n",
       "              wokers_f_non_profit  workers_f_gvt  workers_f_noncorp_self  \\\n",
       "block_group                                                                \n",
       "480291805031                  2.0           36.0                     0.0   \n",
       "480291805032                 62.0           31.0                     0.0   \n",
       "480291704013                  0.0           20.0                     0.0   \n",
       "480291704012                  0.0            0.0                     0.0   \n",
       "480291914061                124.0          143.0                    66.0   \n",
       "\n",
       "              workers_f_unpay_fam  ratio_inc_pov_ann_total  \\\n",
       "block_group                                                  \n",
       "480291805031                  0.0                    659.0   \n",
       "480291805032                  0.0                   1942.0   \n",
       "480291704013                  0.0                   1676.0   \n",
       "480291704012                  0.0                    730.0   \n",
       "480291914061                  0.0                   2612.0   \n",
       "\n",
       "              ratio_inc_pov_ann_000_050  ratio_inc_pov_ann_050_099  \\\n",
       "block_group                                                          \n",
       "480291805031                       33.0                        0.0   \n",
       "480291805032                      160.0                      280.0   \n",
       "480291704013                      630.0                      460.0   \n",
       "480291704012                      260.0                       69.0   \n",
       "480291914061                        0.0                       84.0   \n",
       "\n",
       "              ratio_inc_pov_ann_100_150  ratio_inc_pov_ann_150_199  \\\n",
       "block_group                                                          \n",
       "480291805031                      193.0                       39.0   \n",
       "480291805032                      158.0                      173.0   \n",
       "480291704013                      303.0                       77.0   \n",
       "480291704012                      116.0                      159.0   \n",
       "480291914061                      150.0                       50.0   \n",
       "\n",
       "              ratio_inc_pov_ann_200_plus   block_group  \n",
       "block_group                                             \n",
       "480291805031                       394.0  480291805031  \n",
       "480291805032                      1171.0  480291805032  \n",
       "480291704013                       206.0  480291704013  \n",
       "480291704012                       126.0  480291704012  \n",
       "480291914061                      2328.0  480291914061  "
      ]
     },
     "execution_count": 48,
     "metadata": {},
     "output_type": "execute_result"
    }
   ],
   "source": [
    "df['block_group'] = df.index\n",
    "df.head()"
   ]
  },
  {
   "cell_type": "markdown",
   "metadata": {},
   "source": [
    " "
   ]
  },
  {
   "cell_type": "markdown",
   "metadata": {},
   "source": [
    "## Gender melt"
   ]
  },
  {
   "cell_type": "code",
   "execution_count": 49,
   "metadata": {},
   "outputs": [],
   "source": [
    "df_gender = pd.melt(df, id_vars=['block_group'], value_vars=['sex_age_tot_f','sex_age_tot_m'], var_name = 'gender', value_name =\"count_gender\" )"
   ]
  },
  {
   "cell_type": "code",
   "execution_count": 50,
   "metadata": {},
   "outputs": [],
   "source": [
    "df_gender.to_csv('../data_files/census_data/census_melt_files/gender_census.csv', index = False)"
   ]
  },
  {
   "cell_type": "markdown",
   "metadata": {},
   "source": [
    " "
   ]
  },
  {
   "cell_type": "markdown",
   "metadata": {},
   "source": [
    "## Gender Working Age Melt"
   ]
  },
  {
   "cell_type": "code",
   "execution_count": 51,
   "metadata": {},
   "outputs": [],
   "source": [
    "df_gender_work_age = pd.melt(df, id_vars=['block_group'], value_vars=['sex_work_age_tot_m','sex_work_age_tot_f'], var_name = 'gender_work_age', value_name = 'count_gender_work_age' )"
   ]
  },
  {
   "cell_type": "code",
   "execution_count": 52,
   "metadata": {},
   "outputs": [],
   "source": [
    "df_gender_work_age.to_csv('../data_files/census_data/census_melt_files/gender_working_age_census.csv', index = False)"
   ]
  },
  {
   "cell_type": "markdown",
   "metadata": {},
   "source": [
    " "
   ]
  },
  {
   "cell_type": "markdown",
   "metadata": {},
   "source": [
    "## Gender Not Working Age Melt"
   ]
  },
  {
   "cell_type": "code",
   "execution_count": 53,
   "metadata": {},
   "outputs": [],
   "source": [
    "df_gender_not_work_age = pd.melt(df, id_vars=['block_group'], value_vars=['sex_not_work_age_tot_m','sex_not_work_age_tot_f'], var_name = 'gender_not_work_age', value_name = 'count_gender_not_work_age' )"
   ]
  },
  {
   "cell_type": "code",
   "execution_count": 54,
   "metadata": {},
   "outputs": [],
   "source": [
    "df_gender_not_work_age.to_csv('../data_files/census_data/census_melt_files/gender_not_working_age_census.csv', index = False) "
   ]
  },
  {
   "cell_type": "markdown",
   "metadata": {},
   "source": [
    " "
   ]
  },
  {
   "cell_type": "markdown",
   "metadata": {},
   "source": [
    "## Race Melt"
   ]
  },
  {
   "cell_type": "code",
   "execution_count": 55,
   "metadata": {},
   "outputs": [],
   "source": [
    "df_race = pd.melt(df, id_vars=['block_group'], value_vars=['race_tot_w','race_tot_b', 'race_tot_a', 'non_hisp_oth', 'hisp_tot'], var_name = 'race', value_name = 'count_race')"
   ]
  },
  {
   "cell_type": "code",
   "execution_count": 56,
   "metadata": {},
   "outputs": [],
   "source": [
    "df_race.to_csv('../data_files/census_data/census_melt_files/race.csv', index = False) "
   ]
  },
  {
   "cell_type": "markdown",
   "metadata": {},
   "source": [
    " "
   ]
  },
  {
   "cell_type": "markdown",
   "metadata": {},
   "source": [
    "## Commute Time Melt"
   ]
  },
  {
   "cell_type": "code",
   "execution_count": 57,
   "metadata": {},
   "outputs": [],
   "source": [
    "df_commute_time = pd.melt(df, id_vars=['block_group'], value_vars=['commute_time_tot_00_14','commute_time_tot_15_29', 'commute_time_tot_30_59', 'commute_time_tot_60_plus'], var_name = 'commute_time', value_name = 'count_commute_time' )"
   ]
  },
  {
   "cell_type": "code",
   "execution_count": 58,
   "metadata": {},
   "outputs": [],
   "source": [
    "df_commute_time.to_csv('../data_files/census_data/census_melt_files/commute_time.csv', index = False) "
   ]
  },
  {
   "cell_type": "markdown",
   "metadata": {},
   "source": [
    " "
   ]
  },
  {
   "cell_type": "markdown",
   "metadata": {},
   "source": [
    "## Commute Time Car Melt"
   ]
  },
  {
   "cell_type": "code",
   "execution_count": 59,
   "metadata": {},
   "outputs": [],
   "source": [
    "df_commute_time_car = pd.melt(df, id_vars=['block_group'], value_vars=['commute_time_car_00_14','commute_time_car_15_29', 'commute_time_car_30_59', 'commute_time_car_60_plus'], var_name = 'commute_time_car', value_name = 'count_commute_time_car' )"
   ]
  },
  {
   "cell_type": "code",
   "execution_count": 60,
   "metadata": {},
   "outputs": [],
   "source": [
    "df_commute_time_car.to_csv('../data_files/census_data/census_melt_files/commute_time_car.csv', index = False) "
   ]
  },
  {
   "cell_type": "markdown",
   "metadata": {},
   "source": [
    " "
   ]
  },
  {
   "cell_type": "markdown",
   "metadata": {},
   "source": [
    "## Commute Time Bus Melt"
   ]
  },
  {
   "cell_type": "code",
   "execution_count": 61,
   "metadata": {},
   "outputs": [],
   "source": [
    "df_commute_time_bus = pd.melt(df, id_vars=['block_group'], value_vars=['commute_time_bus_00_14','commute_time_bus_15_29', 'commute_time_bus_30_59', 'commute_time_bus_60_plus'], var_name = 'commute_time_bus', value_name = 'count_commute_time_bus' )"
   ]
  },
  {
   "cell_type": "code",
   "execution_count": 62,
   "metadata": {},
   "outputs": [],
   "source": [
    "df_commute_time_bus.to_csv('../data_files/census_data/census_melt_files/commute_time_bus.csv', index = False) "
   ]
  },
  {
   "cell_type": "markdown",
   "metadata": {},
   "source": [
    " "
   ]
  },
  {
   "cell_type": "markdown",
   "metadata": {},
   "source": [
    "## Commute Method Melt"
   ]
  },
  {
   "cell_type": "code",
   "execution_count": 63,
   "metadata": {},
   "outputs": [],
   "source": [
    "df_commute_method = pd.melt(df, id_vars=['block_group'], value_vars=['commute_car_sov', 'commute_car_hov', 'commute_bus', 'commute_wfh'], var_name = 'commute_method', value_name = 'count_commute_method' )"
   ]
  },
  {
   "cell_type": "code",
   "execution_count": 64,
   "metadata": {},
   "outputs": [],
   "source": [
    "df_commute_method.to_csv('../data_files/census_data/census_melt_files/commute_method.csv', index = False) "
   ]
  },
  {
   "cell_type": "markdown",
   "metadata": {},
   "source": [
    " "
   ]
  },
  {
   "cell_type": "markdown",
   "metadata": {},
   "source": [
    "## Time Leave for Work Melt"
   ]
  },
  {
   "cell_type": "code",
   "execution_count": 65,
   "metadata": {},
   "outputs": [],
   "source": [
    "df_leave_time = pd.melt(df, id_vars=['block_group'], value_vars=['time_leave_to_work_00_05','time_leave_to_work_05_06', 'time_leave_to_work_06_07', 'time_leave_to_work_07_08', 'time_leave_to_work_08_09', 'time_leave_to_work_09_10', 'time_leave_to_work_10_12', 'time_leave_to_work_12_16', 'time_leave_to_work_16_00'], var_name = 'leave_time', value_name = 'count_leave_time' )"
   ]
  },
  {
   "cell_type": "code",
   "execution_count": 66,
   "metadata": {},
   "outputs": [],
   "source": [
    "df_leave_time.to_csv('../data_files/census_data/census_melt_files/leave_time.csv', index = False) "
   ]
  },
  {
   "cell_type": "markdown",
   "metadata": {},
   "source": [
    " "
   ]
  },
  {
   "cell_type": "markdown",
   "metadata": {},
   "source": [
    "## House Ann Income Melt"
   ]
  },
  {
   "cell_type": "code",
   "execution_count": 67,
   "metadata": {},
   "outputs": [],
   "source": [
    "df_house_income = pd.melt(df, id_vars=['block_group'], value_vars=['house_ann_inc_000_010','house_ann_inc_010_025', 'house_ann_inc_050_100', 'house_ann_inc_100_200', 'house_ann_inc_200_plus'], var_name = 'house_income', value_name = 'count_house_income' )"
   ]
  },
  {
   "cell_type": "code",
   "execution_count": 68,
   "metadata": {},
   "outputs": [],
   "source": [
    "df_house_income.to_csv('../data_files/census_data/census_melt_files/house_income.csv', index = False) "
   ]
  },
  {
   "cell_type": "markdown",
   "metadata": {},
   "source": [
    " "
   ]
  },
  {
   "cell_type": "markdown",
   "metadata": {},
   "source": [
    "## Biz Type by Gender Male Melt"
   ]
  },
  {
   "cell_type": "code",
   "execution_count": 69,
   "metadata": {},
   "outputs": [],
   "source": [
    "df_m_biz_type = pd.melt(df, id_vars=['block_group'], value_vars=['workers_m_profit','wokers_m_non_profit', 'workers_m_gvt', 'workers_m_noncorp_self', 'workers_m_unpay_fam'], var_name = 'm_biz_type', value_name = 'count_biz_type' )\n"
   ]
  },
  {
   "cell_type": "code",
   "execution_count": 70,
   "metadata": {},
   "outputs": [],
   "source": [
    "df_m_biz_type.to_csv('../data_files/census_data/census_melt_files/biz_type_male.csv', index = False) "
   ]
  },
  {
   "cell_type": "markdown",
   "metadata": {},
   "source": [
    " "
   ]
  },
  {
   "cell_type": "markdown",
   "metadata": {},
   "source": [
    "## Biz Type by Gender Female Melt"
   ]
  },
  {
   "cell_type": "code",
   "execution_count": 71,
   "metadata": {},
   "outputs": [],
   "source": [
    "df_f_biz_type = pd.melt(df, id_vars=['block_group'], value_vars=['workers_f_for_profit','wokers_f_non_profit', 'workers_f_gvt', 'workers_f_noncorp_self', 'workers_f_unpay_fam'], var_name = 'f_biz_type', value_name = 'f_count_biz_type' )"
   ]
  },
  {
   "cell_type": "code",
   "execution_count": 72,
   "metadata": {},
   "outputs": [],
   "source": [
    "df_f_biz_type.to_csv('../data_files/census_data/census_melt_files/biz_type_female.csv', index = False) "
   ]
  },
  {
   "cell_type": "markdown",
   "metadata": {},
   "source": [
    " "
   ]
  },
  {
   "cell_type": "markdown",
   "metadata": {},
   "source": [
    "## Ratio Income to Poverty Melt"
   ]
  },
  {
   "cell_type": "code",
   "execution_count": 73,
   "metadata": {},
   "outputs": [],
   "source": [
    "df_ratio_inc_pov_ann = pd.melt(df, id_vars=['block_group'], value_vars=['ratio_inc_pov_ann_000_050', 'ratio_inc_pov_ann_050_099', 'ratio_inc_pov_ann_100_150', 'ratio_inc_pov_ann_150_199', 'ratio_inc_pov_ann_200_plus'], var_name = 'ratio_inc_pov', value_name = 'count_ratio_inc_pov' )"
   ]
  },
  {
   "cell_type": "code",
   "execution_count": 74,
   "metadata": {},
   "outputs": [],
   "source": [
    "df_ratio_inc_pov_ann.to_csv('../data_files/census_data/census_melt_files/ratio_inc_pov_ann.csv', index = False) "
   ]
  },
  {
   "cell_type": "markdown",
   "metadata": {},
   "source": [
    " "
   ]
  },
  {
   "cell_type": "markdown",
   "metadata": {},
   "source": [
    "## Household Earnings Melt"
   ]
  },
  {
   "cell_type": "code",
   "execution_count": 75,
   "metadata": {},
   "outputs": [],
   "source": [
    "df_household_earnings = pd.melt(df, id_vars=['block_group'], value_vars=['house_earnings_yes','house_earnings_no'], var_name = 'household_earnings', value_name = 'count_household_earnings' )"
   ]
  },
  {
   "cell_type": "code",
   "execution_count": 76,
   "metadata": {},
   "outputs": [],
   "source": [
    "df_household_earnings.to_csv('../data_files/census_data/census_melt_files/household_earnings.csv', index = False) "
   ]
  },
  {
   "cell_type": "markdown",
   "metadata": {},
   "source": [
    " "
   ]
  },
  {
   "cell_type": "markdown",
   "metadata": {},
   "source": [
    "## Household Wage Salary Melt"
   ]
  },
  {
   "cell_type": "code",
   "execution_count": 77,
   "metadata": {},
   "outputs": [],
   "source": [
    "df_house_wage_sal = pd.melt(df, id_vars=['block_group'], value_vars=['house_wage_sal_yes','house_wage_sal_no'], var_name = 'household_wage_sal', value_name = 'count_household_wage_sal' )"
   ]
  },
  {
   "cell_type": "code",
   "execution_count": 78,
   "metadata": {},
   "outputs": [],
   "source": [
    "df_house_wage_sal.to_csv('../data_files/census_data/census_melt_files/household_wage_sals.csv', index = False) "
   ]
  },
  {
   "cell_type": "markdown",
   "metadata": {},
   "source": [
    " "
   ]
  },
  {
   "cell_type": "markdown",
   "metadata": {},
   "source": [
    "## Household Social Security Melt"
   ]
  },
  {
   "cell_type": "code",
   "execution_count": 79,
   "metadata": {},
   "outputs": [],
   "source": [
    "df_house_soc_sec = pd.melt(df, id_vars=['block_group'], value_vars=['house_soc_sec_yes','house_soc_sec_no'], var_name = 'household_soc_sec', value_name = 'count_household_soc_sec' )"
   ]
  },
  {
   "cell_type": "code",
   "execution_count": 80,
   "metadata": {},
   "outputs": [],
   "source": [
    "df_house_soc_sec.to_csv('../data_files/census_data/census_melt_files/household_soc_sec.csv', index = False) "
   ]
  },
  {
   "cell_type": "markdown",
   "metadata": {},
   "source": [
    " "
   ]
  },
  {
   "cell_type": "markdown",
   "metadata": {},
   "source": [
    "## Household SSDI Melt"
   ]
  },
  {
   "cell_type": "code",
   "execution_count": 81,
   "metadata": {},
   "outputs": [],
   "source": [
    "df_house_ssdi = pd.melt(df, id_vars=['block_group'], value_vars=['house_sup_sec_yes','house_sup_sec_no'], var_name = 'household_ssdi', value_name = 'count_household_ssdi' )"
   ]
  },
  {
   "cell_type": "code",
   "execution_count": 82,
   "metadata": {},
   "outputs": [],
   "source": [
    "df_house_ssdi.to_csv('../data_files/census_data/census_melt_files/household_ssdi.csv', index = False) "
   ]
  },
  {
   "cell_type": "markdown",
   "metadata": {},
   "source": [
    " "
   ]
  },
  {
   "cell_type": "markdown",
   "metadata": {},
   "source": [
    "## Household Public Assistance Melt"
   ]
  },
  {
   "cell_type": "code",
   "execution_count": 83,
   "metadata": {},
   "outputs": [],
   "source": [
    "df_house_pub_assist = pd.melt(df, id_vars=['block_group'], value_vars=['house_pub_assist_yes','house_pub_assist_no'], var_name = 'household_pub_assist', value_name = 'count_household_pub_assist' )"
   ]
  },
  {
   "cell_type": "code",
   "execution_count": 84,
   "metadata": {},
   "outputs": [],
   "source": [
    "df_house_pub_assist.to_csv('../data_files/census_data/census_melt_files/household_pub_assist.csv', index = False) "
   ]
  },
  {
   "cell_type": "markdown",
   "metadata": {},
   "source": [
    " "
   ]
  },
  {
   "cell_type": "markdown",
   "metadata": {},
   "source": [
    "## Household SNAP Melt"
   ]
  },
  {
   "cell_type": "code",
   "execution_count": 85,
   "metadata": {},
   "outputs": [],
   "source": [
    "df_house_pub_snap = pd.melt(df, id_vars=['block_group'], value_vars=['house_pub_snap_yes','house_pub_snap_no'], var_name = 'household_pub_snap', value_name = 'count_household_pub_snap' )"
   ]
  },
  {
   "cell_type": "code",
   "execution_count": 86,
   "metadata": {},
   "outputs": [],
   "source": [
    "df_house_pub_snap.to_csv('../data_files/census_data/census_melt_files/household_pub_snap.csv', index = False) "
   ]
  },
  {
   "cell_type": "markdown",
   "metadata": {},
   "source": [
    " "
   ]
  },
  {
   "cell_type": "markdown",
   "metadata": {},
   "source": [
    "## Household Retirement Melt"
   ]
  },
  {
   "cell_type": "code",
   "execution_count": 87,
   "metadata": {},
   "outputs": [],
   "source": [
    "df_house_retire = pd.melt(df, id_vars=['block_group'], value_vars=['house_retire_yes','house_retire_no'], var_name = 'household_retirement', value_name = 'count_household_retirement' )"
   ]
  },
  {
   "cell_type": "code",
   "execution_count": 88,
   "metadata": {},
   "outputs": [],
   "source": [
    "df_house_retire.to_csv('../data_files/census_data/census_melt_files/household_retirement.csv', index = False) "
   ]
  },
  {
   "cell_type": "markdown",
   "metadata": {},
   "source": [
    " "
   ]
  },
  {
   "cell_type": "markdown",
   "metadata": {},
   "source": [
    "## Interest, Dividends and Rental Income"
   ]
  },
  {
   "cell_type": "code",
   "execution_count": 93,
   "metadata": {},
   "outputs": [],
   "source": [
    "df_house_div_rent = pd.melt(df, id_vars=['block_group'], value_vars=['house_int_div_rent_yes','house_int_div_rent_no'], var_name = 'household_int_div_rent', value_name = 'count_household_int_div_rent' )"
   ]
  },
  {
   "cell_type": "code",
   "execution_count": 94,
   "metadata": {},
   "outputs": [],
   "source": [
    "df_house_div_rent.to_csv('../data_files/census_data/census_melt_files/household_int_div_rent.csv', index = False) "
   ]
  },
  {
   "cell_type": "markdown",
   "metadata": {},
   "source": [
    " "
   ]
  },
  {
   "cell_type": "markdown",
   "metadata": {},
   "source": [
    "## Self Employed"
   ]
  },
  {
   "cell_type": "code",
   "execution_count": 97,
   "metadata": {},
   "outputs": [],
   "source": [
    "df_house_self_emp = pd.melt(df, id_vars=['block_group'], value_vars=['house_self_emp_yes','house_self_emp_no'], var_name = 'household_self_emp', value_name = 'count_household_self_emp' )"
   ]
  },
  {
   "cell_type": "code",
   "execution_count": 98,
   "metadata": {},
   "outputs": [],
   "source": [
    "df_house_self_emp.to_csv('../data_files/census_data/census_melt_files/household_self_emp.csv', index = False) "
   ]
  },
  {
   "cell_type": "markdown",
   "metadata": {},
   "source": [
    " "
   ]
  },
  {
   "cell_type": "markdown",
   "metadata": {},
   "source": [
    "## Other Income"
   ]
  },
  {
   "cell_type": "code",
   "execution_count": 95,
   "metadata": {},
   "outputs": [],
   "source": [
    "df_house_other_inc = pd.melt(df, id_vars=['block_group'], value_vars=['house_other_yes','house_other_no'], var_name = 'household_other_inc', value_name = 'count_household_other_inc' )"
   ]
  },
  {
   "cell_type": "code",
   "execution_count": 96,
   "metadata": {},
   "outputs": [],
   "source": [
    "df_house_other_inc.to_csv('../data_files/census_data/census_melt_files/household_other_inc.csv', index = False) "
   ]
  },
  {
   "cell_type": "code",
   "execution_count": null,
   "metadata": {},
   "outputs": [],
   "source": []
  }
 ],
 "metadata": {
  "kernelspec": {
   "display_name": "Python 3",
   "language": "python",
   "name": "python3"
  },
  "language_info": {
   "codemirror_mode": {
    "name": "ipython",
    "version": 3
   },
   "file_extension": ".py",
   "mimetype": "text/x-python",
   "name": "python",
   "nbconvert_exporter": "python",
   "pygments_lexer": "ipython3",
   "version": "3.7.3"
  }
 },
 "nbformat": 4,
 "nbformat_minor": 2
}
