{
 "cells": [
  {
   "cell_type": "markdown",
   "metadata": {},
   "source": [
    "## environment setup"
   ]
  },
  {
   "cell_type": "code",
   "execution_count": 3,
   "metadata": {},
   "outputs": [],
   "source": [
    "import pandas as pd\n",
    "import numpy as np\n",
    "import os\n",
    "import json\n",
    "import pprint\n",
    "\n",
    "import warnings\n",
    "warnings.filterwarnings(\"ignore\")\n",
    "\n",
    "# display full\n",
    "# pd.set_option('display.max_columns', None)\n",
    "# pd.set_option('display.max_rows', None)"
   ]
  },
  {
   "cell_type": "code",
   "execution_count": 5,
   "metadata": {},
   "outputs": [],
   "source": [
    "# def show_df(df, head_rows=5):\n",
    "#     print(df.info())\n",
    "#     display(df.head(head_rows))"
   ]
  },
  {
   "cell_type": "code",
   "execution_count": 7,
   "metadata": {},
   "outputs": [],
   "source": [
    "file_path = '../'\n",
    "file_name = 'data_files/file_dir.json'\n",
    "pp = pprint.PrettyPrinter(indent=4)\n"
   ]
  },
  {
   "cell_type": "code",
   "execution_count": 9,
   "metadata": {},
   "outputs": [],
   "source": [
    "default_files = {\n",
    "    'acs5_key': 'data_files/census_data/acs5_key.csv',\n",
    "    'acs5_name': 'data_files/census_data/acs5_name.csv',\n",
    "    'adherence_2020': 'data_files/Adherence_2020.csv',\n",
    "    'block_groups': 'data_files/bexar_county/Bexar_County_Census_Block_Groups-shp/Bexar_County_Census_Block_Groups.shp',\n",
    "    'blocks': 'data_files/bexar_county/Bexar_County_Census_Blocks-shp/Bexar_County_Census_Blocks.shp',\n",
    "    'bus_fare_box_2020': 'data_files/bus_fare_fixed.csv',\n",
    "    'bus_otp_2020': 'data_files/BusOnTimePerformance_2020.csv',\n",
    "    'census_field_names': 'data_files/census_data/census_field_names.csv',\n",
    "    'census_groups_names': 'data_files/census_data/census_groups_names.csv',\n",
    "    'files': 'data_files/file_dir.json''\n",
    "    'group_stops': 'data_files/group_stops-shp',\n",
    "    'message_logs_2020': 'data_files/Logged_Messages.csv',\n",
    "    'routes_201909': 'data_files/via_201909/routes.txt',\n",
    "    'routes_202004': 'data_files/via_202004/routes.csv',\n",
    "    'service_miles_2020': 'data_files/TotalServiceMiles_2020.csv',\n",
    "    'shapes_201909': 'data_files/via_201909/shapes.txt',\n",
    "    'shapes_202004': 'data_files/via_202004/shapes.csv',\n",
    "    'stop_times_201909': 'data_files/via_201909/stop_times.txt',\n",
    "    'stop_times_202004': 'data_files/via_202004/stop_times.csv',\n",
    "    'stops_201909': 'data_files/via_201909/stops.txt',\n",
    "    'stops_202004': 'data_files/via_202004/stops.csv',\n",
    "    'stops_addr_2020': 'data_files/Stops_LatLong_GeocodeData_2020.csv',\n",
    "    'tracts': 'data_files/bexar_county/Bexar_County_Census_Tracts-shp/Bexar_County_Census_Tracts.shp',\n",
    "    'transfers_201909': 'data_files/via_201909/transfers.txt',\n",
    "    'transfers_202004': 'data_files/via_202004/transfers.csv',\n",
    "    'trips_201909': 'data_files/via_201909/trips.txt',\n",
    "    'trips_202004': 'data_files/via_202004/trips.csv',\n",
    "    'via_data': 'data_files/via_datadict.csv',\n",
    "}"
   ]
  },
  {
   "cell_type": "markdown",
   "metadata": {},
   "source": [
    "## identify source data sets"
   ]
  },
  {
   "cell_type": "code",
   "execution_count": 83,
   "metadata": {},
   "outputs": [],
   "source": [
    "def load_file_dir(filename, filepath = ''):\n",
    "    usefile = os.path.join(filepath,filename)\n",
    "    with open(usefile) as f:\n",
    "        temp_dict = json.load(f)\n",
    "    return file_prefix_add(temp_dict, filepath)\n",
    "    # return temp_dict"
   ]
  },
  {
   "cell_type": "code",
   "execution_count": 97,
   "metadata": {},
   "outputs": [],
   "source": [
    "def save_file_dir(filename, datadict, filepath = ''):\n",
    "    usefile = os.path.join(filepath,filename)\n",
    "    temp_dict = file_prefix_rem(datadict, filepath)\n",
    "    with open(usefile, 'w') as f:\n",
    "        json.dump(temp_dict, f, sort_keys=True, indent=4)\n",
    "    return"
   ]
  },
  {
   "cell_type": "code",
   "execution_count": 85,
   "metadata": {},
   "outputs": [],
   "source": [
    "# def set_file_path(file_path, file_name):\n",
    "#     return os.path.join(file_path, file_name)"
   ]
  },
  {
   "cell_type": "code",
   "execution_count": 106,
   "metadata": {},
   "outputs": [],
   "source": [
    "def file_prefix_add(datadict, filepath = ''):\n",
    "    return {k:os.path.join(filepath,v) for (k,v) in datadict.items()}\n",
    "\n",
    "\n",
    "def file_prefix_rem(datadict, filepath = ''):\n",
    "    return {k:v.replace(filepath,'') for (k,v) in datadict.items()}"
   ]
  },
  {
   "cell_type": "code",
   "execution_count": 107,
   "metadata": {
    "tags": []
   },
   "outputs": [],
   "source": [
    "# get_file = set_file_path(file_path, file_name)\n",
    "# pp.pprint(get_file)"
   ]
  },
  {
   "cell_type": "code",
   "execution_count": 108,
   "metadata": {
    "tags": []
   },
   "outputs": [
    {
     "output_type": "stream",
     "name": "stdout",
     "text": "data_files/file_dir.json ../\n{   'acs5_key': '../data_files/census_data/acs5_key.csv',\n    'acs5_name': '../data_files/census_data/acs5_name.csv',\n    'adherence_2020': '../data_files/Adherence_2020.csv',\n    'block_groups': '../data_files/bexar_county/Bexar_County_Census_Block_Groups-shp/Bexar_County_Census_Block_Groups.shp',\n    'blocks': '../data_files/bexar_county/Bexar_County_Census_Blocks-shp/Bexar_County_Census_Blocks.shp',\n    'bus_fare_box_2020': '../data_files/bus_fare_fixed.csv',\n    'bus_otp_2020': '../data_files/BusOnTimePerformance_2020.csv',\n    'census_field_names': '../data_files/census_data/census_field_names.csv',\n    'census_groups_names': '../data_files/census_data/census_groups_names.csv',\n    'file_dir': '../data_files/file_dir.json',\n    'group_stops': '../data_files/group_stops-shp',\n    'message_logs_2020': '../data_files/Logged_Messages.csv',\n    'routes_201909': '../data_files/via_201909/routes.txt',\n    'routes_202004': '../data_files/via_202004/routes.csv',\n    'service_miles_2020': '../data_files/TotalServiceMiles_2020.csv',\n    'shapes_201909': '../data_files/via_201909/shapes.txt',\n    'shapes_202004': '../data_files/via_202004/shapes.csv',\n    'stop_times_201909': '../data_files/via_201909/stop_times.txt',\n    'stop_times_202004': '../data_files/via_202004/stop_times.csv',\n    'stops_201909': '../data_files/via_201909/stops.txt',\n    'stops_202004': '../data_files/via_202004/stops.csv',\n    'stops_addr_2020': '../data_files/Stops_LatLong_GeocodeData_2020.csv',\n    'tracts': '../data_files/bexar_county/Bexar_County_Census_Tracts-shp/Bexar_County_Census_Tracts.shp',\n    'transfers_201909': '../data_files/via_201909/transfers.txt',\n    'transfers_202004': '../data_files/via_202004/transfers.csv',\n    'trips_201909': '../data_files/via_201909/trips.txt',\n    'trips_202004': '../data_files/via_202004/trips.csv',\n    'via_data': '../data_files/via_datadict.csv'}\n"
    }
   ],
   "source": [
    "print(file_name,file_path)\n",
    "files = load_file_dir(file_name, filepath = file_path)\n",
    "pp.pprint(files)"
   ]
  },
  {
   "cell_type": "code",
   "execution_count": 109,
   "metadata": {
    "tags": []
   },
   "outputs": [
    {
     "output_type": "stream",
     "name": "stdout",
     "text": "../ data_files/file_dir.json\n"
    }
   ],
   "source": [
    "print(file_path,file_name)\n",
    "save_file_dir(file_name, files, filepath=file_path)"
   ]
  },
  {
   "cell_type": "code",
   "execution_count": null,
   "metadata": {},
   "outputs": [],
   "source": []
  }
 ],
 "metadata": {
  "kernelspec": {
   "display_name": "Python 3",
   "language": "python",
   "name": "python3"
  },
  "language_info": {
   "codemirror_mode": {
    "name": "ipython",
    "version": 3
   },
   "file_extension": ".py",
   "mimetype": "text/x-python",
   "name": "python",
   "nbconvert_exporter": "python",
   "pygments_lexer": "ipython3",
   "version": "3.7.7-final"
  }
 },
 "nbformat": 4,
 "nbformat_minor": 4
}