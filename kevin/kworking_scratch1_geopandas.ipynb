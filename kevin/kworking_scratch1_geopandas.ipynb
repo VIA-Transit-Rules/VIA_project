{
 "cells": [
  {
   "cell_type": "code",
   "execution_count": 1,
   "metadata": {},
   "outputs": [],
   "source": [
    "import pandas as pd\n",
    "import numpy as np\n",
    "import matplotlib.pyplot as plt"
   ]
  },
  {
   "cell_type": "code",
   "execution_count": 2,
   "metadata": {},
   "outputs": [],
   "source": [
    "import geoplot as gplt"
   ]
  },
  {
   "cell_type": "code",
   "execution_count": 3,
   "metadata": {},
   "outputs": [],
   "source": [
    "import geopandas as gpd"
   ]
  },
  {
   "cell_type": "code",
   "execution_count": 4,
   "metadata": {},
   "outputs": [],
   "source": [
    "from shapely.geometry import Polygon, Point"
   ]
  },
  {
   "cell_type": "code",
   "execution_count": 5,
   "metadata": {},
   "outputs": [],
   "source": [
    "from pyproj import Proj, transform, CRS"
   ]
  },
  {
   "cell_type": "code",
   "execution_count": 6,
   "metadata": {},
   "outputs": [],
   "source": [
    "def show_df(df, head_rows=5):\n",
    "    print(df.info())\n",
    "    # display(df.describe())\n",
    "    display(df.head(head_rows))"
   ]
  },
  {
   "cell_type": "code",
   "execution_count": 7,
   "metadata": {},
   "outputs": [],
   "source": [
    "file_tracts = '../data_files/bexar_county/Bexar_County_Census_Tracts-shp/Bexar_County_Census_Tracts.shp'\n",
    "file_block_groups = '../data_files/bexar_county/Bexar_County_Census_Block_Groups-shp/Bexar_County_Census_Block_Groups.shp'\n",
    "file_blocks = '../data_files/bexar_county/Bexar_County_Census_Blocks-shp/Bexar_County_Census_Blocks.shp'\n",
    "file_stops_202004 =  '../data_files/via_202004/stops.csv'"
   ]
  },
  {
   "cell_type": "code",
   "execution_count": 8,
   "metadata": {},
   "outputs": [],
   "source": [
    "gdf_tracts = gpd.read_file(file_tracts).set_index('TRACT')"
   ]
  },
  {
   "cell_type": "code",
   "execution_count": 9,
   "metadata": {},
   "outputs": [],
   "source": [
    "gdf_tracts['density']=gdf_tracts.SUM_POPULA / gdf_tracts.ShapeSTAre.min()"
   ]
  },
  {
   "cell_type": "code",
   "execution_count": 10,
   "metadata": {
    "tags": []
   },
   "outputs": [
    {
     "output_type": "stream",
     "name": "stdout",
     "text": "<class 'geopandas.geodataframe.GeoDataFrame'>\nIndex: 366 entries, 48029110100 to 48029980100\nData columns (total 6 columns):\n #   Column      Non-Null Count  Dtype   \n---  ------      --------------  -----   \n 0   OBJECTID    366 non-null    int64   \n 1   SUM_POPULA  366 non-null    int64   \n 2   ShapeSTAre  366 non-null    float64 \n 3   ShapeSTLen  366 non-null    float64 \n 4   geometry    366 non-null    geometry\n 5   density     366 non-null    float64 \ndtypes: float64(3), geometry(1), int64(2)\nmemory usage: 20.0+ KB\nNone\n"
    },
    {
     "output_type": "display_data",
     "data": {
      "text/plain": "             OBJECTID  SUM_POPULA    ShapeSTAre    ShapeSTLen  \\\nTRACT                                                           \n48029110100         1        3379  3.816858e+07  26074.749275   \n48029110300         2        2542  1.667905e+07  22363.990201   \n48029110500         3        2238  1.366653e+07  16048.493069   \n48029110600         4        7553  2.117379e+07  20426.412628   \n48029110700         5        1398  1.058371e+07  16998.776148   \n\n                                                      geometry   density  \nTRACT                                                                     \n48029110100  POLYGON ((-98.48695 29.43502, -98.48626 29.434...  0.000433  \n48029110300  POLYGON ((-98.47326 29.41461, -98.47326 29.413...  0.000325  \n48029110500  POLYGON ((-98.50799 29.42314, -98.50812 29.422...  0.000287  \n48029110600  POLYGON ((-98.50111 29.42735, -98.50121 29.426...  0.000967  \n48029110700  POLYGON ((-98.50401 29.44202, -98.50386 29.441...  0.000179  ",
      "text/html": "<div>\n<style scoped>\n    .dataframe tbody tr th:only-of-type {\n        vertical-align: middle;\n    }\n\n    .dataframe tbody tr th {\n        vertical-align: top;\n    }\n\n    .dataframe thead th {\n        text-align: right;\n    }\n</style>\n<table border=\"1\" class=\"dataframe\">\n  <thead>\n    <tr style=\"text-align: right;\">\n      <th></th>\n      <th>OBJECTID</th>\n      <th>SUM_POPULA</th>\n      <th>ShapeSTAre</th>\n      <th>ShapeSTLen</th>\n      <th>geometry</th>\n      <th>density</th>\n    </tr>\n    <tr>\n      <th>TRACT</th>\n      <th></th>\n      <th></th>\n      <th></th>\n      <th></th>\n      <th></th>\n      <th></th>\n    </tr>\n  </thead>\n  <tbody>\n    <tr>\n      <th>48029110100</th>\n      <td>1</td>\n      <td>3379</td>\n      <td>3.816858e+07</td>\n      <td>26074.749275</td>\n      <td>POLYGON ((-98.48695 29.43502, -98.48626 29.434...</td>\n      <td>0.000433</td>\n    </tr>\n    <tr>\n      <th>48029110300</th>\n      <td>2</td>\n      <td>2542</td>\n      <td>1.667905e+07</td>\n      <td>22363.990201</td>\n      <td>POLYGON ((-98.47326 29.41461, -98.47326 29.413...</td>\n      <td>0.000325</td>\n    </tr>\n    <tr>\n      <th>48029110500</th>\n      <td>3</td>\n      <td>2238</td>\n      <td>1.366653e+07</td>\n      <td>16048.493069</td>\n      <td>POLYGON ((-98.50799 29.42314, -98.50812 29.422...</td>\n      <td>0.000287</td>\n    </tr>\n    <tr>\n      <th>48029110600</th>\n      <td>4</td>\n      <td>7553</td>\n      <td>2.117379e+07</td>\n      <td>20426.412628</td>\n      <td>POLYGON ((-98.50111 29.42735, -98.50121 29.426...</td>\n      <td>0.000967</td>\n    </tr>\n    <tr>\n      <th>48029110700</th>\n      <td>5</td>\n      <td>1398</td>\n      <td>1.058371e+07</td>\n      <td>16998.776148</td>\n      <td>POLYGON ((-98.50401 29.44202, -98.50386 29.441...</td>\n      <td>0.000179</td>\n    </tr>\n  </tbody>\n</table>\n</div>"
     },
     "metadata": {}
    }
   ],
   "source": [
    "show_df(gdf_tracts)"
   ]
  },
  {
   "cell_type": "code",
   "execution_count": 11,
   "metadata": {},
   "outputs": [
    {
     "output_type": "execute_result",
     "data": {
      "text/plain": "{'init': 'epsg:4326'}"
     },
     "metadata": {},
     "execution_count": 11
    }
   ],
   "source": [
    "gdf_tracts.crs"
   ]
  },
  {
   "cell_type": "code",
   "execution_count": 12,
   "metadata": {},
   "outputs": [
    {
     "output_type": "execute_result",
     "data": {
      "text/plain": "'epsg:4326'"
     },
     "metadata": {},
     "execution_count": 12
    }
   ],
   "source": [
    "gdf_tracts = gdf_tracts.to_crs('epsg:4326')\n",
    "gdf_tracts.crs"
   ]
  },
  {
   "cell_type": "code",
   "execution_count": null,
   "metadata": {},
   "outputs": [],
   "source": []
  },
  {
   "cell_type": "code",
   "execution_count": 13,
   "metadata": {},
   "outputs": [],
   "source": [
    "gdf_block_groups = gpd.read_file(file_block_groups).set_index('BLOCKGROUP')"
   ]
  },
  {
   "cell_type": "code",
   "execution_count": 14,
   "metadata": {},
   "outputs": [],
   "source": [
    "gdf_block_groups['density']=gdf_block_groups.SUM_POPULA / gdf_block_groups.ShapeSTAre"
   ]
  },
  {
   "cell_type": "code",
   "execution_count": 15,
   "metadata": {
    "tags": []
   },
   "outputs": [
    {
     "output_type": "stream",
     "name": "stdout",
     "text": "<class 'geopandas.geodataframe.GeoDataFrame'>\nIndex: 1084 entries, 480291101001 to 480299801001\nData columns (total 8 columns):\n #   Column      Non-Null Count  Dtype   \n---  ------      --------------  -----   \n 0   OBJECTID    1084 non-null   int64   \n 1   SUM_POPULA  1084 non-null   int64   \n 2   Shape_STAr  1084 non-null   float64 \n 3   Shape_STLe  1084 non-null   float64 \n 4   ShapeSTAre  1084 non-null   float64 \n 5   ShapeSTLen  1084 non-null   float64 \n 6   geometry    1084 non-null   geometry\n 7   density     1084 non-null   float64 \ndtypes: float64(5), geometry(1), int64(2)\nmemory usage: 76.2+ KB\nNone\n"
    },
    {
     "output_type": "display_data",
     "data": {
      "text/plain": "              OBJECTID  SUM_POPULA    Shape_STAr    Shape_STLe    ShapeSTAre  \\\nBLOCKGROUP                                                                     \n480291101001         1         955  1.951706e+07  23279.128568  1.951706e+07   \n480291101002         2         694  7.319464e+06  14609.297870  7.319464e+06   \n480291101003         3        1730  1.133205e+07  14546.232289  1.133205e+07   \n480291103001         4        1041  4.292228e+06   9662.074836  4.292228e+06   \n480291103002         5         797  4.074139e+06  10523.204970  4.074139e+06   \n\n                ShapeSTLen                                           geometry  \\\nBLOCKGROUP                                                                      \n480291101001  23279.128568  POLYGON ((-98.48695 29.43502, -98.48626 29.434...   \n480291101002  14609.297870  POLYGON ((-98.48824 29.41933, -98.48826 29.418...   \n480291101003  14546.232289  POLYGON ((-98.49432 29.43370, -98.49426 29.433...   \n480291103001   9662.074836  POLYGON ((-98.47984 29.40970, -98.47983 29.409...   \n480291103002  10523.204970  POLYGON ((-98.47989 29.40860, -98.47992 29.408...   \n\n               density  \nBLOCKGROUP              \n480291101001  0.000049  \n480291101002  0.000095  \n480291101003  0.000153  \n480291103001  0.000243  \n480291103002  0.000196  ",
      "text/html": "<div>\n<style scoped>\n    .dataframe tbody tr th:only-of-type {\n        vertical-align: middle;\n    }\n\n    .dataframe tbody tr th {\n        vertical-align: top;\n    }\n\n    .dataframe thead th {\n        text-align: right;\n    }\n</style>\n<table border=\"1\" class=\"dataframe\">\n  <thead>\n    <tr style=\"text-align: right;\">\n      <th></th>\n      <th>OBJECTID</th>\n      <th>SUM_POPULA</th>\n      <th>Shape_STAr</th>\n      <th>Shape_STLe</th>\n      <th>ShapeSTAre</th>\n      <th>ShapeSTLen</th>\n      <th>geometry</th>\n      <th>density</th>\n    </tr>\n    <tr>\n      <th>BLOCKGROUP</th>\n      <th></th>\n      <th></th>\n      <th></th>\n      <th></th>\n      <th></th>\n      <th></th>\n      <th></th>\n      <th></th>\n    </tr>\n  </thead>\n  <tbody>\n    <tr>\n      <th>480291101001</th>\n      <td>1</td>\n      <td>955</td>\n      <td>1.951706e+07</td>\n      <td>23279.128568</td>\n      <td>1.951706e+07</td>\n      <td>23279.128568</td>\n      <td>POLYGON ((-98.48695 29.43502, -98.48626 29.434...</td>\n      <td>0.000049</td>\n    </tr>\n    <tr>\n      <th>480291101002</th>\n      <td>2</td>\n      <td>694</td>\n      <td>7.319464e+06</td>\n      <td>14609.297870</td>\n      <td>7.319464e+06</td>\n      <td>14609.297870</td>\n      <td>POLYGON ((-98.48824 29.41933, -98.48826 29.418...</td>\n      <td>0.000095</td>\n    </tr>\n    <tr>\n      <th>480291101003</th>\n      <td>3</td>\n      <td>1730</td>\n      <td>1.133205e+07</td>\n      <td>14546.232289</td>\n      <td>1.133205e+07</td>\n      <td>14546.232289</td>\n      <td>POLYGON ((-98.49432 29.43370, -98.49426 29.433...</td>\n      <td>0.000153</td>\n    </tr>\n    <tr>\n      <th>480291103001</th>\n      <td>4</td>\n      <td>1041</td>\n      <td>4.292228e+06</td>\n      <td>9662.074836</td>\n      <td>4.292228e+06</td>\n      <td>9662.074836</td>\n      <td>POLYGON ((-98.47984 29.40970, -98.47983 29.409...</td>\n      <td>0.000243</td>\n    </tr>\n    <tr>\n      <th>480291103002</th>\n      <td>5</td>\n      <td>797</td>\n      <td>4.074139e+06</td>\n      <td>10523.204970</td>\n      <td>4.074139e+06</td>\n      <td>10523.204970</td>\n      <td>POLYGON ((-98.47989 29.40860, -98.47992 29.408...</td>\n      <td>0.000196</td>\n    </tr>\n  </tbody>\n</table>\n</div>"
     },
     "metadata": {}
    }
   ],
   "source": [
    "show_df(gdf_block_groups)"
   ]
  },
  {
   "cell_type": "code",
   "execution_count": 16,
   "metadata": {},
   "outputs": [
    {
     "output_type": "execute_result",
     "data": {
      "text/plain": "              OBJECTID  SUM_POPULA    Shape_STAr    Shape_STLe    ShapeSTAre  \\\nBLOCKGROUP                                                                     \n480299800041      1082           0  1.053470e+08  49901.049403  1.053470e+08   \n\n                ShapeSTLen                                           geometry  \\\nBLOCKGROUP                                                                      \n480299800041  49901.049403  POLYGON ((-98.45853 29.54689, -98.45767 29.546...   \n\n              density  \nBLOCKGROUP             \n480299800041      0.0  ",
      "text/html": "<div>\n<style scoped>\n    .dataframe tbody tr th:only-of-type {\n        vertical-align: middle;\n    }\n\n    .dataframe tbody tr th {\n        vertical-align: top;\n    }\n\n    .dataframe thead th {\n        text-align: right;\n    }\n</style>\n<table border=\"1\" class=\"dataframe\">\n  <thead>\n    <tr style=\"text-align: right;\">\n      <th></th>\n      <th>OBJECTID</th>\n      <th>SUM_POPULA</th>\n      <th>Shape_STAr</th>\n      <th>Shape_STLe</th>\n      <th>ShapeSTAre</th>\n      <th>ShapeSTLen</th>\n      <th>geometry</th>\n      <th>density</th>\n    </tr>\n    <tr>\n      <th>BLOCKGROUP</th>\n      <th></th>\n      <th></th>\n      <th></th>\n      <th></th>\n      <th></th>\n      <th></th>\n      <th></th>\n      <th></th>\n    </tr>\n  </thead>\n  <tbody>\n    <tr>\n      <th>480299800041</th>\n      <td>1082</td>\n      <td>0</td>\n      <td>1.053470e+08</td>\n      <td>49901.049403</td>\n      <td>1.053470e+08</td>\n      <td>49901.049403</td>\n      <td>POLYGON ((-98.45853 29.54689, -98.45767 29.546...</td>\n      <td>0.0</td>\n    </tr>\n  </tbody>\n</table>\n</div>"
     },
     "metadata": {},
     "execution_count": 16
    }
   ],
   "source": [
    "gdf_block_groups[gdf_block_groups.SUM_POPULA == 0]"
   ]
  },
  {
   "cell_type": "code",
   "execution_count": 17,
   "metadata": {
    "tags": []
   },
   "outputs": [
    {
     "output_type": "stream",
     "name": "stdout",
     "text": "<class 'geopandas.geodataframe.GeoDataFrame'>\nIndex: 26452 entries, 480291919003005 to 480291317001070\nColumns: 258 entries, OBJECTID to geometry\ndtypes: float64(3), geometry(1), int64(225), object(29)\nmemory usage: 52.3+ MB\nNone\n<class 'geopandas.geodataframe.GeoDataFrame'>\nIndex: 26452 entries, 480291919003005 to 480291317001070\nColumns: 258 entries, OBJECTID to geometry\ndtypes: float64(3), geometry(1), int64(225), object(29)\nmemory usage: 52.3+ MB\nNone\n"
    },
    {
     "output_type": "display_data",
     "data": {
      "text/plain": "                 OBJECTID       ID  COLORING    BLOCKGROUP        TRACT  \\\nBLOCK                                                                     \n480291919003005         1  1400310         4  480291919003  48029191900   \n480291411011002         2  1400328         3  480291411011  48029141101   \n480291411011006         3  1400348         3  480291411011  48029141101   \n480291410002007         4  1400365         1  480291410002  48029141000   \n480291410002006         5  1400383         3  480291410002  48029141000   \n\n                COUNTY STATE        BLOCK2000         MCD SUBMCD  ...  \\\nBLOCK                                                             ...   \n480291919003005  48029    48  480291301005004  4802993407   None  ...   \n480291411011002  48029    48  480291411006004  4802993407   None  ...   \n480291411011006  48029    48  480291411006001  4802993407   None  ...   \n480291410002007  48029    48  480291410002009  4802993407   None  ...   \n480291410002006  48029    48  480291410002008  4802993407   None  ...   \n\n                F18_WHTBL8 F18_WHTBL9 F18_WHTB10 F18_WHTIN4 F18_WHTIN5  \\\nBLOCK                                                                    \n480291919003005          0          0          0          0          0   \n480291411011002          0          0          0          0          0   \n480291411011006          0          0          0          0          0   \n480291410002007          0          0          0          0          0   \n480291410002006          0          0          0          0          0   \n\n                F18_WHTIN6 gecovector     ShapeSTAre   ShapeSTLen  \\\nBLOCK                                                               \n480291919003005          0   0.001038   28896.121094  1063.271402   \n480291411011002          0   0.018304  509512.736328  8615.618889   \n480291411011006          0   0.012803  356394.378906  2836.366689   \n480291410002007          0   0.012892  358877.382812  2852.304380   \n480291410002006          0   0.016129  448943.710938  2994.127235   \n\n                                                          geometry  \nBLOCK                                                               \n480291919003005  POLYGON ((-98.46781 29.42506, -98.46783 29.424...  \n480291411011002  POLYGON ((-98.46881 29.36511, -98.46815 29.364...  \n480291411011006  POLYGON ((-98.46323 29.36640, -98.46324 29.365...  \n480291410002007  POLYGON ((-98.46667 29.36662, -98.46668 29.367...  \n480291410002006  POLYGON ((-98.46668 29.36753, -98.46667 29.368...  \n\n[5 rows x 258 columns]",
      "text/html": "<div>\n<style scoped>\n    .dataframe tbody tr th:only-of-type {\n        vertical-align: middle;\n    }\n\n    .dataframe tbody tr th {\n        vertical-align: top;\n    }\n\n    .dataframe thead th {\n        text-align: right;\n    }\n</style>\n<table border=\"1\" class=\"dataframe\">\n  <thead>\n    <tr style=\"text-align: right;\">\n      <th></th>\n      <th>OBJECTID</th>\n      <th>ID</th>\n      <th>COLORING</th>\n      <th>BLOCKGROUP</th>\n      <th>TRACT</th>\n      <th>COUNTY</th>\n      <th>STATE</th>\n      <th>BLOCK2000</th>\n      <th>MCD</th>\n      <th>SUBMCD</th>\n      <th>...</th>\n      <th>F18_WHTBL8</th>\n      <th>F18_WHTBL9</th>\n      <th>F18_WHTB10</th>\n      <th>F18_WHTIN4</th>\n      <th>F18_WHTIN5</th>\n      <th>F18_WHTIN6</th>\n      <th>gecovector</th>\n      <th>ShapeSTAre</th>\n      <th>ShapeSTLen</th>\n      <th>geometry</th>\n    </tr>\n    <tr>\n      <th>BLOCK</th>\n      <th></th>\n      <th></th>\n      <th></th>\n      <th></th>\n      <th></th>\n      <th></th>\n      <th></th>\n      <th></th>\n      <th></th>\n      <th></th>\n      <th></th>\n      <th></th>\n      <th></th>\n      <th></th>\n      <th></th>\n      <th></th>\n      <th></th>\n      <th></th>\n      <th></th>\n      <th></th>\n      <th></th>\n    </tr>\n  </thead>\n  <tbody>\n    <tr>\n      <th>480291919003005</th>\n      <td>1</td>\n      <td>1400310</td>\n      <td>4</td>\n      <td>480291919003</td>\n      <td>48029191900</td>\n      <td>48029</td>\n      <td>48</td>\n      <td>480291301005004</td>\n      <td>4802993407</td>\n      <td>None</td>\n      <td>...</td>\n      <td>0</td>\n      <td>0</td>\n      <td>0</td>\n      <td>0</td>\n      <td>0</td>\n      <td>0</td>\n      <td>0.001038</td>\n      <td>28896.121094</td>\n      <td>1063.271402</td>\n      <td>POLYGON ((-98.46781 29.42506, -98.46783 29.424...</td>\n    </tr>\n    <tr>\n      <th>480291411011002</th>\n      <td>2</td>\n      <td>1400328</td>\n      <td>3</td>\n      <td>480291411011</td>\n      <td>48029141101</td>\n      <td>48029</td>\n      <td>48</td>\n      <td>480291411006004</td>\n      <td>4802993407</td>\n      <td>None</td>\n      <td>...</td>\n      <td>0</td>\n      <td>0</td>\n      <td>0</td>\n      <td>0</td>\n      <td>0</td>\n      <td>0</td>\n      <td>0.018304</td>\n      <td>509512.736328</td>\n      <td>8615.618889</td>\n      <td>POLYGON ((-98.46881 29.36511, -98.46815 29.364...</td>\n    </tr>\n    <tr>\n      <th>480291411011006</th>\n      <td>3</td>\n      <td>1400348</td>\n      <td>3</td>\n      <td>480291411011</td>\n      <td>48029141101</td>\n      <td>48029</td>\n      <td>48</td>\n      <td>480291411006001</td>\n      <td>4802993407</td>\n      <td>None</td>\n      <td>...</td>\n      <td>0</td>\n      <td>0</td>\n      <td>0</td>\n      <td>0</td>\n      <td>0</td>\n      <td>0</td>\n      <td>0.012803</td>\n      <td>356394.378906</td>\n      <td>2836.366689</td>\n      <td>POLYGON ((-98.46323 29.36640, -98.46324 29.365...</td>\n    </tr>\n    <tr>\n      <th>480291410002007</th>\n      <td>4</td>\n      <td>1400365</td>\n      <td>1</td>\n      <td>480291410002</td>\n      <td>48029141000</td>\n      <td>48029</td>\n      <td>48</td>\n      <td>480291410002009</td>\n      <td>4802993407</td>\n      <td>None</td>\n      <td>...</td>\n      <td>0</td>\n      <td>0</td>\n      <td>0</td>\n      <td>0</td>\n      <td>0</td>\n      <td>0</td>\n      <td>0.012892</td>\n      <td>358877.382812</td>\n      <td>2852.304380</td>\n      <td>POLYGON ((-98.46667 29.36662, -98.46668 29.367...</td>\n    </tr>\n    <tr>\n      <th>480291410002006</th>\n      <td>5</td>\n      <td>1400383</td>\n      <td>3</td>\n      <td>480291410002</td>\n      <td>48029141000</td>\n      <td>48029</td>\n      <td>48</td>\n      <td>480291410002008</td>\n      <td>4802993407</td>\n      <td>None</td>\n      <td>...</td>\n      <td>0</td>\n      <td>0</td>\n      <td>0</td>\n      <td>0</td>\n      <td>0</td>\n      <td>0</td>\n      <td>0.016129</td>\n      <td>448943.710938</td>\n      <td>2994.127235</td>\n      <td>POLYGON ((-98.46668 29.36753, -98.46667 29.368...</td>\n    </tr>\n  </tbody>\n</table>\n<p>5 rows × 258 columns</p>\n</div>"
     },
     "metadata": {}
    }
   ],
   "source": [
    "gdf_blocks = gpd.read_file(file_blocks).set_index('BLOCK').to_crs('epsg:4326')\n",
    "print(gdf_blocks.info())\n",
    "show_df(gdf_blocks)"
   ]
  },
  {
   "cell_type": "code",
   "execution_count": 18,
   "metadata": {},
   "outputs": [],
   "source": [
    "# gdf_blocks['density']=gdf_blocks.POPULATION / gdf_blocks.ShapeSTAre"
   ]
  },
  {
   "cell_type": "code",
   "execution_count": 19,
   "metadata": {
    "tags": []
   },
   "outputs": [],
   "source": [
    "# gdf_blocks.info()"
   ]
  },
  {
   "cell_type": "code",
   "execution_count": 20,
   "metadata": {},
   "outputs": [],
   "source": [
    "# gdf_blocks.columns.to_list()"
   ]
  },
  {
   "cell_type": "code",
   "execution_count": 21,
   "metadata": {},
   "outputs": [
    {
     "output_type": "execute_result",
     "data": {
      "text/plain": "4802993407    12969\n4802993409     3595\n4802993411     3166\n4802993412     2634\n4802993414     1853\n4802993413     1284\n4802993408      951\nName: MCD, dtype: int64"
     },
     "metadata": {},
     "execution_count": 21
    }
   ],
   "source": [
    "gdf_blocks.MCD.value_counts()"
   ]
  },
  {
   "cell_type": "code",
   "execution_count": 22,
   "metadata": {},
   "outputs": [
    {
     "output_type": "execute_result",
     "data": {
      "text/plain": "Series([], Name: SUBMCD, dtype: int64)"
     },
     "metadata": {},
     "execution_count": 22
    }
   ],
   "source": [
    "gdf_blocks.SUBMCD.value_counts()"
   ]
  },
  {
   "cell_type": "code",
   "execution_count": 23,
   "metadata": {
    "scrolled": true
   },
   "outputs": [
    {
     "output_type": "execute_result",
     "data": {
      "text/plain": "4865000    19293\n4816468      274\n4874408      260\n4801600      209\n4860608      205\n4843096      191\n4842388      181\n4873057      133\n4872296      131\n4840036      130\n4839448      124\n4879672      119\n4813276      112\n4833146      111\n4866704      106\n4866128       79\n4853988       77\n4866089       77\n4823272       76\n4834628       67\n4867268       59\n4825168       58\n4868708       47\n4864172       46\n4805384       45\n4817811       42\n4875764       41\n4845576       38\n4833968       26\n4831100       21\n4814716       21\n4845288        6\n4814920        1\nName: PLACE, dtype: int64"
     },
     "metadata": {},
     "execution_count": 23
    }
   ],
   "source": [
    "gdf_blocks.PLACE.value_counts()"
   ]
  },
  {
   "cell_type": "code",
   "execution_count": 24,
   "metadata": {
    "scrolled": false,
    "tags": []
   },
   "outputs": [
    {
     "output_type": "stream",
     "name": "stdout",
     "text": "620\n"
    },
    {
     "output_type": "execute_result",
     "data": {
      "text/plain": "480294001    386\n480293097    275\n480294007    271\n480291058    270\n480294074    221\nName: VTD, dtype: int64"
     },
     "metadata": {},
     "execution_count": 24
    }
   ],
   "source": [
    "print(len(gdf_blocks.VTD.value_counts()))\n",
    "gdf_blocks.VTD.value_counts().head()"
   ]
  },
  {
   "cell_type": "code",
   "execution_count": 25,
   "metadata": {
    "scrolled": true
   },
   "outputs": [
    {
     "output_type": "execute_result",
     "data": {
      "text/plain": "48118    3428\n48122    3332\n48123    3077\n48117    3053\n48120    2976\n48119    2779\n48121    2230\n48116    1979\n48124    1940\n48125    1658\nName: LOWERSLD, dtype: int64"
     },
     "metadata": {},
     "execution_count": 25
    }
   ],
   "source": [
    "gdf_blocks.LOWERSLD.value_counts()"
   ]
  },
  {
   "cell_type": "code",
   "execution_count": 26,
   "metadata": {},
   "outputs": [
    {
     "output_type": "execute_result",
     "data": {
      "text/plain": "48026    10412\n48019     8228\n48025     5361\n48021     2451\nName: UPPERSLD, dtype: int64"
     },
     "metadata": {},
     "execution_count": 26
    }
   ],
   "source": [
    "gdf_blocks.UPPERSLD.value_counts()"
   ]
  },
  {
   "cell_type": "code",
   "execution_count": 27,
   "metadata": {},
   "outputs": [
    {
     "output_type": "execute_result",
     "data": {
      "text/plain": "41700    26452\nName: CBSA, dtype: int64"
     },
     "metadata": {},
     "execution_count": 27
    }
   ],
   "source": [
    "gdf_blocks.CBSA.value_counts()"
   ]
  },
  {
   "cell_type": "code",
   "execution_count": 28,
   "metadata": {},
   "outputs": [
    {
     "output_type": "execute_result",
     "data": {
      "text/plain": "41700    26452\nName: CBSA, dtype: int64"
     },
     "metadata": {},
     "execution_count": 28
    }
   ],
   "source": [
    "gdf_blocks.CBSA.value_counts()"
   ]
  },
  {
   "cell_type": "code",
   "execution_count": 29,
   "metadata": {
    "scrolled": true
   },
   "outputs": [
    {
     "output_type": "execute_result",
     "data": {
      "text/plain": "4838730    7222\n4833120    5282\n4832940    4447\n4824990    1464\n4817850    1094\n4818150    1046\n4822470     933\n4840950     874\n4807590     743\n4840680     706\n4840920     565\n4840740     391\n4810710     290\n4814730     283\n4820160     267\n4839480     229\n4836450     220\n4826370     218\n4830060     171\n4819350       7\nName: UNIFSCHOOL, dtype: int64"
     },
     "metadata": {},
     "execution_count": 29
    }
   ],
   "source": [
    "gdf_blocks.UNIFSCHOOL.value_counts()"
   ]
  },
  {
   "cell_type": "code",
   "execution_count": 30,
   "metadata": {},
   "outputs": [],
   "source": [
    "keep_cols = [\n",
    "    'OBJECTID',\n",
    "    'ID',\n",
    "    'COLORING',\n",
    "    # 'BLOCK',\n",
    "    'BLOCKGROUP',\n",
    "    'TRACT',\n",
    "    # 'COUNTY','STATE',\n",
    "    'BLOCK2000',\n",
    "    'MCD',\n",
    "#     'SUBMCD',\n",
    "    'PLACE',\n",
    "#     'CONCITY',\n",
    "    'VTD',\n",
    "    'CONGRESS',\n",
    "    'LOWERSLD',\n",
    "    'UPPERSLD',\n",
    "    # 'COUNTYLD','CITYLD',\n",
    "    # 'INDIAN','TRUST','TRIBALSUB','ANRC','CSA','CBSA','CBSADIV','UA','UGA',\n",
    "    # 'ELEMSCHOOL','SECSCHOOL','UNIFSCHOOL',\n",
    "    # 'ZIP5','URBANRURAL',\n",
    "    'POPULATION',\n",
    "    # 'WHITE','BLACK','AMINDIAN','ASIAN','HAWAIIAN','OTHER','WHTBLK','WHTIND','WHTASN','WHTHWN','WHTOTH',\n",
    "    # 'BLKIND','BLKASN','BLKHWN','BLKOTH','INDASN','INDHWN','INDOTH','ASNHWN','ASNOTH','HWNOTH',\n",
    "    # 'WHTBLKIND','WHTBLKASN','WHTBLKHWN','WHTBLKOTH','WHTINDASN','WHTINDHWN','WHTINDOTH','WHTASNHWN','WHTASNOTH','WHTHWNOTH',\n",
    "    # 'BLKINDASN','BLKINDHWN','BLKINDOTH','BLKASNHWN','BLKASNOTH','BLKHWNOTH','INDASNHWN','INDASNOTH','INDHWNOTH','ASNHWNOTH',\n",
    "    # 'WHTBLKINDA','WHTBLKINDH','WHTBLKINDO','WHTBLKASNH','WHTBLKASNO','WHTBLKHWNO','WHTINDASNH','WHTINDASNO','WHTINDHWNO','WHTASNHWNO',\n",
    "    # 'BLKINDASNH','BLKINDASNO','BLKINDHWNO','BLKASNHWNO','INDASNHWNO','WHTBLKIND1','WHTBLKIND2','WHTBLKIND3','WHTBLKASN1','WHTINDASN1','BLKINDASN1',\n",
    "    # 'ALL_RACES','AP_WHT','NP_WHT','AP_BLK','NP_BLK','AP_IND','NP_IND','AP_ASN','NP_ASN','AP_HWN','NP_HWN','AP_OTH','NP_OTH',\n",
    "    # 'F1_RACE','F2_RACES','F2_RACES1','F3_RACES','F4_RACES','F5_RACES',\n",
    "\n",
    "    'HISPANIC_O',\n",
    "    'NOT_HISPAN',\n",
    "    'NH_WHT',\n",
    "    'NH_BLK',\n",
    "    # 'NH_IND',\n",
    "    'NH_ASN',\n",
    "    # 'NH_HWN','NH_OTH','NH_WHTBLK','NH_WHTIND','NH_WHTASN','NH_WHTHWN','NH_WHTOTH',\n",
    "    # 'NH_BLKIND','NH_BLKASN','NH_BLKHWN','NH_BLKOTH','NH_INDASN','NH_INDHWN','NH_INDOTH','NH_ASNHWN','NH_ASNOTH','NH_HWNOTH',\n",
    "    # 'NH_WHTBLKI','NH_WHTBLKA','NH_WHTBLKH','NH_WHTBLKO','NH_WHTINDA','NH_WHTINDH','NH_WHTINDO','NH_WHTASNH','NH_WHTASNO','NH_WHTHWNO',\n",
    "    # 'NH_BLKINDA','NH_BLKINDH','NH_BLKINDO','NH_BLKASNH','NH_BLKASNO','NH_BLKHWNO','NH_INDASNH','NH_INDASNO','NH_INDHWNO','NH_ASNHWNO',\n",
    "    # 'NH_WHTBLK1','NH_WHTBLK2','NH_WHTBLK3','NH_WHTBLK4','NH_WHTBLK5','NH_WHTBLK6','NH_WHTIND1','NH_WHTIND2','NH_WHTIND3','NH_WHTASN1',\n",
    "    # 'NH_BLKIND1','NH_BLKIND2','NH_BLKIND3','NH_BLKASN1','NH_INDASN1','NH_WHTBLK7','NH_WHTBLK8','NH_WHTBLK9','NH_WHTBL10','NH_WHTIND4','NH_BLKIND4',\n",
    "    # 'NH_ALL_RAC','NH_AP_WHT','NH_NP_WHT','NH_AP_BLK','NH_NP_BLK','NH_AP_IND','NH_NP_IND','NH_AP_ASN','NH_NP_ASN','NH_AP_HWN','NH_NP_HWN','NH_AP_OTH','NH_NP_OTH',\n",
    "    # 'NH_1_RACE','NH_2_RACES','NH_2_RACE1','NH_3_RACES','NH_4_RACES','NH_5_RACES','NH_DOJ_BLK','NH_DOJ_IND','NH_DOJ_ASN','NH_DOJ_HWN','NH_DOJ_OTH','NH_DOJ_OT1',\n",
    "    # 'F18_POP','F18_WHT','F18_BLK','F18_IND','F18_ASN','F18_HWN','F18_OTH','F18_WHTBLK','F18_WHTIND','F18_WHTASN','F18_WHTHWN','F18_WHTOTH',\n",
    "    # 'F18_BLKIND','F18_BLKASN','F18_BLKHWN','F18_BLKOTH','F18_INDASN','F18_INDHWN','F18_INDOTH','F18_ASNHWN','F18_ASNOTH','F18_HWNOTH',\n",
    "    # 'F18_WHTBL1','F18_WHTBL2','F18_WHTBL3','F18_WHTBL4','F18_WHTIN1','F18_WHTIN2','F18_WHTIN3','F18_WHTAS1','F18_WHTAS2','F18_WHTHW1',\n",
    "    # 'F18_BLKIN1','F18_BLKIN2','F18_BLKIN3','F18_BLKAS1','F18_BLKAS2','F18_BLKHW1','F18_INDAS1','F18_INDAS2','F18_INDHW1','F18_ASNHW1',\n",
    "    # 'F18_WHTBL5','F18_WHTBL6','F18_WHTBL7','F18_WHTBL8','F18_WHTBL9','F18_WHTB10','F18_WHTIN4','F18_WHTIN5','F18_WHTIN6',\n",
    "    'gecovector',\n",
    "    'ShapeSTAre',\n",
    "    'ShapeSTLen',\n",
    "    # 'density',\n",
    "    'geometry'\n",
    "]"
   ]
  },
  {
   "cell_type": "code",
   "execution_count": 31,
   "metadata": {
    "tags": []
   },
   "outputs": [
    {
     "output_type": "stream",
     "name": "stdout",
     "text": "<class 'geopandas.geodataframe.GeoDataFrame'>\nIndex: 26452 entries, 480291919003005 to 480291317001070\nData columns (total 22 columns):\n #   Column      Non-Null Count  Dtype   \n---  ------      --------------  -----   \n 0   OBJECTID    26452 non-null  int64   \n 1   ID          26452 non-null  int64   \n 2   COLORING    26452 non-null  int64   \n 3   BLOCKGROUP  26452 non-null  object  \n 4   TRACT       26452 non-null  object  \n 5   BLOCK2000   26452 non-null  object  \n 6   MCD         26452 non-null  object  \n 7   PLACE       22406 non-null  object  \n 8   VTD         26452 non-null  object  \n 9   CONGRESS    26452 non-null  object  \n 10  LOWERSLD    26452 non-null  object  \n 11  UPPERSLD    26452 non-null  object  \n 12  POPULATION  26452 non-null  int64   \n 13  HISPANIC_O  26452 non-null  int64   \n 14  NOT_HISPAN  26452 non-null  int64   \n 15  NH_WHT      26452 non-null  int64   \n 16  NH_BLK      26452 non-null  int64   \n 17  NH_ASN      26452 non-null  int64   \n 18  gecovector  26452 non-null  float64 \n 19  ShapeSTAre  26452 non-null  float64 \n 20  ShapeSTLen  26452 non-null  float64 \n 21  geometry    26452 non-null  geometry\ndtypes: float64(3), geometry(1), int64(9), object(9)\nmemory usage: 4.6+ MB\nNone\n"
    },
    {
     "output_type": "display_data",
     "data": {
      "text/plain": "                 OBJECTID       ID  COLORING    BLOCKGROUP        TRACT  \\\nBLOCK                                                                     \n480291919003005         1  1400310         4  480291919003  48029191900   \n480291411011002         2  1400328         3  480291411011  48029141101   \n480291411011006         3  1400348         3  480291411011  48029141101   \n480291410002007         4  1400365         1  480291410002  48029141000   \n480291410002006         5  1400383         3  480291410002  48029141000   \n\n                       BLOCK2000         MCD    PLACE        VTD CONGRESS  \\\nBLOCK                                                                       \n480291919003005  480291301005004  4802993407  4865000  480294004     4821   \n480291411011002  480291411006004  4802993407  4865000  480291074     4823   \n480291411011006  480291411006001  4802993407  4865000  480291074     4823   \n480291410002007  480291410002009  4802993407  4865000  480291074     4823   \n480291410002006  480291410002008  4802993407  4865000  480291074     4823   \n\n                 ... POPULATION HISPANIC_O  NOT_HISPAN  NH_WHT  NH_BLK  \\\nBLOCK            ...                                                     \n480291919003005  ...         13         11           2       0       0   \n480291411011002  ...          0          0           0       0       0   \n480291411011006  ...        102         82          20      16       2   \n480291410002007  ...        162        149          13      13       0   \n480291410002006  ...        133        124           9       5       4   \n\n                 NH_ASN  gecovector     ShapeSTAre   ShapeSTLen  \\\nBLOCK                                                             \n480291919003005       0    0.001038   28896.121094  1063.271402   \n480291411011002       0    0.018304  509512.736328  8615.618889   \n480291411011006       0    0.012803  356394.378906  2836.366689   \n480291410002007       0    0.012892  358877.382812  2852.304380   \n480291410002006       0    0.016129  448943.710938  2994.127235   \n\n                                                          geometry  \nBLOCK                                                               \n480291919003005  POLYGON ((-98.46781 29.42506, -98.46783 29.424...  \n480291411011002  POLYGON ((-98.46881 29.36511, -98.46815 29.364...  \n480291411011006  POLYGON ((-98.46323 29.36640, -98.46324 29.365...  \n480291410002007  POLYGON ((-98.46667 29.36662, -98.46668 29.367...  \n480291410002006  POLYGON ((-98.46668 29.36753, -98.46667 29.368...  \n\n[5 rows x 22 columns]",
      "text/html": "<div>\n<style scoped>\n    .dataframe tbody tr th:only-of-type {\n        vertical-align: middle;\n    }\n\n    .dataframe tbody tr th {\n        vertical-align: top;\n    }\n\n    .dataframe thead th {\n        text-align: right;\n    }\n</style>\n<table border=\"1\" class=\"dataframe\">\n  <thead>\n    <tr style=\"text-align: right;\">\n      <th></th>\n      <th>OBJECTID</th>\n      <th>ID</th>\n      <th>COLORING</th>\n      <th>BLOCKGROUP</th>\n      <th>TRACT</th>\n      <th>BLOCK2000</th>\n      <th>MCD</th>\n      <th>PLACE</th>\n      <th>VTD</th>\n      <th>CONGRESS</th>\n      <th>...</th>\n      <th>POPULATION</th>\n      <th>HISPANIC_O</th>\n      <th>NOT_HISPAN</th>\n      <th>NH_WHT</th>\n      <th>NH_BLK</th>\n      <th>NH_ASN</th>\n      <th>gecovector</th>\n      <th>ShapeSTAre</th>\n      <th>ShapeSTLen</th>\n      <th>geometry</th>\n    </tr>\n    <tr>\n      <th>BLOCK</th>\n      <th></th>\n      <th></th>\n      <th></th>\n      <th></th>\n      <th></th>\n      <th></th>\n      <th></th>\n      <th></th>\n      <th></th>\n      <th></th>\n      <th></th>\n      <th></th>\n      <th></th>\n      <th></th>\n      <th></th>\n      <th></th>\n      <th></th>\n      <th></th>\n      <th></th>\n      <th></th>\n      <th></th>\n    </tr>\n  </thead>\n  <tbody>\n    <tr>\n      <th>480291919003005</th>\n      <td>1</td>\n      <td>1400310</td>\n      <td>4</td>\n      <td>480291919003</td>\n      <td>48029191900</td>\n      <td>480291301005004</td>\n      <td>4802993407</td>\n      <td>4865000</td>\n      <td>480294004</td>\n      <td>4821</td>\n      <td>...</td>\n      <td>13</td>\n      <td>11</td>\n      <td>2</td>\n      <td>0</td>\n      <td>0</td>\n      <td>0</td>\n      <td>0.001038</td>\n      <td>28896.121094</td>\n      <td>1063.271402</td>\n      <td>POLYGON ((-98.46781 29.42506, -98.46783 29.424...</td>\n    </tr>\n    <tr>\n      <th>480291411011002</th>\n      <td>2</td>\n      <td>1400328</td>\n      <td>3</td>\n      <td>480291411011</td>\n      <td>48029141101</td>\n      <td>480291411006004</td>\n      <td>4802993407</td>\n      <td>4865000</td>\n      <td>480291074</td>\n      <td>4823</td>\n      <td>...</td>\n      <td>0</td>\n      <td>0</td>\n      <td>0</td>\n      <td>0</td>\n      <td>0</td>\n      <td>0</td>\n      <td>0.018304</td>\n      <td>509512.736328</td>\n      <td>8615.618889</td>\n      <td>POLYGON ((-98.46881 29.36511, -98.46815 29.364...</td>\n    </tr>\n    <tr>\n      <th>480291411011006</th>\n      <td>3</td>\n      <td>1400348</td>\n      <td>3</td>\n      <td>480291411011</td>\n      <td>48029141101</td>\n      <td>480291411006001</td>\n      <td>4802993407</td>\n      <td>4865000</td>\n      <td>480291074</td>\n      <td>4823</td>\n      <td>...</td>\n      <td>102</td>\n      <td>82</td>\n      <td>20</td>\n      <td>16</td>\n      <td>2</td>\n      <td>0</td>\n      <td>0.012803</td>\n      <td>356394.378906</td>\n      <td>2836.366689</td>\n      <td>POLYGON ((-98.46323 29.36640, -98.46324 29.365...</td>\n    </tr>\n    <tr>\n      <th>480291410002007</th>\n      <td>4</td>\n      <td>1400365</td>\n      <td>1</td>\n      <td>480291410002</td>\n      <td>48029141000</td>\n      <td>480291410002009</td>\n      <td>4802993407</td>\n      <td>4865000</td>\n      <td>480291074</td>\n      <td>4823</td>\n      <td>...</td>\n      <td>162</td>\n      <td>149</td>\n      <td>13</td>\n      <td>13</td>\n      <td>0</td>\n      <td>0</td>\n      <td>0.012892</td>\n      <td>358877.382812</td>\n      <td>2852.304380</td>\n      <td>POLYGON ((-98.46667 29.36662, -98.46668 29.367...</td>\n    </tr>\n    <tr>\n      <th>480291410002006</th>\n      <td>5</td>\n      <td>1400383</td>\n      <td>3</td>\n      <td>480291410002</td>\n      <td>48029141000</td>\n      <td>480291410002008</td>\n      <td>4802993407</td>\n      <td>4865000</td>\n      <td>480291074</td>\n      <td>4823</td>\n      <td>...</td>\n      <td>133</td>\n      <td>124</td>\n      <td>9</td>\n      <td>5</td>\n      <td>4</td>\n      <td>0</td>\n      <td>0.016129</td>\n      <td>448943.710938</td>\n      <td>2994.127235</td>\n      <td>POLYGON ((-98.46668 29.36753, -98.46667 29.368...</td>\n    </tr>\n  </tbody>\n</table>\n<p>5 rows × 22 columns</p>\n</div>"
     },
     "metadata": {}
    }
   ],
   "source": [
    "gdf_blocks = gdf_blocks[keep_cols]\n",
    "show_df(gdf_blocks)"
   ]
  },
  {
   "cell_type": "code",
   "execution_count": null,
   "metadata": {
    "scrolled": true,
    "tags": []
   },
   "outputs": [],
   "source": []
  },
  {
   "cell_type": "code",
   "execution_count": null,
   "metadata": {},
   "outputs": [],
   "source": []
  },
  {
   "cell_type": "code",
   "execution_count": null,
   "metadata": {
    "scrolled": true
   },
   "outputs": [],
   "source": []
  },
  {
   "cell_type": "code",
   "execution_count": 32,
   "metadata": {
    "scrolled": true
   },
   "outputs": [
    {
     "output_type": "execute_result",
     "data": {
      "text/plain": "              Blocks\nBLOCKGROUP          \n480291101001     132\n480291101002      50\n480291101003      68\n480291103001      19\n480291103002       4\n...              ...\n480299800021      39\n480299800031      86\n480299800041      57\n480299800051       3\n480299801001     167\n\n[806 rows x 1 columns]",
      "text/html": "<div>\n<style scoped>\n    .dataframe tbody tr th:only-of-type {\n        vertical-align: middle;\n    }\n\n    .dataframe tbody tr th {\n        vertical-align: top;\n    }\n\n    .dataframe thead th {\n        text-align: right;\n    }\n</style>\n<table border=\"1\" class=\"dataframe\">\n  <thead>\n    <tr style=\"text-align: right;\">\n      <th></th>\n      <th>Blocks</th>\n    </tr>\n    <tr>\n      <th>BLOCKGROUP</th>\n      <th></th>\n    </tr>\n  </thead>\n  <tbody>\n    <tr>\n      <th>480291101001</th>\n      <td>132</td>\n    </tr>\n    <tr>\n      <th>480291101002</th>\n      <td>50</td>\n    </tr>\n    <tr>\n      <th>480291101003</th>\n      <td>68</td>\n    </tr>\n    <tr>\n      <th>480291103001</th>\n      <td>19</td>\n    </tr>\n    <tr>\n      <th>480291103002</th>\n      <td>4</td>\n    </tr>\n    <tr>\n      <th>...</th>\n      <td>...</td>\n    </tr>\n    <tr>\n      <th>480299800021</th>\n      <td>39</td>\n    </tr>\n    <tr>\n      <th>480299800031</th>\n      <td>86</td>\n    </tr>\n    <tr>\n      <th>480299800041</th>\n      <td>57</td>\n    </tr>\n    <tr>\n      <th>480299800051</th>\n      <td>3</td>\n    </tr>\n    <tr>\n      <th>480299801001</th>\n      <td>167</td>\n    </tr>\n  </tbody>\n</table>\n<p>806 rows × 1 columns</p>\n</div>"
     },
     "metadata": {},
     "execution_count": 32
    }
   ],
   "source": [
    "gdf_blocks[['BLOCKGROUP','POPULATION']][gdf_blocks.POPULATION == 0].groupby('BLOCKGROUP').count().rename(columns={'POPULATION': 'Blocks'})"
   ]
  },
  {
   "cell_type": "code",
   "execution_count": 33,
   "metadata": {},
   "outputs": [],
   "source": [
    "chk_cols = [\n",
    "#     'BLOCK',\n",
    "    'POPULATION',\n",
    "    'NH_WHT',\n",
    "    'NH_BLK',\n",
    "    'NH_ASN',\n",
    "    'HISPANIC_O',\n",
    "    'NOT_HISPAN',\n",
    "    \n",
    "]"
   ]
  },
  {
   "cell_type": "code",
   "execution_count": 34,
   "metadata": {},
   "outputs": [],
   "source": [
    "gdf_chk = gdf_blocks[chk_cols]"
   ]
  },
  {
   "cell_type": "code",
   "execution_count": 35,
   "metadata": {},
   "outputs": [
    {
     "output_type": "execute_result",
     "data": {
      "text/plain": "                 POPULATION  NH_WHT  NH_BLK  NH_ASN  HISPANIC_O  NOT_HISPAN\nBLOCK                                                                      \n480291919003005          13       0       0       0          11           2\n480291411011002           0       0       0       0           0           0\n480291411011006         102      16       2       0          82          20\n480291410002007         162      13       0       0         149          13\n480291410002006         133       5       4       0         124           9",
      "text/html": "<div>\n<style scoped>\n    .dataframe tbody tr th:only-of-type {\n        vertical-align: middle;\n    }\n\n    .dataframe tbody tr th {\n        vertical-align: top;\n    }\n\n    .dataframe thead th {\n        text-align: right;\n    }\n</style>\n<table border=\"1\" class=\"dataframe\">\n  <thead>\n    <tr style=\"text-align: right;\">\n      <th></th>\n      <th>POPULATION</th>\n      <th>NH_WHT</th>\n      <th>NH_BLK</th>\n      <th>NH_ASN</th>\n      <th>HISPANIC_O</th>\n      <th>NOT_HISPAN</th>\n    </tr>\n    <tr>\n      <th>BLOCK</th>\n      <th></th>\n      <th></th>\n      <th></th>\n      <th></th>\n      <th></th>\n      <th></th>\n    </tr>\n  </thead>\n  <tbody>\n    <tr>\n      <th>480291919003005</th>\n      <td>13</td>\n      <td>0</td>\n      <td>0</td>\n      <td>0</td>\n      <td>11</td>\n      <td>2</td>\n    </tr>\n    <tr>\n      <th>480291411011002</th>\n      <td>0</td>\n      <td>0</td>\n      <td>0</td>\n      <td>0</td>\n      <td>0</td>\n      <td>0</td>\n    </tr>\n    <tr>\n      <th>480291411011006</th>\n      <td>102</td>\n      <td>16</td>\n      <td>2</td>\n      <td>0</td>\n      <td>82</td>\n      <td>20</td>\n    </tr>\n    <tr>\n      <th>480291410002007</th>\n      <td>162</td>\n      <td>13</td>\n      <td>0</td>\n      <td>0</td>\n      <td>149</td>\n      <td>13</td>\n    </tr>\n    <tr>\n      <th>480291410002006</th>\n      <td>133</td>\n      <td>5</td>\n      <td>4</td>\n      <td>0</td>\n      <td>124</td>\n      <td>9</td>\n    </tr>\n  </tbody>\n</table>\n</div>"
     },
     "metadata": {},
     "execution_count": 35
    }
   ],
   "source": [
    "gdf_chk.head()"
   ]
  },
  {
   "cell_type": "code",
   "execution_count": 36,
   "metadata": {},
   "outputs": [],
   "source": [
    "df_stops_202004 = pd.read_csv(file_stops_202004).set_index('stop_id')"
   ]
  },
  {
   "cell_type": "code",
   "execution_count": 37,
   "metadata": {
    "tags": []
   },
   "outputs": [
    {
     "output_type": "stream",
     "name": "stdout",
     "text": "<class 'pandas.core.frame.DataFrame'>\nInt64Index: 6491 entries, 25316 to 74369\nData columns (total 11 columns):\n #   Column               Non-Null Count  Dtype  \n---  ------               --------------  -----  \n 0   stop_code            6491 non-null   int64  \n 1   stop_name            6491 non-null   object \n 2   stop_desc            1608 non-null   object \n 3   stop_lat             6491 non-null   float64\n 4   stop_lon             6491 non-null   float64\n 5   zone_id              0 non-null      float64\n 6   stop_url             0 non-null      float64\n 7   location_type        0 non-null      float64\n 8   parent_station       0 non-null      float64\n 9   stop_timezone        0 non-null      float64\n 10  wheelchair_boarding  6491 non-null   int64  \ndtypes: float64(7), int64(2), object(2)\nmemory usage: 608.5+ KB\nNone\n"
    },
    {
     "output_type": "display_data",
     "data": {
      "text/plain": "         stop_code                       stop_name stop_desc   stop_lat  \\\nstop_id                                                                   \n25316        25316                BLANCO & DRESDEN       NaN  29.499014   \n72479        72479     FRESNO & IH-10 W ACCESS RD.       NaN  29.474488   \n56239        56239  FREDERICKSBURG RD. & N. FLORES       NaN  29.441883   \n76759        76759                MARTIN & N. FRIO       NaN  29.430081   \n88973        88973            DOLOROSA & S. FLORES       NaN  29.424073   \n\n          stop_lon  zone_id  stop_url  location_type  parent_station  \\\nstop_id                                                                \n25316   -98.507783      NaN       NaN            NaN             NaN   \n72479   -98.516238      NaN       NaN            NaN             NaN   \n56239   -98.503773      NaN       NaN            NaN             NaN   \n76759   -98.503058      NaN       NaN            NaN             NaN   \n88973   -98.494741      NaN       NaN            NaN             NaN   \n\n         stop_timezone  wheelchair_boarding  \nstop_id                                      \n25316              NaN                    0  \n72479              NaN                    0  \n56239              NaN                    0  \n76759              NaN                    0  \n88973              NaN                    0  ",
      "text/html": "<div>\n<style scoped>\n    .dataframe tbody tr th:only-of-type {\n        vertical-align: middle;\n    }\n\n    .dataframe tbody tr th {\n        vertical-align: top;\n    }\n\n    .dataframe thead th {\n        text-align: right;\n    }\n</style>\n<table border=\"1\" class=\"dataframe\">\n  <thead>\n    <tr style=\"text-align: right;\">\n      <th></th>\n      <th>stop_code</th>\n      <th>stop_name</th>\n      <th>stop_desc</th>\n      <th>stop_lat</th>\n      <th>stop_lon</th>\n      <th>zone_id</th>\n      <th>stop_url</th>\n      <th>location_type</th>\n      <th>parent_station</th>\n      <th>stop_timezone</th>\n      <th>wheelchair_boarding</th>\n    </tr>\n    <tr>\n      <th>stop_id</th>\n      <th></th>\n      <th></th>\n      <th></th>\n      <th></th>\n      <th></th>\n      <th></th>\n      <th></th>\n      <th></th>\n      <th></th>\n      <th></th>\n      <th></th>\n    </tr>\n  </thead>\n  <tbody>\n    <tr>\n      <th>25316</th>\n      <td>25316</td>\n      <td>BLANCO &amp; DRESDEN</td>\n      <td>NaN</td>\n      <td>29.499014</td>\n      <td>-98.507783</td>\n      <td>NaN</td>\n      <td>NaN</td>\n      <td>NaN</td>\n      <td>NaN</td>\n      <td>NaN</td>\n      <td>0</td>\n    </tr>\n    <tr>\n      <th>72479</th>\n      <td>72479</td>\n      <td>FRESNO &amp; IH-10 W ACCESS RD.</td>\n      <td>NaN</td>\n      <td>29.474488</td>\n      <td>-98.516238</td>\n      <td>NaN</td>\n      <td>NaN</td>\n      <td>NaN</td>\n      <td>NaN</td>\n      <td>NaN</td>\n      <td>0</td>\n    </tr>\n    <tr>\n      <th>56239</th>\n      <td>56239</td>\n      <td>FREDERICKSBURG RD. &amp; N. FLORES</td>\n      <td>NaN</td>\n      <td>29.441883</td>\n      <td>-98.503773</td>\n      <td>NaN</td>\n      <td>NaN</td>\n      <td>NaN</td>\n      <td>NaN</td>\n      <td>NaN</td>\n      <td>0</td>\n    </tr>\n    <tr>\n      <th>76759</th>\n      <td>76759</td>\n      <td>MARTIN &amp; N. FRIO</td>\n      <td>NaN</td>\n      <td>29.430081</td>\n      <td>-98.503058</td>\n      <td>NaN</td>\n      <td>NaN</td>\n      <td>NaN</td>\n      <td>NaN</td>\n      <td>NaN</td>\n      <td>0</td>\n    </tr>\n    <tr>\n      <th>88973</th>\n      <td>88973</td>\n      <td>DOLOROSA &amp; S. FLORES</td>\n      <td>NaN</td>\n      <td>29.424073</td>\n      <td>-98.494741</td>\n      <td>NaN</td>\n      <td>NaN</td>\n      <td>NaN</td>\n      <td>NaN</td>\n      <td>NaN</td>\n      <td>0</td>\n    </tr>\n  </tbody>\n</table>\n</div>"
     },
     "metadata": {}
    }
   ],
   "source": [
    "show_df(df_stops_202004)"
   ]
  },
  {
   "cell_type": "code",
   "execution_count": null,
   "metadata": {},
   "outputs": [],
   "source": []
  },
  {
   "cell_type": "code",
   "execution_count": 38,
   "metadata": {},
   "outputs": [],
   "source": [
    "df_stops_202004 = df_stops_202004[['stop_code', 'stop_name', 'stop_lat', 'stop_lon', 'wheelchair_boarding']]"
   ]
  },
  {
   "cell_type": "code",
   "execution_count": null,
   "metadata": {},
   "outputs": [],
   "source": []
  },
  {
   "cell_type": "code",
   "execution_count": null,
   "metadata": {
    "tags": []
   },
   "outputs": [],
   "source": []
  },
  {
   "cell_type": "code",
   "execution_count": 39,
   "metadata": {},
   "outputs": [],
   "source": [
    "gdf_stops_202004 = gpd.GeoDataFrame(\n",
    "    df_stops_202004,\n",
    "    geometry = gpd.points_from_xy(df_stops_202004.stop_lon, df_stops_202004.stop_lat),\n",
    "    crs={'epsg:4326'}\n",
    ")"
   ]
  },
  {
   "cell_type": "code",
   "execution_count": 40,
   "metadata": {},
   "outputs": [
    {
     "output_type": "execute_result",
     "data": {
      "text/plain": "{'epsg:4326'}"
     },
     "metadata": {},
     "execution_count": 40
    }
   ],
   "source": [
    "gdf_stops_202004.crs"
   ]
  },
  {
   "cell_type": "code",
   "execution_count": 41,
   "metadata": {},
   "outputs": [
    {
     "output_type": "execute_result",
     "data": {
      "text/plain": "<Geographic 2D CRS: EPSG:4326>\nName: WGS 84\nAxis Info [ellipsoidal]:\n- Lat[north]: Geodetic latitude (degree)\n- Lon[east]: Geodetic longitude (degree)\nArea of Use:\n- name: World\n- bounds: (-180.0, -90.0, 180.0, 90.0)\nDatum: World Geodetic System 1984\n- Ellipsoid: WGS 84\n- Prime Meridian: Greenwich"
     },
     "metadata": {},
     "execution_count": 41
    }
   ],
   "source": [
    "CRS('EPSG:4326')"
   ]
  },
  {
   "cell_type": "code",
   "execution_count": 42,
   "metadata": {},
   "outputs": [
    {
     "output_type": "execute_result",
     "data": {
      "text/plain": "<Projected CRS: EPSG:3857>\nName: WGS 84 / Pseudo-Mercator\nAxis Info [cartesian]:\n- X[east]: Easting (metre)\n- Y[north]: Northing (metre)\nArea of Use:\n- name: World - 85°S to 85°N\n- bounds: (-180.0, -85.06, 180.0, 85.06)\nCoordinate Operation:\n- name: Popular Visualisation Pseudo-Mercator\n- method: Popular Visualisation Pseudo Mercator\nDatum: World Geodetic System 1984\n- Ellipsoid: WGS 84\n- Prime Meridian: Greenwich"
     },
     "metadata": {},
     "execution_count": 42
    }
   ],
   "source": [
    "CRS('EPSG:3857')"
   ]
  },
  {
   "cell_type": "code",
   "execution_count": 43,
   "metadata": {},
   "outputs": [
    {
     "output_type": "execute_result",
     "data": {
      "text/plain": "<Projected CRS: EPSG:32140>\nName: NAD83 / Texas South Central\nAxis Info [cartesian]:\n- X[east]: Easting (metre)\n- Y[north]: Northing (metre)\nArea of Use:\n- name: USA - Texas - SPCS83 - SC\n- bounds: (-105.0, 27.78, -93.76, 30.67)\nCoordinate Operation:\n- name: SPCS83 Texas South Central zone (meters)\n- method: Lambert Conic Conformal (2SP)\nDatum: North American Datum 1983\n- Ellipsoid: GRS 1980\n- Prime Meridian: Greenwich"
     },
     "metadata": {},
     "execution_count": 43
    }
   ],
   "source": [
    "CRS('EPSG:32140')"
   ]
  },
  {
   "cell_type": "code",
   "execution_count": 44,
   "metadata": {},
   "outputs": [
    {
     "output_type": "execute_result",
     "data": {
      "text/plain": "<Projected CRS: EPSG:2278>\nName: NAD83 / Texas South Central (ftUS)\nAxis Info [cartesian]:\n- X[east]: Easting (US survey foot)\n- Y[north]: Northing (US survey foot)\nArea of Use:\n- name: USA - Texas - SPCS83 - SC\n- bounds: (-105.0, 27.78, -93.76, 30.67)\nCoordinate Operation:\n- name: SPCS83 Texas South Central zone (US Survey feet)\n- method: Lambert Conic Conformal (2SP)\nDatum: North American Datum 1983\n- Ellipsoid: GRS 1980\n- Prime Meridian: Greenwich"
     },
     "metadata": {},
     "execution_count": 44
    }
   ],
   "source": [
    "CRS('EPSG:2278')"
   ]
  },
  {
   "cell_type": "code",
   "execution_count": null,
   "metadata": {},
   "outputs": [],
   "source": []
  },
  {
   "cell_type": "code",
   "execution_count": 45,
   "metadata": {
    "tags": []
   },
   "outputs": [
    {
     "output_type": "stream",
     "name": "stdout",
     "text": "<class 'geopandas.geodataframe.GeoDataFrame'>\nIndex: 1 entries, Bexar to Bexar\nData columns (total 1 columns):\n #   Column    Non-Null Count  Dtype   \n---  ------    --------------  -----   \n 0   geometry  1 non-null      geometry\ndtypes: geometry(1)\nmemory usage: 96.0+ bytes\nNone\n"
    },
    {
     "output_type": "display_data",
     "data": {
      "text/plain": "                                                 geometry\ncounty                                                   \nBexar   POLYGON ((-98.32720 29.20987, -98.32725 29.209...",
      "text/html": "<div>\n<style scoped>\n    .dataframe tbody tr th:only-of-type {\n        vertical-align: middle;\n    }\n\n    .dataframe tbody tr th {\n        vertical-align: top;\n    }\n\n    .dataframe thead th {\n        text-align: right;\n    }\n</style>\n<table border=\"1\" class=\"dataframe\">\n  <thead>\n    <tr style=\"text-align: right;\">\n      <th></th>\n      <th>geometry</th>\n    </tr>\n    <tr>\n      <th>county</th>\n      <th></th>\n    </tr>\n  </thead>\n  <tbody>\n    <tr>\n      <th>Bexar</th>\n      <td>POLYGON ((-98.32720 29.20987, -98.32725 29.209...</td>\n    </tr>\n  </tbody>\n</table>\n</div>"
     },
     "metadata": {}
    }
   ],
   "source": [
    "gdf_county = gdf_tracts[['geometry']].copy()\n",
    "\n",
    "gdf_county['county'] = 'Bexar'\n",
    "gdf_county = gdf_county.dissolve(by='county')\n",
    "show_df(gdf_county)"
   ]
  },
  {
   "cell_type": "code",
   "execution_count": null,
   "metadata": {},
   "outputs": [],
   "source": []
  },
  {
   "cell_type": "code",
   "execution_count": 46,
   "metadata": {
    "scrolled": false
   },
   "outputs": [],
   "source": [
    "# fig, ax = plt.subplots(figsize=(10,10))\n",
    "# ax.set_aspect('equal')\n",
    "# axbase = gplt.polyplot(gdf_county, ax=ax, facecolor='white', edgecolor='blue', linewidth=5)\n",
    "# axt = gplt.polyplot(gdf_tracts, ax=ax, facecolor='none', edgecolor='black', alpha=1, linewidth=2)\n",
    "# axbg = gplt.polyplot(gdf_block_groups, ax=ax, facecolor='none', edgecolor='black', alpha=.75, linewidth=1)\n",
    "# axb = gplt.polyplot(gdf_blocks, ax=ax, facecolor='none', edgecolor='black', alpha=0.75, linewidth=.5)\n",
    "# ax1 = gdf_stops_202004.plot(ax=ax, color='red', marker='.',markersize=30)\n",
    "# plt.show()"
   ]
  },
  {
   "cell_type": "code",
   "execution_count": 47,
   "metadata": {},
   "outputs": [
    {
     "output_type": "execute_result",
     "data": {
      "text/plain": "{'init': 'epsg:4326'}"
     },
     "metadata": {},
     "execution_count": 47
    }
   ],
   "source": [
    "gdf_block_groups.crs"
   ]
  },
  {
   "cell_type": "code",
   "execution_count": 48,
   "metadata": {},
   "outputs": [],
   "source": [
    "gdf_block_groups = gdf_block_groups.to_crs('epsg:4326')"
   ]
  },
  {
   "cell_type": "code",
   "execution_count": 49,
   "metadata": {},
   "outputs": [
    {
     "output_type": "execute_result",
     "data": {
      "text/plain": "'epsg:4326'"
     },
     "metadata": {},
     "execution_count": 49
    }
   ],
   "source": [
    "gdf_block_groups.crs"
   ]
  },
  {
   "cell_type": "code",
   "execution_count": 50,
   "metadata": {
    "tags": []
   },
   "outputs": [
    {
     "output_type": "stream",
     "name": "stdout",
     "text": "<class 'geopandas.geodataframe.GeoDataFrame'>\nInt64Index: 6491 entries, 25316 to 74369\nData columns (total 7 columns):\n #   Column               Non-Null Count  Dtype   \n---  ------               --------------  -----   \n 0   stop_code            6491 non-null   int64   \n 1   stop_name            6491 non-null   object  \n 2   stop_lat             6491 non-null   float64 \n 3   stop_lon             6491 non-null   float64 \n 4   wheelchair_boarding  6491 non-null   int64   \n 5   geometry             6491 non-null   geometry\n 6   point                6491 non-null   geometry\ndtypes: float64(2), geometry(2), int64(2), object(1)\nmemory usage: 405.7+ KB\nNone\n"
    },
    {
     "output_type": "display_data",
     "data": {
      "text/plain": "         stop_code                       stop_name   stop_lat   stop_lon  \\\nstop_id                                                                    \n25316        25316                BLANCO & DRESDEN  29.499014 -98.507783   \n72479        72479     FRESNO & IH-10 W ACCESS RD.  29.474488 -98.516238   \n56239        56239  FREDERICKSBURG RD. & N. FLORES  29.441883 -98.503773   \n76759        76759                MARTIN & N. FRIO  29.430081 -98.503058   \n88973        88973            DOLOROSA & S. FLORES  29.424073 -98.494741   \n\n         wheelchair_boarding                    geometry  \\\nstop_id                                                    \n25316                      0  POINT (-98.50778 29.49901)   \n72479                      0  POINT (-98.51624 29.47449)   \n56239                      0  POINT (-98.50377 29.44188)   \n76759                      0  POINT (-98.50306 29.43008)   \n88973                      0  POINT (-98.49474 29.42407)   \n\n                              point  \nstop_id                              \n25316    POINT (-98.50778 29.49901)  \n72479    POINT (-98.51624 29.47449)  \n56239    POINT (-98.50377 29.44188)  \n76759    POINT (-98.50306 29.43008)  \n88973    POINT (-98.49474 29.42407)  ",
      "text/html": "<div>\n<style scoped>\n    .dataframe tbody tr th:only-of-type {\n        vertical-align: middle;\n    }\n\n    .dataframe tbody tr th {\n        vertical-align: top;\n    }\n\n    .dataframe thead th {\n        text-align: right;\n    }\n</style>\n<table border=\"1\" class=\"dataframe\">\n  <thead>\n    <tr style=\"text-align: right;\">\n      <th></th>\n      <th>stop_code</th>\n      <th>stop_name</th>\n      <th>stop_lat</th>\n      <th>stop_lon</th>\n      <th>wheelchair_boarding</th>\n      <th>geometry</th>\n      <th>point</th>\n    </tr>\n    <tr>\n      <th>stop_id</th>\n      <th></th>\n      <th></th>\n      <th></th>\n      <th></th>\n      <th></th>\n      <th></th>\n      <th></th>\n    </tr>\n  </thead>\n  <tbody>\n    <tr>\n      <th>25316</th>\n      <td>25316</td>\n      <td>BLANCO &amp; DRESDEN</td>\n      <td>29.499014</td>\n      <td>-98.507783</td>\n      <td>0</td>\n      <td>POINT (-98.50778 29.49901)</td>\n      <td>POINT (-98.50778 29.49901)</td>\n    </tr>\n    <tr>\n      <th>72479</th>\n      <td>72479</td>\n      <td>FRESNO &amp; IH-10 W ACCESS RD.</td>\n      <td>29.474488</td>\n      <td>-98.516238</td>\n      <td>0</td>\n      <td>POINT (-98.51624 29.47449)</td>\n      <td>POINT (-98.51624 29.47449)</td>\n    </tr>\n    <tr>\n      <th>56239</th>\n      <td>56239</td>\n      <td>FREDERICKSBURG RD. &amp; N. FLORES</td>\n      <td>29.441883</td>\n      <td>-98.503773</td>\n      <td>0</td>\n      <td>POINT (-98.50377 29.44188)</td>\n      <td>POINT (-98.50377 29.44188)</td>\n    </tr>\n    <tr>\n      <th>76759</th>\n      <td>76759</td>\n      <td>MARTIN &amp; N. FRIO</td>\n      <td>29.430081</td>\n      <td>-98.503058</td>\n      <td>0</td>\n      <td>POINT (-98.50306 29.43008)</td>\n      <td>POINT (-98.50306 29.43008)</td>\n    </tr>\n    <tr>\n      <th>88973</th>\n      <td>88973</td>\n      <td>DOLOROSA &amp; S. FLORES</td>\n      <td>29.424073</td>\n      <td>-98.494741</td>\n      <td>0</td>\n      <td>POINT (-98.49474 29.42407)</td>\n      <td>POINT (-98.49474 29.42407)</td>\n    </tr>\n  </tbody>\n</table>\n</div>"
     },
     "metadata": {}
    }
   ],
   "source": [
    "gdf_stops_202004_buff = gdf_stops_202004.copy()\n",
    "gdf_stops_202004_buff['point'] = gdf_stops_202004_buff.geometry\n",
    "show_df(gdf_stops_202004_buff)"
   ]
  },
  {
   "cell_type": "code",
   "execution_count": 51,
   "metadata": {},
   "outputs": [
    {
     "output_type": "execute_result",
     "data": {
      "text/plain": "array([-98.711   ,  29.29406 , -98.306921,  29.650497])"
     },
     "metadata": {},
     "execution_count": 51
    }
   ],
   "source": [
    "gdf_stops_202004_buff.total_bounds"
   ]
  },
  {
   "cell_type": "code",
   "execution_count": 52,
   "metadata": {},
   "outputs": [],
   "source": [
    "# gdf_stops_buff = gdf_stops_buff.to_crs(epsg=3857)\n",
    "# gdf_stops_buff = gdf_stops_buff.to_crs(epsg=2278)\n",
    "# gdf_stops_202004_buff.head()"
   ]
  },
  {
   "cell_type": "code",
   "execution_count": 53,
   "metadata": {},
   "outputs": [
    {
     "output_type": "execute_result",
     "data": {
      "text/plain": "0.00675000675000675"
     },
     "metadata": {},
     "execution_count": 53
    }
   ],
   "source": [
    "# For simplification, using distance per degree latitude to determine buffer amount. \n",
    "# This is slightly inaccurate due to the curvature of the earth. Buffer distances is\n",
    "# set at 800 meters, which is roughly a half mile.\n",
    "\n",
    "meters_per_degree = 111111\n",
    "buffer_in_meters = 750\n",
    "buffer_in_degrees = buffer_in_meters / meters_per_degree\n",
    "buffer_in_degrees"
   ]
  },
  {
   "cell_type": "code",
   "execution_count": 54,
   "metadata": {},
   "outputs": [],
   "source": [
    "# gdf_stops_buff['buffer'] = gdf_stops.buffer(buffer_in_meters)"
   ]
  },
  {
   "cell_type": "code",
   "execution_count": 55,
   "metadata": {},
   "outputs": [],
   "source": [
    "# gdf_stops.buffer(buffer_in_meters)"
   ]
  },
  {
   "cell_type": "code",
   "execution_count": 56,
   "metadata": {},
   "outputs": [],
   "source": [
    "gdf_stops_202004_buff['buffer'] = gdf_stops_202004.buffer(buffer_in_degrees)"
   ]
  },
  {
   "cell_type": "code",
   "execution_count": 57,
   "metadata": {
    "tags": []
   },
   "outputs": [
    {
     "output_type": "stream",
     "name": "stdout",
     "text": "<class 'geopandas.geodataframe.GeoDataFrame'>\nInt64Index: 6491 entries, 25316 to 74369\nData columns (total 8 columns):\n #   Column               Non-Null Count  Dtype   \n---  ------               --------------  -----   \n 0   stop_code            6491 non-null   int64   \n 1   stop_name            6491 non-null   object  \n 2   stop_lat             6491 non-null   float64 \n 3   stop_lon             6491 non-null   float64 \n 4   wheelchair_boarding  6491 non-null   int64   \n 5   geometry             6491 non-null   geometry\n 6   point                6491 non-null   geometry\n 7   buffer               6491 non-null   geometry\ndtypes: float64(2), geometry(3), int64(2), object(1)\nmemory usage: 456.4+ KB\nNone\n"
    },
    {
     "output_type": "display_data",
     "data": {
      "text/plain": "         stop_code                       stop_name   stop_lat   stop_lon  \\\nstop_id                                                                    \n25316        25316                BLANCO & DRESDEN  29.499014 -98.507783   \n72479        72479     FRESNO & IH-10 W ACCESS RD.  29.474488 -98.516238   \n56239        56239  FREDERICKSBURG RD. & N. FLORES  29.441883 -98.503773   \n76759        76759                MARTIN & N. FRIO  29.430081 -98.503058   \n88973        88973            DOLOROSA & S. FLORES  29.424073 -98.494741   \n\n         wheelchair_boarding                    geometry  \\\nstop_id                                                    \n25316                      0  POINT (-98.50778 29.49901)   \n72479                      0  POINT (-98.51624 29.47449)   \n56239                      0  POINT (-98.50377 29.44188)   \n76759                      0  POINT (-98.50306 29.43008)   \n88973                      0  POINT (-98.49474 29.42407)   \n\n                              point  \\\nstop_id                               \n25316    POINT (-98.50778 29.49901)   \n72479    POINT (-98.51624 29.47449)   \n56239    POINT (-98.50377 29.44188)   \n76759    POINT (-98.50306 29.43008)   \n88973    POINT (-98.49474 29.42407)   \n\n                                                    buffer  \nstop_id                                                     \n25316    POLYGON ((-98.50103 29.49901, -98.50107 29.498...  \n72479    POLYGON ((-98.50949 29.47449, -98.50952 29.473...  \n56239    POLYGON ((-98.49702 29.44188, -98.49706 29.441...  \n76759    POLYGON ((-98.49631 29.43008, -98.49634 29.429...  \n88973    POLYGON ((-98.48799 29.42407, -98.48802 29.423...  ",
      "text/html": "<div>\n<style scoped>\n    .dataframe tbody tr th:only-of-type {\n        vertical-align: middle;\n    }\n\n    .dataframe tbody tr th {\n        vertical-align: top;\n    }\n\n    .dataframe thead th {\n        text-align: right;\n    }\n</style>\n<table border=\"1\" class=\"dataframe\">\n  <thead>\n    <tr style=\"text-align: right;\">\n      <th></th>\n      <th>stop_code</th>\n      <th>stop_name</th>\n      <th>stop_lat</th>\n      <th>stop_lon</th>\n      <th>wheelchair_boarding</th>\n      <th>geometry</th>\n      <th>point</th>\n      <th>buffer</th>\n    </tr>\n    <tr>\n      <th>stop_id</th>\n      <th></th>\n      <th></th>\n      <th></th>\n      <th></th>\n      <th></th>\n      <th></th>\n      <th></th>\n      <th></th>\n    </tr>\n  </thead>\n  <tbody>\n    <tr>\n      <th>25316</th>\n      <td>25316</td>\n      <td>BLANCO &amp; DRESDEN</td>\n      <td>29.499014</td>\n      <td>-98.507783</td>\n      <td>0</td>\n      <td>POINT (-98.50778 29.49901)</td>\n      <td>POINT (-98.50778 29.49901)</td>\n      <td>POLYGON ((-98.50103 29.49901, -98.50107 29.498...</td>\n    </tr>\n    <tr>\n      <th>72479</th>\n      <td>72479</td>\n      <td>FRESNO &amp; IH-10 W ACCESS RD.</td>\n      <td>29.474488</td>\n      <td>-98.516238</td>\n      <td>0</td>\n      <td>POINT (-98.51624 29.47449)</td>\n      <td>POINT (-98.51624 29.47449)</td>\n      <td>POLYGON ((-98.50949 29.47449, -98.50952 29.473...</td>\n    </tr>\n    <tr>\n      <th>56239</th>\n      <td>56239</td>\n      <td>FREDERICKSBURG RD. &amp; N. FLORES</td>\n      <td>29.441883</td>\n      <td>-98.503773</td>\n      <td>0</td>\n      <td>POINT (-98.50377 29.44188)</td>\n      <td>POINT (-98.50377 29.44188)</td>\n      <td>POLYGON ((-98.49702 29.44188, -98.49706 29.441...</td>\n    </tr>\n    <tr>\n      <th>76759</th>\n      <td>76759</td>\n      <td>MARTIN &amp; N. FRIO</td>\n      <td>29.430081</td>\n      <td>-98.503058</td>\n      <td>0</td>\n      <td>POINT (-98.50306 29.43008)</td>\n      <td>POINT (-98.50306 29.43008)</td>\n      <td>POLYGON ((-98.49631 29.43008, -98.49634 29.429...</td>\n    </tr>\n    <tr>\n      <th>88973</th>\n      <td>88973</td>\n      <td>DOLOROSA &amp; S. FLORES</td>\n      <td>29.424073</td>\n      <td>-98.494741</td>\n      <td>0</td>\n      <td>POINT (-98.49474 29.42407)</td>\n      <td>POINT (-98.49474 29.42407)</td>\n      <td>POLYGON ((-98.48799 29.42407, -98.48802 29.423...</td>\n    </tr>\n  </tbody>\n</table>\n</div>"
     },
     "metadata": {}
    }
   ],
   "source": [
    "show_df(gdf_stops_202004_buff)"
   ]
  },
  {
   "cell_type": "code",
   "execution_count": 58,
   "metadata": {},
   "outputs": [],
   "source": [
    "gdf_stops_202004_buff = gdf_stops_202004_buff.set_geometry('buffer')"
   ]
  },
  {
   "cell_type": "code",
   "execution_count": 59,
   "metadata": {
    "tags": []
   },
   "outputs": [
    {
     "output_type": "stream",
     "name": "stdout",
     "text": "<class 'geopandas.geodataframe.GeoDataFrame'>\nInt64Index: 6491 entries, 25316 to 74369\nData columns (total 8 columns):\n #   Column               Non-Null Count  Dtype   \n---  ------               --------------  -----   \n 0   stop_code            6491 non-null   int64   \n 1   stop_name            6491 non-null   object  \n 2   stop_lat             6491 non-null   float64 \n 3   stop_lon             6491 non-null   float64 \n 4   wheelchair_boarding  6491 non-null   int64   \n 5   geometry             6491 non-null   geometry\n 6   point                6491 non-null   geometry\n 7   buffer               6491 non-null   geometry\ndtypes: float64(2), geometry(3), int64(2), object(1)\nmemory usage: 456.4+ KB\nNone\n"
    },
    {
     "output_type": "display_data",
     "data": {
      "text/plain": "         stop_code                       stop_name   stop_lat   stop_lon  \\\nstop_id                                                                    \n25316        25316                BLANCO & DRESDEN  29.499014 -98.507783   \n72479        72479     FRESNO & IH-10 W ACCESS RD.  29.474488 -98.516238   \n56239        56239  FREDERICKSBURG RD. & N. FLORES  29.441883 -98.503773   \n76759        76759                MARTIN & N. FRIO  29.430081 -98.503058   \n88973        88973            DOLOROSA & S. FLORES  29.424073 -98.494741   \n\n         wheelchair_boarding                    geometry  \\\nstop_id                                                    \n25316                      0  POINT (-98.50778 29.49901)   \n72479                      0  POINT (-98.51624 29.47449)   \n56239                      0  POINT (-98.50377 29.44188)   \n76759                      0  POINT (-98.50306 29.43008)   \n88973                      0  POINT (-98.49474 29.42407)   \n\n                              point  \\\nstop_id                               \n25316    POINT (-98.50778 29.49901)   \n72479    POINT (-98.51624 29.47449)   \n56239    POINT (-98.50377 29.44188)   \n76759    POINT (-98.50306 29.43008)   \n88973    POINT (-98.49474 29.42407)   \n\n                                                    buffer  \nstop_id                                                     \n25316    POLYGON ((-98.50103 29.49901, -98.50107 29.498...  \n72479    POLYGON ((-98.50949 29.47449, -98.50952 29.473...  \n56239    POLYGON ((-98.49702 29.44188, -98.49706 29.441...  \n76759    POLYGON ((-98.49631 29.43008, -98.49634 29.429...  \n88973    POLYGON ((-98.48799 29.42407, -98.48802 29.423...  ",
      "text/html": "<div>\n<style scoped>\n    .dataframe tbody tr th:only-of-type {\n        vertical-align: middle;\n    }\n\n    .dataframe tbody tr th {\n        vertical-align: top;\n    }\n\n    .dataframe thead th {\n        text-align: right;\n    }\n</style>\n<table border=\"1\" class=\"dataframe\">\n  <thead>\n    <tr style=\"text-align: right;\">\n      <th></th>\n      <th>stop_code</th>\n      <th>stop_name</th>\n      <th>stop_lat</th>\n      <th>stop_lon</th>\n      <th>wheelchair_boarding</th>\n      <th>geometry</th>\n      <th>point</th>\n      <th>buffer</th>\n    </tr>\n    <tr>\n      <th>stop_id</th>\n      <th></th>\n      <th></th>\n      <th></th>\n      <th></th>\n      <th></th>\n      <th></th>\n      <th></th>\n      <th></th>\n    </tr>\n  </thead>\n  <tbody>\n    <tr>\n      <th>25316</th>\n      <td>25316</td>\n      <td>BLANCO &amp; DRESDEN</td>\n      <td>29.499014</td>\n      <td>-98.507783</td>\n      <td>0</td>\n      <td>POINT (-98.50778 29.49901)</td>\n      <td>POINT (-98.50778 29.49901)</td>\n      <td>POLYGON ((-98.50103 29.49901, -98.50107 29.498...</td>\n    </tr>\n    <tr>\n      <th>72479</th>\n      <td>72479</td>\n      <td>FRESNO &amp; IH-10 W ACCESS RD.</td>\n      <td>29.474488</td>\n      <td>-98.516238</td>\n      <td>0</td>\n      <td>POINT (-98.51624 29.47449)</td>\n      <td>POINT (-98.51624 29.47449)</td>\n      <td>POLYGON ((-98.50949 29.47449, -98.50952 29.473...</td>\n    </tr>\n    <tr>\n      <th>56239</th>\n      <td>56239</td>\n      <td>FREDERICKSBURG RD. &amp; N. FLORES</td>\n      <td>29.441883</td>\n      <td>-98.503773</td>\n      <td>0</td>\n      <td>POINT (-98.50377 29.44188)</td>\n      <td>POINT (-98.50377 29.44188)</td>\n      <td>POLYGON ((-98.49702 29.44188, -98.49706 29.441...</td>\n    </tr>\n    <tr>\n      <th>76759</th>\n      <td>76759</td>\n      <td>MARTIN &amp; N. FRIO</td>\n      <td>29.430081</td>\n      <td>-98.503058</td>\n      <td>0</td>\n      <td>POINT (-98.50306 29.43008)</td>\n      <td>POINT (-98.50306 29.43008)</td>\n      <td>POLYGON ((-98.49631 29.43008, -98.49634 29.429...</td>\n    </tr>\n    <tr>\n      <th>88973</th>\n      <td>88973</td>\n      <td>DOLOROSA &amp; S. FLORES</td>\n      <td>29.424073</td>\n      <td>-98.494741</td>\n      <td>0</td>\n      <td>POINT (-98.49474 29.42407)</td>\n      <td>POINT (-98.49474 29.42407)</td>\n      <td>POLYGON ((-98.48799 29.42407, -98.48802 29.423...</td>\n    </tr>\n  </tbody>\n</table>\n</div>"
     },
     "metadata": {}
    }
   ],
   "source": [
    "# gdf_stops_buff = gdf_stops_buff.to_crs('EPSG:4326')\n",
    "show_df(gdf_stops_202004_buff)"
   ]
  },
  {
   "cell_type": "code",
   "execution_count": 60,
   "metadata": {},
   "outputs": [],
   "source": [
    "# gdf_stops_202004.head()"
   ]
  },
  {
   "cell_type": "code",
   "execution_count": 61,
   "metadata": {},
   "outputs": [],
   "source": [
    "# fig, ax = plt.subplots(figsize=(10,10))\n",
    "# ax.set_aspect('equal')\n",
    "# axbase = gplt.polyplot(gdf_county, ax=ax, facecolor='white', edgecolor='blue', linewidth=5, zorder=1)\n",
    "# ax1 = gdf_stops_202004_buff.plot(ax=ax, zorder=10)\n",
    "# axt = gplt.polyplot(gdf_block_groups, ax=ax, facecolor='none', edgecolor='black', alpha=1, linewidth=2, zorder=20)\n",
    "# plt.show()"
   ]
  },
  {
   "cell_type": "code",
   "execution_count": 62,
   "metadata": {},
   "outputs": [],
   "source": [
    "gdf_stops_202004_groups = gpd.sjoin(gdf_block_groups, gdf_stops_202004_buff, how='inner', op='intersects')"
   ]
  },
  {
   "cell_type": "code",
   "execution_count": 63,
   "metadata": {
    "tags": []
   },
   "outputs": [
    {
     "output_type": "stream",
     "name": "stdout",
     "text": "<class 'pandas.core.frame.DataFrame'>\nIndex: 42509 entries, 480291101001 to 480299801001\nData columns (total 16 columns):\n #   Column               Non-Null Count  Dtype   \n---  ------               --------------  -----   \n 0   OBJECTID             42509 non-null  int64   \n 1   SUM_POPULA           42509 non-null  int64   \n 2   Shape_STAr           42509 non-null  float64 \n 3   Shape_STLe           42509 non-null  float64 \n 4   ShapeSTAre           42509 non-null  float64 \n 5   ShapeSTLen           42509 non-null  float64 \n 6   geometry_left        42509 non-null  geometry\n 7   density              42509 non-null  float64 \n 8   index_right          42509 non-null  int64   \n 9   stop_code            42509 non-null  int64   \n 10  stop_name            42509 non-null  object  \n 11  stop_lat             42509 non-null  float64 \n 12  stop_lon             42509 non-null  float64 \n 13  wheelchair_boarding  42509 non-null  int64   \n 14  geometry_right       42509 non-null  geometry\n 15  point                42509 non-null  geometry\ndtypes: float64(7), geometry(3), int64(5), object(1)\nmemory usage: 5.5+ MB\nNone\n"
    },
    {
     "output_type": "display_data",
     "data": {
      "text/plain": "              OBJECTID  SUM_POPULA    Shape_STAr    Shape_STLe    ShapeSTAre  \\\n480291101001         1         955  1.951706e+07  23279.128568  1.951706e+07   \n480291108001        12         763  5.988346e+06  12016.387609  5.988346e+06   \n480291108002        13         617  5.355413e+06   9238.302383  5.355413e+06   \n480291108003        14         585  2.485041e+06   6568.077983  2.485041e+06   \n480291109001        15         549  1.351762e+07  17832.946123  1.351762e+07   \n\n                ShapeSTLen                                      geometry_left  \\\n480291101001  23279.128568  POLYGON ((-98.48695 29.43502, -98.48626 29.434...   \n480291108001  12016.387609  POLYGON ((-98.48941 29.44388, -98.48883 29.443...   \n480291108002   9238.302383  POLYGON ((-98.49306 29.44704, -98.49305 29.445...   \n480291108003   6568.077983  POLYGON ((-98.49063 29.44705, -98.49029 29.447...   \n480291109001  17832.946123  POLYGON ((-98.47834 29.44103, -98.47826 29.440...   \n\n               density  index_right  stop_code               stop_name  \\\n480291101001  0.000049        59156      59156  MCCULLOUGH & EVERGREEN   \n480291108001  0.000127        59156      59156  MCCULLOUGH & EVERGREEN   \n480291108002  0.000115        59156      59156  MCCULLOUGH & EVERGREEN   \n480291108003  0.000235        59156      59156  MCCULLOUGH & EVERGREEN   \n480291109001  0.000041        59156      59156  MCCULLOUGH & EVERGREEN   \n\n               stop_lat   stop_lon  wheelchair_boarding  \\\n480291101001  29.442698 -98.491798                    0   \n480291108001  29.442698 -98.491798                    0   \n480291108002  29.442698 -98.491798                    0   \n480291108003  29.442698 -98.491798                    0   \n480291109001  29.442698 -98.491798                    0   \n\n                          geometry_right                       point  \n480291101001  POINT (-98.49180 29.44270)  POINT (-98.49180 29.44270)  \n480291108001  POINT (-98.49180 29.44270)  POINT (-98.49180 29.44270)  \n480291108002  POINT (-98.49180 29.44270)  POINT (-98.49180 29.44270)  \n480291108003  POINT (-98.49180 29.44270)  POINT (-98.49180 29.44270)  \n480291109001  POINT (-98.49180 29.44270)  POINT (-98.49180 29.44270)  ",
      "text/html": "<div>\n<style scoped>\n    .dataframe tbody tr th:only-of-type {\n        vertical-align: middle;\n    }\n\n    .dataframe tbody tr th {\n        vertical-align: top;\n    }\n\n    .dataframe thead th {\n        text-align: right;\n    }\n</style>\n<table border=\"1\" class=\"dataframe\">\n  <thead>\n    <tr style=\"text-align: right;\">\n      <th></th>\n      <th>OBJECTID</th>\n      <th>SUM_POPULA</th>\n      <th>Shape_STAr</th>\n      <th>Shape_STLe</th>\n      <th>ShapeSTAre</th>\n      <th>ShapeSTLen</th>\n      <th>geometry_left</th>\n      <th>density</th>\n      <th>index_right</th>\n      <th>stop_code</th>\n      <th>stop_name</th>\n      <th>stop_lat</th>\n      <th>stop_lon</th>\n      <th>wheelchair_boarding</th>\n      <th>geometry_right</th>\n      <th>point</th>\n    </tr>\n  </thead>\n  <tbody>\n    <tr>\n      <th>480291101001</th>\n      <td>1</td>\n      <td>955</td>\n      <td>1.951706e+07</td>\n      <td>23279.128568</td>\n      <td>1.951706e+07</td>\n      <td>23279.128568</td>\n      <td>POLYGON ((-98.48695 29.43502, -98.48626 29.434...</td>\n      <td>0.000049</td>\n      <td>59156</td>\n      <td>59156</td>\n      <td>MCCULLOUGH &amp; EVERGREEN</td>\n      <td>29.442698</td>\n      <td>-98.491798</td>\n      <td>0</td>\n      <td>POINT (-98.49180 29.44270)</td>\n      <td>POINT (-98.49180 29.44270)</td>\n    </tr>\n    <tr>\n      <th>480291108001</th>\n      <td>12</td>\n      <td>763</td>\n      <td>5.988346e+06</td>\n      <td>12016.387609</td>\n      <td>5.988346e+06</td>\n      <td>12016.387609</td>\n      <td>POLYGON ((-98.48941 29.44388, -98.48883 29.443...</td>\n      <td>0.000127</td>\n      <td>59156</td>\n      <td>59156</td>\n      <td>MCCULLOUGH &amp; EVERGREEN</td>\n      <td>29.442698</td>\n      <td>-98.491798</td>\n      <td>0</td>\n      <td>POINT (-98.49180 29.44270)</td>\n      <td>POINT (-98.49180 29.44270)</td>\n    </tr>\n    <tr>\n      <th>480291108002</th>\n      <td>13</td>\n      <td>617</td>\n      <td>5.355413e+06</td>\n      <td>9238.302383</td>\n      <td>5.355413e+06</td>\n      <td>9238.302383</td>\n      <td>POLYGON ((-98.49306 29.44704, -98.49305 29.445...</td>\n      <td>0.000115</td>\n      <td>59156</td>\n      <td>59156</td>\n      <td>MCCULLOUGH &amp; EVERGREEN</td>\n      <td>29.442698</td>\n      <td>-98.491798</td>\n      <td>0</td>\n      <td>POINT (-98.49180 29.44270)</td>\n      <td>POINT (-98.49180 29.44270)</td>\n    </tr>\n    <tr>\n      <th>480291108003</th>\n      <td>14</td>\n      <td>585</td>\n      <td>2.485041e+06</td>\n      <td>6568.077983</td>\n      <td>2.485041e+06</td>\n      <td>6568.077983</td>\n      <td>POLYGON ((-98.49063 29.44705, -98.49029 29.447...</td>\n      <td>0.000235</td>\n      <td>59156</td>\n      <td>59156</td>\n      <td>MCCULLOUGH &amp; EVERGREEN</td>\n      <td>29.442698</td>\n      <td>-98.491798</td>\n      <td>0</td>\n      <td>POINT (-98.49180 29.44270)</td>\n      <td>POINT (-98.49180 29.44270)</td>\n    </tr>\n    <tr>\n      <th>480291109001</th>\n      <td>15</td>\n      <td>549</td>\n      <td>1.351762e+07</td>\n      <td>17832.946123</td>\n      <td>1.351762e+07</td>\n      <td>17832.946123</td>\n      <td>POLYGON ((-98.47834 29.44103, -98.47826 29.440...</td>\n      <td>0.000041</td>\n      <td>59156</td>\n      <td>59156</td>\n      <td>MCCULLOUGH &amp; EVERGREEN</td>\n      <td>29.442698</td>\n      <td>-98.491798</td>\n      <td>0</td>\n      <td>POINT (-98.49180 29.44270)</td>\n      <td>POINT (-98.49180 29.44270)</td>\n    </tr>\n  </tbody>\n</table>\n</div>"
     },
     "metadata": {}
    }
   ],
   "source": [
    "show_df(gdf_stops_202004_groups)"
   ]
  },
  {
   "cell_type": "code",
   "execution_count": 64,
   "metadata": {
    "tags": []
   },
   "outputs": [],
   "source": [
    "# gdf_stops_202004_groups.info()"
   ]
  },
  {
   "cell_type": "code",
   "execution_count": 65,
   "metadata": {},
   "outputs": [
    {
     "output_type": "execute_result",
     "data": {
      "text/plain": "1       208\n3       186\n2       172\n1071    171\n11      163\n       ... \n375       2\n820       2\n219       1\n912       1\n215       1\nName: OBJECTID, Length: 948, dtype: int64"
     },
     "metadata": {},
     "execution_count": 65
    }
   ],
   "source": [
    "gdf_stops_202004_groups.OBJECTID.value_counts()"
   ]
  },
  {
   "cell_type": "code",
   "execution_count": 66,
   "metadata": {},
   "outputs": [],
   "source": [
    "service_block_groups_202004 = gdf_stops_202004_groups.index.unique().to_list()"
   ]
  },
  {
   "cell_type": "code",
   "execution_count": 67,
   "metadata": {},
   "outputs": [
    {
     "output_type": "execute_result",
     "data": {
      "text/plain": "              OBJECTID  SUM_POPULA    Shape_STAr    Shape_STLe    ShapeSTAre  \\\nBLOCKGROUP                                                                     \n480291101001         1         955  1.951706e+07  23279.128568  1.951706e+07   \n480291108001        12         763  5.988346e+06  12016.387609  5.988346e+06   \n480291108002        13         617  5.355413e+06   9238.302383  5.355413e+06   \n480291108003        14         585  2.485041e+06   6568.077983  2.485041e+06   \n480291109001        15         549  1.351762e+07  17832.946123  1.351762e+07   \n\n                ShapeSTLen                                           geometry  \\\nBLOCKGROUP                                                                      \n480291101001  23279.128568  POLYGON ((-98.48695 29.43502, -98.48626 29.434...   \n480291108001  12016.387609  POLYGON ((-98.48941 29.44388, -98.48883 29.443...   \n480291108002   9238.302383  POLYGON ((-98.49306 29.44704, -98.49305 29.445...   \n480291108003   6568.077983  POLYGON ((-98.49063 29.44705, -98.49029 29.447...   \n480291109001  17832.946123  POLYGON ((-98.47834 29.44103, -98.47826 29.440...   \n\n               density  \nBLOCKGROUP              \n480291101001  0.000049  \n480291108001  0.000127  \n480291108002  0.000115  \n480291108003  0.000235  \n480291109001  0.000041  ",
      "text/html": "<div>\n<style scoped>\n    .dataframe tbody tr th:only-of-type {\n        vertical-align: middle;\n    }\n\n    .dataframe tbody tr th {\n        vertical-align: top;\n    }\n\n    .dataframe thead th {\n        text-align: right;\n    }\n</style>\n<table border=\"1\" class=\"dataframe\">\n  <thead>\n    <tr style=\"text-align: right;\">\n      <th></th>\n      <th>OBJECTID</th>\n      <th>SUM_POPULA</th>\n      <th>Shape_STAr</th>\n      <th>Shape_STLe</th>\n      <th>ShapeSTAre</th>\n      <th>ShapeSTLen</th>\n      <th>geometry</th>\n      <th>density</th>\n    </tr>\n    <tr>\n      <th>BLOCKGROUP</th>\n      <th></th>\n      <th></th>\n      <th></th>\n      <th></th>\n      <th></th>\n      <th></th>\n      <th></th>\n      <th></th>\n    </tr>\n  </thead>\n  <tbody>\n    <tr>\n      <th>480291101001</th>\n      <td>1</td>\n      <td>955</td>\n      <td>1.951706e+07</td>\n      <td>23279.128568</td>\n      <td>1.951706e+07</td>\n      <td>23279.128568</td>\n      <td>POLYGON ((-98.48695 29.43502, -98.48626 29.434...</td>\n      <td>0.000049</td>\n    </tr>\n    <tr>\n      <th>480291108001</th>\n      <td>12</td>\n      <td>763</td>\n      <td>5.988346e+06</td>\n      <td>12016.387609</td>\n      <td>5.988346e+06</td>\n      <td>12016.387609</td>\n      <td>POLYGON ((-98.48941 29.44388, -98.48883 29.443...</td>\n      <td>0.000127</td>\n    </tr>\n    <tr>\n      <th>480291108002</th>\n      <td>13</td>\n      <td>617</td>\n      <td>5.355413e+06</td>\n      <td>9238.302383</td>\n      <td>5.355413e+06</td>\n      <td>9238.302383</td>\n      <td>POLYGON ((-98.49306 29.44704, -98.49305 29.445...</td>\n      <td>0.000115</td>\n    </tr>\n    <tr>\n      <th>480291108003</th>\n      <td>14</td>\n      <td>585</td>\n      <td>2.485041e+06</td>\n      <td>6568.077983</td>\n      <td>2.485041e+06</td>\n      <td>6568.077983</td>\n      <td>POLYGON ((-98.49063 29.44705, -98.49029 29.447...</td>\n      <td>0.000235</td>\n    </tr>\n    <tr>\n      <th>480291109001</th>\n      <td>15</td>\n      <td>549</td>\n      <td>1.351762e+07</td>\n      <td>17832.946123</td>\n      <td>1.351762e+07</td>\n      <td>17832.946123</td>\n      <td>POLYGON ((-98.47834 29.44103, -98.47826 29.440...</td>\n      <td>0.000041</td>\n    </tr>\n  </tbody>\n</table>\n</div>"
     },
     "metadata": {},
     "execution_count": 67
    }
   ],
   "source": [
    "gdf_block_groups.loc[service_block_groups_202004].head()"
   ]
  },
  {
   "cell_type": "code",
   "execution_count": 68,
   "metadata": {},
   "outputs": [
    {
     "output_type": "execute_result",
     "data": {
      "text/plain": "6491"
     },
     "metadata": {},
     "execution_count": 68
    }
   ],
   "source": [
    "len(gdf_stops_202004_groups.stop_code.value_counts())"
   ]
  },
  {
   "cell_type": "code",
   "execution_count": 69,
   "metadata": {},
   "outputs": [],
   "source": [
    "fig, ax = plt.subplots(figsize=(10,10))\n",
    "ax.set_aspect('equal')\n",
    "axbase = gplt.polyplot(gdf_county, ax=ax, facecolor='b', edgecolor='blue', linewidth=5, zorder=1)\n",
    "gplt.polyplot(gdf_block_groups.loc[service_block_groups_202004], ax=ax, facecolor='white', edgecolor='c', alpha=1, zorder=10)\n",
    "ax1 = gdf_stops_202004.plot(ax=ax, color='red', marker='.',markersize=30, zorder=20)\n",
    "axbase = gplt.polyplot(gdf_county, ax=ax, facecolor='b', edgecolor='blue', linewidth=5, alpha=0, zorder=100)\n",
    "plt.savefig('stops_by_group.png')\n",
    "# plt.show()"
   ]
  },
  {
   "cell_type": "code",
   "execution_count": 70,
   "metadata": {},
   "outputs": [
    {
     "output_type": "execute_result",
     "data": {
      "text/plain": "'epsg:4326'"
     },
     "metadata": {},
     "execution_count": 70
    }
   ],
   "source": [
    "gdf_blocks.crs"
   ]
  },
  {
   "cell_type": "code",
   "execution_count": 71,
   "metadata": {},
   "outputs": [
    {
     "output_type": "execute_result",
     "data": {
      "text/plain": "{'epsg:4326'}"
     },
     "metadata": {},
     "execution_count": 71
    }
   ],
   "source": [
    "gdf_stops_202004_buff.crs"
   ]
  },
  {
   "cell_type": "code",
   "execution_count": 72,
   "metadata": {
    "tags": []
   },
   "outputs": [
    {
     "output_type": "stream",
     "name": "stdout",
     "text": "<class 'geopandas.geodataframe.GeoDataFrame'>\nIndex: 414424 entries, 480291919003005 to 480291215014025\nData columns (total 30 columns):\n #   Column               Non-Null Count   Dtype   \n---  ------               --------------   -----   \n 0   OBJECTID             414424 non-null  int64   \n 1   ID                   414424 non-null  int64   \n 2   COLORING             414424 non-null  int64   \n 3   BLOCKGROUP           414424 non-null  object  \n 4   TRACT                414424 non-null  object  \n 5   BLOCK2000            414424 non-null  object  \n 6   MCD                  414424 non-null  object  \n 7   PLACE                410036 non-null  object  \n 8   VTD                  414424 non-null  object  \n 9   CONGRESS             414424 non-null  object  \n 10  LOWERSLD             414424 non-null  object  \n 11  UPPERSLD             414424 non-null  object  \n 12  POPULATION           414424 non-null  int64   \n 13  HISPANIC_O           414424 non-null  int64   \n 14  NOT_HISPAN           414424 non-null  int64   \n 15  NH_WHT               414424 non-null  int64   \n 16  NH_BLK               414424 non-null  int64   \n 17  NH_ASN               414424 non-null  int64   \n 18  gecovector           414424 non-null  float64 \n 19  ShapeSTAre           414424 non-null  float64 \n 20  ShapeSTLen           414424 non-null  float64 \n 21  geometry_left        414424 non-null  geometry\n 22  index_right          414424 non-null  int64   \n 23  stop_code            414424 non-null  int64   \n 24  stop_name            414424 non-null  object  \n 25  stop_lat             414424 non-null  float64 \n 26  stop_lon             414424 non-null  float64 \n 27  wheelchair_boarding  414424 non-null  int64   \n 28  geometry_right       414424 non-null  geometry\n 29  point                414424 non-null  geometry\ndtypes: float64(5), geometry(3), int64(12), object(10)\nmemory usage: 98.0+ MB\nNone\n"
    },
    {
     "output_type": "display_data",
     "data": {
      "text/plain": "                 OBJECTID       ID  COLORING    BLOCKGROUP        TRACT  \\\n480291919003005         1  1400310         4  480291919003  48029191900   \n480291919002037     12899  1519783         3  480291919002  48029191900   \n480291919002038     12900  1519803         0  480291919002  48029191900   \n480291919002030     12901  1519820         1  480291919002  48029191900   \n480291919002031     12902  1519841         3  480291919002  48029191900   \n\n                       BLOCK2000         MCD    PLACE        VTD CONGRESS  \\\n480291919003005  480291301005004  4802993407  4865000  480294004     4821   \n480291919002037  480291301004014  4802993407  4865000  480294004     4821   \n480291919002038  480291301004015  4802993407  4865000  480294004     4821   \n480291919002030  480291301004013  4802993407  4865000  480294004     4821   \n480291919002031  480291301004012  4802993407  4865000  480294004     4821   \n\n                 ...   ShapeSTLen  \\\n480291919003005  ...  1063.271402   \n480291919002037  ...  1262.341718   \n480291919002038  ...  1335.641146   \n480291919002030  ...  1882.118538   \n480291919002031  ...  1251.228316   \n\n                                                     geometry_left  \\\n480291919003005  POLYGON ((-98.46781 29.42506, -98.46783 29.424...   \n480291919002037  POLYGON ((-98.46749 29.42569, -98.46750 29.425...   \n480291919002038  POLYGON ((-98.46611 29.42635, -98.46620 29.425...   \n480291919002030  POLYGON ((-98.46565 29.42635, -98.46611 29.426...   \n480291919002031  POLYGON ((-98.46620 29.42507, -98.46620 29.425...   \n\n                 index_right  stop_code                stop_name   stop_lat  \\\n480291919003005        87723      87723  E. HOUSTON & MONUMENTAL  29.424942   \n480291919002037        87723      87723  E. HOUSTON & MONUMENTAL  29.424942   \n480291919002038        87723      87723  E. HOUSTON & MONUMENTAL  29.424942   \n480291919002030        87723      87723  E. HOUSTON & MONUMENTAL  29.424942   \n480291919002031        87723      87723  E. HOUSTON & MONUMENTAL  29.424942   \n\n                  stop_lon  wheelchair_boarding              geometry_right  \\\n480291919003005 -98.468105                    0  POINT (-98.46811 29.42494)   \n480291919002037 -98.468105                    0  POINT (-98.46811 29.42494)   \n480291919002038 -98.468105                    0  POINT (-98.46811 29.42494)   \n480291919002030 -98.468105                    0  POINT (-98.46811 29.42494)   \n480291919002031 -98.468105                    0  POINT (-98.46811 29.42494)   \n\n                                      point  \n480291919003005  POINT (-98.46811 29.42494)  \n480291919002037  POINT (-98.46811 29.42494)  \n480291919002038  POINT (-98.46811 29.42494)  \n480291919002030  POINT (-98.46811 29.42494)  \n480291919002031  POINT (-98.46811 29.42494)  \n\n[5 rows x 30 columns]",
      "text/html": "<div>\n<style scoped>\n    .dataframe tbody tr th:only-of-type {\n        vertical-align: middle;\n    }\n\n    .dataframe tbody tr th {\n        vertical-align: top;\n    }\n\n    .dataframe thead th {\n        text-align: right;\n    }\n</style>\n<table border=\"1\" class=\"dataframe\">\n  <thead>\n    <tr style=\"text-align: right;\">\n      <th></th>\n      <th>OBJECTID</th>\n      <th>ID</th>\n      <th>COLORING</th>\n      <th>BLOCKGROUP</th>\n      <th>TRACT</th>\n      <th>BLOCK2000</th>\n      <th>MCD</th>\n      <th>PLACE</th>\n      <th>VTD</th>\n      <th>CONGRESS</th>\n      <th>...</th>\n      <th>ShapeSTLen</th>\n      <th>geometry_left</th>\n      <th>index_right</th>\n      <th>stop_code</th>\n      <th>stop_name</th>\n      <th>stop_lat</th>\n      <th>stop_lon</th>\n      <th>wheelchair_boarding</th>\n      <th>geometry_right</th>\n      <th>point</th>\n    </tr>\n  </thead>\n  <tbody>\n    <tr>\n      <th>480291919003005</th>\n      <td>1</td>\n      <td>1400310</td>\n      <td>4</td>\n      <td>480291919003</td>\n      <td>48029191900</td>\n      <td>480291301005004</td>\n      <td>4802993407</td>\n      <td>4865000</td>\n      <td>480294004</td>\n      <td>4821</td>\n      <td>...</td>\n      <td>1063.271402</td>\n      <td>POLYGON ((-98.46781 29.42506, -98.46783 29.424...</td>\n      <td>87723</td>\n      <td>87723</td>\n      <td>E. HOUSTON &amp; MONUMENTAL</td>\n      <td>29.424942</td>\n      <td>-98.468105</td>\n      <td>0</td>\n      <td>POINT (-98.46811 29.42494)</td>\n      <td>POINT (-98.46811 29.42494)</td>\n    </tr>\n    <tr>\n      <th>480291919002037</th>\n      <td>12899</td>\n      <td>1519783</td>\n      <td>3</td>\n      <td>480291919002</td>\n      <td>48029191900</td>\n      <td>480291301004014</td>\n      <td>4802993407</td>\n      <td>4865000</td>\n      <td>480294004</td>\n      <td>4821</td>\n      <td>...</td>\n      <td>1262.341718</td>\n      <td>POLYGON ((-98.46749 29.42569, -98.46750 29.425...</td>\n      <td>87723</td>\n      <td>87723</td>\n      <td>E. HOUSTON &amp; MONUMENTAL</td>\n      <td>29.424942</td>\n      <td>-98.468105</td>\n      <td>0</td>\n      <td>POINT (-98.46811 29.42494)</td>\n      <td>POINT (-98.46811 29.42494)</td>\n    </tr>\n    <tr>\n      <th>480291919002038</th>\n      <td>12900</td>\n      <td>1519803</td>\n      <td>0</td>\n      <td>480291919002</td>\n      <td>48029191900</td>\n      <td>480291301004015</td>\n      <td>4802993407</td>\n      <td>4865000</td>\n      <td>480294004</td>\n      <td>4821</td>\n      <td>...</td>\n      <td>1335.641146</td>\n      <td>POLYGON ((-98.46611 29.42635, -98.46620 29.425...</td>\n      <td>87723</td>\n      <td>87723</td>\n      <td>E. HOUSTON &amp; MONUMENTAL</td>\n      <td>29.424942</td>\n      <td>-98.468105</td>\n      <td>0</td>\n      <td>POINT (-98.46811 29.42494)</td>\n      <td>POINT (-98.46811 29.42494)</td>\n    </tr>\n    <tr>\n      <th>480291919002030</th>\n      <td>12901</td>\n      <td>1519820</td>\n      <td>1</td>\n      <td>480291919002</td>\n      <td>48029191900</td>\n      <td>480291301004013</td>\n      <td>4802993407</td>\n      <td>4865000</td>\n      <td>480294004</td>\n      <td>4821</td>\n      <td>...</td>\n      <td>1882.118538</td>\n      <td>POLYGON ((-98.46565 29.42635, -98.46611 29.426...</td>\n      <td>87723</td>\n      <td>87723</td>\n      <td>E. HOUSTON &amp; MONUMENTAL</td>\n      <td>29.424942</td>\n      <td>-98.468105</td>\n      <td>0</td>\n      <td>POINT (-98.46811 29.42494)</td>\n      <td>POINT (-98.46811 29.42494)</td>\n    </tr>\n    <tr>\n      <th>480291919002031</th>\n      <td>12902</td>\n      <td>1519841</td>\n      <td>3</td>\n      <td>480291919002</td>\n      <td>48029191900</td>\n      <td>480291301004012</td>\n      <td>4802993407</td>\n      <td>4865000</td>\n      <td>480294004</td>\n      <td>4821</td>\n      <td>...</td>\n      <td>1251.228316</td>\n      <td>POLYGON ((-98.46620 29.42507, -98.46620 29.425...</td>\n      <td>87723</td>\n      <td>87723</td>\n      <td>E. HOUSTON &amp; MONUMENTAL</td>\n      <td>29.424942</td>\n      <td>-98.468105</td>\n      <td>0</td>\n      <td>POINT (-98.46811 29.42494)</td>\n      <td>POINT (-98.46811 29.42494)</td>\n    </tr>\n  </tbody>\n</table>\n<p>5 rows × 30 columns</p>\n</div>"
     },
     "metadata": {}
    }
   ],
   "source": [
    "# gdf_stops_202004_blocks = (gpd.sjoin(\n",
    "#     gdf_blocks, gdf_stops_202004_buff, how='inner', op='intersects'\n",
    "# )\n",
    "#     .to_crs('EPSG:3857')\n",
    "# )\n",
    "\n",
    "gdf_stops_202004_blocks = (\n",
    "    gpd.GeoDataFrame(gpd.sjoin(\n",
    "        gdf_blocks, gdf_stops_202004_buff, how='inner', op='intersects'\n",
    "    )\n",
    "    )\n",
    "#         .to_crs('EPSG:3857')\n",
    ")\n",
    "\n",
    "show_df(gdf_stops_202004_blocks)"
   ]
  },
  {
   "cell_type": "code",
   "execution_count": 73,
   "metadata": {},
   "outputs": [
    {
     "output_type": "execute_result",
     "data": {
      "text/plain": "geopandas.geodataframe.GeoDataFrame"
     },
     "metadata": {},
     "execution_count": 73
    }
   ],
   "source": [
    "type(gdf_stops_202004_blocks)"
   ]
  },
  {
   "cell_type": "code",
   "execution_count": 74,
   "metadata": {
    "tags": []
   },
   "outputs": [
    {
     "output_type": "stream",
     "name": "stdout",
     "text": "<class 'geopandas.geodataframe.GeoDataFrame'>\nIndex: 414424 entries, 480291919003005 to 480291215014025\nData columns (total 30 columns):\n #   Column               Non-Null Count   Dtype   \n---  ------               --------------   -----   \n 0   OBJECTID             414424 non-null  int64   \n 1   ID                   414424 non-null  int64   \n 2   COLORING             414424 non-null  int64   \n 3   BLOCKGROUP           414424 non-null  object  \n 4   TRACT                414424 non-null  object  \n 5   BLOCK2000            414424 non-null  object  \n 6   MCD                  414424 non-null  object  \n 7   PLACE                410036 non-null  object  \n 8   VTD                  414424 non-null  object  \n 9   CONGRESS             414424 non-null  object  \n 10  LOWERSLD             414424 non-null  object  \n 11  UPPERSLD             414424 non-null  object  \n 12  POPULATION           414424 non-null  int64   \n 13  HISPANIC_O           414424 non-null  int64   \n 14  NOT_HISPAN           414424 non-null  int64   \n 15  NH_WHT               414424 non-null  int64   \n 16  NH_BLK               414424 non-null  int64   \n 17  NH_ASN               414424 non-null  int64   \n 18  gecovector           414424 non-null  float64 \n 19  ShapeSTAre           414424 non-null  float64 \n 20  ShapeSTLen           414424 non-null  float64 \n 21  geometry_left        414424 non-null  geometry\n 22  index_right          414424 non-null  int64   \n 23  stop_code            414424 non-null  int64   \n 24  stop_name            414424 non-null  object  \n 25  stop_lat             414424 non-null  float64 \n 26  stop_lon             414424 non-null  float64 \n 27  wheelchair_boarding  414424 non-null  int64   \n 28  geometry_right       414424 non-null  geometry\n 29  point                414424 non-null  geometry\ndtypes: float64(5), geometry(3), int64(12), object(10)\nmemory usage: 98.0+ MB\nNone\n"
    },
    {
     "output_type": "display_data",
     "data": {
      "text/plain": "                 OBJECTID       ID  COLORING    BLOCKGROUP        TRACT  \\\n480291919003005         1  1400310         4  480291919003  48029191900   \n480291919002037     12899  1519783         3  480291919002  48029191900   \n480291919002038     12900  1519803         0  480291919002  48029191900   \n480291919002030     12901  1519820         1  480291919002  48029191900   \n480291919002031     12902  1519841         3  480291919002  48029191900   \n\n                       BLOCK2000         MCD    PLACE        VTD CONGRESS  \\\n480291919003005  480291301005004  4802993407  4865000  480294004     4821   \n480291919002037  480291301004014  4802993407  4865000  480294004     4821   \n480291919002038  480291301004015  4802993407  4865000  480294004     4821   \n480291919002030  480291301004013  4802993407  4865000  480294004     4821   \n480291919002031  480291301004012  4802993407  4865000  480294004     4821   \n\n                 ...   ShapeSTLen  \\\n480291919003005  ...  1063.271402   \n480291919002037  ...  1262.341718   \n480291919002038  ...  1335.641146   \n480291919002030  ...  1882.118538   \n480291919002031  ...  1251.228316   \n\n                                                     geometry_left  \\\n480291919003005  POLYGON ((-98.46781 29.42506, -98.46783 29.424...   \n480291919002037  POLYGON ((-98.46749 29.42569, -98.46750 29.425...   \n480291919002038  POLYGON ((-98.46611 29.42635, -98.46620 29.425...   \n480291919002030  POLYGON ((-98.46565 29.42635, -98.46611 29.426...   \n480291919002031  POLYGON ((-98.46620 29.42507, -98.46620 29.425...   \n\n                 index_right  stop_code                stop_name   stop_lat  \\\n480291919003005        87723      87723  E. HOUSTON & MONUMENTAL  29.424942   \n480291919002037        87723      87723  E. HOUSTON & MONUMENTAL  29.424942   \n480291919002038        87723      87723  E. HOUSTON & MONUMENTAL  29.424942   \n480291919002030        87723      87723  E. HOUSTON & MONUMENTAL  29.424942   \n480291919002031        87723      87723  E. HOUSTON & MONUMENTAL  29.424942   \n\n                  stop_lon  wheelchair_boarding              geometry_right  \\\n480291919003005 -98.468105                    0  POINT (-98.46811 29.42494)   \n480291919002037 -98.468105                    0  POINT (-98.46811 29.42494)   \n480291919002038 -98.468105                    0  POINT (-98.46811 29.42494)   \n480291919002030 -98.468105                    0  POINT (-98.46811 29.42494)   \n480291919002031 -98.468105                    0  POINT (-98.46811 29.42494)   \n\n                                      point  \n480291919003005  POINT (-98.46811 29.42494)  \n480291919002037  POINT (-98.46811 29.42494)  \n480291919002038  POINT (-98.46811 29.42494)  \n480291919002030  POINT (-98.46811 29.42494)  \n480291919002031  POINT (-98.46811 29.42494)  \n\n[5 rows x 30 columns]",
      "text/html": "<div>\n<style scoped>\n    .dataframe tbody tr th:only-of-type {\n        vertical-align: middle;\n    }\n\n    .dataframe tbody tr th {\n        vertical-align: top;\n    }\n\n    .dataframe thead th {\n        text-align: right;\n    }\n</style>\n<table border=\"1\" class=\"dataframe\">\n  <thead>\n    <tr style=\"text-align: right;\">\n      <th></th>\n      <th>OBJECTID</th>\n      <th>ID</th>\n      <th>COLORING</th>\n      <th>BLOCKGROUP</th>\n      <th>TRACT</th>\n      <th>BLOCK2000</th>\n      <th>MCD</th>\n      <th>PLACE</th>\n      <th>VTD</th>\n      <th>CONGRESS</th>\n      <th>...</th>\n      <th>ShapeSTLen</th>\n      <th>geometry_left</th>\n      <th>index_right</th>\n      <th>stop_code</th>\n      <th>stop_name</th>\n      <th>stop_lat</th>\n      <th>stop_lon</th>\n      <th>wheelchair_boarding</th>\n      <th>geometry_right</th>\n      <th>point</th>\n    </tr>\n  </thead>\n  <tbody>\n    <tr>\n      <th>480291919003005</th>\n      <td>1</td>\n      <td>1400310</td>\n      <td>4</td>\n      <td>480291919003</td>\n      <td>48029191900</td>\n      <td>480291301005004</td>\n      <td>4802993407</td>\n      <td>4865000</td>\n      <td>480294004</td>\n      <td>4821</td>\n      <td>...</td>\n      <td>1063.271402</td>\n      <td>POLYGON ((-98.46781 29.42506, -98.46783 29.424...</td>\n      <td>87723</td>\n      <td>87723</td>\n      <td>E. HOUSTON &amp; MONUMENTAL</td>\n      <td>29.424942</td>\n      <td>-98.468105</td>\n      <td>0</td>\n      <td>POINT (-98.46811 29.42494)</td>\n      <td>POINT (-98.46811 29.42494)</td>\n    </tr>\n    <tr>\n      <th>480291919002037</th>\n      <td>12899</td>\n      <td>1519783</td>\n      <td>3</td>\n      <td>480291919002</td>\n      <td>48029191900</td>\n      <td>480291301004014</td>\n      <td>4802993407</td>\n      <td>4865000</td>\n      <td>480294004</td>\n      <td>4821</td>\n      <td>...</td>\n      <td>1262.341718</td>\n      <td>POLYGON ((-98.46749 29.42569, -98.46750 29.425...</td>\n      <td>87723</td>\n      <td>87723</td>\n      <td>E. HOUSTON &amp; MONUMENTAL</td>\n      <td>29.424942</td>\n      <td>-98.468105</td>\n      <td>0</td>\n      <td>POINT (-98.46811 29.42494)</td>\n      <td>POINT (-98.46811 29.42494)</td>\n    </tr>\n    <tr>\n      <th>480291919002038</th>\n      <td>12900</td>\n      <td>1519803</td>\n      <td>0</td>\n      <td>480291919002</td>\n      <td>48029191900</td>\n      <td>480291301004015</td>\n      <td>4802993407</td>\n      <td>4865000</td>\n      <td>480294004</td>\n      <td>4821</td>\n      <td>...</td>\n      <td>1335.641146</td>\n      <td>POLYGON ((-98.46611 29.42635, -98.46620 29.425...</td>\n      <td>87723</td>\n      <td>87723</td>\n      <td>E. HOUSTON &amp; MONUMENTAL</td>\n      <td>29.424942</td>\n      <td>-98.468105</td>\n      <td>0</td>\n      <td>POINT (-98.46811 29.42494)</td>\n      <td>POINT (-98.46811 29.42494)</td>\n    </tr>\n    <tr>\n      <th>480291919002030</th>\n      <td>12901</td>\n      <td>1519820</td>\n      <td>1</td>\n      <td>480291919002</td>\n      <td>48029191900</td>\n      <td>480291301004013</td>\n      <td>4802993407</td>\n      <td>4865000</td>\n      <td>480294004</td>\n      <td>4821</td>\n      <td>...</td>\n      <td>1882.118538</td>\n      <td>POLYGON ((-98.46565 29.42635, -98.46611 29.426...</td>\n      <td>87723</td>\n      <td>87723</td>\n      <td>E. HOUSTON &amp; MONUMENTAL</td>\n      <td>29.424942</td>\n      <td>-98.468105</td>\n      <td>0</td>\n      <td>POINT (-98.46811 29.42494)</td>\n      <td>POINT (-98.46811 29.42494)</td>\n    </tr>\n    <tr>\n      <th>480291919002031</th>\n      <td>12902</td>\n      <td>1519841</td>\n      <td>3</td>\n      <td>480291919002</td>\n      <td>48029191900</td>\n      <td>480291301004012</td>\n      <td>4802993407</td>\n      <td>4865000</td>\n      <td>480294004</td>\n      <td>4821</td>\n      <td>...</td>\n      <td>1251.228316</td>\n      <td>POLYGON ((-98.46620 29.42507, -98.46620 29.425...</td>\n      <td>87723</td>\n      <td>87723</td>\n      <td>E. HOUSTON &amp; MONUMENTAL</td>\n      <td>29.424942</td>\n      <td>-98.468105</td>\n      <td>0</td>\n      <td>POINT (-98.46811 29.42494)</td>\n      <td>POINT (-98.46811 29.42494)</td>\n    </tr>\n  </tbody>\n</table>\n<p>5 rows × 30 columns</p>\n</div>"
     },
     "metadata": {}
    }
   ],
   "source": [
    "gdf_stops_202004_blocks = gdf_stops_202004_blocks.set_geometry('geometry_left')\n",
    "show_df(gdf_stops_202004_blocks)"
   ]
  },
  {
   "cell_type": "code",
   "execution_count": 75,
   "metadata": {},
   "outputs": [
    {
     "output_type": "execute_result",
     "data": {
      "text/plain": "Index(['OBJECTID', 'ID', 'COLORING', 'BLOCKGROUP', 'TRACT', 'BLOCK2000', 'MCD',\n       'PLACE', 'VTD', 'CONGRESS', 'LOWERSLD', 'UPPERSLD', 'POPULATION',\n       'HISPANIC_O', 'NOT_HISPAN', 'NH_WHT', 'NH_BLK', 'NH_ASN', 'gecovector',\n       'ShapeSTAre', 'ShapeSTLen', 'geometry_left', 'index_right', 'stop_code',\n       'stop_name', 'stop_lat', 'stop_lon', 'wheelchair_boarding',\n       'geometry_right', 'point'],\n      dtype='object')"
     },
     "metadata": {},
     "execution_count": 75
    }
   ],
   "source": [
    "gdf_stops_202004_blocks.columns"
   ]
  },
  {
   "cell_type": "code",
   "execution_count": null,
   "metadata": {},
   "outputs": [],
   "source": []
  },
  {
   "cell_type": "code",
   "execution_count": null,
   "metadata": {
    "tags": []
   },
   "outputs": [],
   "source": []
  },
  {
   "cell_type": "code",
   "execution_count": 76,
   "metadata": {
    "tags": []
   },
   "outputs": [
    {
     "output_type": "stream",
     "name": "stdout",
     "text": "18684\n"
    },
    {
     "output_type": "execute_result",
     "data": {
      "text/plain": "15314    97\n6115     94\n13509    89\n16575    88\n15339    87\nName: OBJECTID, dtype: int64"
     },
     "metadata": {},
     "execution_count": 76
    }
   ],
   "source": [
    "print(len(gdf_stops_202004_blocks.OBJECTID.value_counts()))\n",
    "gdf_stops_202004_blocks.OBJECTID.value_counts().head()"
   ]
  },
  {
   "cell_type": "code",
   "execution_count": 77,
   "metadata": {},
   "outputs": [],
   "source": [
    "service_blocks_202004 = gdf_stops_202004_blocks.index.unique().to_list()"
   ]
  },
  {
   "cell_type": "code",
   "execution_count": 78,
   "metadata": {},
   "outputs": [
    {
     "output_type": "execute_result",
     "data": {
      "text/plain": "                 OBJECTID       ID  COLORING    BLOCKGROUP        TRACT  \\\nBLOCK                                                                     \n480291919003005         1  1400310         4  480291919003  48029191900   \n480291919002037     12899  1519783         3  480291919002  48029191900   \n480291919002038     12900  1519803         0  480291919002  48029191900   \n480291919002030     12901  1519820         1  480291919002  48029191900   \n480291919002031     12902  1519841         3  480291919002  48029191900   \n\n                       BLOCK2000         MCD    PLACE        VTD CONGRESS  \\\nBLOCK                                                                       \n480291919003005  480291301005004  4802993407  4865000  480294004     4821   \n480291919002037  480291301004014  4802993407  4865000  480294004     4821   \n480291919002038  480291301004015  4802993407  4865000  480294004     4821   \n480291919002030  480291301004013  4802993407  4865000  480294004     4821   \n480291919002031  480291301004012  4802993407  4865000  480294004     4821   \n\n                 ... POPULATION HISPANIC_O  NOT_HISPAN  NH_WHT  NH_BLK  \\\nBLOCK            ...                                                     \n480291919003005  ...         13         11           2       0       0   \n480291919002037  ...          6          6           0       0       0   \n480291919002038  ...         18         13           5       1       3   \n480291919002030  ...         29         22           7       6       1   \n480291919002031  ...         18         18           0       0       0   \n\n                 NH_ASN  gecovector     ShapeSTAre   ShapeSTLen  \\\nBLOCK                                                             \n480291919003005       0    0.001038   28896.121094  1063.271402   \n480291919002037       0    0.002774   77273.845703  1262.341718   \n480291919002038       0    0.003665  102005.869141  1335.641146   \n480291919002030       0    0.005099  141896.386719  1882.118538   \n480291919002031       0    0.002775   77279.275391  1251.228316   \n\n                                                          geometry  \nBLOCK                                                               \n480291919003005  POLYGON ((-98.46781 29.42506, -98.46783 29.424...  \n480291919002037  POLYGON ((-98.46749 29.42569, -98.46750 29.425...  \n480291919002038  POLYGON ((-98.46611 29.42635, -98.46620 29.425...  \n480291919002030  POLYGON ((-98.46565 29.42635, -98.46611 29.426...  \n480291919002031  POLYGON ((-98.46620 29.42507, -98.46620 29.425...  \n\n[5 rows x 22 columns]",
      "text/html": "<div>\n<style scoped>\n    .dataframe tbody tr th:only-of-type {\n        vertical-align: middle;\n    }\n\n    .dataframe tbody tr th {\n        vertical-align: top;\n    }\n\n    .dataframe thead th {\n        text-align: right;\n    }\n</style>\n<table border=\"1\" class=\"dataframe\">\n  <thead>\n    <tr style=\"text-align: right;\">\n      <th></th>\n      <th>OBJECTID</th>\n      <th>ID</th>\n      <th>COLORING</th>\n      <th>BLOCKGROUP</th>\n      <th>TRACT</th>\n      <th>BLOCK2000</th>\n      <th>MCD</th>\n      <th>PLACE</th>\n      <th>VTD</th>\n      <th>CONGRESS</th>\n      <th>...</th>\n      <th>POPULATION</th>\n      <th>HISPANIC_O</th>\n      <th>NOT_HISPAN</th>\n      <th>NH_WHT</th>\n      <th>NH_BLK</th>\n      <th>NH_ASN</th>\n      <th>gecovector</th>\n      <th>ShapeSTAre</th>\n      <th>ShapeSTLen</th>\n      <th>geometry</th>\n    </tr>\n    <tr>\n      <th>BLOCK</th>\n      <th></th>\n      <th></th>\n      <th></th>\n      <th></th>\n      <th></th>\n      <th></th>\n      <th></th>\n      <th></th>\n      <th></th>\n      <th></th>\n      <th></th>\n      <th></th>\n      <th></th>\n      <th></th>\n      <th></th>\n      <th></th>\n      <th></th>\n      <th></th>\n      <th></th>\n      <th></th>\n      <th></th>\n    </tr>\n  </thead>\n  <tbody>\n    <tr>\n      <th>480291919003005</th>\n      <td>1</td>\n      <td>1400310</td>\n      <td>4</td>\n      <td>480291919003</td>\n      <td>48029191900</td>\n      <td>480291301005004</td>\n      <td>4802993407</td>\n      <td>4865000</td>\n      <td>480294004</td>\n      <td>4821</td>\n      <td>...</td>\n      <td>13</td>\n      <td>11</td>\n      <td>2</td>\n      <td>0</td>\n      <td>0</td>\n      <td>0</td>\n      <td>0.001038</td>\n      <td>28896.121094</td>\n      <td>1063.271402</td>\n      <td>POLYGON ((-98.46781 29.42506, -98.46783 29.424...</td>\n    </tr>\n    <tr>\n      <th>480291919002037</th>\n      <td>12899</td>\n      <td>1519783</td>\n      <td>3</td>\n      <td>480291919002</td>\n      <td>48029191900</td>\n      <td>480291301004014</td>\n      <td>4802993407</td>\n      <td>4865000</td>\n      <td>480294004</td>\n      <td>4821</td>\n      <td>...</td>\n      <td>6</td>\n      <td>6</td>\n      <td>0</td>\n      <td>0</td>\n      <td>0</td>\n      <td>0</td>\n      <td>0.002774</td>\n      <td>77273.845703</td>\n      <td>1262.341718</td>\n      <td>POLYGON ((-98.46749 29.42569, -98.46750 29.425...</td>\n    </tr>\n    <tr>\n      <th>480291919002038</th>\n      <td>12900</td>\n      <td>1519803</td>\n      <td>0</td>\n      <td>480291919002</td>\n      <td>48029191900</td>\n      <td>480291301004015</td>\n      <td>4802993407</td>\n      <td>4865000</td>\n      <td>480294004</td>\n      <td>4821</td>\n      <td>...</td>\n      <td>18</td>\n      <td>13</td>\n      <td>5</td>\n      <td>1</td>\n      <td>3</td>\n      <td>0</td>\n      <td>0.003665</td>\n      <td>102005.869141</td>\n      <td>1335.641146</td>\n      <td>POLYGON ((-98.46611 29.42635, -98.46620 29.425...</td>\n    </tr>\n    <tr>\n      <th>480291919002030</th>\n      <td>12901</td>\n      <td>1519820</td>\n      <td>1</td>\n      <td>480291919002</td>\n      <td>48029191900</td>\n      <td>480291301004013</td>\n      <td>4802993407</td>\n      <td>4865000</td>\n      <td>480294004</td>\n      <td>4821</td>\n      <td>...</td>\n      <td>29</td>\n      <td>22</td>\n      <td>7</td>\n      <td>6</td>\n      <td>1</td>\n      <td>0</td>\n      <td>0.005099</td>\n      <td>141896.386719</td>\n      <td>1882.118538</td>\n      <td>POLYGON ((-98.46565 29.42635, -98.46611 29.426...</td>\n    </tr>\n    <tr>\n      <th>480291919002031</th>\n      <td>12902</td>\n      <td>1519841</td>\n      <td>3</td>\n      <td>480291919002</td>\n      <td>48029191900</td>\n      <td>480291301004012</td>\n      <td>4802993407</td>\n      <td>4865000</td>\n      <td>480294004</td>\n      <td>4821</td>\n      <td>...</td>\n      <td>18</td>\n      <td>18</td>\n      <td>0</td>\n      <td>0</td>\n      <td>0</td>\n      <td>0</td>\n      <td>0.002775</td>\n      <td>77279.275391</td>\n      <td>1251.228316</td>\n      <td>POLYGON ((-98.46620 29.42507, -98.46620 29.425...</td>\n    </tr>\n  </tbody>\n</table>\n<p>5 rows × 22 columns</p>\n</div>"
     },
     "metadata": {},
     "execution_count": 78
    }
   ],
   "source": [
    "gdf_blocks.loc[service_blocks_202004].head()"
   ]
  },
  {
   "cell_type": "code",
   "execution_count": 79,
   "metadata": {},
   "outputs": [
    {
     "output_type": "execute_result",
     "data": {
      "text/plain": "89277    191\n71823    191\n89377    188\n71926    187\n71833    187\n        ... \n82459      7\n99376      6\n99377      6\n26183      2\n75379      1\nName: stop_code, Length: 6491, dtype: int64"
     },
     "metadata": {},
     "execution_count": 79
    }
   ],
   "source": [
    "gdf_stops_202004_blocks.stop_code.value_counts()"
   ]
  },
  {
   "cell_type": "code",
   "execution_count": null,
   "metadata": {},
   "outputs": [],
   "source": []
  },
  {
   "cell_type": "code",
   "execution_count": 80,
   "metadata": {},
   "outputs": [],
   "source": [
    "fig, ax = plt.subplots(figsize=(10,10))\n",
    "ax.set_aspect('equal')\n",
    "axbase = gplt.polyplot(gdf_county, ax=ax, facecolor='b', edgecolor='blue', linewidth=5, zorder=1)\n",
    "gplt.polyplot(gdf_blocks.loc[service_blocks_202004], ax=ax, facecolor='white', edgecolor='c', linewidth=.25, alpha=1, zorder=10)\n",
    "ax1 = gdf_stops_202004.plot(ax=ax, color='red', marker='.',markersize=30, zorder=20)\n",
    "axbase = gplt.polyplot(gdf_county, ax=ax, facecolor='b', edgecolor='blue', linewidth=5, alpha=0, zorder=100)\n",
    "# plt.show()\n",
    "plt.savefig('blocks_with_stops.png')"
   ]
  },
  {
   "cell_type": "code",
   "execution_count": null,
   "metadata": {},
   "outputs": [],
   "source": []
  },
  {
   "cell_type": "code",
   "execution_count": null,
   "metadata": {},
   "outputs": [],
   "source": []
  }
 ],
 "metadata": {
  "kernelspec": {
   "display_name": "Python 3",
   "language": "python",
   "name": "python3"
  },
  "language_info": {
   "codemirror_mode": {
    "name": "ipython",
    "version": 3
   },
   "file_extension": ".py",
   "mimetype": "text/x-python",
   "name": "python",
   "nbconvert_exporter": "python",
   "pygments_lexer": "ipython3",
   "version": "3.7.7-final"
  }
 },
 "nbformat": 4,
 "nbformat_minor": 2
}