{
 "cells": [
  {
   "cell_type": "code",
   "execution_count": 1,
   "metadata": {},
   "outputs": [],
   "source": [
    "#######################################\n",
    "###\n",
    "### environment setup\n",
    "###\n",
    "#######################################"
   ]
  },
  {
   "cell_type": "code",
   "execution_count": 55,
   "metadata": {},
   "outputs": [],
   "source": [
    "import pandas as pd\n",
    "import numpy as np\n",
    "import os\n",
    "import json\n",
    "\n",
    "# import matplotlib.pyplot as plt\n",
    "# from pyproj import Proj, transform, CRS\n",
    "# from shapely.geometry import Polygon, Point\n",
    "# import datetime\n",
    "# from pprint import pprint\n",
    "# import pprint\n",
    "\n",
    "# ignore warnings\n",
    "import warnings\n",
    "warnings.filterwarnings(\"ignore\")\n",
    "\n",
    "# display full\n",
    "pd.set_option('display.max_columns', None)\n",
    "pd.set_option('display.max_rows', None)"
   ]
  },
  {
   "cell_type": "code",
   "execution_count": 3,
   "metadata": {},
   "outputs": [],
   "source": [
    "def show_df(df, head_rows=5):\n",
    "    print(df.info())\n",
    "    display(df.head(head_rows))"
   ]
  },
  {
   "cell_type": "code",
   "execution_count": 4,
   "metadata": {},
   "outputs": [],
   "source": [
    "#######################################\n",
    "###\n",
    "### identify source data sets\n",
    "###\n",
    "#######################################"
   ]
  },
  {
   "cell_type": "code",
   "execution_count": 53,
   "metadata": {},
   "outputs": [
    {
     "output_type": "execute_result",
     "data": {
      "text/plain": "{'via_data': 'data_files/via_datadict.csv',\n 'tracts': 'data_files/bexar_county/Bexar_County_Census_Tracts-shp/Bexar_County_Census_Tracts.shp',\n 'block_groups': 'data_files/bexar_county/Bexar_County_Census_Block_Groups-shp/Bexar_County_Census_Block_Groups.shp',\n 'blocks': 'data_files/bexar_county/Bexar_County_Census_Blocks-shp/Bexar_County_Census_Blocks.shp',\n 'adherence_2020': 'data_files/Adherence_2020.csv',\n 'bus_otp_2020': 'data_files/BusOnTimePerformance_2020.csv',\n 'bus_fare_box_2020': 'data_files/bus_fare_fixed.csv',\n 'message_logs_2020': 'data_files/Logged_Messages.csv',\n 'service_miles_2020': 'data_files/TotalServiceMiles_2020.csv',\n 'stops_addr_2020': 'data_files/Stops_LatLong_GeocodeData_2020.csv',\n 'stops_201909': 'data_files/via_201909/stops.txt',\n 'stops_202004': 'data_files/via_202004/stops.csv',\n 'trips_201909': 'data_files/via_201909/trips.txt',\n 'trips_202004': 'data_files/via_202004/trips.csv',\n 'routes_201909': 'data_files/via_201909/routes.txt',\n 'routes_202004': 'data_files/via_202004/routes.csv',\n 'stop_times_201909': 'data_files/via_201909/stop_times.txt',\n 'stop_times_202004': 'data_files/via_202004/stop_times.csv',\n 'transfers_201909': 'data_files/via_201909/transfers.txt',\n 'transfers_202004': 'data_files/via_202004/transfers.csv',\n 'shapes_201909': 'data_files/via_201909/shapes.txt',\n 'shapes_202004': 'data_files/via_202004/shapes.csv',\n 'group_stops': 'data_files/group_stops-shp',\n 'acs5_name': 'data_files/census_data/acs5_name.csv',\n 'acs5_key': 'data_files/census_data/acs5_key.csv',\n 'census_field_names': 'data_files/census_data/census_field_names.csv',\n 'census_groups_names': 'data_files/census_data/census_groups_names.csv'}"
     },
     "metadata": {},
     "execution_count": 53
    }
   ],
   "source": [
    "files = {\n",
    "    'via_data': '../data_files/via_datadict.csv',\n",
    "    'tracts' : '../data_files/bexar_county/Bexar_County_Census_Tracts-shp/Bexar_County_Census_Tracts.shp', \n",
    "    'block_groups' : '../data_files/bexar_county/Bexar_County_Census_Block_Groups-shp/Bexar_County_Census_Block_Groups.shp', \n",
    "    'blocks' : '../data_files/bexar_county/Bexar_County_Census_Blocks-shp/Bexar_County_Census_Blocks.shp', \n",
    "    'adherence_2020' : '../data_files/Adherence_2020.csv',\n",
    "    'bus_otp_2020' : '../data_files/BusOnTimePerformance_2020.csv',\n",
    "    'bus_fare_box_2020' : '../data_files/bus_fare_fixed.csv',\n",
    "    'message_logs_2020' : '../data_files/Logged_Messages.csv',\n",
    "    'service_miles_2020' : '../data_files/TotalServiceMiles_2020.csv',\n",
    "    'stops_addr_2020' : '../data_files/Stops_LatLong_GeocodeData_2020.csv',\n",
    "    'stops_201909' : '../data_files/via_201909/stops.txt', \n",
    "    'stops_202004' : '../data_files/via_202004/stops.csv', \n",
    "    'trips_201909' : '../data_files/via_201909/trips.txt', \n",
    "    'trips_202004' : '../data_files/via_202004/trips.csv', \n",
    "    'routes_201909' : '../data_files/via_201909/routes.txt', \n",
    "    'routes_202004' : '../data_files/via_202004/routes.csv', \n",
    "    'stop_times_201909' : '../data_files/via_201909/stop_times.txt', \n",
    "    'stop_times_202004' : '../data_files/via_202004/stop_times.csv', \n",
    "    'transfers_201909' : '../data_files/via_201909/transfers.txt', \n",
    "    'transfers_202004' : '../data_files/via_202004/transfers.csv', \n",
    "    'shapes_201909' : '../data_files/via_201909/shapes.txt', \n",
    "    'shapes_202004' : '../data_files/via_202004/shapes.csv', \n",
    "    'group_stops' : '../data_files/group_stops-shp',\n",
    "    'acs5_name':'../data_files/census_data/acs5_name.csv',\n",
    "    'acs5_key':'../data_files/census_data/acs5_key.csv',\n",
    "    'census_field_names':'../data_files/census_data/census_field_names.csv',\n",
    "    'census_groups_names':'../data_files/census_data/census_groups_names.csv',\n",
    "\n",
    "}\n",
    "\n",
    "files = {k:v.replace('../','') for (k,v) in files.items()}\n",
    "files"
   ]
  },
  {
   "cell_type": "code",
   "execution_count": 54,
   "metadata": {},
   "outputs": [],
   "source": [
    "# files.to_json('files.json')\n",
    "\n",
    "with open('../data_files/file_dir.json', 'w') as fp:\n",
    "    json.dump(files, fp, sort_keys=True, indent=4)"
   ]
  },
  {
   "cell_type": "code",
   "execution_count": null,
   "metadata": {},
   "outputs": [],
   "source": []
  },
  {
   "cell_type": "code",
   "execution_count": 7,
   "metadata": {},
   "outputs": [],
   "source": [
    "#######################################\n",
    "###\n",
    "### set up via datathon data\n",
    "###\n",
    "#######################################"
   ]
  },
  {
   "cell_type": "code",
   "execution_count": 8,
   "metadata": {},
   "outputs": [],
   "source": [
    "#######################################\n",
    "###\n",
    "### via datathon 2020\n",
    "###\n",
    "### adherence\n",
    "###\n",
    "#######################################"
   ]
  },
  {
   "cell_type": "code",
   "execution_count": 31,
   "metadata": {
    "tags": []
   },
   "outputs": [
    {
     "output_type": "stream",
     "name": "stdout",
     "text": "<class 'pandas.core.frame.DataFrame'>\nIndex: 491 entries, 102 to 987\nData columns (total 1 columns):\n #   Column    Non-Null Count  Dtype\n---  ------    --------------  -----\n 0   adh_recs  491 non-null    int64\ndtypes: int64(1)\nmemory usage: 7.7+ KB\nNone\n"
    },
    {
     "output_type": "display_data",
     "data": {
      "text/plain": "            adh_recs\nvehicle_id          \n102              174\n104              348\n105              662\n107              283\n110              187",
      "text/html": "<div>\n<style scoped>\n    .dataframe tbody tr th:only-of-type {\n        vertical-align: middle;\n    }\n\n    .dataframe tbody tr th {\n        vertical-align: top;\n    }\n\n    .dataframe thead th {\n        text-align: right;\n    }\n</style>\n<table border=\"1\" class=\"dataframe\">\n  <thead>\n    <tr style=\"text-align: right;\">\n      <th></th>\n      <th>adh_recs</th>\n    </tr>\n    <tr>\n      <th>vehicle_id</th>\n      <th></th>\n    </tr>\n  </thead>\n  <tbody>\n    <tr>\n      <th>102</th>\n      <td>174</td>\n    </tr>\n    <tr>\n      <th>104</th>\n      <td>348</td>\n    </tr>\n    <tr>\n      <th>105</th>\n      <td>662</td>\n    </tr>\n    <tr>\n      <th>107</th>\n      <td>283</td>\n    </tr>\n    <tr>\n      <th>110</th>\n      <td>187</td>\n    </tr>\n  </tbody>\n</table>\n</div>"
     },
     "metadata": {}
    }
   ],
   "source": [
    "adh_vehicles = (pd.DataFrame(\n",
    "    # retype_dataframe(\n",
    "        pd.Series(\n",
    "            pd.read_csv(files['adherence_2020'])['VehicleNumber']\n",
    "            .dropna()\n",
    "            # .unique()\n",
    "        )\n",
    "        .apply(str)\n",
    "        .sort_values()\n",
    "        .apply(lambda x: x.replace('.0',''))\n",
    "        # .astype('string'), columns=['vehicle_id']\n",
    "        .value_counts()\n",
    "        .sort_index()\n",
    "        )        \n",
    "        .reset_index()\n",
    "        .rename(columns={'VehicleNumber':'adh_recs','index':'vehicle_id'})\n",
    "        .set_index('vehicle_id')\n",
    "        # .drop(columns=['index'])\n",
    ")\n",
    "\n",
    "        # .rename(columns={'VehicleNumber':'vehicle_id'}\n",
    "        # )[['vehicle_id']],\n",
    "        # gotb_datatype)\n",
    "        # .vehicle_id.value_counts()\n",
    "        # ).astype({'VehicleNumber':'string'})\n",
    "    # df_adh = retype_dataframe(df_adh, gotb_datatype)\n",
    "\n",
    "show_df(adh_vehicles)"
   ]
  },
  {
   "cell_type": "code",
   "execution_count": 42,
   "metadata": {},
   "outputs": [],
   "source": [
    "# adh_vehicles.tail(5)"
   ]
  },
  {
   "cell_type": "code",
   "execution_count": 13,
   "metadata": {},
   "outputs": [],
   "source": [
    "#######################################\n",
    "###\n",
    "### via datathon 2020\n",
    "###\n",
    "### message logs\n",
    "###\n",
    "#######################################"
   ]
  },
  {
   "cell_type": "code",
   "execution_count": 29,
   "metadata": {
    "tags": []
   },
   "outputs": [],
   "source": [
    "# df_logs = pd.read_csv(files['message_logs_2020'])\n",
    "# df_logs.VehicleNumber = df_logs.VehicleNumber.apply(str)\n",
    "# show_df(df_logs)"
   ]
  },
  {
   "cell_type": "code",
   "execution_count": 30,
   "metadata": {},
   "outputs": [],
   "source": [
    "# df_logs.VehicleNumber.value_counts().sort_index()"
   ]
  },
  {
   "cell_type": "code",
   "execution_count": 28,
   "metadata": {
    "tags": []
   },
   "outputs": [
    {
     "output_type": "stream",
     "name": "stdout",
     "text": "<class 'pandas.core.frame.DataFrame'>\nIndex: 703 entries, 102 to WTT-0093\nData columns (total 1 columns):\n #   Column    Non-Null Count  Dtype\n---  ------    --------------  -----\n 0   log_recs  703 non-null    int64\ndtypes: int64(1)\nmemory usage: 11.0+ KB\nNone\n"
    },
    {
     "output_type": "display_data",
     "data": {
      "text/plain": "            log_recs\nvehicle_id          \n102              158\n103              189\n107              160\n108               64\n110              130",
      "text/html": "<div>\n<style scoped>\n    .dataframe tbody tr th:only-of-type {\n        vertical-align: middle;\n    }\n\n    .dataframe tbody tr th {\n        vertical-align: top;\n    }\n\n    .dataframe thead th {\n        text-align: right;\n    }\n</style>\n<table border=\"1\" class=\"dataframe\">\n  <thead>\n    <tr style=\"text-align: right;\">\n      <th></th>\n      <th>log_recs</th>\n    </tr>\n    <tr>\n      <th>vehicle_id</th>\n      <th></th>\n    </tr>\n  </thead>\n  <tbody>\n    <tr>\n      <th>102</th>\n      <td>158</td>\n    </tr>\n    <tr>\n      <th>103</th>\n      <td>189</td>\n    </tr>\n    <tr>\n      <th>107</th>\n      <td>160</td>\n    </tr>\n    <tr>\n      <th>108</th>\n      <td>64</td>\n    </tr>\n    <tr>\n      <th>110</th>\n      <td>130</td>\n    </tr>\n  </tbody>\n</table>\n</div>"
     },
     "metadata": {}
    }
   ],
   "source": [
    "log_vehicles = (pd.DataFrame(\n",
    "        pd.Series(\n",
    "            pd.read_csv(files['message_logs_2020'])['VehicleNumber']\n",
    "            .dropna()\n",
    "            # .unique()\n",
    "        )\n",
    "        .apply(str)\n",
    "        .sort_values()\n",
    "        .apply(lambda x: x.replace('.0',''))\n",
    "        # .astype('string'), columns=['vehicle_id']\n",
    "        .value_counts()\n",
    "        .sort_index()\n",
    "        )        \n",
    "        .reset_index()\n",
    "        .rename(columns={'VehicleNumber':'log_recs','index':'vehicle_id'})\n",
    "        .set_index('vehicle_id')\n",
    "        # .drop(columns=['index'])\n",
    ")\n",
    "\n",
    "show_df(log_vehicles)"
   ]
  },
  {
   "cell_type": "code",
   "execution_count": 16,
   "metadata": {},
   "outputs": [],
   "source": [
    "#######################################\n",
    "###\n",
    "### via datathon 2020\n",
    "###\n",
    "### service miles\n",
    "###\n",
    "#######################################"
   ]
  },
  {
   "cell_type": "code",
   "execution_count": 41,
   "metadata": {
    "tags": []
   },
   "outputs": [
    {
     "output_type": "stream",
     "name": "stdout",
     "text": "<class 'pandas.core.frame.DataFrame'>\nRangeIndex: 63622 entries, 0 to 63621\nData columns (total 10 columns):\n #   Column               Non-Null Count  Dtype  \n---  ------               --------------  -----  \n 0   Route                63622 non-null  int64  \n 1   RouteName            63622 non-null  object \n 2   Class                62115 non-null  object \n 3   ServiceType          63622 non-null  object \n 4   ScheduledMiles       63622 non-null  float64\n 5   AVLRevenueMiles      63622 non-null  float64\n 6   AVLDeadHeadMiles     63622 non-null  float64\n 7   AVLExemptMiles       63622 non-null  float64\n 8   AVLMilesAdjustments  63622 non-null  float64\n 9   ServiceDate          63622 non-null  object \ndtypes: float64(5), int64(1), object(4)\nmemory usage: 4.9+ MB\nNone\n"
    },
    {
     "output_type": "display_data",
     "data": {
      "text/plain": "   Route         RouteName          Class ServiceType  ScheduledMiles  \\\n0      2      2-BLANCO RD.   Major Radial      SUNDAY          924.35   \n1      3  3-SAN PEDRO SKIP  Major Limited      SUNDAY          707.88   \n2      4       4-SAN PEDRO   Major Radial      SUNDAY          731.48   \n3      5     5-MC CULLOUGH   Major Radial      SUNDAY          484.17   \n4      6  6-US 281 Express  Major Express      SUNDAY            0.00   \n\n   AVLRevenueMiles  AVLDeadHeadMiles  AVLExemptMiles  AVLMilesAdjustments  \\\n0           886.97             46.91             0.0                 26.0   \n1           683.66             19.57             0.0                  0.0   \n2           692.08             34.76             0.0                  0.0   \n3           457.37             22.12             0.0                  0.0   \n4             0.00              0.00             0.0                  0.0   \n\n  ServiceDate  \n0    1/1/2019  \n1    1/1/2019  \n2    1/1/2019  \n3    1/1/2019  \n4    1/1/2019  ",
      "text/html": "<div>\n<style scoped>\n    .dataframe tbody tr th:only-of-type {\n        vertical-align: middle;\n    }\n\n    .dataframe tbody tr th {\n        vertical-align: top;\n    }\n\n    .dataframe thead th {\n        text-align: right;\n    }\n</style>\n<table border=\"1\" class=\"dataframe\">\n  <thead>\n    <tr style=\"text-align: right;\">\n      <th></th>\n      <th>Route</th>\n      <th>RouteName</th>\n      <th>Class</th>\n      <th>ServiceType</th>\n      <th>ScheduledMiles</th>\n      <th>AVLRevenueMiles</th>\n      <th>AVLDeadHeadMiles</th>\n      <th>AVLExemptMiles</th>\n      <th>AVLMilesAdjustments</th>\n      <th>ServiceDate</th>\n    </tr>\n  </thead>\n  <tbody>\n    <tr>\n      <th>0</th>\n      <td>2</td>\n      <td>2-BLANCO RD.</td>\n      <td>Major Radial</td>\n      <td>SUNDAY</td>\n      <td>924.35</td>\n      <td>886.97</td>\n      <td>46.91</td>\n      <td>0.0</td>\n      <td>26.0</td>\n      <td>1/1/2019</td>\n    </tr>\n    <tr>\n      <th>1</th>\n      <td>3</td>\n      <td>3-SAN PEDRO SKIP</td>\n      <td>Major Limited</td>\n      <td>SUNDAY</td>\n      <td>707.88</td>\n      <td>683.66</td>\n      <td>19.57</td>\n      <td>0.0</td>\n      <td>0.0</td>\n      <td>1/1/2019</td>\n    </tr>\n    <tr>\n      <th>2</th>\n      <td>4</td>\n      <td>4-SAN PEDRO</td>\n      <td>Major Radial</td>\n      <td>SUNDAY</td>\n      <td>731.48</td>\n      <td>692.08</td>\n      <td>34.76</td>\n      <td>0.0</td>\n      <td>0.0</td>\n      <td>1/1/2019</td>\n    </tr>\n    <tr>\n      <th>3</th>\n      <td>5</td>\n      <td>5-MC CULLOUGH</td>\n      <td>Major Radial</td>\n      <td>SUNDAY</td>\n      <td>484.17</td>\n      <td>457.37</td>\n      <td>22.12</td>\n      <td>0.0</td>\n      <td>0.0</td>\n      <td>1/1/2019</td>\n    </tr>\n    <tr>\n      <th>4</th>\n      <td>6</td>\n      <td>6-US 281 Express</td>\n      <td>Major Express</td>\n      <td>SUNDAY</td>\n      <td>0.00</td>\n      <td>0.00</td>\n      <td>0.00</td>\n      <td>0.0</td>\n      <td>0.0</td>\n      <td>1/1/2019</td>\n    </tr>\n  </tbody>\n</table>\n</div>"
     },
     "metadata": {}
    }
   ],
   "source": [
    "df_svc_miles = pd.read_csv(files['service_miles_2020'])\n",
    "show_df(df_svc_miles)"
   ]
  },
  {
   "cell_type": "code",
   "execution_count": 18,
   "metadata": {},
   "outputs": [],
   "source": [
    "# df_svc_miles.columns\n"
   ]
  },
  {
   "cell_type": "code",
   "execution_count": 33,
   "metadata": {
    "tags": []
   },
   "outputs": [
    {
     "output_type": "stream",
     "name": "stdout",
     "text": "<class 'pandas.core.frame.DataFrame'>\nIndex: 766 entries, 102 to WTT-0093\nData columns (total 2 columns):\n #   Column    Non-Null Count  Dtype  \n---  ------    --------------  -----  \n 0   log_recs  703 non-null    float64\n 1   adh_recs  491 non-null    float64\ndtypes: float64(2)\nmemory usage: 18.0+ KB\nNone\n"
    },
    {
     "output_type": "display_data",
     "data": {
      "text/plain": "            log_recs  adh_recs\nvehicle_id                    \n102            158.0     174.0\n103            189.0       NaN\n104              NaN     348.0\n105              NaN     662.0\n107            160.0     283.0",
      "text/html": "<div>\n<style scoped>\n    .dataframe tbody tr th:only-of-type {\n        vertical-align: middle;\n    }\n\n    .dataframe tbody tr th {\n        vertical-align: top;\n    }\n\n    .dataframe thead th {\n        text-align: right;\n    }\n</style>\n<table border=\"1\" class=\"dataframe\">\n  <thead>\n    <tr style=\"text-align: right;\">\n      <th></th>\n      <th>log_recs</th>\n      <th>adh_recs</th>\n    </tr>\n    <tr>\n      <th>vehicle_id</th>\n      <th></th>\n      <th></th>\n    </tr>\n  </thead>\n  <tbody>\n    <tr>\n      <th>102</th>\n      <td>158.0</td>\n      <td>174.0</td>\n    </tr>\n    <tr>\n      <th>103</th>\n      <td>189.0</td>\n      <td>NaN</td>\n    </tr>\n    <tr>\n      <th>104</th>\n      <td>NaN</td>\n      <td>348.0</td>\n    </tr>\n    <tr>\n      <th>105</th>\n      <td>NaN</td>\n      <td>662.0</td>\n    </tr>\n    <tr>\n      <th>107</th>\n      <td>160.0</td>\n      <td>283.0</td>\n    </tr>\n  </tbody>\n</table>\n</div>"
     },
     "metadata": {}
    }
   ],
   "source": [
    "df_vehicles = log_vehicles.join(adh_vehicles, how='outer')\n",
    "show_df(df_vehicles)"
   ]
  },
  {
   "cell_type": "code",
   "execution_count": 38,
   "metadata": {},
   "outputs": [
    {
     "output_type": "execute_result",
     "data": {
      "text/plain": "63"
     },
     "metadata": {},
     "execution_count": 38
    }
   ],
   "source": [
    "len(df_vehicles[df_vehicles.log_recs.isna()])"
   ]
  },
  {
   "cell_type": "code",
   "execution_count": 39,
   "metadata": {},
   "outputs": [
    {
     "output_type": "execute_result",
     "data": {
      "text/plain": "275"
     },
     "metadata": {},
     "execution_count": 39
    }
   ],
   "source": [
    "len(df_vehicles[df_vehicles.adh_recs.isna()])"
   ]
  },
  {
   "cell_type": "code",
   "execution_count": 40,
   "metadata": {},
   "outputs": [
    {
     "output_type": "execute_result",
     "data": {
      "text/plain": "            log_recs  adh_recs\nvehicle_id                    \n104              NaN     348.0\n105              NaN     662.0\n111              NaN     137.0\n112              NaN     504.0\n113              NaN     539.0\n114              NaN     247.0\n293              NaN     531.0\n306              NaN     744.0\n310              NaN     678.0\n314              NaN     588.0\n318              NaN     625.0\n323              NaN     839.0\n329              NaN     785.0\n330              NaN     613.0\n332              NaN     367.0\n345              NaN     367.0\n350              NaN     687.0\n353              NaN     832.0\n355              NaN     675.0\n357              NaN     297.0\n375              NaN     655.0\n377              NaN     361.0\n389              NaN      33.0\n391              NaN     373.0\n395              NaN     422.0\n396              NaN     442.0\n407              NaN     870.0\n408              NaN     508.0\n414              NaN     668.0\n415              NaN    1032.0\n416              NaN     395.0\n443              NaN     793.0\n490              NaN     815.0\n511              NaN      60.0\n516              NaN     533.0\n531              NaN    1026.0\n548              NaN     896.0\n556              NaN     823.0\n560              NaN     884.0\n570              NaN     876.0\n578              NaN     966.0\n586              NaN     631.0\n591              NaN     987.0\n594              NaN     997.0\n599              NaN    1111.0\n617              NaN     125.0\n645              NaN     981.0\n647              NaN     684.0\n658              NaN     693.0\n659              NaN     595.0\n674              NaN     697.0\n676              NaN     978.0\n683              NaN     727.0\n690              NaN     792.0\n733              NaN     479.0\n949              NaN      90.0\n951              NaN     244.0\n963              NaN     339.0\n964              NaN     508.0\n966              NaN     468.0\n968              NaN     335.0\n969              NaN      32.0\n980              NaN     532.0",
      "text/html": "<div>\n<style scoped>\n    .dataframe tbody tr th:only-of-type {\n        vertical-align: middle;\n    }\n\n    .dataframe tbody tr th {\n        vertical-align: top;\n    }\n\n    .dataframe thead th {\n        text-align: right;\n    }\n</style>\n<table border=\"1\" class=\"dataframe\">\n  <thead>\n    <tr style=\"text-align: right;\">\n      <th></th>\n      <th>log_recs</th>\n      <th>adh_recs</th>\n    </tr>\n    <tr>\n      <th>vehicle_id</th>\n      <th></th>\n      <th></th>\n    </tr>\n  </thead>\n  <tbody>\n    <tr>\n      <th>104</th>\n      <td>NaN</td>\n      <td>348.0</td>\n    </tr>\n    <tr>\n      <th>105</th>\n      <td>NaN</td>\n      <td>662.0</td>\n    </tr>\n    <tr>\n      <th>111</th>\n      <td>NaN</td>\n      <td>137.0</td>\n    </tr>\n    <tr>\n      <th>112</th>\n      <td>NaN</td>\n      <td>504.0</td>\n    </tr>\n    <tr>\n      <th>113</th>\n      <td>NaN</td>\n      <td>539.0</td>\n    </tr>\n    <tr>\n      <th>114</th>\n      <td>NaN</td>\n      <td>247.0</td>\n    </tr>\n    <tr>\n      <th>293</th>\n      <td>NaN</td>\n      <td>531.0</td>\n    </tr>\n    <tr>\n      <th>306</th>\n      <td>NaN</td>\n      <td>744.0</td>\n    </tr>\n    <tr>\n      <th>310</th>\n      <td>NaN</td>\n      <td>678.0</td>\n    </tr>\n    <tr>\n      <th>314</th>\n      <td>NaN</td>\n      <td>588.0</td>\n    </tr>\n    <tr>\n      <th>318</th>\n      <td>NaN</td>\n      <td>625.0</td>\n    </tr>\n    <tr>\n      <th>323</th>\n      <td>NaN</td>\n      <td>839.0</td>\n    </tr>\n    <tr>\n      <th>329</th>\n      <td>NaN</td>\n      <td>785.0</td>\n    </tr>\n    <tr>\n      <th>330</th>\n      <td>NaN</td>\n      <td>613.0</td>\n    </tr>\n    <tr>\n      <th>332</th>\n      <td>NaN</td>\n      <td>367.0</td>\n    </tr>\n    <tr>\n      <th>345</th>\n      <td>NaN</td>\n      <td>367.0</td>\n    </tr>\n    <tr>\n      <th>350</th>\n      <td>NaN</td>\n      <td>687.0</td>\n    </tr>\n    <tr>\n      <th>353</th>\n      <td>NaN</td>\n      <td>832.0</td>\n    </tr>\n    <tr>\n      <th>355</th>\n      <td>NaN</td>\n      <td>675.0</td>\n    </tr>\n    <tr>\n      <th>357</th>\n      <td>NaN</td>\n      <td>297.0</td>\n    </tr>\n    <tr>\n      <th>375</th>\n      <td>NaN</td>\n      <td>655.0</td>\n    </tr>\n    <tr>\n      <th>377</th>\n      <td>NaN</td>\n      <td>361.0</td>\n    </tr>\n    <tr>\n      <th>389</th>\n      <td>NaN</td>\n      <td>33.0</td>\n    </tr>\n    <tr>\n      <th>391</th>\n      <td>NaN</td>\n      <td>373.0</td>\n    </tr>\n    <tr>\n      <th>395</th>\n      <td>NaN</td>\n      <td>422.0</td>\n    </tr>\n    <tr>\n      <th>396</th>\n      <td>NaN</td>\n      <td>442.0</td>\n    </tr>\n    <tr>\n      <th>407</th>\n      <td>NaN</td>\n      <td>870.0</td>\n    </tr>\n    <tr>\n      <th>408</th>\n      <td>NaN</td>\n      <td>508.0</td>\n    </tr>\n    <tr>\n      <th>414</th>\n      <td>NaN</td>\n      <td>668.0</td>\n    </tr>\n    <tr>\n      <th>415</th>\n      <td>NaN</td>\n      <td>1032.0</td>\n    </tr>\n    <tr>\n      <th>416</th>\n      <td>NaN</td>\n      <td>395.0</td>\n    </tr>\n    <tr>\n      <th>443</th>\n      <td>NaN</td>\n      <td>793.0</td>\n    </tr>\n    <tr>\n      <th>490</th>\n      <td>NaN</td>\n      <td>815.0</td>\n    </tr>\n    <tr>\n      <th>511</th>\n      <td>NaN</td>\n      <td>60.0</td>\n    </tr>\n    <tr>\n      <th>516</th>\n      <td>NaN</td>\n      <td>533.0</td>\n    </tr>\n    <tr>\n      <th>531</th>\n      <td>NaN</td>\n      <td>1026.0</td>\n    </tr>\n    <tr>\n      <th>548</th>\n      <td>NaN</td>\n      <td>896.0</td>\n    </tr>\n    <tr>\n      <th>556</th>\n      <td>NaN</td>\n      <td>823.0</td>\n    </tr>\n    <tr>\n      <th>560</th>\n      <td>NaN</td>\n      <td>884.0</td>\n    </tr>\n    <tr>\n      <th>570</th>\n      <td>NaN</td>\n      <td>876.0</td>\n    </tr>\n    <tr>\n      <th>578</th>\n      <td>NaN</td>\n      <td>966.0</td>\n    </tr>\n    <tr>\n      <th>586</th>\n      <td>NaN</td>\n      <td>631.0</td>\n    </tr>\n    <tr>\n      <th>591</th>\n      <td>NaN</td>\n      <td>987.0</td>\n    </tr>\n    <tr>\n      <th>594</th>\n      <td>NaN</td>\n      <td>997.0</td>\n    </tr>\n    <tr>\n      <th>599</th>\n      <td>NaN</td>\n      <td>1111.0</td>\n    </tr>\n    <tr>\n      <th>617</th>\n      <td>NaN</td>\n      <td>125.0</td>\n    </tr>\n    <tr>\n      <th>645</th>\n      <td>NaN</td>\n      <td>981.0</td>\n    </tr>\n    <tr>\n      <th>647</th>\n      <td>NaN</td>\n      <td>684.0</td>\n    </tr>\n    <tr>\n      <th>658</th>\n      <td>NaN</td>\n      <td>693.0</td>\n    </tr>\n    <tr>\n      <th>659</th>\n      <td>NaN</td>\n      <td>595.0</td>\n    </tr>\n    <tr>\n      <th>674</th>\n      <td>NaN</td>\n      <td>697.0</td>\n    </tr>\n    <tr>\n      <th>676</th>\n      <td>NaN</td>\n      <td>978.0</td>\n    </tr>\n    <tr>\n      <th>683</th>\n      <td>NaN</td>\n      <td>727.0</td>\n    </tr>\n    <tr>\n      <th>690</th>\n      <td>NaN</td>\n      <td>792.0</td>\n    </tr>\n    <tr>\n      <th>733</th>\n      <td>NaN</td>\n      <td>479.0</td>\n    </tr>\n    <tr>\n      <th>949</th>\n      <td>NaN</td>\n      <td>90.0</td>\n    </tr>\n    <tr>\n      <th>951</th>\n      <td>NaN</td>\n      <td>244.0</td>\n    </tr>\n    <tr>\n      <th>963</th>\n      <td>NaN</td>\n      <td>339.0</td>\n    </tr>\n    <tr>\n      <th>964</th>\n      <td>NaN</td>\n      <td>508.0</td>\n    </tr>\n    <tr>\n      <th>966</th>\n      <td>NaN</td>\n      <td>468.0</td>\n    </tr>\n    <tr>\n      <th>968</th>\n      <td>NaN</td>\n      <td>335.0</td>\n    </tr>\n    <tr>\n      <th>969</th>\n      <td>NaN</td>\n      <td>32.0</td>\n    </tr>\n    <tr>\n      <th>980</th>\n      <td>NaN</td>\n      <td>532.0</td>\n    </tr>\n  </tbody>\n</table>\n</div>"
     },
     "metadata": {},
     "execution_count": 40
    }
   ],
   "source": [
    "# df_vehicles[df_vehicles.log_recs.isna()]"
   ]
  },
  {
   "cell_type": "code",
   "execution_count": null,
   "metadata": {},
   "outputs": [],
   "source": []
  },
  {
   "cell_type": "code",
   "execution_count": null,
   "metadata": {},
   "outputs": [],
   "source": []
  }
 ],
 "metadata": {
  "kernelspec": {
   "display_name": "Python 3",
   "language": "python",
   "name": "python3"
  },
  "language_info": {
   "codemirror_mode": {
    "name": "ipython",
    "version": 3
   },
   "file_extension": ".py",
   "mimetype": "text/x-python",
   "name": "python",
   "nbconvert_exporter": "python",
   "pygments_lexer": "ipython3",
   "version": "3.7.7-final"
  }
 },
 "nbformat": 4,
 "nbformat_minor": 4
}