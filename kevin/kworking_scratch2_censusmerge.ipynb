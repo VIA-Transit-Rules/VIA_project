{
 "cells": [
  {
   "cell_type": "markdown",
   "metadata": {},
   "source": []
  },
  {
   "cell_type": "code",
   "execution_count": 1,
   "metadata": {},
   "outputs": [],
   "source": [
    "import pandas as pd\n",
    "import numpy as np"
   ]
  },
  {
   "cell_type": "code",
   "execution_count": 2,
   "metadata": {},
   "outputs": [],
   "source": [
    "def wrangle_acs5(src0):\n",
    "    df = pd.read_json(src0)\n",
    "    df.columns = df.iloc[0]\n",
    "    df = df[1:]\n",
    "    df['block_group'] = df.state.map(str) + df.county.map(str) + df.tract.map(str) + df['block group'].map(str)\n",
    "    df=df.drop(columns=['state','county','tract','block group']).set_index('block_group').astype('float')\n",
    "    return df"
   ]
  },
  {
   "cell_type": "code",
   "execution_count": null,
   "metadata": {},
   "outputs": [],
   "source": [
    "def show_df(df, head_rows=5):\n",
    "    print(df.info())\n",
    "    display(df.head(head_rows))"
   ]
  },
  {
   "cell_type": "markdown",
   "metadata": {},
   "source": [
    "# B01001"
   ]
  },
  {
   "cell_type": "markdown",
   "metadata": {},
   "source": [
    "[ACS Data](https://api.census.gov/data/2018/acs/acs5?get=B01001_001E,B01001_002E,B01001_007E,B01001_008E,B01001_009E,B01001_010E,B01001_011E,B01001_012E,B01001_013E,B01001_014E,B01001_015E,B01001_016E,B01001_017E,B01001_018E,B01001_019E,B01001_026E,B01001_031E,B01001_032E,B01001_033E,B01001_034E,B01001_035E,B01001_036E,B01001_037E,B01001_038E,B01001_039E,B01001_040E,B01001_041E,B01001_042E,B01001_043E&for=block%20group:*&in=state:48&in=county:029&in=tract:*)"
   ]
  },
  {
   "cell_type": "code",
   "execution_count": 3,
   "metadata": {},
   "outputs": [],
   "source": [
    "data01 = 'https://api.census.gov/data/2018/acs/acs5?get=B01001_001E,B01001_002E,B01001_007E,B01001_008E,B01001_009E,B01001_010E,B01001_011E,B01001_012E,B01001_013E,B01001_014E,B01001_015E,B01001_016E,B01001_017E,B01001_018E,B01001_019E,B01001_026E,B01001_031E,B01001_032E,B01001_033E,B01001_034E,B01001_035E,B01001_036E,B01001_037E,B01001_038E,B01001_039E,B01001_040E,B01001_041E,B01001_042E,B01001_043E&for=block%20group:*&in=state:48&in=county:029&in=tract:*'\n",
    "src01 = '../data_files/census_data/acs5_B01001_SexByAge.json'\n",
    "dest01 = '../data_files/census_data/acs5_B01001_SexByAge.csv'"
   ]
  },
  {
   "cell_type": "code",
   "execution_count": 4,
   "metadata": {},
   "outputs": [],
   "source": [
    "df01 = wrangle_acs5('../data_files/census_data/acs5_B01001_SexByAge.json')"
   ]
  },
  {
   "cell_type": "code",
   "execution_count": 5,
   "metadata": {},
   "outputs": [
    {
     "output_type": "execute_result",
     "data": {
      "text/plain": "0             B01001_001E  B01001_002E  B01001_007E  B01001_008E  B01001_009E  \\\nblock_group                                                                     \n480291805031        659.0        417.0         23.0          0.0          0.0   \n480291805032       1942.0        806.0         33.0          0.0         54.0   \n480291704013       1676.0        663.0         24.0          0.0          0.0   \n480291704012        730.0        384.0          0.0          0.0          0.0   \n480291914061       2612.0       1229.0         17.0          0.0          0.0   \n\n0             B01001_010E  B01001_011E  B01001_012E  B01001_013E  B01001_014E  \\\nblock_group                                                                     \n480291805031          0.0         61.0         34.0          0.0         42.0   \n480291805032         57.0         58.0         70.0         25.0        113.0   \n480291704013         64.0         23.0         12.0         21.0         37.0   \n480291704012          9.0         28.0          0.0         26.0          7.0   \n480291914061         39.0         17.0         92.0        145.0         53.0   \n\n0             ...  B01001_035E  B01001_036E  B01001_037E  B01001_038E  \\\nblock_group   ...                                                       \n480291805031  ...         26.0         15.0          0.0         14.0   \n480291805032  ...        100.0         56.0         72.0         72.0   \n480291704013  ...         49.0         50.0         55.0         50.0   \n480291704012  ...         42.0         58.0          9.0          0.0   \n480291914061  ...         35.0        203.0         82.0         79.0   \n\n0             B01001_039E  B01001_040E  B01001_041E  B01001_042E  B01001_043E  \\\nblock_group                                                                     \n480291805031         49.0         27.0         28.0          5.0         11.0   \n480291805032        131.0         70.0         54.0          0.0         25.0   \n480291704013         59.0         28.0         92.0          0.0          0.0   \n480291704012         18.0         13.0          6.0         14.0         15.0   \n480291914061        121.0         92.0        108.0         13.0         70.0   \n\n0             B01001_044E  \nblock_group                \n480291805031          0.0  \n480291805032          6.0  \n480291704013         19.0  \n480291704012         10.0  \n480291914061         21.0  \n\n[5 rows x 30 columns]",
      "text/html": "<div>\n<style scoped>\n    .dataframe tbody tr th:only-of-type {\n        vertical-align: middle;\n    }\n\n    .dataframe tbody tr th {\n        vertical-align: top;\n    }\n\n    .dataframe thead th {\n        text-align: right;\n    }\n</style>\n<table border=\"1\" class=\"dataframe\">\n  <thead>\n    <tr style=\"text-align: right;\">\n      <th></th>\n      <th>B01001_001E</th>\n      <th>B01001_002E</th>\n      <th>B01001_007E</th>\n      <th>B01001_008E</th>\n      <th>B01001_009E</th>\n      <th>B01001_010E</th>\n      <th>B01001_011E</th>\n      <th>B01001_012E</th>\n      <th>B01001_013E</th>\n      <th>B01001_014E</th>\n      <th>...</th>\n      <th>B01001_035E</th>\n      <th>B01001_036E</th>\n      <th>B01001_037E</th>\n      <th>B01001_038E</th>\n      <th>B01001_039E</th>\n      <th>B01001_040E</th>\n      <th>B01001_041E</th>\n      <th>B01001_042E</th>\n      <th>B01001_043E</th>\n      <th>B01001_044E</th>\n    </tr>\n    <tr>\n      <th>block_group</th>\n      <th></th>\n      <th></th>\n      <th></th>\n      <th></th>\n      <th></th>\n      <th></th>\n      <th></th>\n      <th></th>\n      <th></th>\n      <th></th>\n      <th></th>\n      <th></th>\n      <th></th>\n      <th></th>\n      <th></th>\n      <th></th>\n      <th></th>\n      <th></th>\n      <th></th>\n      <th></th>\n      <th></th>\n    </tr>\n  </thead>\n  <tbody>\n    <tr>\n      <th>480291805031</th>\n      <td>659.0</td>\n      <td>417.0</td>\n      <td>23.0</td>\n      <td>0.0</td>\n      <td>0.0</td>\n      <td>0.0</td>\n      <td>61.0</td>\n      <td>34.0</td>\n      <td>0.0</td>\n      <td>42.0</td>\n      <td>...</td>\n      <td>26.0</td>\n      <td>15.0</td>\n      <td>0.0</td>\n      <td>14.0</td>\n      <td>49.0</td>\n      <td>27.0</td>\n      <td>28.0</td>\n      <td>5.0</td>\n      <td>11.0</td>\n      <td>0.0</td>\n    </tr>\n    <tr>\n      <th>480291805032</th>\n      <td>1942.0</td>\n      <td>806.0</td>\n      <td>33.0</td>\n      <td>0.0</td>\n      <td>54.0</td>\n      <td>57.0</td>\n      <td>58.0</td>\n      <td>70.0</td>\n      <td>25.0</td>\n      <td>113.0</td>\n      <td>...</td>\n      <td>100.0</td>\n      <td>56.0</td>\n      <td>72.0</td>\n      <td>72.0</td>\n      <td>131.0</td>\n      <td>70.0</td>\n      <td>54.0</td>\n      <td>0.0</td>\n      <td>25.0</td>\n      <td>6.0</td>\n    </tr>\n    <tr>\n      <th>480291704013</th>\n      <td>1676.0</td>\n      <td>663.0</td>\n      <td>24.0</td>\n      <td>0.0</td>\n      <td>0.0</td>\n      <td>64.0</td>\n      <td>23.0</td>\n      <td>12.0</td>\n      <td>21.0</td>\n      <td>37.0</td>\n      <td>...</td>\n      <td>49.0</td>\n      <td>50.0</td>\n      <td>55.0</td>\n      <td>50.0</td>\n      <td>59.0</td>\n      <td>28.0</td>\n      <td>92.0</td>\n      <td>0.0</td>\n      <td>0.0</td>\n      <td>19.0</td>\n    </tr>\n    <tr>\n      <th>480291704012</th>\n      <td>730.0</td>\n      <td>384.0</td>\n      <td>0.0</td>\n      <td>0.0</td>\n      <td>0.0</td>\n      <td>9.0</td>\n      <td>28.0</td>\n      <td>0.0</td>\n      <td>26.0</td>\n      <td>7.0</td>\n      <td>...</td>\n      <td>42.0</td>\n      <td>58.0</td>\n      <td>9.0</td>\n      <td>0.0</td>\n      <td>18.0</td>\n      <td>13.0</td>\n      <td>6.0</td>\n      <td>14.0</td>\n      <td>15.0</td>\n      <td>10.0</td>\n    </tr>\n    <tr>\n      <th>480291914061</th>\n      <td>2612.0</td>\n      <td>1229.0</td>\n      <td>17.0</td>\n      <td>0.0</td>\n      <td>0.0</td>\n      <td>39.0</td>\n      <td>17.0</td>\n      <td>92.0</td>\n      <td>145.0</td>\n      <td>53.0</td>\n      <td>...</td>\n      <td>35.0</td>\n      <td>203.0</td>\n      <td>82.0</td>\n      <td>79.0</td>\n      <td>121.0</td>\n      <td>92.0</td>\n      <td>108.0</td>\n      <td>13.0</td>\n      <td>70.0</td>\n      <td>21.0</td>\n    </tr>\n  </tbody>\n</table>\n<p>5 rows × 30 columns</p>\n</div>"
     },
     "metadata": {},
     "execution_count": 5
    }
   ],
   "source": [
    "df01.head()"
   ]
  },
  {
   "cell_type": "code",
   "execution_count": 6,
   "metadata": {},
   "outputs": [
    {
     "output_type": "execute_result",
     "data": {
      "text/plain": "Index(['B01001_001E', 'B01001_002E', 'B01001_007E', 'B01001_008E',\n       'B01001_009E', 'B01001_010E', 'B01001_011E', 'B01001_012E',\n       'B01001_013E', 'B01001_014E', 'B01001_015E', 'B01001_016E',\n       'B01001_017E', 'B01001_018E', 'B01001_019E', 'B01001_026E',\n       'B01001_031E', 'B01001_032E', 'B01001_033E', 'B01001_034E',\n       'B01001_035E', 'B01001_036E', 'B01001_037E', 'B01001_038E',\n       'B01001_039E', 'B01001_040E', 'B01001_041E', 'B01001_042E',\n       'B01001_043E', 'B01001_044E'],\n      dtype='object', name=0)"
     },
     "metadata": {},
     "execution_count": 6
    }
   ],
   "source": [
    "df01.columns"
   ]
  },
  {
   "cell_type": "code",
   "execution_count": 7,
   "metadata": {},
   "outputs": [
    {
     "output_type": "execute_result",
     "data": {
      "text/plain": "0       B01001_001E  B01001_002E  B01001_007E  B01001_008E  B01001_009E  \\\ncount   1084.000000  1084.000000  1084.000000  1084.000000  1084.000000   \nmean    1776.628229   876.411439    27.691882    14.393911    14.196494   \nstd     1178.486503   599.663492    65.757881    34.636762    32.631935   \nmin        0.000000     0.000000     0.000000     0.000000     0.000000   \n25%     1026.750000   498.750000     0.000000     0.000000     0.000000   \n50%     1456.500000   705.500000    14.000000     0.000000     0.000000   \n75%     2199.000000  1078.250000    35.000000    19.000000    18.250000   \nmax    10997.000000  5597.000000  1454.000000   685.000000   561.000000   \n\n0      B01001_010E  B01001_011E  B01001_012E  B01001_013E  B01001_014E  ...  \\\ncount  1084.000000  1084.000000  1084.000000  1084.000000  1084.000000  ...   \nmean     40.984317    74.167897    69.639299    61.151292    56.938192  ...   \nstd      53.718416    83.532962    75.548300    65.219533    58.914612  ...   \nmin       0.000000     0.000000     0.000000     0.000000     0.000000  ...   \n25%       0.000000    21.750000    19.000000    20.000000    17.000000  ...   \n50%      25.000000    52.000000    49.000000    45.000000    41.000000  ...   \n75%      58.000000   101.000000    94.000000    82.000000    81.000000  ...   \nmax     616.000000   899.000000   559.000000   739.000000   505.000000  ...   \n\n0      B01001_035E  B01001_036E  B01001_037E  B01001_038E  B01001_039E  \\\ncount  1084.000000  1084.000000  1084.000000  1084.000000  1084.000000   \nmean     70.420664    67.467712    62.415129    57.559041    56.000923   \nstd      79.685637    68.604302    64.300995    58.467543    53.777379   \nmin       0.000000     0.000000     0.000000     0.000000     0.000000   \n25%      21.000000    22.000000    19.000000    17.000000    20.000000   \n50%      49.000000    49.000000    46.000000    42.000000    43.000000   \n75%      98.000000    92.000000    84.000000    80.000000    76.000000   \nmax     785.000000   548.000000   608.000000   512.000000   594.000000   \n\n0      B01001_040E  B01001_041E  B01001_042E  B01001_043E  B01001_044E  \ncount  1084.000000  1084.000000  1084.000000  1084.000000  1084.000000  \nmean     54.717712    52.031365    19.641144    26.867159    15.990775  \nstd      50.012940    41.476233    22.597759    26.645009    19.385336  \nmin       0.000000     0.000000     0.000000     0.000000     0.000000  \n25%      19.000000    20.000000     0.000000     8.000000     0.000000  \n50%      42.000000    43.500000    13.000000    19.000000    11.000000  \n75%      76.000000    74.000000    29.000000    39.000000    24.000000  \nmax     370.000000   276.000000   133.000000   175.000000   133.000000  \n\n[8 rows x 30 columns]",
      "text/html": "<div>\n<style scoped>\n    .dataframe tbody tr th:only-of-type {\n        vertical-align: middle;\n    }\n\n    .dataframe tbody tr th {\n        vertical-align: top;\n    }\n\n    .dataframe thead th {\n        text-align: right;\n    }\n</style>\n<table border=\"1\" class=\"dataframe\">\n  <thead>\n    <tr style=\"text-align: right;\">\n      <th></th>\n      <th>B01001_001E</th>\n      <th>B01001_002E</th>\n      <th>B01001_007E</th>\n      <th>B01001_008E</th>\n      <th>B01001_009E</th>\n      <th>B01001_010E</th>\n      <th>B01001_011E</th>\n      <th>B01001_012E</th>\n      <th>B01001_013E</th>\n      <th>B01001_014E</th>\n      <th>...</th>\n      <th>B01001_035E</th>\n      <th>B01001_036E</th>\n      <th>B01001_037E</th>\n      <th>B01001_038E</th>\n      <th>B01001_039E</th>\n      <th>B01001_040E</th>\n      <th>B01001_041E</th>\n      <th>B01001_042E</th>\n      <th>B01001_043E</th>\n      <th>B01001_044E</th>\n    </tr>\n  </thead>\n  <tbody>\n    <tr>\n      <th>count</th>\n      <td>1084.000000</td>\n      <td>1084.000000</td>\n      <td>1084.000000</td>\n      <td>1084.000000</td>\n      <td>1084.000000</td>\n      <td>1084.000000</td>\n      <td>1084.000000</td>\n      <td>1084.000000</td>\n      <td>1084.000000</td>\n      <td>1084.000000</td>\n      <td>...</td>\n      <td>1084.000000</td>\n      <td>1084.000000</td>\n      <td>1084.000000</td>\n      <td>1084.000000</td>\n      <td>1084.000000</td>\n      <td>1084.000000</td>\n      <td>1084.000000</td>\n      <td>1084.000000</td>\n      <td>1084.000000</td>\n      <td>1084.000000</td>\n    </tr>\n    <tr>\n      <th>mean</th>\n      <td>1776.628229</td>\n      <td>876.411439</td>\n      <td>27.691882</td>\n      <td>14.393911</td>\n      <td>14.196494</td>\n      <td>40.984317</td>\n      <td>74.167897</td>\n      <td>69.639299</td>\n      <td>61.151292</td>\n      <td>56.938192</td>\n      <td>...</td>\n      <td>70.420664</td>\n      <td>67.467712</td>\n      <td>62.415129</td>\n      <td>57.559041</td>\n      <td>56.000923</td>\n      <td>54.717712</td>\n      <td>52.031365</td>\n      <td>19.641144</td>\n      <td>26.867159</td>\n      <td>15.990775</td>\n    </tr>\n    <tr>\n      <th>std</th>\n      <td>1178.486503</td>\n      <td>599.663492</td>\n      <td>65.757881</td>\n      <td>34.636762</td>\n      <td>32.631935</td>\n      <td>53.718416</td>\n      <td>83.532962</td>\n      <td>75.548300</td>\n      <td>65.219533</td>\n      <td>58.914612</td>\n      <td>...</td>\n      <td>79.685637</td>\n      <td>68.604302</td>\n      <td>64.300995</td>\n      <td>58.467543</td>\n      <td>53.777379</td>\n      <td>50.012940</td>\n      <td>41.476233</td>\n      <td>22.597759</td>\n      <td>26.645009</td>\n      <td>19.385336</td>\n    </tr>\n    <tr>\n      <th>min</th>\n      <td>0.000000</td>\n      <td>0.000000</td>\n      <td>0.000000</td>\n      <td>0.000000</td>\n      <td>0.000000</td>\n      <td>0.000000</td>\n      <td>0.000000</td>\n      <td>0.000000</td>\n      <td>0.000000</td>\n      <td>0.000000</td>\n      <td>...</td>\n      <td>0.000000</td>\n      <td>0.000000</td>\n      <td>0.000000</td>\n      <td>0.000000</td>\n      <td>0.000000</td>\n      <td>0.000000</td>\n      <td>0.000000</td>\n      <td>0.000000</td>\n      <td>0.000000</td>\n      <td>0.000000</td>\n    </tr>\n    <tr>\n      <th>25%</th>\n      <td>1026.750000</td>\n      <td>498.750000</td>\n      <td>0.000000</td>\n      <td>0.000000</td>\n      <td>0.000000</td>\n      <td>0.000000</td>\n      <td>21.750000</td>\n      <td>19.000000</td>\n      <td>20.000000</td>\n      <td>17.000000</td>\n      <td>...</td>\n      <td>21.000000</td>\n      <td>22.000000</td>\n      <td>19.000000</td>\n      <td>17.000000</td>\n      <td>20.000000</td>\n      <td>19.000000</td>\n      <td>20.000000</td>\n      <td>0.000000</td>\n      <td>8.000000</td>\n      <td>0.000000</td>\n    </tr>\n    <tr>\n      <th>50%</th>\n      <td>1456.500000</td>\n      <td>705.500000</td>\n      <td>14.000000</td>\n      <td>0.000000</td>\n      <td>0.000000</td>\n      <td>25.000000</td>\n      <td>52.000000</td>\n      <td>49.000000</td>\n      <td>45.000000</td>\n      <td>41.000000</td>\n      <td>...</td>\n      <td>49.000000</td>\n      <td>49.000000</td>\n      <td>46.000000</td>\n      <td>42.000000</td>\n      <td>43.000000</td>\n      <td>42.000000</td>\n      <td>43.500000</td>\n      <td>13.000000</td>\n      <td>19.000000</td>\n      <td>11.000000</td>\n    </tr>\n    <tr>\n      <th>75%</th>\n      <td>2199.000000</td>\n      <td>1078.250000</td>\n      <td>35.000000</td>\n      <td>19.000000</td>\n      <td>18.250000</td>\n      <td>58.000000</td>\n      <td>101.000000</td>\n      <td>94.000000</td>\n      <td>82.000000</td>\n      <td>81.000000</td>\n      <td>...</td>\n      <td>98.000000</td>\n      <td>92.000000</td>\n      <td>84.000000</td>\n      <td>80.000000</td>\n      <td>76.000000</td>\n      <td>76.000000</td>\n      <td>74.000000</td>\n      <td>29.000000</td>\n      <td>39.000000</td>\n      <td>24.000000</td>\n    </tr>\n    <tr>\n      <th>max</th>\n      <td>10997.000000</td>\n      <td>5597.000000</td>\n      <td>1454.000000</td>\n      <td>685.000000</td>\n      <td>561.000000</td>\n      <td>616.000000</td>\n      <td>899.000000</td>\n      <td>559.000000</td>\n      <td>739.000000</td>\n      <td>505.000000</td>\n      <td>...</td>\n      <td>785.000000</td>\n      <td>548.000000</td>\n      <td>608.000000</td>\n      <td>512.000000</td>\n      <td>594.000000</td>\n      <td>370.000000</td>\n      <td>276.000000</td>\n      <td>133.000000</td>\n      <td>175.000000</td>\n      <td>133.000000</td>\n    </tr>\n  </tbody>\n</table>\n<p>8 rows × 30 columns</p>\n</div>"
     },
     "metadata": {},
     "execution_count": 7
    }
   ],
   "source": [
    "df01.describe()"
   ]
  },
  {
   "cell_type": "code",
   "execution_count": 8,
   "metadata": {},
   "outputs": [],
   "source": [
    "working_age_male = [\n",
    "    'B01001_007E', 'B01001_008E', 'B01001_009E', 'B01001_010E', \n",
    "    'B01001_011E', 'B01001_012E', 'B01001_013E', 'B01001_014E', \n",
    "    'B01001_015E', 'B01001_016E', 'B01001_017E', 'B01001_018E', \n",
    "    'B01001_019E', \n",
    "]\n",
    "\n",
    "working_age_female = [\n",
    "    'B01001_031E', 'B01001_032E', 'B01001_033E', 'B01001_034E',\n",
    "    'B01001_035E', 'B01001_036E', 'B01001_037E', 'B01001_038E',\n",
    "    'B01001_039E', 'B01001_040E', 'B01001_041E', 'B01001_042E',\n",
    "    'B01001_043E'\n",
    "]\n"
   ]
  },
  {
   "cell_type": "code",
   "execution_count": 9,
   "metadata": {},
   "outputs": [],
   "source": [
    "df01['B01001_002E_W']=df01[working_age_male].sum(axis=1)"
   ]
  },
  {
   "cell_type": "code",
   "execution_count": 10,
   "metadata": {},
   "outputs": [],
   "source": [
    "df01['B01001_026E_W']=df01[working_age_female].sum(axis=1)"
   ]
  },
  {
   "cell_type": "code",
   "execution_count": 11,
   "metadata": {},
   "outputs": [],
   "source": [
    "df01['B01001_002E_N']=df01['B01001_002E']-df01['B01001_002E_W']"
   ]
  },
  {
   "cell_type": "code",
   "execution_count": 12,
   "metadata": {},
   "outputs": [],
   "source": [
    "df01['B01001_026E_N']=df01['B01001_026E']-df01['B01001_026E_W']"
   ]
  },
  {
   "cell_type": "code",
   "execution_count": 13,
   "metadata": {},
   "outputs": [],
   "source": [
    "df01['B01001_001E_W'] = df01['B01001_002E_W'] + df01['B01001_026E_W']"
   ]
  },
  {
   "cell_type": "code",
   "execution_count": 14,
   "metadata": {},
   "outputs": [],
   "source": [
    "df01['B01001_001E_N'] = df01['B01001_002E_N'] + df01['B01001_026E_N']"
   ]
  },
  {
   "cell_type": "code",
   "execution_count": 15,
   "metadata": {},
   "outputs": [],
   "source": [
    "df01_keep_cols = [\n",
    "    'B01001_001E', 'B01001_002E', 'B01001_026E', \n",
    "    'B01001_001E_W', 'B01001_002E_W', 'B01001_026E_W', \n",
    "    'B01001_001E_N', 'B01001_002E_N', 'B01001_026E_N'\n",
    "]"
   ]
  },
  {
   "cell_type": "code",
   "execution_count": 16,
   "metadata": {},
   "outputs": [],
   "source": [
    "df01 = df01[df01_keep_cols]"
   ]
  },
  {
   "cell_type": "code",
   "execution_count": 17,
   "metadata": {},
   "outputs": [
    {
     "output_type": "execute_result",
     "data": {
      "text/plain": "0             B01001_001E  B01001_002E  B01001_026E  B01001_001E_W  \\\nblock_group                                                          \n480291805031        659.0        417.0        242.0          454.0   \n480291805032       1942.0        806.0       1136.0         1319.0   \n480291704013       1676.0        663.0       1013.0          838.0   \n480291704012        730.0        384.0        346.0          306.0   \n480291914061       2612.0       1229.0       1383.0         1546.0   \n...                   ...          ...          ...            ...   \n480291919002       1220.0        636.0        584.0          894.0   \n480291919005       1076.0        407.0        669.0          739.0   \n480291920003       1348.0        840.0        508.0         1107.0   \n480291921001       1085.0        523.0        562.0          791.0   \n480291922002        976.0        437.0        539.0          674.0   \n\n0             B01001_002E_W  B01001_026E_W  B01001_001E_N  B01001_002E_N  \\\nblock_group                                                                \n480291805031          279.0          175.0          205.0          138.0   \n480291805032          553.0          766.0          623.0          253.0   \n480291704013          327.0          511.0          838.0          336.0   \n480291704012          123.0          183.0          424.0          261.0   \n480291914061          701.0          845.0         1066.0          528.0   \n...                     ...            ...            ...            ...   \n480291919002          523.0          371.0          326.0          113.0   \n480291919005          277.0          462.0          337.0          130.0   \n480291920003          680.0          427.0          241.0          160.0   \n480291921001          405.0          386.0          294.0          118.0   \n480291922002          304.0          370.0          302.0          133.0   \n\n0             B01001_026E_N  \nblock_group                  \n480291805031           67.0  \n480291805032          370.0  \n480291704013          502.0  \n480291704012          163.0  \n480291914061          538.0  \n...                     ...  \n480291919002          213.0  \n480291919005          207.0  \n480291920003           81.0  \n480291921001          176.0  \n480291922002          169.0  \n\n[1084 rows x 9 columns]",
      "text/html": "<div>\n<style scoped>\n    .dataframe tbody tr th:only-of-type {\n        vertical-align: middle;\n    }\n\n    .dataframe tbody tr th {\n        vertical-align: top;\n    }\n\n    .dataframe thead th {\n        text-align: right;\n    }\n</style>\n<table border=\"1\" class=\"dataframe\">\n  <thead>\n    <tr style=\"text-align: right;\">\n      <th></th>\n      <th>B01001_001E</th>\n      <th>B01001_002E</th>\n      <th>B01001_026E</th>\n      <th>B01001_001E_W</th>\n      <th>B01001_002E_W</th>\n      <th>B01001_026E_W</th>\n      <th>B01001_001E_N</th>\n      <th>B01001_002E_N</th>\n      <th>B01001_026E_N</th>\n    </tr>\n    <tr>\n      <th>block_group</th>\n      <th></th>\n      <th></th>\n      <th></th>\n      <th></th>\n      <th></th>\n      <th></th>\n      <th></th>\n      <th></th>\n      <th></th>\n    </tr>\n  </thead>\n  <tbody>\n    <tr>\n      <th>480291805031</th>\n      <td>659.0</td>\n      <td>417.0</td>\n      <td>242.0</td>\n      <td>454.0</td>\n      <td>279.0</td>\n      <td>175.0</td>\n      <td>205.0</td>\n      <td>138.0</td>\n      <td>67.0</td>\n    </tr>\n    <tr>\n      <th>480291805032</th>\n      <td>1942.0</td>\n      <td>806.0</td>\n      <td>1136.0</td>\n      <td>1319.0</td>\n      <td>553.0</td>\n      <td>766.0</td>\n      <td>623.0</td>\n      <td>253.0</td>\n      <td>370.0</td>\n    </tr>\n    <tr>\n      <th>480291704013</th>\n      <td>1676.0</td>\n      <td>663.0</td>\n      <td>1013.0</td>\n      <td>838.0</td>\n      <td>327.0</td>\n      <td>511.0</td>\n      <td>838.0</td>\n      <td>336.0</td>\n      <td>502.0</td>\n    </tr>\n    <tr>\n      <th>480291704012</th>\n      <td>730.0</td>\n      <td>384.0</td>\n      <td>346.0</td>\n      <td>306.0</td>\n      <td>123.0</td>\n      <td>183.0</td>\n      <td>424.0</td>\n      <td>261.0</td>\n      <td>163.0</td>\n    </tr>\n    <tr>\n      <th>480291914061</th>\n      <td>2612.0</td>\n      <td>1229.0</td>\n      <td>1383.0</td>\n      <td>1546.0</td>\n      <td>701.0</td>\n      <td>845.0</td>\n      <td>1066.0</td>\n      <td>528.0</td>\n      <td>538.0</td>\n    </tr>\n    <tr>\n      <th>...</th>\n      <td>...</td>\n      <td>...</td>\n      <td>...</td>\n      <td>...</td>\n      <td>...</td>\n      <td>...</td>\n      <td>...</td>\n      <td>...</td>\n      <td>...</td>\n    </tr>\n    <tr>\n      <th>480291919002</th>\n      <td>1220.0</td>\n      <td>636.0</td>\n      <td>584.0</td>\n      <td>894.0</td>\n      <td>523.0</td>\n      <td>371.0</td>\n      <td>326.0</td>\n      <td>113.0</td>\n      <td>213.0</td>\n    </tr>\n    <tr>\n      <th>480291919005</th>\n      <td>1076.0</td>\n      <td>407.0</td>\n      <td>669.0</td>\n      <td>739.0</td>\n      <td>277.0</td>\n      <td>462.0</td>\n      <td>337.0</td>\n      <td>130.0</td>\n      <td>207.0</td>\n    </tr>\n    <tr>\n      <th>480291920003</th>\n      <td>1348.0</td>\n      <td>840.0</td>\n      <td>508.0</td>\n      <td>1107.0</td>\n      <td>680.0</td>\n      <td>427.0</td>\n      <td>241.0</td>\n      <td>160.0</td>\n      <td>81.0</td>\n    </tr>\n    <tr>\n      <th>480291921001</th>\n      <td>1085.0</td>\n      <td>523.0</td>\n      <td>562.0</td>\n      <td>791.0</td>\n      <td>405.0</td>\n      <td>386.0</td>\n      <td>294.0</td>\n      <td>118.0</td>\n      <td>176.0</td>\n    </tr>\n    <tr>\n      <th>480291922002</th>\n      <td>976.0</td>\n      <td>437.0</td>\n      <td>539.0</td>\n      <td>674.0</td>\n      <td>304.0</td>\n      <td>370.0</td>\n      <td>302.0</td>\n      <td>133.0</td>\n      <td>169.0</td>\n    </tr>\n  </tbody>\n</table>\n<p>1084 rows × 9 columns</p>\n</div>"
     },
     "metadata": {},
     "execution_count": 17
    }
   ],
   "source": [
    "df01"
   ]
  },
  {
   "cell_type": "code",
   "execution_count": 18,
   "metadata": {},
   "outputs": [
    {
     "output_type": "execute_result",
     "data": {
      "text/plain": "0       B01001_001E  B01001_002E  B01001_026E  B01001_001E_W  B01001_002E_W  \\\ncount   1084.000000  1084.000000  1084.000000    1084.000000    1084.000000   \nmean    1776.628229   876.411439   900.216790    1109.719557     552.991697   \nstd     1178.486503   599.663492   601.616451     760.708447     404.544785   \nmin        0.000000     0.000000     0.000000       0.000000       0.000000   \n25%     1026.750000   498.750000   509.000000     611.750000     297.750000   \n50%     1456.500000   705.500000   738.000000     900.500000     443.000000   \n75%     2199.000000  1078.250000  1124.000000    1373.000000     672.250000   \nmax    10997.000000  5597.000000  5400.000000    6566.000000    3888.000000   \n\n0      B01001_026E_W  B01001_001E_N  B01001_002E_N  B01001_026E_N  \ncount    1084.000000    1084.000000    1084.000000    1084.000000  \nmean      556.727860     666.908672     323.419742     343.488930  \nstd       380.092787     467.051390     234.488587     248.994701  \nmin         0.000000       0.000000       0.000000       0.000000  \n25%       302.000000     366.750000     174.000000     185.000000  \n50%       450.000000     550.000000     265.000000     283.000000  \n75%       712.250000     814.250000     408.000000     418.000000  \nmax      2899.000000    4431.000000    2034.000000    2501.000000  ",
      "text/html": "<div>\n<style scoped>\n    .dataframe tbody tr th:only-of-type {\n        vertical-align: middle;\n    }\n\n    .dataframe tbody tr th {\n        vertical-align: top;\n    }\n\n    .dataframe thead th {\n        text-align: right;\n    }\n</style>\n<table border=\"1\" class=\"dataframe\">\n  <thead>\n    <tr style=\"text-align: right;\">\n      <th></th>\n      <th>B01001_001E</th>\n      <th>B01001_002E</th>\n      <th>B01001_026E</th>\n      <th>B01001_001E_W</th>\n      <th>B01001_002E_W</th>\n      <th>B01001_026E_W</th>\n      <th>B01001_001E_N</th>\n      <th>B01001_002E_N</th>\n      <th>B01001_026E_N</th>\n    </tr>\n  </thead>\n  <tbody>\n    <tr>\n      <th>count</th>\n      <td>1084.000000</td>\n      <td>1084.000000</td>\n      <td>1084.000000</td>\n      <td>1084.000000</td>\n      <td>1084.000000</td>\n      <td>1084.000000</td>\n      <td>1084.000000</td>\n      <td>1084.000000</td>\n      <td>1084.000000</td>\n    </tr>\n    <tr>\n      <th>mean</th>\n      <td>1776.628229</td>\n      <td>876.411439</td>\n      <td>900.216790</td>\n      <td>1109.719557</td>\n      <td>552.991697</td>\n      <td>556.727860</td>\n      <td>666.908672</td>\n      <td>323.419742</td>\n      <td>343.488930</td>\n    </tr>\n    <tr>\n      <th>std</th>\n      <td>1178.486503</td>\n      <td>599.663492</td>\n      <td>601.616451</td>\n      <td>760.708447</td>\n      <td>404.544785</td>\n      <td>380.092787</td>\n      <td>467.051390</td>\n      <td>234.488587</td>\n      <td>248.994701</td>\n    </tr>\n    <tr>\n      <th>min</th>\n      <td>0.000000</td>\n      <td>0.000000</td>\n      <td>0.000000</td>\n      <td>0.000000</td>\n      <td>0.000000</td>\n      <td>0.000000</td>\n      <td>0.000000</td>\n      <td>0.000000</td>\n      <td>0.000000</td>\n    </tr>\n    <tr>\n      <th>25%</th>\n      <td>1026.750000</td>\n      <td>498.750000</td>\n      <td>509.000000</td>\n      <td>611.750000</td>\n      <td>297.750000</td>\n      <td>302.000000</td>\n      <td>366.750000</td>\n      <td>174.000000</td>\n      <td>185.000000</td>\n    </tr>\n    <tr>\n      <th>50%</th>\n      <td>1456.500000</td>\n      <td>705.500000</td>\n      <td>738.000000</td>\n      <td>900.500000</td>\n      <td>443.000000</td>\n      <td>450.000000</td>\n      <td>550.000000</td>\n      <td>265.000000</td>\n      <td>283.000000</td>\n    </tr>\n    <tr>\n      <th>75%</th>\n      <td>2199.000000</td>\n      <td>1078.250000</td>\n      <td>1124.000000</td>\n      <td>1373.000000</td>\n      <td>672.250000</td>\n      <td>712.250000</td>\n      <td>814.250000</td>\n      <td>408.000000</td>\n      <td>418.000000</td>\n    </tr>\n    <tr>\n      <th>max</th>\n      <td>10997.000000</td>\n      <td>5597.000000</td>\n      <td>5400.000000</td>\n      <td>6566.000000</td>\n      <td>3888.000000</td>\n      <td>2899.000000</td>\n      <td>4431.000000</td>\n      <td>2034.000000</td>\n      <td>2501.000000</td>\n    </tr>\n  </tbody>\n</table>\n</div>"
     },
     "metadata": {},
     "execution_count": 18
    }
   ],
   "source": [
    "df01.describe()"
   ]
  },
  {
   "cell_type": "code",
   "execution_count": 19,
   "metadata": {},
   "outputs": [],
   "source": [
    "df01.to_csv(dest01, header=True, index=True, index_label='block_group')"
   ]
  },
  {
   "cell_type": "code",
   "execution_count": 20,
   "metadata": {},
   "outputs": [],
   "source": [
    "rdf01=pd.read_csv(dest01).set_index('block_group')"
   ]
  },
  {
   "cell_type": "code",
   "execution_count": 21,
   "metadata": {
    "tags": []
   },
   "outputs": [
    {
     "output_type": "stream",
     "name": "stdout",
     "text": "<class 'pandas.core.frame.DataFrame'>\nInt64Index: 1084 entries, 480291805031 to 480291922002\nData columns (total 9 columns):\n #   Column         Non-Null Count  Dtype  \n---  ------         --------------  -----  \n 0   B01001_001E    1084 non-null   float64\n 1   B01001_002E    1084 non-null   float64\n 2   B01001_026E    1084 non-null   float64\n 3   B01001_001E_W  1084 non-null   float64\n 4   B01001_002E_W  1084 non-null   float64\n 5   B01001_026E_W  1084 non-null   float64\n 6   B01001_001E_N  1084 non-null   float64\n 7   B01001_002E_N  1084 non-null   float64\n 8   B01001_026E_N  1084 non-null   float64\ndtypes: float64(9)\nmemory usage: 84.7 KB\n"
    }
   ],
   "source": [
    "rdf01.info()"
   ]
  },
  {
   "cell_type": "code",
   "execution_count": null,
   "metadata": {},
   "outputs": [],
   "source": []
  },
  {
   "cell_type": "markdown",
   "metadata": {},
   "source": [
    "# B03002"
   ]
  },
  {
   "cell_type": "code",
   "execution_count": 22,
   "metadata": {},
   "outputs": [],
   "source": [
    "data02 = 'https://api.census.gov/data/2018/acs/acs5?get=B03002_001E,B03002_002E,B03002_003E,B03002_004E,B03002_005E,B03002_006E,B03002_007E,B03002_008E,B03002_009E,B03002_010E,B03002_011E,B03002_012E,B03002_013E,B03002_014E,B03002_015E,B03002_016E,B03002_017E,B03002_018E,B03002_019E,B03002_020E,B03002_021E&for=block%20group:*&in=state:48&in=county:029&in=tract:*'\n",
    "src02 = '../data_files/census_data/acs5_B03002_HispanicOrigin.json'\n",
    "dest02 = '../data_files/census_data/acs5_B03002_HispanicOrigin.csv'"
   ]
  },
  {
   "cell_type": "code",
   "execution_count": 23,
   "metadata": {},
   "outputs": [],
   "source": [
    "df02 = wrangle_acs5(src02)"
   ]
  },
  {
   "cell_type": "code",
   "execution_count": 24,
   "metadata": {},
   "outputs": [
    {
     "output_type": "execute_result",
     "data": {
      "text/plain": "0             B03002_001E  B03002_002E  B03002_003E  B03002_004E  B03002_005E  \\\nblock_group                                                                     \n480291805031        659.0         71.0         71.0          0.0          0.0   \n480291805032       1942.0        252.0        193.0         59.0          0.0   \n480291704013       1676.0        441.0        272.0        169.0          0.0   \n480291704012        730.0         47.0         15.0         32.0          0.0   \n480291914061       2612.0       1652.0       1451.0         21.0          0.0   \n\n0             B03002_006E  B03002_007E  B03002_008E  B03002_009E  B03002_010E  \\\nblock_group                                                                     \n480291805031          0.0          0.0          0.0          0.0          0.0   \n480291805032          0.0          0.0          0.0          0.0          0.0   \n480291704013          0.0          0.0          0.0          0.0          0.0   \n480291704012          0.0          0.0          0.0          0.0          0.0   \n480291914061         91.0          0.0          0.0         89.0          0.0   \n\n0             ...  B03002_012E  B03002_013E  B03002_014E  B03002_015E  \\\nblock_group   ...                                                       \n480291805031  ...        588.0        560.0          0.0          0.0   \n480291805032  ...       1690.0       1501.0          0.0          0.0   \n480291704013  ...       1235.0        993.0         41.0          0.0   \n480291704012  ...        683.0        585.0          0.0          0.0   \n480291914061  ...        960.0        857.0          0.0          0.0   \n\n0             B03002_016E  B03002_017E  B03002_018E  B03002_019E  B03002_020E  \\\nblock_group                                                                     \n480291805031          0.0          0.0         28.0          0.0          0.0   \n480291805032          0.0          0.0        115.0         74.0         35.0   \n480291704013          0.0          0.0        142.0         59.0         59.0   \n480291704012          0.0          0.0         57.0         41.0         41.0   \n480291914061          0.0          0.0         21.0         82.0         18.0   \n\n0             B03002_021E  \nblock_group                \n480291805031          0.0  \n480291805032         39.0  \n480291704013          0.0  \n480291704012          0.0  \n480291914061         64.0  \n\n[5 rows x 21 columns]",
      "text/html": "<div>\n<style scoped>\n    .dataframe tbody tr th:only-of-type {\n        vertical-align: middle;\n    }\n\n    .dataframe tbody tr th {\n        vertical-align: top;\n    }\n\n    .dataframe thead th {\n        text-align: right;\n    }\n</style>\n<table border=\"1\" class=\"dataframe\">\n  <thead>\n    <tr style=\"text-align: right;\">\n      <th></th>\n      <th>B03002_001E</th>\n      <th>B03002_002E</th>\n      <th>B03002_003E</th>\n      <th>B03002_004E</th>\n      <th>B03002_005E</th>\n      <th>B03002_006E</th>\n      <th>B03002_007E</th>\n      <th>B03002_008E</th>\n      <th>B03002_009E</th>\n      <th>B03002_010E</th>\n      <th>...</th>\n      <th>B03002_012E</th>\n      <th>B03002_013E</th>\n      <th>B03002_014E</th>\n      <th>B03002_015E</th>\n      <th>B03002_016E</th>\n      <th>B03002_017E</th>\n      <th>B03002_018E</th>\n      <th>B03002_019E</th>\n      <th>B03002_020E</th>\n      <th>B03002_021E</th>\n    </tr>\n    <tr>\n      <th>block_group</th>\n      <th></th>\n      <th></th>\n      <th></th>\n      <th></th>\n      <th></th>\n      <th></th>\n      <th></th>\n      <th></th>\n      <th></th>\n      <th></th>\n      <th></th>\n      <th></th>\n      <th></th>\n      <th></th>\n      <th></th>\n      <th></th>\n      <th></th>\n      <th></th>\n      <th></th>\n      <th></th>\n      <th></th>\n    </tr>\n  </thead>\n  <tbody>\n    <tr>\n      <th>480291805031</th>\n      <td>659.0</td>\n      <td>71.0</td>\n      <td>71.0</td>\n      <td>0.0</td>\n      <td>0.0</td>\n      <td>0.0</td>\n      <td>0.0</td>\n      <td>0.0</td>\n      <td>0.0</td>\n      <td>0.0</td>\n      <td>...</td>\n      <td>588.0</td>\n      <td>560.0</td>\n      <td>0.0</td>\n      <td>0.0</td>\n      <td>0.0</td>\n      <td>0.0</td>\n      <td>28.0</td>\n      <td>0.0</td>\n      <td>0.0</td>\n      <td>0.0</td>\n    </tr>\n    <tr>\n      <th>480291805032</th>\n      <td>1942.0</td>\n      <td>252.0</td>\n      <td>193.0</td>\n      <td>59.0</td>\n      <td>0.0</td>\n      <td>0.0</td>\n      <td>0.0</td>\n      <td>0.0</td>\n      <td>0.0</td>\n      <td>0.0</td>\n      <td>...</td>\n      <td>1690.0</td>\n      <td>1501.0</td>\n      <td>0.0</td>\n      <td>0.0</td>\n      <td>0.0</td>\n      <td>0.0</td>\n      <td>115.0</td>\n      <td>74.0</td>\n      <td>35.0</td>\n      <td>39.0</td>\n    </tr>\n    <tr>\n      <th>480291704013</th>\n      <td>1676.0</td>\n      <td>441.0</td>\n      <td>272.0</td>\n      <td>169.0</td>\n      <td>0.0</td>\n      <td>0.0</td>\n      <td>0.0</td>\n      <td>0.0</td>\n      <td>0.0</td>\n      <td>0.0</td>\n      <td>...</td>\n      <td>1235.0</td>\n      <td>993.0</td>\n      <td>41.0</td>\n      <td>0.0</td>\n      <td>0.0</td>\n      <td>0.0</td>\n      <td>142.0</td>\n      <td>59.0</td>\n      <td>59.0</td>\n      <td>0.0</td>\n    </tr>\n    <tr>\n      <th>480291704012</th>\n      <td>730.0</td>\n      <td>47.0</td>\n      <td>15.0</td>\n      <td>32.0</td>\n      <td>0.0</td>\n      <td>0.0</td>\n      <td>0.0</td>\n      <td>0.0</td>\n      <td>0.0</td>\n      <td>0.0</td>\n      <td>...</td>\n      <td>683.0</td>\n      <td>585.0</td>\n      <td>0.0</td>\n      <td>0.0</td>\n      <td>0.0</td>\n      <td>0.0</td>\n      <td>57.0</td>\n      <td>41.0</td>\n      <td>41.0</td>\n      <td>0.0</td>\n    </tr>\n    <tr>\n      <th>480291914061</th>\n      <td>2612.0</td>\n      <td>1652.0</td>\n      <td>1451.0</td>\n      <td>21.0</td>\n      <td>0.0</td>\n      <td>91.0</td>\n      <td>0.0</td>\n      <td>0.0</td>\n      <td>89.0</td>\n      <td>0.0</td>\n      <td>...</td>\n      <td>960.0</td>\n      <td>857.0</td>\n      <td>0.0</td>\n      <td>0.0</td>\n      <td>0.0</td>\n      <td>0.0</td>\n      <td>21.0</td>\n      <td>82.0</td>\n      <td>18.0</td>\n      <td>64.0</td>\n    </tr>\n  </tbody>\n</table>\n<p>5 rows × 21 columns</p>\n</div>"
     },
     "metadata": {},
     "execution_count": 24
    }
   ],
   "source": [
    "df02.head()"
   ]
  },
  {
   "cell_type": "code",
   "execution_count": 25,
   "metadata": {},
   "outputs": [
    {
     "output_type": "execute_result",
     "data": {
      "text/plain": "Index(['B03002_001E', 'B03002_002E', 'B03002_003E', 'B03002_004E',\n       'B03002_005E', 'B03002_006E', 'B03002_007E', 'B03002_008E',\n       'B03002_009E', 'B03002_010E', 'B03002_011E', 'B03002_012E',\n       'B03002_013E', 'B03002_014E', 'B03002_015E', 'B03002_016E',\n       'B03002_017E', 'B03002_018E', 'B03002_019E', 'B03002_020E',\n       'B03002_021E'],\n      dtype='object', name=0)"
     },
     "metadata": {},
     "execution_count": 25
    }
   ],
   "source": [
    "df02.columns"
   ]
  },
  {
   "cell_type": "code",
   "execution_count": 26,
   "metadata": {},
   "outputs": [
    {
     "output_type": "execute_result",
     "data": {
      "text/plain": "0       B03002_001E  B03002_002E  B03002_003E  B03002_004E  B03002_005E  \\\ncount   1084.000000  1084.000000  1084.000000  1084.000000  1084.000000   \nmean    1776.628229   710.664207   497.633764   125.840406     2.641144   \nstd     1178.486503   750.855431   552.644135   210.169670     9.437230   \nmin        0.000000     0.000000     0.000000     0.000000     0.000000   \n25%     1026.750000   177.000000    98.750000     0.000000     0.000000   \n50%     1456.500000   494.500000   331.500000    41.000000     0.000000   \n75%     2199.000000  1008.000000   695.750000   162.000000     0.000000   \nmax    10997.000000  6573.000000  5148.000000  1790.000000    84.000000   \n\n0      B03002_006E  B03002_007E  B03002_008E  B03002_009E  B03002_010E  ...  \\\ncount  1084.000000  1084.000000  1084.000000  1084.000000  1084.000000  ...   \nmean     48.443727     1.465867     2.449262    32.190037     1.858856  ...   \nstd     109.122233    12.040856    10.274362    67.024898    15.140201  ...   \nmin       0.000000     0.000000     0.000000     0.000000     0.000000  ...   \n25%       0.000000     0.000000     0.000000     0.000000     0.000000  ...   \n50%       1.000000     0.000000     0.000000     6.000000     0.000000  ...   \n75%      48.000000     0.000000     0.000000    36.000000     0.000000  ...   \nmax    1547.000000   198.000000   146.000000   686.000000   401.000000  ...   \n\n0      B03002_012E  B03002_013E  B03002_014E  B03002_015E  B03002_016E  \\\ncount  1084.000000  1084.000000  1084.000000  1084.000000  1084.000000   \nmean   1065.964022   918.749077     9.494465     9.562731     1.709410   \nstd     722.850541   645.464586    27.784871    35.336514     8.380465   \nmin       0.000000     0.000000     0.000000     0.000000     0.000000   \n25%     583.000000   469.750000     0.000000     0.000000     0.000000   \n50%     937.000000   803.000000     0.000000     0.000000     0.000000   \n75%    1361.000000  1186.500000     5.000000     0.000000     0.000000   \nmax    5648.000000  4828.000000   324.000000   387.000000   103.000000   \n\n0      B03002_017E  B03002_018E  B03002_019E  B03002_020E  B03002_021E  \ncount  1084.000000  1084.000000  1084.000000  1084.000000  1084.000000  \nmean      0.432657   101.271218    24.744465    12.000000    12.744465  \nstd       3.946091   113.414887    38.120432    23.700501    27.122856  \nmin       0.000000     0.000000     0.000000     0.000000     0.000000  \n25%       0.000000    17.000000     0.000000     0.000000     0.000000  \n50%       0.000000    63.000000     8.000000     0.000000     0.000000  \n75%       0.000000   147.500000    36.000000    16.000000    14.000000  \nmax      91.000000   649.000000   265.000000   238.000000   208.000000  \n\n[8 rows x 21 columns]",
      "text/html": "<div>\n<style scoped>\n    .dataframe tbody tr th:only-of-type {\n        vertical-align: middle;\n    }\n\n    .dataframe tbody tr th {\n        vertical-align: top;\n    }\n\n    .dataframe thead th {\n        text-align: right;\n    }\n</style>\n<table border=\"1\" class=\"dataframe\">\n  <thead>\n    <tr style=\"text-align: right;\">\n      <th></th>\n      <th>B03002_001E</th>\n      <th>B03002_002E</th>\n      <th>B03002_003E</th>\n      <th>B03002_004E</th>\n      <th>B03002_005E</th>\n      <th>B03002_006E</th>\n      <th>B03002_007E</th>\n      <th>B03002_008E</th>\n      <th>B03002_009E</th>\n      <th>B03002_010E</th>\n      <th>...</th>\n      <th>B03002_012E</th>\n      <th>B03002_013E</th>\n      <th>B03002_014E</th>\n      <th>B03002_015E</th>\n      <th>B03002_016E</th>\n      <th>B03002_017E</th>\n      <th>B03002_018E</th>\n      <th>B03002_019E</th>\n      <th>B03002_020E</th>\n      <th>B03002_021E</th>\n    </tr>\n  </thead>\n  <tbody>\n    <tr>\n      <th>count</th>\n      <td>1084.000000</td>\n      <td>1084.000000</td>\n      <td>1084.000000</td>\n      <td>1084.000000</td>\n      <td>1084.000000</td>\n      <td>1084.000000</td>\n      <td>1084.000000</td>\n      <td>1084.000000</td>\n      <td>1084.000000</td>\n      <td>1084.000000</td>\n      <td>...</td>\n      <td>1084.000000</td>\n      <td>1084.000000</td>\n      <td>1084.000000</td>\n      <td>1084.000000</td>\n      <td>1084.000000</td>\n      <td>1084.000000</td>\n      <td>1084.000000</td>\n      <td>1084.000000</td>\n      <td>1084.000000</td>\n      <td>1084.000000</td>\n    </tr>\n    <tr>\n      <th>mean</th>\n      <td>1776.628229</td>\n      <td>710.664207</td>\n      <td>497.633764</td>\n      <td>125.840406</td>\n      <td>2.641144</td>\n      <td>48.443727</td>\n      <td>1.465867</td>\n      <td>2.449262</td>\n      <td>32.190037</td>\n      <td>1.858856</td>\n      <td>...</td>\n      <td>1065.964022</td>\n      <td>918.749077</td>\n      <td>9.494465</td>\n      <td>9.562731</td>\n      <td>1.709410</td>\n      <td>0.432657</td>\n      <td>101.271218</td>\n      <td>24.744465</td>\n      <td>12.000000</td>\n      <td>12.744465</td>\n    </tr>\n    <tr>\n      <th>std</th>\n      <td>1178.486503</td>\n      <td>750.855431</td>\n      <td>552.644135</td>\n      <td>210.169670</td>\n      <td>9.437230</td>\n      <td>109.122233</td>\n      <td>12.040856</td>\n      <td>10.274362</td>\n      <td>67.024898</td>\n      <td>15.140201</td>\n      <td>...</td>\n      <td>722.850541</td>\n      <td>645.464586</td>\n      <td>27.784871</td>\n      <td>35.336514</td>\n      <td>8.380465</td>\n      <td>3.946091</td>\n      <td>113.414887</td>\n      <td>38.120432</td>\n      <td>23.700501</td>\n      <td>27.122856</td>\n    </tr>\n    <tr>\n      <th>min</th>\n      <td>0.000000</td>\n      <td>0.000000</td>\n      <td>0.000000</td>\n      <td>0.000000</td>\n      <td>0.000000</td>\n      <td>0.000000</td>\n      <td>0.000000</td>\n      <td>0.000000</td>\n      <td>0.000000</td>\n      <td>0.000000</td>\n      <td>...</td>\n      <td>0.000000</td>\n      <td>0.000000</td>\n      <td>0.000000</td>\n      <td>0.000000</td>\n      <td>0.000000</td>\n      <td>0.000000</td>\n      <td>0.000000</td>\n      <td>0.000000</td>\n      <td>0.000000</td>\n      <td>0.000000</td>\n    </tr>\n    <tr>\n      <th>25%</th>\n      <td>1026.750000</td>\n      <td>177.000000</td>\n      <td>98.750000</td>\n      <td>0.000000</td>\n      <td>0.000000</td>\n      <td>0.000000</td>\n      <td>0.000000</td>\n      <td>0.000000</td>\n      <td>0.000000</td>\n      <td>0.000000</td>\n      <td>...</td>\n      <td>583.000000</td>\n      <td>469.750000</td>\n      <td>0.000000</td>\n      <td>0.000000</td>\n      <td>0.000000</td>\n      <td>0.000000</td>\n      <td>17.000000</td>\n      <td>0.000000</td>\n      <td>0.000000</td>\n      <td>0.000000</td>\n    </tr>\n    <tr>\n      <th>50%</th>\n      <td>1456.500000</td>\n      <td>494.500000</td>\n      <td>331.500000</td>\n      <td>41.000000</td>\n      <td>0.000000</td>\n      <td>1.000000</td>\n      <td>0.000000</td>\n      <td>0.000000</td>\n      <td>6.000000</td>\n      <td>0.000000</td>\n      <td>...</td>\n      <td>937.000000</td>\n      <td>803.000000</td>\n      <td>0.000000</td>\n      <td>0.000000</td>\n      <td>0.000000</td>\n      <td>0.000000</td>\n      <td>63.000000</td>\n      <td>8.000000</td>\n      <td>0.000000</td>\n      <td>0.000000</td>\n    </tr>\n    <tr>\n      <th>75%</th>\n      <td>2199.000000</td>\n      <td>1008.000000</td>\n      <td>695.750000</td>\n      <td>162.000000</td>\n      <td>0.000000</td>\n      <td>48.000000</td>\n      <td>0.000000</td>\n      <td>0.000000</td>\n      <td>36.000000</td>\n      <td>0.000000</td>\n      <td>...</td>\n      <td>1361.000000</td>\n      <td>1186.500000</td>\n      <td>5.000000</td>\n      <td>0.000000</td>\n      <td>0.000000</td>\n      <td>0.000000</td>\n      <td>147.500000</td>\n      <td>36.000000</td>\n      <td>16.000000</td>\n      <td>14.000000</td>\n    </tr>\n    <tr>\n      <th>max</th>\n      <td>10997.000000</td>\n      <td>6573.000000</td>\n      <td>5148.000000</td>\n      <td>1790.000000</td>\n      <td>84.000000</td>\n      <td>1547.000000</td>\n      <td>198.000000</td>\n      <td>146.000000</td>\n      <td>686.000000</td>\n      <td>401.000000</td>\n      <td>...</td>\n      <td>5648.000000</td>\n      <td>4828.000000</td>\n      <td>324.000000</td>\n      <td>387.000000</td>\n      <td>103.000000</td>\n      <td>91.000000</td>\n      <td>649.000000</td>\n      <td>265.000000</td>\n      <td>238.000000</td>\n      <td>208.000000</td>\n    </tr>\n  </tbody>\n</table>\n<p>8 rows × 21 columns</p>\n</div>"
     },
     "metadata": {},
     "execution_count": 26
    }
   ],
   "source": [
    "df02.describe()"
   ]
  },
  {
   "cell_type": "code",
   "execution_count": 27,
   "metadata": {},
   "outputs": [],
   "source": [
    "race_tot =     'B03002_001E'\n",
    "nh_tot = 'B03002_002E'\n",
    "hl_tot =     'B03002_012E'\n",
    "\n",
    "nh_cols = [\n",
    "    'B03002_002E', \n",
    "    'B03002_003E', \n",
    "    'B03002_004E',\n",
    "    'B03002_005E', \n",
    "    'B03002_006E', \n",
    "    'B03002_007E', \n",
    "    'B03002_008E',\n",
    "    'B03002_009E', \n",
    "    'B03002_010E', \n",
    "    'B03002_011E', \n",
    "]\n",
    "nh_sep = [\n",
    "    'B03002_003E', \n",
    "    'B03002_004E',\n",
    "    'B03002_006E', \n",
    "    \n",
    "]\n",
    "nh_oth = [\n",
    "    'B03002_005E', \n",
    "    'B03002_007E', \n",
    "    'B03002_008E',\n",
    "    'B03002_009E', \n",
    "    'B03002_010E', \n",
    "    'B03002_011E', \n",
    "]\n",
    "hl_cols = [\n",
    "    'B03002_012E',\n",
    "    'B03002_013E', \n",
    "    'B03002_014E', \n",
    "    'B03002_015E', \n",
    "    'B03002_016E',\n",
    "    'B03002_017E', \n",
    "    'B03002_018E', \n",
    "    'B03002_019E', \n",
    "    'B03002_020E',\n",
    "    'B03002_021E'\n",
    "]"
   ]
  },
  {
   "cell_type": "code",
   "execution_count": 28,
   "metadata": {},
   "outputs": [
    {
     "output_type": "execute_result",
     "data": {
      "text/plain": "0\nB03002_002E    770360.0\nB03002_003E    539435.0\nB03002_004E    136411.0\nB03002_005E      2863.0\nB03002_006E     52513.0\nB03002_007E      1589.0\nB03002_008E      2655.0\nB03002_009E     34894.0\nB03002_010E      2015.0\nB03002_011E     32879.0\ndtype: float64"
     },
     "metadata": {},
     "execution_count": 28
    }
   ],
   "source": [
    "df02[nh_cols].sum()"
   ]
  },
  {
   "cell_type": "code",
   "execution_count": 29,
   "metadata": {},
   "outputs": [
    {
     "output_type": "execute_result",
     "data": {
      "text/plain": "0\nB03002_012E    1155505.0\nB03002_013E     995924.0\nB03002_014E      10292.0\nB03002_015E      10366.0\nB03002_016E       1853.0\nB03002_017E        469.0\nB03002_018E     109778.0\nB03002_019E      26823.0\nB03002_020E      13008.0\nB03002_021E      13815.0\ndtype: float64"
     },
     "metadata": {},
     "execution_count": 29
    }
   ],
   "source": [
    "df02[hl_cols].sum()"
   ]
  },
  {
   "cell_type": "code",
   "execution_count": 30,
   "metadata": {},
   "outputs": [],
   "source": [
    "df02['B03002_002E_O'] = df02.B03002_005E + df02.B03002_007E + df02.B03002_008E + df02.B03002_009E "
   ]
  },
  {
   "cell_type": "code",
   "execution_count": 31,
   "metadata": {},
   "outputs": [],
   "source": [
    "df02_keep_cols = [\n",
    "    'B03002_001E',\n",
    "    'B03002_002E',\n",
    "    'B03002_003E', \n",
    "    'B03002_004E',\n",
    "    'B03002_006E', \n",
    "    'B03002_002E_O',\n",
    "    'B03002_012E'\n",
    "]"
   ]
  },
  {
   "cell_type": "code",
   "execution_count": 32,
   "metadata": {},
   "outputs": [],
   "source": [
    "df02 = df02[df02_keep_cols]"
   ]
  },
  {
   "cell_type": "code",
   "execution_count": 33,
   "metadata": {},
   "outputs": [
    {
     "output_type": "execute_result",
     "data": {
      "text/plain": "0\nB03002_001E      1925865.0\nB03002_002E       770360.0\nB03002_003E       539435.0\nB03002_004E       136411.0\nB03002_006E        52513.0\nB03002_002E_O      42001.0\nB03002_012E      1155505.0\ndtype: float64"
     },
     "metadata": {},
     "execution_count": 33
    }
   ],
   "source": [
    "df02.sum()"
   ]
  },
  {
   "cell_type": "code",
   "execution_count": 34,
   "metadata": {},
   "outputs": [
    {
     "output_type": "execute_result",
     "data": {
      "text/plain": "0             B03002_001E  B03002_002E  B03002_003E  B03002_004E  B03002_006E  \\\nblock_group                                                                     \n480291805031        659.0         71.0         71.0          0.0          0.0   \n480291805032       1942.0        252.0        193.0         59.0          0.0   \n480291704013       1676.0        441.0        272.0        169.0          0.0   \n480291704012        730.0         47.0         15.0         32.0          0.0   \n480291914061       2612.0       1652.0       1451.0         21.0         91.0   \n\n0             B03002_002E_O  B03002_012E  \nblock_group                               \n480291805031            0.0        588.0  \n480291805032            0.0       1690.0  \n480291704013            0.0       1235.0  \n480291704012            0.0        683.0  \n480291914061           89.0        960.0  ",
      "text/html": "<div>\n<style scoped>\n    .dataframe tbody tr th:only-of-type {\n        vertical-align: middle;\n    }\n\n    .dataframe tbody tr th {\n        vertical-align: top;\n    }\n\n    .dataframe thead th {\n        text-align: right;\n    }\n</style>\n<table border=\"1\" class=\"dataframe\">\n  <thead>\n    <tr style=\"text-align: right;\">\n      <th></th>\n      <th>B03002_001E</th>\n      <th>B03002_002E</th>\n      <th>B03002_003E</th>\n      <th>B03002_004E</th>\n      <th>B03002_006E</th>\n      <th>B03002_002E_O</th>\n      <th>B03002_012E</th>\n    </tr>\n    <tr>\n      <th>block_group</th>\n      <th></th>\n      <th></th>\n      <th></th>\n      <th></th>\n      <th></th>\n      <th></th>\n      <th></th>\n    </tr>\n  </thead>\n  <tbody>\n    <tr>\n      <th>480291805031</th>\n      <td>659.0</td>\n      <td>71.0</td>\n      <td>71.0</td>\n      <td>0.0</td>\n      <td>0.0</td>\n      <td>0.0</td>\n      <td>588.0</td>\n    </tr>\n    <tr>\n      <th>480291805032</th>\n      <td>1942.0</td>\n      <td>252.0</td>\n      <td>193.0</td>\n      <td>59.0</td>\n      <td>0.0</td>\n      <td>0.0</td>\n      <td>1690.0</td>\n    </tr>\n    <tr>\n      <th>480291704013</th>\n      <td>1676.0</td>\n      <td>441.0</td>\n      <td>272.0</td>\n      <td>169.0</td>\n      <td>0.0</td>\n      <td>0.0</td>\n      <td>1235.0</td>\n    </tr>\n    <tr>\n      <th>480291704012</th>\n      <td>730.0</td>\n      <td>47.0</td>\n      <td>15.0</td>\n      <td>32.0</td>\n      <td>0.0</td>\n      <td>0.0</td>\n      <td>683.0</td>\n    </tr>\n    <tr>\n      <th>480291914061</th>\n      <td>2612.0</td>\n      <td>1652.0</td>\n      <td>1451.0</td>\n      <td>21.0</td>\n      <td>91.0</td>\n      <td>89.0</td>\n      <td>960.0</td>\n    </tr>\n  </tbody>\n</table>\n</div>"
     },
     "metadata": {},
     "execution_count": 34
    }
   ],
   "source": [
    "df02.head()"
   ]
  },
  {
   "cell_type": "code",
   "execution_count": 35,
   "metadata": {},
   "outputs": [],
   "source": [
    "df02.to_csv(dest02, header=True, index=True, index_label='block_group')"
   ]
  },
  {
   "cell_type": "code",
   "execution_count": 36,
   "metadata": {},
   "outputs": [],
   "source": [
    "rdf02=pd.read_csv(dest02).set_index('block_group')"
   ]
  },
  {
   "cell_type": "code",
   "execution_count": 37,
   "metadata": {
    "tags": []
   },
   "outputs": [
    {
     "output_type": "stream",
     "name": "stdout",
     "text": "<class 'pandas.core.frame.DataFrame'>\nInt64Index: 1084 entries, 480291805031 to 480291922002\nData columns (total 7 columns):\n #   Column         Non-Null Count  Dtype  \n---  ------         --------------  -----  \n 0   B03002_001E    1084 non-null   float64\n 1   B03002_002E    1084 non-null   float64\n 2   B03002_003E    1084 non-null   float64\n 3   B03002_004E    1084 non-null   float64\n 4   B03002_006E    1084 non-null   float64\n 5   B03002_002E_O  1084 non-null   float64\n 6   B03002_012E    1084 non-null   float64\ndtypes: float64(7)\nmemory usage: 67.8 KB\n"
    }
   ],
   "source": [
    "rdf02.info()"
   ]
  },
  {
   "cell_type": "code",
   "execution_count": null,
   "metadata": {},
   "outputs": [],
   "source": []
  },
  {
   "cell_type": "markdown",
   "metadata": {},
   "source": [
    "# B08134"
   ]
  },
  {
   "cell_type": "code",
   "execution_count": 38,
   "metadata": {},
   "outputs": [],
   "source": [
    "data03 = 'https://api.census.gov/data/2018/acs/acs5?get=B08134_001E,B08134_002E,B08134_003E,B08134_004E,B08134_005E,B08134_006E,B08134_007E,B08134_008E,B08134_009E,B08134_010E,B08134_011E,B08134_012E,B08134_013E,B08134_014E,B08134_015E,B08134_016E,B08134_017E,B08134_018E,B08134_019E,B08134_020E,B08134_071E,B08134_072E,B08134_073E,B08134_074E,B08134_075E,B08134_076E,B08134_077E,B08134_078E,B08134_079E,B08134_080E&for=block%20group:*&in=state:48&in=county:029&in=tract:*'\n",
    "src03 = '../data_files/census_data/acs5_B08134_TransportByTravelTime.json'\n",
    "dest03 = '../data_files/census_data/acs5_B08134_TransportByTravelTime.csv'"
   ]
  },
  {
   "cell_type": "code",
   "execution_count": 39,
   "metadata": {},
   "outputs": [],
   "source": [
    "df03 = wrangle_acs5(src03)"
   ]
  },
  {
   "cell_type": "code",
   "execution_count": 40,
   "metadata": {},
   "outputs": [
    {
     "output_type": "execute_result",
     "data": {
      "text/plain": "0             B08134_001E  B08134_002E  B08134_003E  B08134_004E  B08134_005E  \\\nblock_group                                                                     \n480291805031        366.0         22.0         21.0         10.0        113.0   \n480291805032        765.0         79.0        108.0         71.0        211.0   \n480291704013        416.0         64.0         28.0          0.0         95.0   \n480291704012        140.0          7.0         16.0         35.0         17.0   \n480291914061       1211.0         99.0         80.0        311.0        199.0   \n\n0             B08134_006E  B08134_007E  B08134_008E  B08134_009E  B08134_010E  \\\nblock_group                                                                     \n480291805031         31.0        164.0          0.0          5.0          0.0   \n480291805032         92.0        130.0         74.0          0.0          0.0   \n480291704013         80.0         72.0         34.0         27.0         16.0   \n480291704012          5.0         41.0          0.0          9.0         10.0   \n480291914061        138.0        196.0        120.0         39.0         29.0   \n\n0             ...  B08134_071E  B08134_072E  B08134_073E  B08134_074E  \\\nblock_group   ...                                                       \n480291805031  ...          5.0          0.0          0.0          0.0   \n480291805032  ...          0.0          0.0          0.0          0.0   \n480291704013  ...         43.0          0.0          0.0          0.0   \n480291704012  ...         30.0          0.0          0.0          0.0   \n480291914061  ...         10.0          0.0          0.0          0.0   \n\n0             B08134_075E  B08134_076E  B08134_077E  B08134_078E  B08134_079E  \\\nblock_group                                                                     \n480291805031          0.0          0.0          0.0          0.0          5.0   \n480291805032          0.0          0.0          0.0          0.0          0.0   \n480291704013          0.0          0.0          0.0          0.0         27.0   \n480291704012         11.0          0.0          0.0          0.0          9.0   \n480291914061          0.0          0.0          0.0          0.0          0.0   \n\n0             B08134_080E  \nblock_group                \n480291805031          0.0  \n480291805032          0.0  \n480291704013         16.0  \n480291704012         10.0  \n480291914061         10.0  \n\n[5 rows x 30 columns]",
      "text/html": "<div>\n<style scoped>\n    .dataframe tbody tr th:only-of-type {\n        vertical-align: middle;\n    }\n\n    .dataframe tbody tr th {\n        vertical-align: top;\n    }\n\n    .dataframe thead th {\n        text-align: right;\n    }\n</style>\n<table border=\"1\" class=\"dataframe\">\n  <thead>\n    <tr style=\"text-align: right;\">\n      <th></th>\n      <th>B08134_001E</th>\n      <th>B08134_002E</th>\n      <th>B08134_003E</th>\n      <th>B08134_004E</th>\n      <th>B08134_005E</th>\n      <th>B08134_006E</th>\n      <th>B08134_007E</th>\n      <th>B08134_008E</th>\n      <th>B08134_009E</th>\n      <th>B08134_010E</th>\n      <th>...</th>\n      <th>B08134_071E</th>\n      <th>B08134_072E</th>\n      <th>B08134_073E</th>\n      <th>B08134_074E</th>\n      <th>B08134_075E</th>\n      <th>B08134_076E</th>\n      <th>B08134_077E</th>\n      <th>B08134_078E</th>\n      <th>B08134_079E</th>\n      <th>B08134_080E</th>\n    </tr>\n    <tr>\n      <th>block_group</th>\n      <th></th>\n      <th></th>\n      <th></th>\n      <th></th>\n      <th></th>\n      <th></th>\n      <th></th>\n      <th></th>\n      <th></th>\n      <th></th>\n      <th></th>\n      <th></th>\n      <th></th>\n      <th></th>\n      <th></th>\n      <th></th>\n      <th></th>\n      <th></th>\n      <th></th>\n      <th></th>\n      <th></th>\n    </tr>\n  </thead>\n  <tbody>\n    <tr>\n      <th>480291805031</th>\n      <td>366.0</td>\n      <td>22.0</td>\n      <td>21.0</td>\n      <td>10.0</td>\n      <td>113.0</td>\n      <td>31.0</td>\n      <td>164.0</td>\n      <td>0.0</td>\n      <td>5.0</td>\n      <td>0.0</td>\n      <td>...</td>\n      <td>5.0</td>\n      <td>0.0</td>\n      <td>0.0</td>\n      <td>0.0</td>\n      <td>0.0</td>\n      <td>0.0</td>\n      <td>0.0</td>\n      <td>0.0</td>\n      <td>5.0</td>\n      <td>0.0</td>\n    </tr>\n    <tr>\n      <th>480291805032</th>\n      <td>765.0</td>\n      <td>79.0</td>\n      <td>108.0</td>\n      <td>71.0</td>\n      <td>211.0</td>\n      <td>92.0</td>\n      <td>130.0</td>\n      <td>74.0</td>\n      <td>0.0</td>\n      <td>0.0</td>\n      <td>...</td>\n      <td>0.0</td>\n      <td>0.0</td>\n      <td>0.0</td>\n      <td>0.0</td>\n      <td>0.0</td>\n      <td>0.0</td>\n      <td>0.0</td>\n      <td>0.0</td>\n      <td>0.0</td>\n      <td>0.0</td>\n    </tr>\n    <tr>\n      <th>480291704013</th>\n      <td>416.0</td>\n      <td>64.0</td>\n      <td>28.0</td>\n      <td>0.0</td>\n      <td>95.0</td>\n      <td>80.0</td>\n      <td>72.0</td>\n      <td>34.0</td>\n      <td>27.0</td>\n      <td>16.0</td>\n      <td>...</td>\n      <td>43.0</td>\n      <td>0.0</td>\n      <td>0.0</td>\n      <td>0.0</td>\n      <td>0.0</td>\n      <td>0.0</td>\n      <td>0.0</td>\n      <td>0.0</td>\n      <td>27.0</td>\n      <td>16.0</td>\n    </tr>\n    <tr>\n      <th>480291704012</th>\n      <td>140.0</td>\n      <td>7.0</td>\n      <td>16.0</td>\n      <td>35.0</td>\n      <td>17.0</td>\n      <td>5.0</td>\n      <td>41.0</td>\n      <td>0.0</td>\n      <td>9.0</td>\n      <td>10.0</td>\n      <td>...</td>\n      <td>30.0</td>\n      <td>0.0</td>\n      <td>0.0</td>\n      <td>0.0</td>\n      <td>11.0</td>\n      <td>0.0</td>\n      <td>0.0</td>\n      <td>0.0</td>\n      <td>9.0</td>\n      <td>10.0</td>\n    </tr>\n    <tr>\n      <th>480291914061</th>\n      <td>1211.0</td>\n      <td>99.0</td>\n      <td>80.0</td>\n      <td>311.0</td>\n      <td>199.0</td>\n      <td>138.0</td>\n      <td>196.0</td>\n      <td>120.0</td>\n      <td>39.0</td>\n      <td>29.0</td>\n      <td>...</td>\n      <td>10.0</td>\n      <td>0.0</td>\n      <td>0.0</td>\n      <td>0.0</td>\n      <td>0.0</td>\n      <td>0.0</td>\n      <td>0.0</td>\n      <td>0.0</td>\n      <td>0.0</td>\n      <td>10.0</td>\n    </tr>\n  </tbody>\n</table>\n<p>5 rows × 30 columns</p>\n</div>"
     },
     "metadata": {},
     "execution_count": 40
    }
   ],
   "source": [
    "df03.head()"
   ]
  },
  {
   "cell_type": "code",
   "execution_count": 41,
   "metadata": {},
   "outputs": [
    {
     "output_type": "execute_result",
     "data": {
      "text/plain": "Index(['B08134_001E', 'B08134_002E', 'B08134_003E', 'B08134_004E',\n       'B08134_005E', 'B08134_006E', 'B08134_007E', 'B08134_008E',\n       'B08134_009E', 'B08134_010E', 'B08134_011E', 'B08134_012E',\n       'B08134_013E', 'B08134_014E', 'B08134_015E', 'B08134_016E',\n       'B08134_017E', 'B08134_018E', 'B08134_019E', 'B08134_020E',\n       'B08134_071E', 'B08134_072E', 'B08134_073E', 'B08134_074E',\n       'B08134_075E', 'B08134_076E', 'B08134_077E', 'B08134_078E',\n       'B08134_079E', 'B08134_080E'],\n      dtype='object', name=0)"
     },
     "metadata": {},
     "execution_count": 41
    }
   ],
   "source": [
    "df03.columns"
   ]
  },
  {
   "cell_type": "code",
   "execution_count": 42,
   "metadata": {},
   "outputs": [
    {
     "output_type": "execute_result",
     "data": {
      "text/plain": "0      B08134_001E  B08134_002E  B08134_003E  B08134_004E  B08134_005E  \\\ncount  1084.000000  1084.000000  1084.000000  1084.000000  1084.000000   \nmean    785.725092    66.654982    96.269373   134.638376   145.437269   \nstd     561.063115    80.400756    90.165792   108.633195   118.951524   \nmin       0.000000     0.000000     0.000000     0.000000     0.000000   \n25%     404.750000    19.750000    35.000000    59.000000    65.000000   \n50%     630.000000    47.000000    74.000000   107.000000   116.500000   \n75%     982.500000    92.250000   129.000000   175.250000   197.250000   \nmax    5011.000000  1492.000000   835.000000   678.000000  1024.000000   \n\n0      B08134_006E  B08134_007E  B08134_008E  B08134_009E  B08134_010E  ...  \\\ncount  1084.000000  1084.000000  1084.000000  1084.000000  1084.000000  ...   \nmean     61.892989   132.795203    50.648524    55.289668    42.098708  ...   \nstd      65.863520   122.796961    68.279091    78.262344    56.968933  ...   \nmin       0.000000     0.000000     0.000000     0.000000     0.000000  ...   \n25%      16.000000    50.000000     4.000000     6.000000     5.000000  ...   \n50%      43.000000    99.000000    27.000000    30.000000    26.000000  ...   \n75%      84.000000   178.250000    68.250000    72.250000    57.250000  ...   \nmax     492.000000   996.000000   507.000000   980.000000   655.000000  ...   \n\n0      B08134_071E  B08134_072E  B08134_073E  B08134_074E  B08134_075E  \\\ncount  1084.000000  1084.000000  1084.000000  1084.000000  1084.000000   \nmean     19.840406     0.640221     0.879151     1.607934     1.440959   \nstd      32.494014     4.090807     4.810266     8.175723     6.155962   \nmin       0.000000     0.000000     0.000000     0.000000     0.000000   \n25%       0.000000     0.000000     0.000000     0.000000     0.000000   \n50%       5.500000     0.000000     0.000000     0.000000     0.000000   \n75%      28.000000     0.000000     0.000000     0.000000     0.000000   \nmax     396.000000    52.000000    69.000000   110.000000    61.000000   \n\n0      B08134_076E  B08134_077E  B08134_078E  B08134_079E  B08134_080E  \ncount  1084.000000  1084.000000  1084.000000  1084.000000  1084.000000  \nmean      0.746310     3.227860     1.190959     2.634686     7.472325  \nstd       5.130003    10.268452     6.002113     9.607118    17.358056  \nmin       0.000000     0.000000     0.000000     0.000000     0.000000  \n25%       0.000000     0.000000     0.000000     0.000000     0.000000  \n50%       0.000000     0.000000     0.000000     0.000000     0.000000  \n75%       0.000000     0.000000     0.000000     0.000000     7.000000  \nmax      85.000000    97.000000    74.000000    90.000000   159.000000  \n\n[8 rows x 30 columns]",
      "text/html": "<div>\n<style scoped>\n    .dataframe tbody tr th:only-of-type {\n        vertical-align: middle;\n    }\n\n    .dataframe tbody tr th {\n        vertical-align: top;\n    }\n\n    .dataframe thead th {\n        text-align: right;\n    }\n</style>\n<table border=\"1\" class=\"dataframe\">\n  <thead>\n    <tr style=\"text-align: right;\">\n      <th></th>\n      <th>B08134_001E</th>\n      <th>B08134_002E</th>\n      <th>B08134_003E</th>\n      <th>B08134_004E</th>\n      <th>B08134_005E</th>\n      <th>B08134_006E</th>\n      <th>B08134_007E</th>\n      <th>B08134_008E</th>\n      <th>B08134_009E</th>\n      <th>B08134_010E</th>\n      <th>...</th>\n      <th>B08134_071E</th>\n      <th>B08134_072E</th>\n      <th>B08134_073E</th>\n      <th>B08134_074E</th>\n      <th>B08134_075E</th>\n      <th>B08134_076E</th>\n      <th>B08134_077E</th>\n      <th>B08134_078E</th>\n      <th>B08134_079E</th>\n      <th>B08134_080E</th>\n    </tr>\n  </thead>\n  <tbody>\n    <tr>\n      <th>count</th>\n      <td>1084.000000</td>\n      <td>1084.000000</td>\n      <td>1084.000000</td>\n      <td>1084.000000</td>\n      <td>1084.000000</td>\n      <td>1084.000000</td>\n      <td>1084.000000</td>\n      <td>1084.000000</td>\n      <td>1084.000000</td>\n      <td>1084.000000</td>\n      <td>...</td>\n      <td>1084.000000</td>\n      <td>1084.000000</td>\n      <td>1084.000000</td>\n      <td>1084.000000</td>\n      <td>1084.000000</td>\n      <td>1084.000000</td>\n      <td>1084.000000</td>\n      <td>1084.000000</td>\n      <td>1084.000000</td>\n      <td>1084.000000</td>\n    </tr>\n    <tr>\n      <th>mean</th>\n      <td>785.725092</td>\n      <td>66.654982</td>\n      <td>96.269373</td>\n      <td>134.638376</td>\n      <td>145.437269</td>\n      <td>61.892989</td>\n      <td>132.795203</td>\n      <td>50.648524</td>\n      <td>55.289668</td>\n      <td>42.098708</td>\n      <td>...</td>\n      <td>19.840406</td>\n      <td>0.640221</td>\n      <td>0.879151</td>\n      <td>1.607934</td>\n      <td>1.440959</td>\n      <td>0.746310</td>\n      <td>3.227860</td>\n      <td>1.190959</td>\n      <td>2.634686</td>\n      <td>7.472325</td>\n    </tr>\n    <tr>\n      <th>std</th>\n      <td>561.063115</td>\n      <td>80.400756</td>\n      <td>90.165792</td>\n      <td>108.633195</td>\n      <td>118.951524</td>\n      <td>65.863520</td>\n      <td>122.796961</td>\n      <td>68.279091</td>\n      <td>78.262344</td>\n      <td>56.968933</td>\n      <td>...</td>\n      <td>32.494014</td>\n      <td>4.090807</td>\n      <td>4.810266</td>\n      <td>8.175723</td>\n      <td>6.155962</td>\n      <td>5.130003</td>\n      <td>10.268452</td>\n      <td>6.002113</td>\n      <td>9.607118</td>\n      <td>17.358056</td>\n    </tr>\n    <tr>\n      <th>min</th>\n      <td>0.000000</td>\n      <td>0.000000</td>\n      <td>0.000000</td>\n      <td>0.000000</td>\n      <td>0.000000</td>\n      <td>0.000000</td>\n      <td>0.000000</td>\n      <td>0.000000</td>\n      <td>0.000000</td>\n      <td>0.000000</td>\n      <td>...</td>\n      <td>0.000000</td>\n      <td>0.000000</td>\n      <td>0.000000</td>\n      <td>0.000000</td>\n      <td>0.000000</td>\n      <td>0.000000</td>\n      <td>0.000000</td>\n      <td>0.000000</td>\n      <td>0.000000</td>\n      <td>0.000000</td>\n    </tr>\n    <tr>\n      <th>25%</th>\n      <td>404.750000</td>\n      <td>19.750000</td>\n      <td>35.000000</td>\n      <td>59.000000</td>\n      <td>65.000000</td>\n      <td>16.000000</td>\n      <td>50.000000</td>\n      <td>4.000000</td>\n      <td>6.000000</td>\n      <td>5.000000</td>\n      <td>...</td>\n      <td>0.000000</td>\n      <td>0.000000</td>\n      <td>0.000000</td>\n      <td>0.000000</td>\n      <td>0.000000</td>\n      <td>0.000000</td>\n      <td>0.000000</td>\n      <td>0.000000</td>\n      <td>0.000000</td>\n      <td>0.000000</td>\n    </tr>\n    <tr>\n      <th>50%</th>\n      <td>630.000000</td>\n      <td>47.000000</td>\n      <td>74.000000</td>\n      <td>107.000000</td>\n      <td>116.500000</td>\n      <td>43.000000</td>\n      <td>99.000000</td>\n      <td>27.000000</td>\n      <td>30.000000</td>\n      <td>26.000000</td>\n      <td>...</td>\n      <td>5.500000</td>\n      <td>0.000000</td>\n      <td>0.000000</td>\n      <td>0.000000</td>\n      <td>0.000000</td>\n      <td>0.000000</td>\n      <td>0.000000</td>\n      <td>0.000000</td>\n      <td>0.000000</td>\n      <td>0.000000</td>\n    </tr>\n    <tr>\n      <th>75%</th>\n      <td>982.500000</td>\n      <td>92.250000</td>\n      <td>129.000000</td>\n      <td>175.250000</td>\n      <td>197.250000</td>\n      <td>84.000000</td>\n      <td>178.250000</td>\n      <td>68.250000</td>\n      <td>72.250000</td>\n      <td>57.250000</td>\n      <td>...</td>\n      <td>28.000000</td>\n      <td>0.000000</td>\n      <td>0.000000</td>\n      <td>0.000000</td>\n      <td>0.000000</td>\n      <td>0.000000</td>\n      <td>0.000000</td>\n      <td>0.000000</td>\n      <td>0.000000</td>\n      <td>7.000000</td>\n    </tr>\n    <tr>\n      <th>max</th>\n      <td>5011.000000</td>\n      <td>1492.000000</td>\n      <td>835.000000</td>\n      <td>678.000000</td>\n      <td>1024.000000</td>\n      <td>492.000000</td>\n      <td>996.000000</td>\n      <td>507.000000</td>\n      <td>980.000000</td>\n      <td>655.000000</td>\n      <td>...</td>\n      <td>396.000000</td>\n      <td>52.000000</td>\n      <td>69.000000</td>\n      <td>110.000000</td>\n      <td>61.000000</td>\n      <td>85.000000</td>\n      <td>97.000000</td>\n      <td>74.000000</td>\n      <td>90.000000</td>\n      <td>159.000000</td>\n    </tr>\n  </tbody>\n</table>\n<p>8 rows × 30 columns</p>\n</div>"
     },
     "metadata": {},
     "execution_count": 42
    }
   ],
   "source": [
    "df03.describe()"
   ]
  },
  {
   "cell_type": "code",
   "execution_count": 43,
   "metadata": {},
   "outputs": [
    {
     "output_type": "execute_result",
     "data": {
      "text/plain": "0\nB08134_001E    851726.0\nB08134_002E     72254.0\nB08134_003E    104356.0\nB08134_004E    145948.0\nB08134_005E    157654.0\nB08134_006E     67092.0\nB08134_007E    143950.0\nB08134_008E     54903.0\nB08134_009E     59934.0\nB08134_010E     45635.0\ndtype: float64"
     },
     "metadata": {},
     "execution_count": 43
    }
   ],
   "source": [
    "df03_all_cols = [\n",
    "    'B08134_001E', 'B08134_002E', 'B08134_003E', 'B08134_004E', 'B08134_005E', \n",
    "    'B08134_006E', 'B08134_007E', 'B08134_008E', 'B08134_009E', 'B08134_010E'\n",
    "]\n",
    "df03[df03_all_cols].sum()"
   ]
  },
  {
   "cell_type": "code",
   "execution_count": 44,
   "metadata": {},
   "outputs": [
    {
     "output_type": "execute_result",
     "data": {
      "text/plain": "0\nB08134_011E    801428.0\nB08134_012E     62295.0\nB08134_013E     97659.0\nB08134_014E    139882.0\nB08134_015E    153749.0\nB08134_016E     65620.0\nB08134_017E    137412.0\nB08134_018E     53072.0\nB08134_019E     55853.0\nB08134_020E     35886.0\ndtype: float64"
     },
     "metadata": {},
     "execution_count": 44
    }
   ],
   "source": [
    "df03_car_cols = [\n",
    "    'B08134_011E', 'B08134_012E', 'B08134_013E', 'B08134_014E', 'B08134_015E', \n",
    "    'B08134_016E', 'B08134_017E', 'B08134_018E', 'B08134_019E', 'B08134_020E'\n",
    "]\n",
    "df03[df03_car_cols].sum()"
   ]
  },
  {
   "cell_type": "code",
   "execution_count": 45,
   "metadata": {},
   "outputs": [
    {
     "output_type": "execute_result",
     "data": {
      "text/plain": "0\nB08134_071E    21507.0\nB08134_072E      694.0\nB08134_073E      953.0\nB08134_074E     1743.0\nB08134_075E     1562.0\nB08134_076E      809.0\nB08134_077E     3499.0\nB08134_078E     1291.0\nB08134_079E     2856.0\nB08134_080E     8100.0\ndtype: float64"
     },
     "metadata": {},
     "execution_count": 45
    }
   ],
   "source": [
    "df03_bus_cols = [\n",
    "    'B08134_071E', 'B08134_072E', 'B08134_073E', 'B08134_074E', 'B08134_075E', \n",
    "    'B08134_076E', 'B08134_077E', 'B08134_078E', 'B08134_079E', 'B08134_080E'\n",
    "]\n",
    "df03[df03_bus_cols].sum()"
   ]
  },
  {
   "cell_type": "code",
   "execution_count": 46,
   "metadata": {},
   "outputs": [],
   "source": [
    "# merge trans_means_time_tot_00_14\n",
    "df03['B08134_003E_M'] = df03['B08134_002E'] + df03['B08134_003E']"
   ]
  },
  {
   "cell_type": "code",
   "execution_count": 47,
   "metadata": {},
   "outputs": [],
   "source": [
    "# merge trans_means_time_tot_15_29\n",
    "df03['B08134_006E_M'] = df03['B08134_004E'] + df03['B08134_005E'] + df03['B08134_006E']"
   ]
  },
  {
   "cell_type": "code",
   "execution_count": 48,
   "metadata": {},
   "outputs": [],
   "source": [
    "# merge trans_means_time_tot_30_59\n",
    "df03['B08134_009E_M'] = df03['B08134_007E'] + df03['B08134_008E'] + df03['B08134_009E']"
   ]
  },
  {
   "cell_type": "code",
   "execution_count": 49,
   "metadata": {},
   "outputs": [],
   "source": [
    "# merge trans_means_time_car_00_14\n",
    "df03['B08134_013E_M'] = df03['B08134_012E'] + df03['B08134_013E']"
   ]
  },
  {
   "cell_type": "code",
   "execution_count": 50,
   "metadata": {},
   "outputs": [],
   "source": [
    "# merge trans_means_time_car_15_29\n",
    "df03['B08134_016E_M'] = df03['B08134_014E'] + df03['B08134_015E'] + df03['B08134_016E']"
   ]
  },
  {
   "cell_type": "code",
   "execution_count": 51,
   "metadata": {},
   "outputs": [],
   "source": [
    "# merge trans_means_time_car_30_59\n",
    "df03['B08134_019E_M'] = df03['B08134_017E'] + df03['B08134_018E'] + df03['B08134_019E']"
   ]
  },
  {
   "cell_type": "code",
   "execution_count": 52,
   "metadata": {},
   "outputs": [],
   "source": [
    "# merge trans_bus_time_00_14\n",
    "df03['B08134_073E_M'] = df03['B08134_072E'] + df03['B08134_073E']"
   ]
  },
  {
   "cell_type": "code",
   "execution_count": 53,
   "metadata": {},
   "outputs": [],
   "source": [
    "# merge trans_bus_time_15_29\n",
    "df03['B08134_076E_M'] = df03['B08134_074E'] + df03['B08134_075E'] + df03['B08134_076E']"
   ]
  },
  {
   "cell_type": "code",
   "execution_count": 54,
   "metadata": {},
   "outputs": [],
   "source": [
    "# merge trans_bus_time_tot_30_59\n",
    "df03['B08134_079E_M'] = df03['B08134_077E'] + df03['B08134_078E'] + df03['B08134_079E']"
   ]
  },
  {
   "cell_type": "code",
   "execution_count": 55,
   "metadata": {},
   "outputs": [],
   "source": [
    "df03_keep_cols = [\n",
    "    'B08134_001E',\n",
    "    'B08134_003E_M', \n",
    "    'B08134_006E_M', \n",
    "    'B08134_009E_M', \n",
    "    'B08134_010E', \n",
    "    'B08134_011E', \n",
    "    'B08134_013E_M', \n",
    "    'B08134_016E_M', \n",
    "    'B08134_019E_M', \n",
    "    'B08134_020E',\n",
    "    'B08134_071E', \n",
    "    'B08134_073E_M', \n",
    "    'B08134_076E_M', \n",
    "    'B08134_079E_M', \n",
    "    'B08134_080E'\n",
    "]"
   ]
  },
  {
   "cell_type": "code",
   "execution_count": 56,
   "metadata": {},
   "outputs": [],
   "source": [
    "df03 = df03[df03_keep_cols]"
   ]
  },
  {
   "cell_type": "code",
   "execution_count": 57,
   "metadata": {},
   "outputs": [
    {
     "output_type": "execute_result",
     "data": {
      "text/plain": "0\nB08134_001E      851726.0\nB08134_003E_M    176610.0\nB08134_006E_M    370694.0\nB08134_009E_M    258787.0\nB08134_010E       45635.0\nB08134_011E      801428.0\nB08134_013E_M    159954.0\nB08134_016E_M    359251.0\nB08134_019E_M    246337.0\nB08134_020E       35886.0\nB08134_071E       21507.0\nB08134_073E_M      1647.0\nB08134_076E_M      4114.0\nB08134_079E_M      7646.0\nB08134_080E        8100.0\ndtype: float64"
     },
     "metadata": {},
     "execution_count": 57
    }
   ],
   "source": [
    "df03.sum()"
   ]
  },
  {
   "cell_type": "code",
   "execution_count": null,
   "metadata": {},
   "outputs": [],
   "source": []
  },
  {
   "cell_type": "code",
   "execution_count": 58,
   "metadata": {},
   "outputs": [],
   "source": [
    "df03.to_csv(dest03, header=True, index=True, index_label='block_group')"
   ]
  },
  {
   "cell_type": "code",
   "execution_count": 59,
   "metadata": {},
   "outputs": [],
   "source": [
    "rdf03=pd.read_csv(dest03).set_index('block_group')"
   ]
  },
  {
   "cell_type": "code",
   "execution_count": 60,
   "metadata": {
    "tags": []
   },
   "outputs": [
    {
     "output_type": "stream",
     "name": "stdout",
     "text": "<class 'pandas.core.frame.DataFrame'>\nInt64Index: 1084 entries, 480291805031 to 480291922002\nData columns (total 15 columns):\n #   Column         Non-Null Count  Dtype  \n---  ------         --------------  -----  \n 0   B08134_001E    1084 non-null   float64\n 1   B08134_003E_M  1084 non-null   float64\n 2   B08134_006E_M  1084 non-null   float64\n 3   B08134_009E_M  1084 non-null   float64\n 4   B08134_010E    1084 non-null   float64\n 5   B08134_011E    1084 non-null   float64\n 6   B08134_013E_M  1084 non-null   float64\n 7   B08134_016E_M  1084 non-null   float64\n 8   B08134_019E_M  1084 non-null   float64\n 9   B08134_020E    1084 non-null   float64\n 10  B08134_071E    1084 non-null   float64\n 11  B08134_073E_M  1084 non-null   float64\n 12  B08134_076E_M  1084 non-null   float64\n 13  B08134_079E_M  1084 non-null   float64\n 14  B08134_080E    1084 non-null   float64\ndtypes: float64(15)\nmemory usage: 135.5 KB\n"
    }
   ],
   "source": [
    "rdf03.info()"
   ]
  },
  {
   "cell_type": "code",
   "execution_count": null,
   "metadata": {},
   "outputs": [],
   "source": []
  },
  {
   "cell_type": "markdown",
   "metadata": {},
   "source": [
    "# B08301"
   ]
  },
  {
   "cell_type": "code",
   "execution_count": 61,
   "metadata": {},
   "outputs": [],
   "source": [
    "data04 = 'https://api.census.gov/data/2018/acs/acs5?get=B08301_001E,B08301_002E,B08301_003E,B08301_004E,B08301_011E&for=block%20group:*&in=state:48&in=county:029&in=tract:*'\n",
    "src04 = '../data_files/census_data/acs5_B08301_TransportationToWork.json'\n",
    "dest04 = '../data_files/census_data/acs5_B08301_TransportationToWork.csv'"
   ]
  },
  {
   "cell_type": "code",
   "execution_count": 62,
   "metadata": {},
   "outputs": [],
   "source": [
    "df04 = wrangle_acs5(src04)"
   ]
  },
  {
   "cell_type": "code",
   "execution_count": 63,
   "metadata": {},
   "outputs": [
    {
     "output_type": "execute_result",
     "data": {
      "text/plain": "0             B08301_001E  B08301_002E  B08301_003E  B08301_004E  B08301_011E  \\\nblock_group                                                                     \n480291805031        366.0        336.0        294.0         42.0          5.0   \n480291805032        777.0        765.0        656.0        109.0          0.0   \n480291704013        416.0        332.0        249.0         83.0         43.0   \n480291704012        140.0        100.0         83.0         17.0         30.0   \n480291914061       1459.0       1189.0       1116.0         73.0         10.0   \n\n0             B08301_021E  \nblock_group                \n480291805031          0.0  \n480291805032         12.0  \n480291704013          0.0  \n480291704012          0.0  \n480291914061        248.0  ",
      "text/html": "<div>\n<style scoped>\n    .dataframe tbody tr th:only-of-type {\n        vertical-align: middle;\n    }\n\n    .dataframe tbody tr th {\n        vertical-align: top;\n    }\n\n    .dataframe thead th {\n        text-align: right;\n    }\n</style>\n<table border=\"1\" class=\"dataframe\">\n  <thead>\n    <tr style=\"text-align: right;\">\n      <th></th>\n      <th>B08301_001E</th>\n      <th>B08301_002E</th>\n      <th>B08301_003E</th>\n      <th>B08301_004E</th>\n      <th>B08301_011E</th>\n      <th>B08301_021E</th>\n    </tr>\n    <tr>\n      <th>block_group</th>\n      <th></th>\n      <th></th>\n      <th></th>\n      <th></th>\n      <th></th>\n      <th></th>\n    </tr>\n  </thead>\n  <tbody>\n    <tr>\n      <th>480291805031</th>\n      <td>366.0</td>\n      <td>336.0</td>\n      <td>294.0</td>\n      <td>42.0</td>\n      <td>5.0</td>\n      <td>0.0</td>\n    </tr>\n    <tr>\n      <th>480291805032</th>\n      <td>777.0</td>\n      <td>765.0</td>\n      <td>656.0</td>\n      <td>109.0</td>\n      <td>0.0</td>\n      <td>12.0</td>\n    </tr>\n    <tr>\n      <th>480291704013</th>\n      <td>416.0</td>\n      <td>332.0</td>\n      <td>249.0</td>\n      <td>83.0</td>\n      <td>43.0</td>\n      <td>0.0</td>\n    </tr>\n    <tr>\n      <th>480291704012</th>\n      <td>140.0</td>\n      <td>100.0</td>\n      <td>83.0</td>\n      <td>17.0</td>\n      <td>30.0</td>\n      <td>0.0</td>\n    </tr>\n    <tr>\n      <th>480291914061</th>\n      <td>1459.0</td>\n      <td>1189.0</td>\n      <td>1116.0</td>\n      <td>73.0</td>\n      <td>10.0</td>\n      <td>248.0</td>\n    </tr>\n  </tbody>\n</table>\n</div>"
     },
     "metadata": {},
     "execution_count": 63
    }
   ],
   "source": [
    "df04.head()"
   ]
  },
  {
   "cell_type": "code",
   "execution_count": 64,
   "metadata": {},
   "outputs": [
    {
     "output_type": "execute_result",
     "data": {
      "text/plain": "Index(['B08301_001E', 'B08301_002E', 'B08301_003E', 'B08301_004E',\n       'B08301_011E', 'B08301_021E'],\n      dtype='object', name=0)"
     },
     "metadata": {},
     "execution_count": 64
    }
   ],
   "source": [
    "df04.columns"
   ]
  },
  {
   "cell_type": "code",
   "execution_count": 65,
   "metadata": {},
   "outputs": [
    {
     "output_type": "execute_result",
     "data": {
      "text/plain": "0      B08301_001E  B08301_002E  B08301_003E  B08301_004E  B08301_011E  \\\ncount  1084.000000  1084.000000  1084.000000  1084.000000  1084.000000   \nmean    820.467712   739.324723   649.805351    89.519373    19.840406   \nstd     597.814465   539.684392   485.258848    87.085383    32.494014   \nmin       0.000000     0.000000     0.000000     0.000000     0.000000   \n25%     419.000000   369.000000   319.750000    31.000000     0.000000   \n50%     650.000000   586.000000   503.000000    67.000000     5.500000   \n75%    1026.750000   949.000000   842.750000   121.000000    28.000000   \nmax    5215.000000  4954.000000  4438.000000   716.000000   396.000000   \n\n0      B08301_021E  \ncount  1084.000000  \nmean     34.742620  \nstd      64.332033  \nmin       0.000000  \n25%       0.000000  \n50%      16.000000  \n75%      46.000000  \nmax    1329.000000  ",
      "text/html": "<div>\n<style scoped>\n    .dataframe tbody tr th:only-of-type {\n        vertical-align: middle;\n    }\n\n    .dataframe tbody tr th {\n        vertical-align: top;\n    }\n\n    .dataframe thead th {\n        text-align: right;\n    }\n</style>\n<table border=\"1\" class=\"dataframe\">\n  <thead>\n    <tr style=\"text-align: right;\">\n      <th></th>\n      <th>B08301_001E</th>\n      <th>B08301_002E</th>\n      <th>B08301_003E</th>\n      <th>B08301_004E</th>\n      <th>B08301_011E</th>\n      <th>B08301_021E</th>\n    </tr>\n  </thead>\n  <tbody>\n    <tr>\n      <th>count</th>\n      <td>1084.000000</td>\n      <td>1084.000000</td>\n      <td>1084.000000</td>\n      <td>1084.000000</td>\n      <td>1084.000000</td>\n      <td>1084.000000</td>\n    </tr>\n    <tr>\n      <th>mean</th>\n      <td>820.467712</td>\n      <td>739.324723</td>\n      <td>649.805351</td>\n      <td>89.519373</td>\n      <td>19.840406</td>\n      <td>34.742620</td>\n    </tr>\n    <tr>\n      <th>std</th>\n      <td>597.814465</td>\n      <td>539.684392</td>\n      <td>485.258848</td>\n      <td>87.085383</td>\n      <td>32.494014</td>\n      <td>64.332033</td>\n    </tr>\n    <tr>\n      <th>min</th>\n      <td>0.000000</td>\n      <td>0.000000</td>\n      <td>0.000000</td>\n      <td>0.000000</td>\n      <td>0.000000</td>\n      <td>0.000000</td>\n    </tr>\n    <tr>\n      <th>25%</th>\n      <td>419.000000</td>\n      <td>369.000000</td>\n      <td>319.750000</td>\n      <td>31.000000</td>\n      <td>0.000000</td>\n      <td>0.000000</td>\n    </tr>\n    <tr>\n      <th>50%</th>\n      <td>650.000000</td>\n      <td>586.000000</td>\n      <td>503.000000</td>\n      <td>67.000000</td>\n      <td>5.500000</td>\n      <td>16.000000</td>\n    </tr>\n    <tr>\n      <th>75%</th>\n      <td>1026.750000</td>\n      <td>949.000000</td>\n      <td>842.750000</td>\n      <td>121.000000</td>\n      <td>28.000000</td>\n      <td>46.000000</td>\n    </tr>\n    <tr>\n      <th>max</th>\n      <td>5215.000000</td>\n      <td>4954.000000</td>\n      <td>4438.000000</td>\n      <td>716.000000</td>\n      <td>396.000000</td>\n      <td>1329.000000</td>\n    </tr>\n  </tbody>\n</table>\n</div>"
     },
     "metadata": {},
     "execution_count": 65
    }
   ],
   "source": [
    "df04.describe()"
   ]
  },
  {
   "cell_type": "code",
   "execution_count": 66,
   "metadata": {},
   "outputs": [
    {
     "output_type": "execute_result",
     "data": {
      "text/plain": "0\nB08301_001E    889387.0\nB08301_002E    801428.0\nB08301_003E    704389.0\nB08301_004E     97039.0\nB08301_011E     21507.0\nB08301_021E     37661.0\ndtype: float64"
     },
     "metadata": {},
     "execution_count": 66
    }
   ],
   "source": [
    "df04.sum()"
   ]
  },
  {
   "cell_type": "code",
   "execution_count": 67,
   "metadata": {},
   "outputs": [],
   "source": [
    "df04.to_csv(dest04, header=True, index=True, index_label='block_group')"
   ]
  },
  {
   "cell_type": "code",
   "execution_count": 68,
   "metadata": {},
   "outputs": [],
   "source": [
    "rdf04=pd.read_csv(dest04).set_index('block_group')"
   ]
  },
  {
   "cell_type": "code",
   "execution_count": 69,
   "metadata": {
    "tags": []
   },
   "outputs": [
    {
     "output_type": "stream",
     "name": "stdout",
     "text": "<class 'pandas.core.frame.DataFrame'>\nInt64Index: 1084 entries, 480291805031 to 480291922002\nData columns (total 6 columns):\n #   Column       Non-Null Count  Dtype  \n---  ------       --------------  -----  \n 0   B08301_001E  1084 non-null   float64\n 1   B08301_002E  1084 non-null   float64\n 2   B08301_003E  1084 non-null   float64\n 3   B08301_004E  1084 non-null   float64\n 4   B08301_011E  1084 non-null   float64\n 5   B08301_021E  1084 non-null   float64\ndtypes: float64(6)\nmemory usage: 59.3 KB\n"
    }
   ],
   "source": [
    "rdf04.info()"
   ]
  },
  {
   "cell_type": "code",
   "execution_count": null,
   "metadata": {},
   "outputs": [],
   "source": []
  },
  {
   "cell_type": "markdown",
   "metadata": {},
   "source": [
    "# B08302"
   ]
  },
  {
   "cell_type": "code",
   "execution_count": 70,
   "metadata": {},
   "outputs": [],
   "source": [
    "data05 = 'https://api.census.gov/data/2018/acs/acs5?get=B08302_001E,B08302_002E,B08302_003E,B08302_004E,B08302_005E,B08302_006E,B08302_007E,B08302_008E,B08302_009E,B08302_010E,B08302_011E,B08302_012E,B08302_013E,B08302_014E,B08302_015E&for=block%20group:*&in=state:48&in=county:029&in=tract:*'\n",
    "src05 = '../data_files/census_data/acs5_B08302_LeaveTimeForWork.json'\n",
    "dest05 = '../data_files/census_data/acs5_B08302_LeaveTimeForWork.csv'"
   ]
  },
  {
   "cell_type": "code",
   "execution_count": 71,
   "metadata": {},
   "outputs": [],
   "source": [
    "df05 = wrangle_acs5(src05)"
   ]
  },
  {
   "cell_type": "code",
   "execution_count": 72,
   "metadata": {},
   "outputs": [
    {
     "output_type": "execute_result",
     "data": {
      "text/plain": "0             B08302_001E  B08302_002E  B08302_003E  B08302_004E  B08302_005E  \\\nblock_group                                                                     \n480291805031        366.0          0.0          0.0         57.0         14.0   \n480291805032        765.0         38.0         26.0        175.0        120.0   \n480291704013        416.0         18.0          0.0          0.0         59.0   \n480291704012        140.0          0.0          0.0          0.0         27.0   \n480291914061       1211.0         20.0         38.0         26.0         58.0   \n\n0             B08302_006E  B08302_007E  B08302_008E  B08302_009E  B08302_010E  \\\nblock_group                                                                     \n480291805031         37.0         97.0         46.0         37.0         20.0   \n480291805032          8.0         79.0         51.0         19.0         24.0   \n480291704013         20.0        135.0         16.0         84.0          0.0   \n480291704012         11.0         48.0          0.0          0.0         10.0   \n480291914061         98.0        305.0        157.0         87.0        150.0   \n\n0             B08302_011E  B08302_012E  B08302_013E  B08302_014E  B08302_015E  \nblock_group                                                                    \n480291805031         10.0          0.0          0.0         46.0          2.0  \n480291805032          0.0         51.0         35.0         68.0         71.0  \n480291704013         41.0          0.0          0.0         34.0          9.0  \n480291704012         13.0          0.0          0.0         21.0         10.0  \n480291914061        105.0         57.0          0.0         70.0         40.0  ",
      "text/html": "<div>\n<style scoped>\n    .dataframe tbody tr th:only-of-type {\n        vertical-align: middle;\n    }\n\n    .dataframe tbody tr th {\n        vertical-align: top;\n    }\n\n    .dataframe thead th {\n        text-align: right;\n    }\n</style>\n<table border=\"1\" class=\"dataframe\">\n  <thead>\n    <tr style=\"text-align: right;\">\n      <th></th>\n      <th>B08302_001E</th>\n      <th>B08302_002E</th>\n      <th>B08302_003E</th>\n      <th>B08302_004E</th>\n      <th>B08302_005E</th>\n      <th>B08302_006E</th>\n      <th>B08302_007E</th>\n      <th>B08302_008E</th>\n      <th>B08302_009E</th>\n      <th>B08302_010E</th>\n      <th>B08302_011E</th>\n      <th>B08302_012E</th>\n      <th>B08302_013E</th>\n      <th>B08302_014E</th>\n      <th>B08302_015E</th>\n    </tr>\n    <tr>\n      <th>block_group</th>\n      <th></th>\n      <th></th>\n      <th></th>\n      <th></th>\n      <th></th>\n      <th></th>\n      <th></th>\n      <th></th>\n      <th></th>\n      <th></th>\n      <th></th>\n      <th></th>\n      <th></th>\n      <th></th>\n      <th></th>\n    </tr>\n  </thead>\n  <tbody>\n    <tr>\n      <th>480291805031</th>\n      <td>366.0</td>\n      <td>0.0</td>\n      <td>0.0</td>\n      <td>57.0</td>\n      <td>14.0</td>\n      <td>37.0</td>\n      <td>97.0</td>\n      <td>46.0</td>\n      <td>37.0</td>\n      <td>20.0</td>\n      <td>10.0</td>\n      <td>0.0</td>\n      <td>0.0</td>\n      <td>46.0</td>\n      <td>2.0</td>\n    </tr>\n    <tr>\n      <th>480291805032</th>\n      <td>765.0</td>\n      <td>38.0</td>\n      <td>26.0</td>\n      <td>175.0</td>\n      <td>120.0</td>\n      <td>8.0</td>\n      <td>79.0</td>\n      <td>51.0</td>\n      <td>19.0</td>\n      <td>24.0</td>\n      <td>0.0</td>\n      <td>51.0</td>\n      <td>35.0</td>\n      <td>68.0</td>\n      <td>71.0</td>\n    </tr>\n    <tr>\n      <th>480291704013</th>\n      <td>416.0</td>\n      <td>18.0</td>\n      <td>0.0</td>\n      <td>0.0</td>\n      <td>59.0</td>\n      <td>20.0</td>\n      <td>135.0</td>\n      <td>16.0</td>\n      <td>84.0</td>\n      <td>0.0</td>\n      <td>41.0</td>\n      <td>0.0</td>\n      <td>0.0</td>\n      <td>34.0</td>\n      <td>9.0</td>\n    </tr>\n    <tr>\n      <th>480291704012</th>\n      <td>140.0</td>\n      <td>0.0</td>\n      <td>0.0</td>\n      <td>0.0</td>\n      <td>27.0</td>\n      <td>11.0</td>\n      <td>48.0</td>\n      <td>0.0</td>\n      <td>0.0</td>\n      <td>10.0</td>\n      <td>13.0</td>\n      <td>0.0</td>\n      <td>0.0</td>\n      <td>21.0</td>\n      <td>10.0</td>\n    </tr>\n    <tr>\n      <th>480291914061</th>\n      <td>1211.0</td>\n      <td>20.0</td>\n      <td>38.0</td>\n      <td>26.0</td>\n      <td>58.0</td>\n      <td>98.0</td>\n      <td>305.0</td>\n      <td>157.0</td>\n      <td>87.0</td>\n      <td>150.0</td>\n      <td>105.0</td>\n      <td>57.0</td>\n      <td>0.0</td>\n      <td>70.0</td>\n      <td>40.0</td>\n    </tr>\n  </tbody>\n</table>\n</div>"
     },
     "metadata": {},
     "execution_count": 72
    }
   ],
   "source": [
    "df05.head()"
   ]
  },
  {
   "cell_type": "code",
   "execution_count": 73,
   "metadata": {},
   "outputs": [
    {
     "output_type": "execute_result",
     "data": {
      "text/plain": "Index(['B08302_001E', 'B08302_002E', 'B08302_003E', 'B08302_004E',\n       'B08302_005E', 'B08302_006E', 'B08302_007E', 'B08302_008E',\n       'B08302_009E', 'B08302_010E', 'B08302_011E', 'B08302_012E',\n       'B08302_013E', 'B08302_014E', 'B08302_015E'],\n      dtype='object', name=0)"
     },
     "metadata": {},
     "execution_count": 73
    }
   ],
   "source": [
    "df05.columns"
   ]
  },
  {
   "cell_type": "code",
   "execution_count": 74,
   "metadata": {},
   "outputs": [
    {
     "output_type": "execute_result",
     "data": {
      "text/plain": "0      B08302_001E  B08302_002E  B08302_003E  B08302_004E  B08302_005E  \\\ncount  1084.000000  1084.000000  1084.000000  1084.000000  1084.000000   \nmean    785.725092    33.860701    27.372694    37.709410    80.691882   \nstd     561.063115    43.794070    40.447102    46.703792    82.866674   \nmin       0.000000     0.000000     0.000000     0.000000     0.000000   \n25%     404.750000     0.000000     0.000000     0.000000    26.000000   \n50%     630.000000    20.000000    15.000000    25.000000    59.000000   \n75%     982.500000    48.000000    39.000000    52.250000   108.250000   \nmax    5011.000000   335.000000   488.000000   551.000000   635.000000   \n\n0      B08302_006E  B08302_007E  B08302_008E  B08302_009E  B08302_010E  \\\ncount  1084.000000  1084.000000  1084.000000  1084.000000  1084.000000   \nmean     84.186347   131.534133    79.960332    79.472325    33.227860   \nstd      86.266194   119.742929    71.196341    77.509623    42.617073   \nmin       0.000000     0.000000     0.000000     0.000000     0.000000   \n25%      28.000000    50.750000    29.750000    26.000000     0.000000   \n50%      60.000000   101.000000    63.000000    59.000000    20.000000   \n75%     114.000000   178.000000   110.250000   107.000000    46.000000   \nmax     763.000000  1090.000000   590.000000   615.000000   400.000000   \n\n0      B08302_011E  B08302_012E  B08302_013E  B08302_014E  B08302_015E  \ncount  1084.000000  1084.000000  1084.000000  1084.000000  1084.000000  \nmean     50.437269    22.304428    11.501845    54.011070    59.454797  \nstd      57.274982    31.226151    21.409842    58.497231    63.005773  \nmin       0.000000     0.000000     0.000000     0.000000     0.000000  \n25%      13.000000     0.000000     0.000000    15.000000    14.000000  \n50%      35.000000    11.000000     0.000000    37.000000    41.000000  \n75%      69.000000    34.000000    16.000000    74.000000    84.000000  \nmax     727.000000   315.000000   219.000000   591.000000   475.000000  ",
      "text/html": "<div>\n<style scoped>\n    .dataframe tbody tr th:only-of-type {\n        vertical-align: middle;\n    }\n\n    .dataframe tbody tr th {\n        vertical-align: top;\n    }\n\n    .dataframe thead th {\n        text-align: right;\n    }\n</style>\n<table border=\"1\" class=\"dataframe\">\n  <thead>\n    <tr style=\"text-align: right;\">\n      <th></th>\n      <th>B08302_001E</th>\n      <th>B08302_002E</th>\n      <th>B08302_003E</th>\n      <th>B08302_004E</th>\n      <th>B08302_005E</th>\n      <th>B08302_006E</th>\n      <th>B08302_007E</th>\n      <th>B08302_008E</th>\n      <th>B08302_009E</th>\n      <th>B08302_010E</th>\n      <th>B08302_011E</th>\n      <th>B08302_012E</th>\n      <th>B08302_013E</th>\n      <th>B08302_014E</th>\n      <th>B08302_015E</th>\n    </tr>\n  </thead>\n  <tbody>\n    <tr>\n      <th>count</th>\n      <td>1084.000000</td>\n      <td>1084.000000</td>\n      <td>1084.000000</td>\n      <td>1084.000000</td>\n      <td>1084.000000</td>\n      <td>1084.000000</td>\n      <td>1084.000000</td>\n      <td>1084.000000</td>\n      <td>1084.000000</td>\n      <td>1084.000000</td>\n      <td>1084.000000</td>\n      <td>1084.000000</td>\n      <td>1084.000000</td>\n      <td>1084.000000</td>\n      <td>1084.000000</td>\n    </tr>\n    <tr>\n      <th>mean</th>\n      <td>785.725092</td>\n      <td>33.860701</td>\n      <td>27.372694</td>\n      <td>37.709410</td>\n      <td>80.691882</td>\n      <td>84.186347</td>\n      <td>131.534133</td>\n      <td>79.960332</td>\n      <td>79.472325</td>\n      <td>33.227860</td>\n      <td>50.437269</td>\n      <td>22.304428</td>\n      <td>11.501845</td>\n      <td>54.011070</td>\n      <td>59.454797</td>\n    </tr>\n    <tr>\n      <th>std</th>\n      <td>561.063115</td>\n      <td>43.794070</td>\n      <td>40.447102</td>\n      <td>46.703792</td>\n      <td>82.866674</td>\n      <td>86.266194</td>\n      <td>119.742929</td>\n      <td>71.196341</td>\n      <td>77.509623</td>\n      <td>42.617073</td>\n      <td>57.274982</td>\n      <td>31.226151</td>\n      <td>21.409842</td>\n      <td>58.497231</td>\n      <td>63.005773</td>\n    </tr>\n    <tr>\n      <th>min</th>\n      <td>0.000000</td>\n      <td>0.000000</td>\n      <td>0.000000</td>\n      <td>0.000000</td>\n      <td>0.000000</td>\n      <td>0.000000</td>\n      <td>0.000000</td>\n      <td>0.000000</td>\n      <td>0.000000</td>\n      <td>0.000000</td>\n      <td>0.000000</td>\n      <td>0.000000</td>\n      <td>0.000000</td>\n      <td>0.000000</td>\n      <td>0.000000</td>\n    </tr>\n    <tr>\n      <th>25%</th>\n      <td>404.750000</td>\n      <td>0.000000</td>\n      <td>0.000000</td>\n      <td>0.000000</td>\n      <td>26.000000</td>\n      <td>28.000000</td>\n      <td>50.750000</td>\n      <td>29.750000</td>\n      <td>26.000000</td>\n      <td>0.000000</td>\n      <td>13.000000</td>\n      <td>0.000000</td>\n      <td>0.000000</td>\n      <td>15.000000</td>\n      <td>14.000000</td>\n    </tr>\n    <tr>\n      <th>50%</th>\n      <td>630.000000</td>\n      <td>20.000000</td>\n      <td>15.000000</td>\n      <td>25.000000</td>\n      <td>59.000000</td>\n      <td>60.000000</td>\n      <td>101.000000</td>\n      <td>63.000000</td>\n      <td>59.000000</td>\n      <td>20.000000</td>\n      <td>35.000000</td>\n      <td>11.000000</td>\n      <td>0.000000</td>\n      <td>37.000000</td>\n      <td>41.000000</td>\n    </tr>\n    <tr>\n      <th>75%</th>\n      <td>982.500000</td>\n      <td>48.000000</td>\n      <td>39.000000</td>\n      <td>52.250000</td>\n      <td>108.250000</td>\n      <td>114.000000</td>\n      <td>178.000000</td>\n      <td>110.250000</td>\n      <td>107.000000</td>\n      <td>46.000000</td>\n      <td>69.000000</td>\n      <td>34.000000</td>\n      <td>16.000000</td>\n      <td>74.000000</td>\n      <td>84.000000</td>\n    </tr>\n    <tr>\n      <th>max</th>\n      <td>5011.000000</td>\n      <td>335.000000</td>\n      <td>488.000000</td>\n      <td>551.000000</td>\n      <td>635.000000</td>\n      <td>763.000000</td>\n      <td>1090.000000</td>\n      <td>590.000000</td>\n      <td>615.000000</td>\n      <td>400.000000</td>\n      <td>727.000000</td>\n      <td>315.000000</td>\n      <td>219.000000</td>\n      <td>591.000000</td>\n      <td>475.000000</td>\n    </tr>\n  </tbody>\n</table>\n</div>"
     },
     "metadata": {},
     "execution_count": 74
    }
   ],
   "source": [
    "df05.describe()"
   ]
  },
  {
   "cell_type": "code",
   "execution_count": 75,
   "metadata": {},
   "outputs": [
    {
     "output_type": "execute_result",
     "data": {
      "text/plain": "0\nB08302_001E    851726.0\nB08302_002E     36705.0\nB08302_003E     29672.0\nB08302_004E     40877.0\nB08302_005E     87470.0\nB08302_006E     91258.0\nB08302_007E    142583.0\nB08302_008E     86677.0\nB08302_009E     86148.0\nB08302_010E     36019.0\nB08302_011E     54674.0\nB08302_012E     24178.0\nB08302_013E     12468.0\nB08302_014E     58548.0\nB08302_015E     64449.0\ndtype: float64"
     },
     "metadata": {},
     "execution_count": 75
    }
   ],
   "source": [
    "df05.sum()"
   ]
  },
  {
   "cell_type": "code",
   "execution_count": 76,
   "metadata": {},
   "outputs": [],
   "source": [
    "# merge time_leave_to_work_05_06\n",
    "df05['B08302_004E_M'] = df05['B08302_003E'] + df05['B08302_004E']"
   ]
  },
  {
   "cell_type": "code",
   "execution_count": 77,
   "metadata": {},
   "outputs": [],
   "source": [
    "# merge time_leave_to_work_06_07\n",
    "df05['B08302_006E_M'] = df05['B08302_005E'] + df05['B08302_006E']"
   ]
  },
  {
   "cell_type": "code",
   "execution_count": 78,
   "metadata": {},
   "outputs": [],
   "source": [
    "# merge time_leave_to_work_07_08\n",
    "df05['B08302_008E_M'] = df05['B08302_007E'] + df05['B08302_008E']"
   ]
  },
  {
   "cell_type": "code",
   "execution_count": 79,
   "metadata": {},
   "outputs": [],
   "source": [
    "# merge time_leave_to_work_08_09\n",
    "df05['B08302_010E_M'] = df05['B08302_009E'] + df05['B08302_010E']"
   ]
  },
  {
   "cell_type": "code",
   "execution_count": 80,
   "metadata": {},
   "outputs": [],
   "source": [
    "# merge time_leave_to_work_10_12\n",
    "df05['B08302_013E_M'] = df05['B08302_012E'] + df05['B08302_013E']"
   ]
  },
  {
   "cell_type": "code",
   "execution_count": 81,
   "metadata": {},
   "outputs": [],
   "source": [
    "df05_keep_cols = [\n",
    "    'B08302_001E', \n",
    "    'B08302_002E', \n",
    "    'B08302_004E_M',\n",
    "    'B08302_006E_M', \n",
    "    'B08302_008E_M',\n",
    "    'B08302_010E_M', \n",
    "    'B08302_011E', \n",
    "    'B08302_013E_M', \n",
    "    'B08302_014E', \n",
    "    'B08302_015E'\n",
    "]"
   ]
  },
  {
   "cell_type": "code",
   "execution_count": 82,
   "metadata": {},
   "outputs": [
    {
     "output_type": "execute_result",
     "data": {
      "text/plain": "0\nB08302_001E      851726.0\nB08302_002E       36705.0\nB08302_004E_M     70549.0\nB08302_006E_M    178728.0\nB08302_008E_M    229260.0\nB08302_010E_M    122167.0\nB08302_011E       54674.0\nB08302_013E_M     36646.0\nB08302_014E       58548.0\nB08302_015E       64449.0\ndtype: float64"
     },
     "metadata": {},
     "execution_count": 82
    }
   ],
   "source": [
    "df05[df05_keep_cols].sum()"
   ]
  },
  {
   "cell_type": "code",
   "execution_count": 83,
   "metadata": {},
   "outputs": [],
   "source": [
    "df05 = df05[df05_keep_cols]"
   ]
  },
  {
   "cell_type": "code",
   "execution_count": null,
   "metadata": {},
   "outputs": [],
   "source": []
  },
  {
   "cell_type": "code",
   "execution_count": null,
   "metadata": {},
   "outputs": [],
   "source": []
  },
  {
   "cell_type": "code",
   "execution_count": 84,
   "metadata": {},
   "outputs": [],
   "source": [
    "df05.to_csv(dest05, header=True, index=True, index_label='block_group')"
   ]
  },
  {
   "cell_type": "code",
   "execution_count": 85,
   "metadata": {},
   "outputs": [],
   "source": [
    "rdf05=pd.read_csv(dest05).set_index('block_group')"
   ]
  },
  {
   "cell_type": "code",
   "execution_count": 86,
   "metadata": {
    "tags": []
   },
   "outputs": [
    {
     "output_type": "stream",
     "name": "stdout",
     "text": "<class 'pandas.core.frame.DataFrame'>\nInt64Index: 1084 entries, 480291805031 to 480291922002\nData columns (total 10 columns):\n #   Column         Non-Null Count  Dtype  \n---  ------         --------------  -----  \n 0   B08302_001E    1084 non-null   float64\n 1   B08302_002E    1084 non-null   float64\n 2   B08302_004E_M  1084 non-null   float64\n 3   B08302_006E_M  1084 non-null   float64\n 4   B08302_008E_M  1084 non-null   float64\n 5   B08302_010E_M  1084 non-null   float64\n 6   B08302_011E    1084 non-null   float64\n 7   B08302_013E_M  1084 non-null   float64\n 8   B08302_014E    1084 non-null   float64\n 9   B08302_015E    1084 non-null   float64\ndtypes: float64(10)\nmemory usage: 93.2 KB\n"
    }
   ],
   "source": [
    "rdf05.info()"
   ]
  },
  {
   "cell_type": "code",
   "execution_count": null,
   "metadata": {},
   "outputs": [],
   "source": []
  },
  {
   "cell_type": "markdown",
   "metadata": {},
   "source": [
    "# B08303"
   ]
  },
  {
   "cell_type": "markdown",
   "metadata": {},
   "source": []
  },
  {
   "cell_type": "code",
   "execution_count": 87,
   "metadata": {},
   "outputs": [],
   "source": [
    "data06 = 'https://api.census.gov/data/2018/acs/acs5?get=B08303_001E,B08303_002E,B08303_003E,B08303_004E,B08303_005E,B08303_006E,B08303_007E,B08303_008E,B08303_009E,B08303_010E,B08303_011E,B08303_012E,B08303_013E&for=block%20group:*&in=state:48&in=county:029&in=tract:*'\n",
    "src06 = '../data_files/census_data/acs5_B08303_TravelTimeToWork.json'\n",
    "dest06 = '../data_files/census_data/acs5_B08303_TravelTimeToWork.csv'"
   ]
  },
  {
   "cell_type": "code",
   "execution_count": 88,
   "metadata": {},
   "outputs": [],
   "source": [
    "df06 = wrangle_acs5(src06)"
   ]
  },
  {
   "cell_type": "code",
   "execution_count": 89,
   "metadata": {},
   "outputs": [
    {
     "output_type": "execute_result",
     "data": {
      "text/plain": "0             B08303_001E  B08303_002E  B08303_003E  B08303_004E  B08303_005E  \\\nblock_group                                                                     \n480291805031        366.0          0.0         22.0         21.0         10.0   \n480291805032        765.0          0.0         79.0        108.0         71.0   \n480291704013        416.0         19.0         45.0         28.0          0.0   \n480291704012        140.0          0.0          7.0         16.0         35.0   \n480291914061       1211.0          0.0         99.0         80.0        311.0   \n\n0             B08303_006E  B08303_007E  B08303_008E  B08303_009E  B08303_010E  \\\nblock_group                                                                     \n480291805031        113.0         31.0        164.0          0.0          0.0   \n480291805032        211.0         92.0        130.0         25.0         49.0   \n480291704013         95.0         80.0         72.0         34.0          0.0   \n480291704012         17.0          5.0         41.0          0.0          0.0   \n480291914061        199.0        138.0        196.0         67.0         53.0   \n\n0             B08303_011E  B08303_012E  B08303_013E  \nblock_group                                          \n480291805031          5.0          0.0          0.0  \n480291805032          0.0          0.0          0.0  \n480291704013         27.0         16.0          0.0  \n480291704012          9.0         10.0          0.0  \n480291914061         39.0          0.0         29.0  ",
      "text/html": "<div>\n<style scoped>\n    .dataframe tbody tr th:only-of-type {\n        vertical-align: middle;\n    }\n\n    .dataframe tbody tr th {\n        vertical-align: top;\n    }\n\n    .dataframe thead th {\n        text-align: right;\n    }\n</style>\n<table border=\"1\" class=\"dataframe\">\n  <thead>\n    <tr style=\"text-align: right;\">\n      <th></th>\n      <th>B08303_001E</th>\n      <th>B08303_002E</th>\n      <th>B08303_003E</th>\n      <th>B08303_004E</th>\n      <th>B08303_005E</th>\n      <th>B08303_006E</th>\n      <th>B08303_007E</th>\n      <th>B08303_008E</th>\n      <th>B08303_009E</th>\n      <th>B08303_010E</th>\n      <th>B08303_011E</th>\n      <th>B08303_012E</th>\n      <th>B08303_013E</th>\n    </tr>\n    <tr>\n      <th>block_group</th>\n      <th></th>\n      <th></th>\n      <th></th>\n      <th></th>\n      <th></th>\n      <th></th>\n      <th></th>\n      <th></th>\n      <th></th>\n      <th></th>\n      <th></th>\n      <th></th>\n      <th></th>\n    </tr>\n  </thead>\n  <tbody>\n    <tr>\n      <th>480291805031</th>\n      <td>366.0</td>\n      <td>0.0</td>\n      <td>22.0</td>\n      <td>21.0</td>\n      <td>10.0</td>\n      <td>113.0</td>\n      <td>31.0</td>\n      <td>164.0</td>\n      <td>0.0</td>\n      <td>0.0</td>\n      <td>5.0</td>\n      <td>0.0</td>\n      <td>0.0</td>\n    </tr>\n    <tr>\n      <th>480291805032</th>\n      <td>765.0</td>\n      <td>0.0</td>\n      <td>79.0</td>\n      <td>108.0</td>\n      <td>71.0</td>\n      <td>211.0</td>\n      <td>92.0</td>\n      <td>130.0</td>\n      <td>25.0</td>\n      <td>49.0</td>\n      <td>0.0</td>\n      <td>0.0</td>\n      <td>0.0</td>\n    </tr>\n    <tr>\n      <th>480291704013</th>\n      <td>416.0</td>\n      <td>19.0</td>\n      <td>45.0</td>\n      <td>28.0</td>\n      <td>0.0</td>\n      <td>95.0</td>\n      <td>80.0</td>\n      <td>72.0</td>\n      <td>34.0</td>\n      <td>0.0</td>\n      <td>27.0</td>\n      <td>16.0</td>\n      <td>0.0</td>\n    </tr>\n    <tr>\n      <th>480291704012</th>\n      <td>140.0</td>\n      <td>0.0</td>\n      <td>7.0</td>\n      <td>16.0</td>\n      <td>35.0</td>\n      <td>17.0</td>\n      <td>5.0</td>\n      <td>41.0</td>\n      <td>0.0</td>\n      <td>0.0</td>\n      <td>9.0</td>\n      <td>10.0</td>\n      <td>0.0</td>\n    </tr>\n    <tr>\n      <th>480291914061</th>\n      <td>1211.0</td>\n      <td>0.0</td>\n      <td>99.0</td>\n      <td>80.0</td>\n      <td>311.0</td>\n      <td>199.0</td>\n      <td>138.0</td>\n      <td>196.0</td>\n      <td>67.0</td>\n      <td>53.0</td>\n      <td>39.0</td>\n      <td>0.0</td>\n      <td>29.0</td>\n    </tr>\n  </tbody>\n</table>\n</div>"
     },
     "metadata": {},
     "execution_count": 89
    }
   ],
   "source": [
    "df06.head()"
   ]
  },
  {
   "cell_type": "code",
   "execution_count": 90,
   "metadata": {},
   "outputs": [
    {
     "output_type": "execute_result",
     "data": {
      "text/plain": "Index(['B08303_001E', 'B08303_002E', 'B08303_003E', 'B08303_004E',\n       'B08303_005E', 'B08303_006E', 'B08303_007E', 'B08303_008E',\n       'B08303_009E', 'B08303_010E', 'B08303_011E', 'B08303_012E',\n       'B08303_013E'],\n      dtype='object', name=0)"
     },
     "metadata": {},
     "execution_count": 90
    }
   ],
   "source": [
    "df06.columns"
   ]
  },
  {
   "cell_type": "code",
   "execution_count": 91,
   "metadata": {},
   "outputs": [
    {
     "output_type": "execute_result",
     "data": {
      "text/plain": "0      B08303_001E  B08303_002E  B08303_003E  B08303_004E  B08303_005E  \\\ncount  1084.000000  1084.000000  1084.000000  1084.000000  1084.000000   \nmean    785.725092    11.661439    54.993542    96.269373   134.638376   \nstd     561.063115    24.011938    69.193527    90.165792   108.633195   \nmin       0.000000     0.000000     0.000000     0.000000     0.000000   \n25%     404.750000     0.000000    13.750000    35.000000    59.000000   \n50%     630.000000     0.000000    38.000000    74.000000   107.000000   \n75%     982.500000    14.250000    75.250000   129.000000   175.250000   \nmax    5011.000000   278.000000  1214.000000   835.000000   678.000000   \n\n0      B08303_006E  B08303_007E  B08303_008E  B08303_009E  B08303_010E  \\\ncount  1084.000000  1084.000000  1084.000000  1084.000000  1084.000000   \nmean    145.437269    61.892989   132.795203    22.761993    27.886531   \nstd     118.951524    65.863520   122.796961    35.620870    43.215805   \nmin       0.000000     0.000000     0.000000     0.000000     0.000000   \n25%      65.000000    16.000000    50.000000     0.000000     0.000000   \n50%     116.500000    43.000000    99.000000     9.000000    12.000000   \n75%     197.250000    84.000000   178.250000    34.000000    36.000000   \nmax    1024.000000   492.000000   996.000000   303.000000   356.000000   \n\n0      B08303_011E  B08303_012E  B08303_013E  \ncount  1084.000000  1084.000000  1084.000000  \nmean     55.289668    27.385609    14.713100  \nstd      78.262344    43.548986    27.228213  \nmin       0.000000     0.000000     0.000000  \n25%       6.000000     0.000000     0.000000  \n50%      30.000000    14.000000     0.000000  \n75%      72.250000    36.000000    20.000000  \nmax     980.000000   496.000000   346.000000  ",
      "text/html": "<div>\n<style scoped>\n    .dataframe tbody tr th:only-of-type {\n        vertical-align: middle;\n    }\n\n    .dataframe tbody tr th {\n        vertical-align: top;\n    }\n\n    .dataframe thead th {\n        text-align: right;\n    }\n</style>\n<table border=\"1\" class=\"dataframe\">\n  <thead>\n    <tr style=\"text-align: right;\">\n      <th></th>\n      <th>B08303_001E</th>\n      <th>B08303_002E</th>\n      <th>B08303_003E</th>\n      <th>B08303_004E</th>\n      <th>B08303_005E</th>\n      <th>B08303_006E</th>\n      <th>B08303_007E</th>\n      <th>B08303_008E</th>\n      <th>B08303_009E</th>\n      <th>B08303_010E</th>\n      <th>B08303_011E</th>\n      <th>B08303_012E</th>\n      <th>B08303_013E</th>\n    </tr>\n  </thead>\n  <tbody>\n    <tr>\n      <th>count</th>\n      <td>1084.000000</td>\n      <td>1084.000000</td>\n      <td>1084.000000</td>\n      <td>1084.000000</td>\n      <td>1084.000000</td>\n      <td>1084.000000</td>\n      <td>1084.000000</td>\n      <td>1084.000000</td>\n      <td>1084.000000</td>\n      <td>1084.000000</td>\n      <td>1084.000000</td>\n      <td>1084.000000</td>\n      <td>1084.000000</td>\n    </tr>\n    <tr>\n      <th>mean</th>\n      <td>785.725092</td>\n      <td>11.661439</td>\n      <td>54.993542</td>\n      <td>96.269373</td>\n      <td>134.638376</td>\n      <td>145.437269</td>\n      <td>61.892989</td>\n      <td>132.795203</td>\n      <td>22.761993</td>\n      <td>27.886531</td>\n      <td>55.289668</td>\n      <td>27.385609</td>\n      <td>14.713100</td>\n    </tr>\n    <tr>\n      <th>std</th>\n      <td>561.063115</td>\n      <td>24.011938</td>\n      <td>69.193527</td>\n      <td>90.165792</td>\n      <td>108.633195</td>\n      <td>118.951524</td>\n      <td>65.863520</td>\n      <td>122.796961</td>\n      <td>35.620870</td>\n      <td>43.215805</td>\n      <td>78.262344</td>\n      <td>43.548986</td>\n      <td>27.228213</td>\n    </tr>\n    <tr>\n      <th>min</th>\n      <td>0.000000</td>\n      <td>0.000000</td>\n      <td>0.000000</td>\n      <td>0.000000</td>\n      <td>0.000000</td>\n      <td>0.000000</td>\n      <td>0.000000</td>\n      <td>0.000000</td>\n      <td>0.000000</td>\n      <td>0.000000</td>\n      <td>0.000000</td>\n      <td>0.000000</td>\n      <td>0.000000</td>\n    </tr>\n    <tr>\n      <th>25%</th>\n      <td>404.750000</td>\n      <td>0.000000</td>\n      <td>13.750000</td>\n      <td>35.000000</td>\n      <td>59.000000</td>\n      <td>65.000000</td>\n      <td>16.000000</td>\n      <td>50.000000</td>\n      <td>0.000000</td>\n      <td>0.000000</td>\n      <td>6.000000</td>\n      <td>0.000000</td>\n      <td>0.000000</td>\n    </tr>\n    <tr>\n      <th>50%</th>\n      <td>630.000000</td>\n      <td>0.000000</td>\n      <td>38.000000</td>\n      <td>74.000000</td>\n      <td>107.000000</td>\n      <td>116.500000</td>\n      <td>43.000000</td>\n      <td>99.000000</td>\n      <td>9.000000</td>\n      <td>12.000000</td>\n      <td>30.000000</td>\n      <td>14.000000</td>\n      <td>0.000000</td>\n    </tr>\n    <tr>\n      <th>75%</th>\n      <td>982.500000</td>\n      <td>14.250000</td>\n      <td>75.250000</td>\n      <td>129.000000</td>\n      <td>175.250000</td>\n      <td>197.250000</td>\n      <td>84.000000</td>\n      <td>178.250000</td>\n      <td>34.000000</td>\n      <td>36.000000</td>\n      <td>72.250000</td>\n      <td>36.000000</td>\n      <td>20.000000</td>\n    </tr>\n    <tr>\n      <th>max</th>\n      <td>5011.000000</td>\n      <td>278.000000</td>\n      <td>1214.000000</td>\n      <td>835.000000</td>\n      <td>678.000000</td>\n      <td>1024.000000</td>\n      <td>492.000000</td>\n      <td>996.000000</td>\n      <td>303.000000</td>\n      <td>356.000000</td>\n      <td>980.000000</td>\n      <td>496.000000</td>\n      <td>346.000000</td>\n    </tr>\n  </tbody>\n</table>\n</div>"
     },
     "metadata": {},
     "execution_count": 91
    }
   ],
   "source": [
    "df06.describe()"
   ]
  },
  {
   "cell_type": "code",
   "execution_count": 92,
   "metadata": {},
   "outputs": [
    {
     "output_type": "execute_result",
     "data": {
      "text/plain": "0\nB08303_001E    851726.0\nB08303_002E     12641.0\nB08303_003E     59613.0\nB08303_004E    104356.0\nB08303_005E    145948.0\nB08303_006E    157654.0\nB08303_007E     67092.0\nB08303_008E    143950.0\nB08303_009E     24674.0\nB08303_010E     30229.0\nB08303_011E     59934.0\nB08303_012E     29686.0\nB08303_013E     15949.0\ndtype: float64"
     },
     "metadata": {},
     "execution_count": 92
    }
   ],
   "source": [
    "df06.sum()"
   ]
  },
  {
   "cell_type": "code",
   "execution_count": null,
   "metadata": {},
   "outputs": [],
   "source": []
  },
  {
   "cell_type": "code",
   "execution_count": 93,
   "metadata": {},
   "outputs": [],
   "source": [
    "# merge trans_means_time_tot_00_14\n",
    "df06['B08303_004E_M'] = df06['B08303_002E'] + df06['B08303_003E'] + df06['B08303_004E']"
   ]
  },
  {
   "cell_type": "code",
   "execution_count": 94,
   "metadata": {},
   "outputs": [],
   "source": [
    "# merge trans_means_time_tot_15_29\n",
    "df06['B08303_007E_M'] = df06['B08303_005E'] + df06['B08303_006E'] + df06['B08303_007E']"
   ]
  },
  {
   "cell_type": "code",
   "execution_count": 95,
   "metadata": {},
   "outputs": [],
   "source": [
    "# merge trans_means_time_tot_30_59\n",
    "df06['B08303_011E_M'] = df06['B08303_008E'] + df06['B08303_009E'] + df06['B08303_010E'] + df06['B08303_011E']"
   ]
  },
  {
   "cell_type": "code",
   "execution_count": 96,
   "metadata": {},
   "outputs": [],
   "source": [
    "# merge travel_time_60_plus\n",
    "df06['B08303_013E_M'] = df06['B08303_012E'] + df06['B08303_013E']"
   ]
  },
  {
   "cell_type": "code",
   "execution_count": null,
   "metadata": {},
   "outputs": [],
   "source": []
  },
  {
   "cell_type": "code",
   "execution_count": null,
   "metadata": {},
   "outputs": [],
   "source": []
  },
  {
   "cell_type": "code",
   "execution_count": 97,
   "metadata": {},
   "outputs": [],
   "source": [
    "df06_keep_cols = [\n",
    "    'B08303_001E', \n",
    "    'B08303_004E_M', \n",
    "    'B08303_007E_M', \n",
    "    'B08303_011E_M', \n",
    "    'B08303_013E_M'\n",
    "]"
   ]
  },
  {
   "cell_type": "code",
   "execution_count": 98,
   "metadata": {},
   "outputs": [
    {
     "output_type": "execute_result",
     "data": {
      "text/plain": "0\nB08303_001E      851726.0\nB08303_004E_M    176610.0\nB08303_007E_M    370694.0\nB08303_011E_M    258787.0\nB08303_013E_M     45635.0\ndtype: float64"
     },
     "metadata": {},
     "execution_count": 98
    }
   ],
   "source": [
    "df06[df06_keep_cols].sum()"
   ]
  },
  {
   "cell_type": "code",
   "execution_count": 99,
   "metadata": {},
   "outputs": [],
   "source": [
    "df06 = df06[df06_keep_cols]"
   ]
  },
  {
   "cell_type": "code",
   "execution_count": 100,
   "metadata": {},
   "outputs": [],
   "source": [
    "df06.to_csv(dest06, header=True, index=True, index_label='block_group')"
   ]
  },
  {
   "cell_type": "code",
   "execution_count": 101,
   "metadata": {},
   "outputs": [],
   "source": [
    "rdf06=pd.read_csv(dest06).set_index('block_group')"
   ]
  },
  {
   "cell_type": "code",
   "execution_count": 102,
   "metadata": {
    "tags": []
   },
   "outputs": [
    {
     "output_type": "stream",
     "name": "stdout",
     "text": "<class 'pandas.core.frame.DataFrame'>\nInt64Index: 1084 entries, 480291805031 to 480291922002\nData columns (total 5 columns):\n #   Column         Non-Null Count  Dtype  \n---  ------         --------------  -----  \n 0   B08303_001E    1084 non-null   float64\n 1   B08303_004E_M  1084 non-null   float64\n 2   B08303_007E_M  1084 non-null   float64\n 3   B08303_011E_M  1084 non-null   float64\n 4   B08303_013E_M  1084 non-null   float64\ndtypes: float64(5)\nmemory usage: 50.8 KB\n"
    }
   ],
   "source": [
    "rdf06.info()"
   ]
  },
  {
   "cell_type": "code",
   "execution_count": null,
   "metadata": {},
   "outputs": [],
   "source": []
  },
  {
   "cell_type": "markdown",
   "metadata": {},
   "source": [
    "# B19001"
   ]
  },
  {
   "cell_type": "code",
   "execution_count": 103,
   "metadata": {},
   "outputs": [],
   "source": [
    "data07 = 'https://api.census.gov/data/2018/acs/acs5?get=B19001_001E,B19001_002E,B19001_003E,B19001_004E,B19001_005E,B19001_006E,B19001_007E,B19001_008E,B19001_009E,B19001_010E,B19001_011E,B19001_012E,B19001_013E,B19001_014E,B19001_015E,B19001_016E,B19001_017E&for=block%20group:*&in=state:48&in=county:029&in=tract:*'\n",
    "src07 = '../data_files/census_data/acs5_B19001_HouseholdIncome.json'\n",
    "dest07 = '../data_files/census_data/acs5_B19001_HouseholdIncome.csv'"
   ]
  },
  {
   "cell_type": "code",
   "execution_count": 104,
   "metadata": {},
   "outputs": [],
   "source": [
    "df07 = wrangle_acs5(src07)"
   ]
  },
  {
   "cell_type": "code",
   "execution_count": 105,
   "metadata": {},
   "outputs": [
    {
     "output_type": "execute_result",
     "data": {
      "text/plain": "0             B19001_001E  B19001_002E  B19001_003E  B19001_004E  B19001_005E  \\\nblock_group                                                                     \n480291805031        240.0         10.0          0.0          0.0          8.0   \n480291805032        536.0         33.0         17.0         31.0         68.0   \n480291704013        409.0        130.0         46.0        117.0         18.0   \n480291704012        190.0         57.0         34.0          8.0         20.0   \n480291914061       1133.0          0.0          0.0         35.0         21.0   \n\n0             B19001_006E  B19001_007E  B19001_008E  B19001_009E  B19001_010E  \\\nblock_group                                                                     \n480291805031          9.0          0.0         20.0         11.0          0.0   \n480291805032         34.0          0.0         26.0         20.0         11.0   \n480291704013          0.0         19.0         18.0         14.0         22.0   \n480291704012         14.0          0.0          0.0          0.0          0.0   \n480291914061        111.0         50.0         42.0         11.0         14.0   \n\n0             B19001_011E  B19001_012E  B19001_013E  B19001_014E  B19001_015E  \\\nblock_group                                                                     \n480291805031         40.0         70.0         54.0         10.0          0.0   \n480291805032         24.0        143.0         77.0         38.0          0.0   \n480291704013          9.0          0.0          4.0         12.0          0.0   \n480291704012         19.0         18.0         20.0          0.0          0.0   \n480291914061         71.0         46.0        141.0        178.0        120.0   \n\n0             B19001_016E  B19001_017E  \nblock_group                             \n480291805031          8.0          0.0  \n480291805032         14.0          0.0  \n480291704013          0.0          0.0  \n480291704012          0.0          0.0  \n480291914061         81.0        212.0  ",
      "text/html": "<div>\n<style scoped>\n    .dataframe tbody tr th:only-of-type {\n        vertical-align: middle;\n    }\n\n    .dataframe tbody tr th {\n        vertical-align: top;\n    }\n\n    .dataframe thead th {\n        text-align: right;\n    }\n</style>\n<table border=\"1\" class=\"dataframe\">\n  <thead>\n    <tr style=\"text-align: right;\">\n      <th></th>\n      <th>B19001_001E</th>\n      <th>B19001_002E</th>\n      <th>B19001_003E</th>\n      <th>B19001_004E</th>\n      <th>B19001_005E</th>\n      <th>B19001_006E</th>\n      <th>B19001_007E</th>\n      <th>B19001_008E</th>\n      <th>B19001_009E</th>\n      <th>B19001_010E</th>\n      <th>B19001_011E</th>\n      <th>B19001_012E</th>\n      <th>B19001_013E</th>\n      <th>B19001_014E</th>\n      <th>B19001_015E</th>\n      <th>B19001_016E</th>\n      <th>B19001_017E</th>\n    </tr>\n    <tr>\n      <th>block_group</th>\n      <th></th>\n      <th></th>\n      <th></th>\n      <th></th>\n      <th></th>\n      <th></th>\n      <th></th>\n      <th></th>\n      <th></th>\n      <th></th>\n      <th></th>\n      <th></th>\n      <th></th>\n      <th></th>\n      <th></th>\n      <th></th>\n      <th></th>\n    </tr>\n  </thead>\n  <tbody>\n    <tr>\n      <th>480291805031</th>\n      <td>240.0</td>\n      <td>10.0</td>\n      <td>0.0</td>\n      <td>0.0</td>\n      <td>8.0</td>\n      <td>9.0</td>\n      <td>0.0</td>\n      <td>20.0</td>\n      <td>11.0</td>\n      <td>0.0</td>\n      <td>40.0</td>\n      <td>70.0</td>\n      <td>54.0</td>\n      <td>10.0</td>\n      <td>0.0</td>\n      <td>8.0</td>\n      <td>0.0</td>\n    </tr>\n    <tr>\n      <th>480291805032</th>\n      <td>536.0</td>\n      <td>33.0</td>\n      <td>17.0</td>\n      <td>31.0</td>\n      <td>68.0</td>\n      <td>34.0</td>\n      <td>0.0</td>\n      <td>26.0</td>\n      <td>20.0</td>\n      <td>11.0</td>\n      <td>24.0</td>\n      <td>143.0</td>\n      <td>77.0</td>\n      <td>38.0</td>\n      <td>0.0</td>\n      <td>14.0</td>\n      <td>0.0</td>\n    </tr>\n    <tr>\n      <th>480291704013</th>\n      <td>409.0</td>\n      <td>130.0</td>\n      <td>46.0</td>\n      <td>117.0</td>\n      <td>18.0</td>\n      <td>0.0</td>\n      <td>19.0</td>\n      <td>18.0</td>\n      <td>14.0</td>\n      <td>22.0</td>\n      <td>9.0</td>\n      <td>0.0</td>\n      <td>4.0</td>\n      <td>12.0</td>\n      <td>0.0</td>\n      <td>0.0</td>\n      <td>0.0</td>\n    </tr>\n    <tr>\n      <th>480291704012</th>\n      <td>190.0</td>\n      <td>57.0</td>\n      <td>34.0</td>\n      <td>8.0</td>\n      <td>20.0</td>\n      <td>14.0</td>\n      <td>0.0</td>\n      <td>0.0</td>\n      <td>0.0</td>\n      <td>0.0</td>\n      <td>19.0</td>\n      <td>18.0</td>\n      <td>20.0</td>\n      <td>0.0</td>\n      <td>0.0</td>\n      <td>0.0</td>\n      <td>0.0</td>\n    </tr>\n    <tr>\n      <th>480291914061</th>\n      <td>1133.0</td>\n      <td>0.0</td>\n      <td>0.0</td>\n      <td>35.0</td>\n      <td>21.0</td>\n      <td>111.0</td>\n      <td>50.0</td>\n      <td>42.0</td>\n      <td>11.0</td>\n      <td>14.0</td>\n      <td>71.0</td>\n      <td>46.0</td>\n      <td>141.0</td>\n      <td>178.0</td>\n      <td>120.0</td>\n      <td>81.0</td>\n      <td>212.0</td>\n    </tr>\n  </tbody>\n</table>\n</div>"
     },
     "metadata": {},
     "execution_count": 105
    }
   ],
   "source": [
    "df07.head()"
   ]
  },
  {
   "cell_type": "code",
   "execution_count": 106,
   "metadata": {},
   "outputs": [
    {
     "output_type": "execute_result",
     "data": {
      "text/plain": "Index(['B19001_001E', 'B19001_002E', 'B19001_003E', 'B19001_004E',\n       'B19001_005E', 'B19001_006E', 'B19001_007E', 'B19001_008E',\n       'B19001_009E', 'B19001_010E', 'B19001_011E', 'B19001_012E',\n       'B19001_013E', 'B19001_014E', 'B19001_015E', 'B19001_016E',\n       'B19001_017E'],\n      dtype='object', name=0)"
     },
     "metadata": {},
     "execution_count": 106
    }
   ],
   "source": [
    "df07.columns"
   ]
  },
  {
   "cell_type": "code",
   "execution_count": 107,
   "metadata": {},
   "outputs": [
    {
     "output_type": "execute_result",
     "data": {
      "text/plain": "0      B19001_001E  B19001_002E  B19001_003E  B19001_004E  B19001_005E  \\\ncount  1084.000000  1084.000000  1084.000000  1084.000000  1084.000000   \nmean    583.555351    41.899446    26.924354    27.913284    29.468635   \nstd     374.096444    48.922877    31.150482    32.141709    31.671967   \nmin       0.000000     0.000000     0.000000     0.000000     0.000000   \n25%     333.750000    11.000000     0.000000     0.000000     5.000000   \n50%     481.000000    28.000000    17.000000    19.000000    20.000000   \n75%     729.250000    57.000000    40.000000    41.000000    45.000000   \nmax    3663.000000   479.000000   231.000000   288.000000   219.000000   \n\n0      B19001_006E  B19001_007E  B19001_008E  B19001_009E  B19001_010E  \\\ncount  1084.000000  1084.000000  1084.000000  1084.000000  1084.000000   \nmean     29.745387    29.195572    27.861624    26.334871    23.414207   \nstd      34.216109    33.218193    31.036024    29.544955    26.368071   \nmin       0.000000     0.000000     0.000000     0.000000     0.000000   \n25%       7.000000     6.000000     7.000000     5.750000     0.000000   \n50%      19.500000    20.000000    18.000000    18.500000    16.000000   \n75%      40.250000    42.000000    39.000000    36.250000    33.250000   \nmax     311.000000   306.000000   220.000000   232.000000   189.000000   \n\n0      B19001_011E  B19001_012E  B19001_013E  B19001_014E  B19001_015E  \\\ncount  1084.000000  1084.000000  1084.000000  1084.000000  1084.000000   \nmean     50.083026    59.092251    73.012915    48.154059    32.139299   \nstd      46.954690    57.770942    73.801860    58.351605    46.490658   \nmin       0.000000     0.000000     0.000000     0.000000     0.000000   \n25%      19.000000    21.000000    22.750000     8.000000     0.000000   \n50%      38.000000    44.000000    51.000000    30.000000    15.000000   \n75%      68.000000    79.000000   105.000000    67.000000    43.000000   \nmax     383.000000   547.000000   594.000000   582.000000   489.000000   \n\n0      B19001_016E  B19001_017E  \ncount  1084.000000  1084.000000  \nmean     28.846863    29.469557  \nstd      49.574874    65.598671  \nmin       0.000000     0.000000  \n25%       0.000000     0.000000  \n50%      10.000000     0.000000  \n75%      36.000000    28.000000  \nmax     519.000000   754.000000  ",
      "text/html": "<div>\n<style scoped>\n    .dataframe tbody tr th:only-of-type {\n        vertical-align: middle;\n    }\n\n    .dataframe tbody tr th {\n        vertical-align: top;\n    }\n\n    .dataframe thead th {\n        text-align: right;\n    }\n</style>\n<table border=\"1\" class=\"dataframe\">\n  <thead>\n    <tr style=\"text-align: right;\">\n      <th></th>\n      <th>B19001_001E</th>\n      <th>B19001_002E</th>\n      <th>B19001_003E</th>\n      <th>B19001_004E</th>\n      <th>B19001_005E</th>\n      <th>B19001_006E</th>\n      <th>B19001_007E</th>\n      <th>B19001_008E</th>\n      <th>B19001_009E</th>\n      <th>B19001_010E</th>\n      <th>B19001_011E</th>\n      <th>B19001_012E</th>\n      <th>B19001_013E</th>\n      <th>B19001_014E</th>\n      <th>B19001_015E</th>\n      <th>B19001_016E</th>\n      <th>B19001_017E</th>\n    </tr>\n  </thead>\n  <tbody>\n    <tr>\n      <th>count</th>\n      <td>1084.000000</td>\n      <td>1084.000000</td>\n      <td>1084.000000</td>\n      <td>1084.000000</td>\n      <td>1084.000000</td>\n      <td>1084.000000</td>\n      <td>1084.000000</td>\n      <td>1084.000000</td>\n      <td>1084.000000</td>\n      <td>1084.000000</td>\n      <td>1084.000000</td>\n      <td>1084.000000</td>\n      <td>1084.000000</td>\n      <td>1084.000000</td>\n      <td>1084.000000</td>\n      <td>1084.000000</td>\n      <td>1084.000000</td>\n    </tr>\n    <tr>\n      <th>mean</th>\n      <td>583.555351</td>\n      <td>41.899446</td>\n      <td>26.924354</td>\n      <td>27.913284</td>\n      <td>29.468635</td>\n      <td>29.745387</td>\n      <td>29.195572</td>\n      <td>27.861624</td>\n      <td>26.334871</td>\n      <td>23.414207</td>\n      <td>50.083026</td>\n      <td>59.092251</td>\n      <td>73.012915</td>\n      <td>48.154059</td>\n      <td>32.139299</td>\n      <td>28.846863</td>\n      <td>29.469557</td>\n    </tr>\n    <tr>\n      <th>std</th>\n      <td>374.096444</td>\n      <td>48.922877</td>\n      <td>31.150482</td>\n      <td>32.141709</td>\n      <td>31.671967</td>\n      <td>34.216109</td>\n      <td>33.218193</td>\n      <td>31.036024</td>\n      <td>29.544955</td>\n      <td>26.368071</td>\n      <td>46.954690</td>\n      <td>57.770942</td>\n      <td>73.801860</td>\n      <td>58.351605</td>\n      <td>46.490658</td>\n      <td>49.574874</td>\n      <td>65.598671</td>\n    </tr>\n    <tr>\n      <th>min</th>\n      <td>0.000000</td>\n      <td>0.000000</td>\n      <td>0.000000</td>\n      <td>0.000000</td>\n      <td>0.000000</td>\n      <td>0.000000</td>\n      <td>0.000000</td>\n      <td>0.000000</td>\n      <td>0.000000</td>\n      <td>0.000000</td>\n      <td>0.000000</td>\n      <td>0.000000</td>\n      <td>0.000000</td>\n      <td>0.000000</td>\n      <td>0.000000</td>\n      <td>0.000000</td>\n      <td>0.000000</td>\n    </tr>\n    <tr>\n      <th>25%</th>\n      <td>333.750000</td>\n      <td>11.000000</td>\n      <td>0.000000</td>\n      <td>0.000000</td>\n      <td>5.000000</td>\n      <td>7.000000</td>\n      <td>6.000000</td>\n      <td>7.000000</td>\n      <td>5.750000</td>\n      <td>0.000000</td>\n      <td>19.000000</td>\n      <td>21.000000</td>\n      <td>22.750000</td>\n      <td>8.000000</td>\n      <td>0.000000</td>\n      <td>0.000000</td>\n      <td>0.000000</td>\n    </tr>\n    <tr>\n      <th>50%</th>\n      <td>481.000000</td>\n      <td>28.000000</td>\n      <td>17.000000</td>\n      <td>19.000000</td>\n      <td>20.000000</td>\n      <td>19.500000</td>\n      <td>20.000000</td>\n      <td>18.000000</td>\n      <td>18.500000</td>\n      <td>16.000000</td>\n      <td>38.000000</td>\n      <td>44.000000</td>\n      <td>51.000000</td>\n      <td>30.000000</td>\n      <td>15.000000</td>\n      <td>10.000000</td>\n      <td>0.000000</td>\n    </tr>\n    <tr>\n      <th>75%</th>\n      <td>729.250000</td>\n      <td>57.000000</td>\n      <td>40.000000</td>\n      <td>41.000000</td>\n      <td>45.000000</td>\n      <td>40.250000</td>\n      <td>42.000000</td>\n      <td>39.000000</td>\n      <td>36.250000</td>\n      <td>33.250000</td>\n      <td>68.000000</td>\n      <td>79.000000</td>\n      <td>105.000000</td>\n      <td>67.000000</td>\n      <td>43.000000</td>\n      <td>36.000000</td>\n      <td>28.000000</td>\n    </tr>\n    <tr>\n      <th>max</th>\n      <td>3663.000000</td>\n      <td>479.000000</td>\n      <td>231.000000</td>\n      <td>288.000000</td>\n      <td>219.000000</td>\n      <td>311.000000</td>\n      <td>306.000000</td>\n      <td>220.000000</td>\n      <td>232.000000</td>\n      <td>189.000000</td>\n      <td>383.000000</td>\n      <td>547.000000</td>\n      <td>594.000000</td>\n      <td>582.000000</td>\n      <td>489.000000</td>\n      <td>519.000000</td>\n      <td>754.000000</td>\n    </tr>\n  </tbody>\n</table>\n</div>"
     },
     "metadata": {},
     "execution_count": 107
    }
   ],
   "source": [
    "df07.describe()"
   ]
  },
  {
   "cell_type": "code",
   "execution_count": 108,
   "metadata": {},
   "outputs": [
    {
     "output_type": "execute_result",
     "data": {
      "text/plain": "0\nB19001_001E    632574.0\nB19001_002E     45419.0\nB19001_003E     29186.0\nB19001_004E     30258.0\nB19001_005E     31944.0\nB19001_006E     32244.0\nB19001_007E     31648.0\nB19001_008E     30202.0\nB19001_009E     28547.0\nB19001_010E     25381.0\nB19001_011E     54290.0\nB19001_012E     64056.0\nB19001_013E     79146.0\nB19001_014E     52199.0\nB19001_015E     34839.0\nB19001_016E     31270.0\nB19001_017E     31945.0\ndtype: float64"
     },
     "metadata": {},
     "execution_count": 108
    }
   ],
   "source": [
    "df07.sum()"
   ]
  },
  {
   "cell_type": "code",
   "execution_count": null,
   "metadata": {},
   "outputs": [],
   "source": []
  },
  {
   "cell_type": "code",
   "execution_count": 109,
   "metadata": {},
   "outputs": [],
   "source": [
    "# merge house_ann_inc_010_025\n",
    "df07['B19001_005E_M'] = df07.B19001_003E + df07.B19001_004E + df07.B19001_005E"
   ]
  },
  {
   "cell_type": "code",
   "execution_count": 110,
   "metadata": {},
   "outputs": [],
   "source": [
    "# merge house_ann_inc_025_050\n",
    "df07['B19001_010E_M'] = df07.B19001_006E + df07.B19001_007E + df07.B19001_008E + df07.B19001_009E + df07.B19001_010E"
   ]
  },
  {
   "cell_type": "code",
   "execution_count": 111,
   "metadata": {},
   "outputs": [],
   "source": [
    "# merge house_ann_inc_050_100\n",
    "df07['B19001_013E_M'] = df07.B19001_011E + df07.B19001_012E + df07.B19001_013E"
   ]
  },
  {
   "cell_type": "code",
   "execution_count": 112,
   "metadata": {},
   "outputs": [],
   "source": [
    "# merge house_ann_inc_100_200\n",
    "df07['B19001_016E_M'] = df07.B19001_014E + df07.B19001_015E + df07.B19001_016E"
   ]
  },
  {
   "cell_type": "code",
   "execution_count": null,
   "metadata": {},
   "outputs": [],
   "source": []
  },
  {
   "cell_type": "code",
   "execution_count": null,
   "metadata": {},
   "outputs": [],
   "source": []
  },
  {
   "cell_type": "code",
   "execution_count": 113,
   "metadata": {},
   "outputs": [],
   "source": [
    "df07_keep_cols = [\n",
    "    'B19001_001E', \n",
    "    'B19001_002E', \n",
    "    'B19001_005E_M', \n",
    "    'B19001_010E_M', \n",
    "    'B19001_013E_M', \n",
    "    'B19001_016E_M',\n",
    "    'B19001_017E'\n",
    "]"
   ]
  },
  {
   "cell_type": "code",
   "execution_count": 114,
   "metadata": {},
   "outputs": [
    {
     "output_type": "execute_result",
     "data": {
      "text/plain": "0\nB19001_001E      632574.0\nB19001_002E       45419.0\nB19001_005E_M     91388.0\nB19001_010E_M    148022.0\nB19001_013E_M    197492.0\nB19001_016E_M    118308.0\nB19001_017E       31945.0\ndtype: float64"
     },
     "metadata": {},
     "execution_count": 114
    }
   ],
   "source": [
    "df07[df07_keep_cols].sum()"
   ]
  },
  {
   "cell_type": "code",
   "execution_count": 115,
   "metadata": {},
   "outputs": [],
   "source": [
    "df07 = df07[df07_keep_cols]"
   ]
  },
  {
   "cell_type": "code",
   "execution_count": 116,
   "metadata": {},
   "outputs": [],
   "source": [
    "df07.to_csv(dest07, header=True, index=True, index_label='block_group')"
   ]
  },
  {
   "cell_type": "code",
   "execution_count": 117,
   "metadata": {},
   "outputs": [],
   "source": [
    "rdf07=pd.read_csv(dest07).set_index('block_group')"
   ]
  },
  {
   "cell_type": "code",
   "execution_count": 118,
   "metadata": {
    "tags": []
   },
   "outputs": [
    {
     "output_type": "stream",
     "name": "stdout",
     "text": "<class 'pandas.core.frame.DataFrame'>\nInt64Index: 1084 entries, 480291805031 to 480291922002\nData columns (total 7 columns):\n #   Column         Non-Null Count  Dtype  \n---  ------         --------------  -----  \n 0   B19001_001E    1084 non-null   float64\n 1   B19001_002E    1084 non-null   float64\n 2   B19001_005E_M  1084 non-null   float64\n 3   B19001_010E_M  1084 non-null   float64\n 4   B19001_013E_M  1084 non-null   float64\n 5   B19001_016E_M  1084 non-null   float64\n 6   B19001_017E    1084 non-null   float64\ndtypes: float64(7)\nmemory usage: 67.8 KB\n"
    }
   ],
   "source": [
    "rdf07.info()"
   ]
  },
  {
   "cell_type": "code",
   "execution_count": null,
   "metadata": {},
   "outputs": [],
   "source": []
  },
  {
   "cell_type": "markdown",
   "metadata": {},
   "source": [
    "# B1905x"
   ]
  },
  {
   "cell_type": "code",
   "execution_count": 119,
   "metadata": {},
   "outputs": [],
   "source": [
    "data08 = 'https://api.census.gov/data/2018/acs/acs5?get=B19051_001E,B19051_002E,B19051_003E,B19052_001E,B19052_002E,B19052_003E,B19053_001E,B19053_002E,B19053_003E,B19054_001E,B19054_002E,B19054_003E,B19055_001E,B19055_002E,B19055_003E,B19056_001E,B19056_002E,B19056_003E,B19057_001E,B19057_002E,B19057_003E,B19058_001E,B19058_002E,B19058_003E,B19059_001E,B19059_002E,B19059_003E,B19060_001E,B19060_002E,B19060_003E&for=block%20group:*&in=state:48&in=county:029&in=tract:*'\n",
    "src08 = '../data_files/census_data/acs5_B1905x_IncomeTypeByHousehold.json'\n",
    "dest08 = '../data_files/census_data/acs5_B1905x_IncomeTypeByHousehold.csv'"
   ]
  },
  {
   "cell_type": "code",
   "execution_count": 120,
   "metadata": {},
   "outputs": [],
   "source": [
    "df08 = wrangle_acs5(src08)"
   ]
  },
  {
   "cell_type": "code",
   "execution_count": 121,
   "metadata": {},
   "outputs": [
    {
     "output_type": "execute_result",
     "data": {
      "text/plain": "0             B19051_001E  B19051_002E  B19051_003E  B19052_001E  B19052_002E  \\\nblock_group                                                                     \n480291805031        240.0        203.0         37.0        240.0        203.0   \n480291805032        536.0        422.0        114.0        536.0        422.0   \n480291704013        409.0        272.0        137.0        409.0        272.0   \n480291704012        190.0        120.0         70.0        190.0        120.0   \n480291914061       1133.0        963.0        170.0       1133.0        904.0   \n\n0             B19052_003E  B19053_001E  B19053_002E  B19053_003E  B19054_001E  \\\nblock_group                                                                     \n480291805031         37.0        240.0          0.0        240.0        240.0   \n480291805032        114.0        536.0         16.0        520.0        536.0   \n480291704013        137.0        409.0         12.0        397.0        409.0   \n480291704012         70.0        190.0         16.0        174.0        190.0   \n480291914061        229.0       1133.0        180.0        953.0       1133.0   \n\n0             ...  B19057_003E  B19058_001E  B19058_002E  B19058_003E  \\\nblock_group   ...                                                       \n480291805031  ...        230.0        240.0         20.0        220.0   \n480291805032  ...        528.0        536.0         36.0        500.0   \n480291704013  ...        393.0        409.0        232.0        177.0   \n480291704012  ...        185.0        190.0         72.0        118.0   \n480291914061  ...       1133.0       1133.0          0.0       1133.0   \n\n0             B19059_001E  B19059_002E  B19059_003E  B19060_001E  B19060_002E  \\\nblock_group                                                                     \n480291805031        240.0         63.0        177.0        240.0         10.0   \n480291805032        536.0        141.0        395.0        536.0         82.0   \n480291704013        409.0         65.0        344.0        409.0         43.0   \n480291704012        190.0         45.0        145.0        190.0         12.0   \n480291914061       1133.0        352.0        781.0       1133.0         72.0   \n\n0             B19060_003E  \nblock_group                \n480291805031        230.0  \n480291805032        454.0  \n480291704013        366.0  \n480291704012        178.0  \n480291914061       1061.0  \n\n[5 rows x 30 columns]",
      "text/html": "<div>\n<style scoped>\n    .dataframe tbody tr th:only-of-type {\n        vertical-align: middle;\n    }\n\n    .dataframe tbody tr th {\n        vertical-align: top;\n    }\n\n    .dataframe thead th {\n        text-align: right;\n    }\n</style>\n<table border=\"1\" class=\"dataframe\">\n  <thead>\n    <tr style=\"text-align: right;\">\n      <th></th>\n      <th>B19051_001E</th>\n      <th>B19051_002E</th>\n      <th>B19051_003E</th>\n      <th>B19052_001E</th>\n      <th>B19052_002E</th>\n      <th>B19052_003E</th>\n      <th>B19053_001E</th>\n      <th>B19053_002E</th>\n      <th>B19053_003E</th>\n      <th>B19054_001E</th>\n      <th>...</th>\n      <th>B19057_003E</th>\n      <th>B19058_001E</th>\n      <th>B19058_002E</th>\n      <th>B19058_003E</th>\n      <th>B19059_001E</th>\n      <th>B19059_002E</th>\n      <th>B19059_003E</th>\n      <th>B19060_001E</th>\n      <th>B19060_002E</th>\n      <th>B19060_003E</th>\n    </tr>\n    <tr>\n      <th>block_group</th>\n      <th></th>\n      <th></th>\n      <th></th>\n      <th></th>\n      <th></th>\n      <th></th>\n      <th></th>\n      <th></th>\n      <th></th>\n      <th></th>\n      <th></th>\n      <th></th>\n      <th></th>\n      <th></th>\n      <th></th>\n      <th></th>\n      <th></th>\n      <th></th>\n      <th></th>\n      <th></th>\n      <th></th>\n    </tr>\n  </thead>\n  <tbody>\n    <tr>\n      <th>480291805031</th>\n      <td>240.0</td>\n      <td>203.0</td>\n      <td>37.0</td>\n      <td>240.0</td>\n      <td>203.0</td>\n      <td>37.0</td>\n      <td>240.0</td>\n      <td>0.0</td>\n      <td>240.0</td>\n      <td>240.0</td>\n      <td>...</td>\n      <td>230.0</td>\n      <td>240.0</td>\n      <td>20.0</td>\n      <td>220.0</td>\n      <td>240.0</td>\n      <td>63.0</td>\n      <td>177.0</td>\n      <td>240.0</td>\n      <td>10.0</td>\n      <td>230.0</td>\n    </tr>\n    <tr>\n      <th>480291805032</th>\n      <td>536.0</td>\n      <td>422.0</td>\n      <td>114.0</td>\n      <td>536.0</td>\n      <td>422.0</td>\n      <td>114.0</td>\n      <td>536.0</td>\n      <td>16.0</td>\n      <td>520.0</td>\n      <td>536.0</td>\n      <td>...</td>\n      <td>528.0</td>\n      <td>536.0</td>\n      <td>36.0</td>\n      <td>500.0</td>\n      <td>536.0</td>\n      <td>141.0</td>\n      <td>395.0</td>\n      <td>536.0</td>\n      <td>82.0</td>\n      <td>454.0</td>\n    </tr>\n    <tr>\n      <th>480291704013</th>\n      <td>409.0</td>\n      <td>272.0</td>\n      <td>137.0</td>\n      <td>409.0</td>\n      <td>272.0</td>\n      <td>137.0</td>\n      <td>409.0</td>\n      <td>12.0</td>\n      <td>397.0</td>\n      <td>409.0</td>\n      <td>...</td>\n      <td>393.0</td>\n      <td>409.0</td>\n      <td>232.0</td>\n      <td>177.0</td>\n      <td>409.0</td>\n      <td>65.0</td>\n      <td>344.0</td>\n      <td>409.0</td>\n      <td>43.0</td>\n      <td>366.0</td>\n    </tr>\n    <tr>\n      <th>480291704012</th>\n      <td>190.0</td>\n      <td>120.0</td>\n      <td>70.0</td>\n      <td>190.0</td>\n      <td>120.0</td>\n      <td>70.0</td>\n      <td>190.0</td>\n      <td>16.0</td>\n      <td>174.0</td>\n      <td>190.0</td>\n      <td>...</td>\n      <td>185.0</td>\n      <td>190.0</td>\n      <td>72.0</td>\n      <td>118.0</td>\n      <td>190.0</td>\n      <td>45.0</td>\n      <td>145.0</td>\n      <td>190.0</td>\n      <td>12.0</td>\n      <td>178.0</td>\n    </tr>\n    <tr>\n      <th>480291914061</th>\n      <td>1133.0</td>\n      <td>963.0</td>\n      <td>170.0</td>\n      <td>1133.0</td>\n      <td>904.0</td>\n      <td>229.0</td>\n      <td>1133.0</td>\n      <td>180.0</td>\n      <td>953.0</td>\n      <td>1133.0</td>\n      <td>...</td>\n      <td>1133.0</td>\n      <td>1133.0</td>\n      <td>0.0</td>\n      <td>1133.0</td>\n      <td>1133.0</td>\n      <td>352.0</td>\n      <td>781.0</td>\n      <td>1133.0</td>\n      <td>72.0</td>\n      <td>1061.0</td>\n    </tr>\n  </tbody>\n</table>\n<p>5 rows × 30 columns</p>\n</div>"
     },
     "metadata": {},
     "execution_count": 121
    }
   ],
   "source": [
    "df08.head()"
   ]
  },
  {
   "cell_type": "code",
   "execution_count": 122,
   "metadata": {},
   "outputs": [
    {
     "output_type": "execute_result",
     "data": {
      "text/plain": "Index(['B19051_001E', 'B19051_002E', 'B19051_003E', 'B19052_001E',\n       'B19052_002E', 'B19052_003E', 'B19053_001E', 'B19053_002E',\n       'B19053_003E', 'B19054_001E', 'B19054_002E', 'B19054_003E',\n       'B19055_001E', 'B19055_002E', 'B19055_003E', 'B19056_001E',\n       'B19056_002E', 'B19056_003E', 'B19057_001E', 'B19057_002E',\n       'B19057_003E', 'B19058_001E', 'B19058_002E', 'B19058_003E',\n       'B19059_001E', 'B19059_002E', 'B19059_003E', 'B19060_001E',\n       'B19060_002E', 'B19060_003E'],\n      dtype='object', name=0)"
     },
     "metadata": {},
     "execution_count": 122
    }
   ],
   "source": [
    "df08.columns"
   ]
  },
  {
   "cell_type": "code",
   "execution_count": 123,
   "metadata": {},
   "outputs": [
    {
     "output_type": "execute_result",
     "data": {
      "text/plain": "0      B19051_001E  B19051_002E  B19051_003E  B19052_001E  B19052_002E  \\\ncount  1084.000000  1084.000000  1084.000000  1084.000000  1084.000000   \nmean    583.555351   473.077491   110.477860   583.555351   456.482472   \nstd     374.096444   336.705566    78.487294   374.096444   331.098678   \nmin       0.000000     0.000000     0.000000     0.000000     0.000000   \n25%     333.750000   249.000000    61.000000   333.750000   236.750000   \n50%     481.000000   372.000000    95.000000   481.000000   359.500000   \n75%     729.250000   595.250000   139.000000   729.250000   578.000000   \nmax    3663.000000  3081.000000   918.000000  3663.000000  3008.000000   \n\n0      B19052_003E  B19053_001E  B19053_002E  B19053_003E  B19054_001E  ...  \\\ncount  1084.000000  1084.000000  1084.000000  1084.000000  1084.000000  ...   \nmean    127.072878   583.555351    58.086716   525.468635   583.555351  ...   \nstd      84.541014   374.096444    52.395381   341.487812   374.096444  ...   \nmin       0.000000     0.000000     0.000000     0.000000     0.000000  ...   \n25%      71.000000   333.750000    21.000000   301.000000   333.750000  ...   \n50%     113.000000   481.000000    46.000000   431.500000   481.000000  ...   \n75%     162.000000   729.250000    80.000000   660.250000   729.250000  ...   \nmax     984.000000  3663.000000   525.000000  3138.000000  3663.000000  ...   \n\n0      B19057_003E  B19058_001E  B19058_002E  B19058_003E  B19059_001E  \\\ncount  1084.000000  1084.000000  1084.000000  1084.000000  1084.000000   \nmean    573.646679   583.555351    79.344096   504.211255   583.555351   \nstd     371.335206   374.096444    76.125502   364.626702   374.096444   \nmin       0.000000     0.000000     0.000000     0.000000     0.000000   \n25%     327.000000   333.750000    25.000000   263.750000   333.750000   \n50%     466.500000   481.000000    57.500000   395.000000   481.000000   \n75%     719.000000   729.250000   110.000000   628.000000   729.250000   \nmax    3591.000000  3663.000000   581.000000  3546.000000  3663.000000   \n\n0      B19059_002E  B19059_003E  B19060_001E  B19060_002E  B19060_003E  \ncount  1084.000000  1084.000000  1084.000000  1084.000000  1084.000000  \nmean    101.596863   481.958487   583.555351    83.067343   500.488007  \nstd      86.533192   320.472811   374.096444    82.469044   315.556164  \nmin       0.000000     0.000000     0.000000     0.000000     0.000000  \n25%      44.000000   271.000000   333.750000    30.000000   290.000000  \n50%      79.000000   391.500000   481.000000    60.000000   416.000000  \n75%     132.000000   603.500000   729.250000   111.000000   629.500000  \nmax     843.000000  2832.000000  3663.000000   677.000000  2986.000000  \n\n[8 rows x 30 columns]",
      "text/html": "<div>\n<style scoped>\n    .dataframe tbody tr th:only-of-type {\n        vertical-align: middle;\n    }\n\n    .dataframe tbody tr th {\n        vertical-align: top;\n    }\n\n    .dataframe thead th {\n        text-align: right;\n    }\n</style>\n<table border=\"1\" class=\"dataframe\">\n  <thead>\n    <tr style=\"text-align: right;\">\n      <th></th>\n      <th>B19051_001E</th>\n      <th>B19051_002E</th>\n      <th>B19051_003E</th>\n      <th>B19052_001E</th>\n      <th>B19052_002E</th>\n      <th>B19052_003E</th>\n      <th>B19053_001E</th>\n      <th>B19053_002E</th>\n      <th>B19053_003E</th>\n      <th>B19054_001E</th>\n      <th>...</th>\n      <th>B19057_003E</th>\n      <th>B19058_001E</th>\n      <th>B19058_002E</th>\n      <th>B19058_003E</th>\n      <th>B19059_001E</th>\n      <th>B19059_002E</th>\n      <th>B19059_003E</th>\n      <th>B19060_001E</th>\n      <th>B19060_002E</th>\n      <th>B19060_003E</th>\n    </tr>\n  </thead>\n  <tbody>\n    <tr>\n      <th>count</th>\n      <td>1084.000000</td>\n      <td>1084.000000</td>\n      <td>1084.000000</td>\n      <td>1084.000000</td>\n      <td>1084.000000</td>\n      <td>1084.000000</td>\n      <td>1084.000000</td>\n      <td>1084.000000</td>\n      <td>1084.000000</td>\n      <td>1084.000000</td>\n      <td>...</td>\n      <td>1084.000000</td>\n      <td>1084.000000</td>\n      <td>1084.000000</td>\n      <td>1084.000000</td>\n      <td>1084.000000</td>\n      <td>1084.000000</td>\n      <td>1084.000000</td>\n      <td>1084.000000</td>\n      <td>1084.000000</td>\n      <td>1084.000000</td>\n    </tr>\n    <tr>\n      <th>mean</th>\n      <td>583.555351</td>\n      <td>473.077491</td>\n      <td>110.477860</td>\n      <td>583.555351</td>\n      <td>456.482472</td>\n      <td>127.072878</td>\n      <td>583.555351</td>\n      <td>58.086716</td>\n      <td>525.468635</td>\n      <td>583.555351</td>\n      <td>...</td>\n      <td>573.646679</td>\n      <td>583.555351</td>\n      <td>79.344096</td>\n      <td>504.211255</td>\n      <td>583.555351</td>\n      <td>101.596863</td>\n      <td>481.958487</td>\n      <td>583.555351</td>\n      <td>83.067343</td>\n      <td>500.488007</td>\n    </tr>\n    <tr>\n      <th>std</th>\n      <td>374.096444</td>\n      <td>336.705566</td>\n      <td>78.487294</td>\n      <td>374.096444</td>\n      <td>331.098678</td>\n      <td>84.541014</td>\n      <td>374.096444</td>\n      <td>52.395381</td>\n      <td>341.487812</td>\n      <td>374.096444</td>\n      <td>...</td>\n      <td>371.335206</td>\n      <td>374.096444</td>\n      <td>76.125502</td>\n      <td>364.626702</td>\n      <td>374.096444</td>\n      <td>86.533192</td>\n      <td>320.472811</td>\n      <td>374.096444</td>\n      <td>82.469044</td>\n      <td>315.556164</td>\n    </tr>\n    <tr>\n      <th>min</th>\n      <td>0.000000</td>\n      <td>0.000000</td>\n      <td>0.000000</td>\n      <td>0.000000</td>\n      <td>0.000000</td>\n      <td>0.000000</td>\n      <td>0.000000</td>\n      <td>0.000000</td>\n      <td>0.000000</td>\n      <td>0.000000</td>\n      <td>...</td>\n      <td>0.000000</td>\n      <td>0.000000</td>\n      <td>0.000000</td>\n      <td>0.000000</td>\n      <td>0.000000</td>\n      <td>0.000000</td>\n      <td>0.000000</td>\n      <td>0.000000</td>\n      <td>0.000000</td>\n      <td>0.000000</td>\n    </tr>\n    <tr>\n      <th>25%</th>\n      <td>333.750000</td>\n      <td>249.000000</td>\n      <td>61.000000</td>\n      <td>333.750000</td>\n      <td>236.750000</td>\n      <td>71.000000</td>\n      <td>333.750000</td>\n      <td>21.000000</td>\n      <td>301.000000</td>\n      <td>333.750000</td>\n      <td>...</td>\n      <td>327.000000</td>\n      <td>333.750000</td>\n      <td>25.000000</td>\n      <td>263.750000</td>\n      <td>333.750000</td>\n      <td>44.000000</td>\n      <td>271.000000</td>\n      <td>333.750000</td>\n      <td>30.000000</td>\n      <td>290.000000</td>\n    </tr>\n    <tr>\n      <th>50%</th>\n      <td>481.000000</td>\n      <td>372.000000</td>\n      <td>95.000000</td>\n      <td>481.000000</td>\n      <td>359.500000</td>\n      <td>113.000000</td>\n      <td>481.000000</td>\n      <td>46.000000</td>\n      <td>431.500000</td>\n      <td>481.000000</td>\n      <td>...</td>\n      <td>466.500000</td>\n      <td>481.000000</td>\n      <td>57.500000</td>\n      <td>395.000000</td>\n      <td>481.000000</td>\n      <td>79.000000</td>\n      <td>391.500000</td>\n      <td>481.000000</td>\n      <td>60.000000</td>\n      <td>416.000000</td>\n    </tr>\n    <tr>\n      <th>75%</th>\n      <td>729.250000</td>\n      <td>595.250000</td>\n      <td>139.000000</td>\n      <td>729.250000</td>\n      <td>578.000000</td>\n      <td>162.000000</td>\n      <td>729.250000</td>\n      <td>80.000000</td>\n      <td>660.250000</td>\n      <td>729.250000</td>\n      <td>...</td>\n      <td>719.000000</td>\n      <td>729.250000</td>\n      <td>110.000000</td>\n      <td>628.000000</td>\n      <td>729.250000</td>\n      <td>132.000000</td>\n      <td>603.500000</td>\n      <td>729.250000</td>\n      <td>111.000000</td>\n      <td>629.500000</td>\n    </tr>\n    <tr>\n      <th>max</th>\n      <td>3663.000000</td>\n      <td>3081.000000</td>\n      <td>918.000000</td>\n      <td>3663.000000</td>\n      <td>3008.000000</td>\n      <td>984.000000</td>\n      <td>3663.000000</td>\n      <td>525.000000</td>\n      <td>3138.000000</td>\n      <td>3663.000000</td>\n      <td>...</td>\n      <td>3591.000000</td>\n      <td>3663.000000</td>\n      <td>581.000000</td>\n      <td>3546.000000</td>\n      <td>3663.000000</td>\n      <td>843.000000</td>\n      <td>2832.000000</td>\n      <td>3663.000000</td>\n      <td>677.000000</td>\n      <td>2986.000000</td>\n    </tr>\n  </tbody>\n</table>\n<p>8 rows × 30 columns</p>\n</div>"
     },
     "metadata": {},
     "execution_count": 123
    }
   ],
   "source": [
    "df08.describe()"
   ]
  },
  {
   "cell_type": "code",
   "execution_count": 124,
   "metadata": {},
   "outputs": [
    {
     "output_type": "execute_result",
     "data": {
      "text/plain": "0\nB19051_001E    632574.0\nB19051_002E    512816.0\nB19051_003E    119758.0\nB19052_001E    632574.0\nB19052_002E    494827.0\nB19052_003E    137747.0\nB19053_001E    632574.0\nB19053_002E     62966.0\nB19053_003E    569608.0\nB19054_001E    632574.0\nB19054_002E     91208.0\nB19054_003E    541366.0\nB19055_001E    632574.0\nB19055_002E    167257.0\nB19055_003E    465317.0\nB19056_001E    632574.0\nB19056_002E     38285.0\nB19056_003E    594289.0\nB19057_001E    632574.0\nB19057_002E     10741.0\nB19057_003E    621833.0\nB19058_001E    632574.0\nB19058_002E     86009.0\nB19058_003E    546565.0\nB19059_001E    632574.0\nB19059_002E    110131.0\nB19059_003E    522443.0\nB19060_001E    632574.0\nB19060_002E     90045.0\nB19060_003E    542529.0\ndtype: float64"
     },
     "metadata": {},
     "execution_count": 124
    }
   ],
   "source": [
    "df08.sum()"
   ]
  },
  {
   "cell_type": "code",
   "execution_count": 125,
   "metadata": {},
   "outputs": [
    {
     "output_type": "execute_result",
     "data": {
      "text/plain": "0             B19051_001E  B19051_002E  B19051_003E  B19052_001E  B19052_002E  \\\nblock_group                                                                     \n480299800011          0.0          0.0          0.0          0.0          0.0   \n480299800021          0.0          0.0          0.0          0.0          0.0   \n480299800041          0.0          0.0          0.0          0.0          0.0   \n\n0             B19052_003E  B19053_001E  B19053_002E  B19053_003E  B19054_001E  \\\nblock_group                                                                     \n480299800011          0.0          0.0          0.0          0.0          0.0   \n480299800021          0.0          0.0          0.0          0.0          0.0   \n480299800041          0.0          0.0          0.0          0.0          0.0   \n\n0             ...  B19057_003E  B19058_001E  B19058_002E  B19058_003E  \\\nblock_group   ...                                                       \n480299800011  ...          0.0          0.0          0.0          0.0   \n480299800021  ...          0.0          0.0          0.0          0.0   \n480299800041  ...          0.0          0.0          0.0          0.0   \n\n0             B19059_001E  B19059_002E  B19059_003E  B19060_001E  B19060_002E  \\\nblock_group                                                                     \n480299800011          0.0          0.0          0.0          0.0          0.0   \n480299800021          0.0          0.0          0.0          0.0          0.0   \n480299800041          0.0          0.0          0.0          0.0          0.0   \n\n0             B19060_003E  \nblock_group                \n480299800011          0.0  \n480299800021          0.0  \n480299800041          0.0  \n\n[3 rows x 30 columns]",
      "text/html": "<div>\n<style scoped>\n    .dataframe tbody tr th:only-of-type {\n        vertical-align: middle;\n    }\n\n    .dataframe tbody tr th {\n        vertical-align: top;\n    }\n\n    .dataframe thead th {\n        text-align: right;\n    }\n</style>\n<table border=\"1\" class=\"dataframe\">\n  <thead>\n    <tr style=\"text-align: right;\">\n      <th></th>\n      <th>B19051_001E</th>\n      <th>B19051_002E</th>\n      <th>B19051_003E</th>\n      <th>B19052_001E</th>\n      <th>B19052_002E</th>\n      <th>B19052_003E</th>\n      <th>B19053_001E</th>\n      <th>B19053_002E</th>\n      <th>B19053_003E</th>\n      <th>B19054_001E</th>\n      <th>...</th>\n      <th>B19057_003E</th>\n      <th>B19058_001E</th>\n      <th>B19058_002E</th>\n      <th>B19058_003E</th>\n      <th>B19059_001E</th>\n      <th>B19059_002E</th>\n      <th>B19059_003E</th>\n      <th>B19060_001E</th>\n      <th>B19060_002E</th>\n      <th>B19060_003E</th>\n    </tr>\n    <tr>\n      <th>block_group</th>\n      <th></th>\n      <th></th>\n      <th></th>\n      <th></th>\n      <th></th>\n      <th></th>\n      <th></th>\n      <th></th>\n      <th></th>\n      <th></th>\n      <th></th>\n      <th></th>\n      <th></th>\n      <th></th>\n      <th></th>\n      <th></th>\n      <th></th>\n      <th></th>\n      <th></th>\n      <th></th>\n      <th></th>\n    </tr>\n  </thead>\n  <tbody>\n    <tr>\n      <th>480299800011</th>\n      <td>0.0</td>\n      <td>0.0</td>\n      <td>0.0</td>\n      <td>0.0</td>\n      <td>0.0</td>\n      <td>0.0</td>\n      <td>0.0</td>\n      <td>0.0</td>\n      <td>0.0</td>\n      <td>0.0</td>\n      <td>...</td>\n      <td>0.0</td>\n      <td>0.0</td>\n      <td>0.0</td>\n      <td>0.0</td>\n      <td>0.0</td>\n      <td>0.0</td>\n      <td>0.0</td>\n      <td>0.0</td>\n      <td>0.0</td>\n      <td>0.0</td>\n    </tr>\n    <tr>\n      <th>480299800021</th>\n      <td>0.0</td>\n      <td>0.0</td>\n      <td>0.0</td>\n      <td>0.0</td>\n      <td>0.0</td>\n      <td>0.0</td>\n      <td>0.0</td>\n      <td>0.0</td>\n      <td>0.0</td>\n      <td>0.0</td>\n      <td>...</td>\n      <td>0.0</td>\n      <td>0.0</td>\n      <td>0.0</td>\n      <td>0.0</td>\n      <td>0.0</td>\n      <td>0.0</td>\n      <td>0.0</td>\n      <td>0.0</td>\n      <td>0.0</td>\n      <td>0.0</td>\n    </tr>\n    <tr>\n      <th>480299800041</th>\n      <td>0.0</td>\n      <td>0.0</td>\n      <td>0.0</td>\n      <td>0.0</td>\n      <td>0.0</td>\n      <td>0.0</td>\n      <td>0.0</td>\n      <td>0.0</td>\n      <td>0.0</td>\n      <td>0.0</td>\n      <td>...</td>\n      <td>0.0</td>\n      <td>0.0</td>\n      <td>0.0</td>\n      <td>0.0</td>\n      <td>0.0</td>\n      <td>0.0</td>\n      <td>0.0</td>\n      <td>0.0</td>\n      <td>0.0</td>\n      <td>0.0</td>\n    </tr>\n  </tbody>\n</table>\n<p>3 rows × 30 columns</p>\n</div>"
     },
     "metadata": {},
     "execution_count": 125
    }
   ],
   "source": [
    "df08[df08.B19051_001E == 0]"
   ]
  },
  {
   "cell_type": "code",
   "execution_count": null,
   "metadata": {},
   "outputs": [],
   "source": []
  },
  {
   "cell_type": "code",
   "execution_count": 126,
   "metadata": {},
   "outputs": [],
   "source": [
    "# merge house_earnings_pct\n",
    "df08['B19051_001E_R'] = df08.B19051_002E / df08.B19051_001E"
   ]
  },
  {
   "cell_type": "code",
   "execution_count": 127,
   "metadata": {},
   "outputs": [
    {
     "output_type": "execute_result",
     "data": {
      "text/plain": "0             B19051_001E  B19051_001E_R  B19051_002E  B19051_003E\nblock_group                                                       \n480291106003        312.0       0.096154         30.0        282.0\n480291204006        497.0       0.195171         97.0        400.0\n480291702005        379.0       0.274406        104.0        275.0\n480291923001        328.0       0.378049        124.0        204.0\n480291805014        492.0       0.382114        188.0        304.0\n...                   ...            ...          ...          ...\n480291914103        859.0       1.000000        859.0          0.0\n480291305004        222.0       1.000000        222.0          0.0\n480299800011          0.0            NaN          0.0          0.0\n480299800021          0.0            NaN          0.0          0.0\n480299800041          0.0            NaN          0.0          0.0\n\n[1084 rows x 4 columns]",
      "text/html": "<div>\n<style scoped>\n    .dataframe tbody tr th:only-of-type {\n        vertical-align: middle;\n    }\n\n    .dataframe tbody tr th {\n        vertical-align: top;\n    }\n\n    .dataframe thead th {\n        text-align: right;\n    }\n</style>\n<table border=\"1\" class=\"dataframe\">\n  <thead>\n    <tr style=\"text-align: right;\">\n      <th></th>\n      <th>B19051_001E</th>\n      <th>B19051_001E_R</th>\n      <th>B19051_002E</th>\n      <th>B19051_003E</th>\n    </tr>\n    <tr>\n      <th>block_group</th>\n      <th></th>\n      <th></th>\n      <th></th>\n      <th></th>\n    </tr>\n  </thead>\n  <tbody>\n    <tr>\n      <th>480291106003</th>\n      <td>312.0</td>\n      <td>0.096154</td>\n      <td>30.0</td>\n      <td>282.0</td>\n    </tr>\n    <tr>\n      <th>480291204006</th>\n      <td>497.0</td>\n      <td>0.195171</td>\n      <td>97.0</td>\n      <td>400.0</td>\n    </tr>\n    <tr>\n      <th>480291702005</th>\n      <td>379.0</td>\n      <td>0.274406</td>\n      <td>104.0</td>\n      <td>275.0</td>\n    </tr>\n    <tr>\n      <th>480291923001</th>\n      <td>328.0</td>\n      <td>0.378049</td>\n      <td>124.0</td>\n      <td>204.0</td>\n    </tr>\n    <tr>\n      <th>480291805014</th>\n      <td>492.0</td>\n      <td>0.382114</td>\n      <td>188.0</td>\n      <td>304.0</td>\n    </tr>\n    <tr>\n      <th>...</th>\n      <td>...</td>\n      <td>...</td>\n      <td>...</td>\n      <td>...</td>\n    </tr>\n    <tr>\n      <th>480291914103</th>\n      <td>859.0</td>\n      <td>1.000000</td>\n      <td>859.0</td>\n      <td>0.0</td>\n    </tr>\n    <tr>\n      <th>480291305004</th>\n      <td>222.0</td>\n      <td>1.000000</td>\n      <td>222.0</td>\n      <td>0.0</td>\n    </tr>\n    <tr>\n      <th>480299800011</th>\n      <td>0.0</td>\n      <td>NaN</td>\n      <td>0.0</td>\n      <td>0.0</td>\n    </tr>\n    <tr>\n      <th>480299800021</th>\n      <td>0.0</td>\n      <td>NaN</td>\n      <td>0.0</td>\n      <td>0.0</td>\n    </tr>\n    <tr>\n      <th>480299800041</th>\n      <td>0.0</td>\n      <td>NaN</td>\n      <td>0.0</td>\n      <td>0.0</td>\n    </tr>\n  </tbody>\n</table>\n<p>1084 rows × 4 columns</p>\n</div>"
     },
     "metadata": {},
     "execution_count": 127
    }
   ],
   "source": [
    "df08[['B19051_001E','B19051_001E_R','B19051_002E','B19051_003E']].sort_values(by=['B19051_001E_R'])"
   ]
  },
  {
   "cell_type": "code",
   "execution_count": 128,
   "metadata": {},
   "outputs": [],
   "source": [
    "# merge house_earnings_tot\n",
    "df08['B19051_000E'] = df08.B19051_001E"
   ]
  },
  {
   "cell_type": "code",
   "execution_count": 129,
   "metadata": {},
   "outputs": [],
   "source": [
    "# merge house_earnings_pct\n",
    "df08['B19052_001E_R'] = df08.B19052_002E / df08.B19052_001E"
   ]
  },
  {
   "cell_type": "code",
   "execution_count": 130,
   "metadata": {},
   "outputs": [],
   "source": [
    "# merge house_earnings_pct\n",
    "df08['B19055_001E_R'] = df08.B19055_002E / df08.B19055_001E"
   ]
  },
  {
   "cell_type": "code",
   "execution_count": 131,
   "metadata": {},
   "outputs": [],
   "source": [
    "# merge house_earnings_pct\n",
    "df08['B19056_001E_R'] = df08.B19056_002E / df08.B19056_001E"
   ]
  },
  {
   "cell_type": "code",
   "execution_count": 132,
   "metadata": {},
   "outputs": [],
   "source": [
    "# merge house_earnings_pct\n",
    "df08['B19057_001E_R'] = df08.B19057_002E / df08.B19057_001E"
   ]
  },
  {
   "cell_type": "code",
   "execution_count": 133,
   "metadata": {},
   "outputs": [],
   "source": [
    "# merge house_earnings_pct\n",
    "df08['B19058_001E_R'] = df08.B19058_002E / df08.B19058_001E"
   ]
  },
  {
   "cell_type": "code",
   "execution_count": 134,
   "metadata": {},
   "outputs": [],
   "source": [
    "# merge house_earnings_pct\n",
    "df08['B19059_001E_R'] = df08.B19059_002E / df08.B19059_001E"
   ]
  },
  {
   "cell_type": "code",
   "execution_count": null,
   "metadata": {},
   "outputs": [],
   "source": []
  },
  {
   "cell_type": "code",
   "execution_count": null,
   "metadata": {},
   "outputs": [],
   "source": []
  },
  {
   "cell_type": "code",
   "execution_count": 135,
   "metadata": {},
   "outputs": [],
   "source": [
    "df08_keep_cols = [\n",
    "    'B19051_000E', \n",
    "    # 'B19051_001E_R', \n",
    "    'B19051_002E', \n",
    "    'B19051_003E', \n",
    "    # 'B19052_001E_R',\n",
    "    'B19052_002E', \n",
    "    'B19052_003E', \n",
    "    # 'B19053_001E_R',\n",
    "    'B19053_002E', \n",
    "    'B19053_003E', \n",
    "    # 'B19054_001E_R',\n",
    "    'B19054_002E', \n",
    "    'B19054_003E', \n",
    "    # 'B19055_001E_R', \n",
    "    'B19055_002E',\n",
    "    'B19055_003E', \n",
    "    # 'B19056_001E_R', \n",
    "    'B19056_002E', \n",
    "    'B19056_003E',\n",
    "    # 'B19057_001E_R', \n",
    "    'B19057_002E', \n",
    "    'B19057_003E', \n",
    "    # 'B19058_001E_R',\n",
    "    'B19058_002E', \n",
    "    'B19058_003E', \n",
    "    # 'B19059_001E_R', \n",
    "    'B19059_002E',\n",
    "    'B19059_003E',\n",
    "    # 'B19060_001E_R',\n",
    "    'B19060_002E', \n",
    "    'B19060_003E', \n",
    "]"
   ]
  },
  {
   "cell_type": "code",
   "execution_count": 136,
   "metadata": {},
   "outputs": [
    {
     "output_type": "execute_result",
     "data": {
      "text/plain": "0\nB19051_000E    632574.0\nB19051_002E    512816.0\nB19051_003E    119758.0\nB19052_002E    494827.0\nB19052_003E    137747.0\nB19053_002E     62966.0\nB19053_003E    569608.0\nB19054_002E     91208.0\nB19054_003E    541366.0\nB19055_002E    167257.0\nB19055_003E    465317.0\nB19056_002E     38285.0\nB19056_003E    594289.0\nB19057_002E     10741.0\nB19057_003E    621833.0\nB19058_002E     86009.0\nB19058_003E    546565.0\nB19059_002E    110131.0\nB19059_003E    522443.0\nB19060_002E     90045.0\nB19060_003E    542529.0\ndtype: float64"
     },
     "metadata": {},
     "execution_count": 136
    }
   ],
   "source": [
    "df08[df08_keep_cols].sum()"
   ]
  },
  {
   "cell_type": "code",
   "execution_count": 137,
   "metadata": {},
   "outputs": [],
   "source": [
    "df08 = df08[df08_keep_cols]"
   ]
  },
  {
   "cell_type": "code",
   "execution_count": null,
   "metadata": {},
   "outputs": [],
   "source": []
  },
  {
   "cell_type": "code",
   "execution_count": 138,
   "metadata": {},
   "outputs": [],
   "source": [
    "df08.to_csv(dest08, header=True, index=True, index_label='block_group')"
   ]
  },
  {
   "cell_type": "code",
   "execution_count": 139,
   "metadata": {},
   "outputs": [],
   "source": [
    "rdf08=pd.read_csv(dest08).set_index('block_group')"
   ]
  },
  {
   "cell_type": "code",
   "execution_count": 140,
   "metadata": {
    "tags": []
   },
   "outputs": [
    {
     "output_type": "stream",
     "name": "stdout",
     "text": "<class 'pandas.core.frame.DataFrame'>\nInt64Index: 1084 entries, 480291805031 to 480291922002\nData columns (total 21 columns):\n #   Column       Non-Null Count  Dtype  \n---  ------       --------------  -----  \n 0   B19051_000E  1084 non-null   float64\n 1   B19051_002E  1084 non-null   float64\n 2   B19051_003E  1084 non-null   float64\n 3   B19052_002E  1084 non-null   float64\n 4   B19052_003E  1084 non-null   float64\n 5   B19053_002E  1084 non-null   float64\n 6   B19053_003E  1084 non-null   float64\n 7   B19054_002E  1084 non-null   float64\n 8   B19054_003E  1084 non-null   float64\n 9   B19055_002E  1084 non-null   float64\n 10  B19055_003E  1084 non-null   float64\n 11  B19056_002E  1084 non-null   float64\n 12  B19056_003E  1084 non-null   float64\n 13  B19057_002E  1084 non-null   float64\n 14  B19057_003E  1084 non-null   float64\n 15  B19058_002E  1084 non-null   float64\n 16  B19058_003E  1084 non-null   float64\n 17  B19059_002E  1084 non-null   float64\n 18  B19059_003E  1084 non-null   float64\n 19  B19060_002E  1084 non-null   float64\n 20  B19060_003E  1084 non-null   float64\ndtypes: float64(21)\nmemory usage: 186.3 KB\n"
    }
   ],
   "source": [
    "rdf08.info()"
   ]
  },
  {
   "cell_type": "markdown",
   "metadata": {},
   "source": [
    "# B24080"
   ]
  },
  {
   "cell_type": "code",
   "execution_count": 141,
   "metadata": {},
   "outputs": [],
   "source": [
    "data09 = 'https://api.census.gov/data/2018/acs/acs5?get=B24080_001E,B24080_002E,B24080_003E,B24080_004E,B24080_005E,B24080_006E,B24080_007E,B24080_008E,B24080_009E,B24080_010E,B24080_011E,B24080_012E,B24080_013E,B24080_014E,B24080_015E,B24080_016E,B24080_017E,B24080_018E,B24080_019E,B24080_020E,B24080_021E&for=block%20group:*&in=state:48&in=county:029&in=tract:*'\n",
    "src09 = '../data_files/census_data/acs5_B24080_SexByWorkerClass.json'\n",
    "dest09 = '../data_files/census_data/acs5_B24080_SexByWorkerClass.csv'"
   ]
  },
  {
   "cell_type": "code",
   "execution_count": 142,
   "metadata": {},
   "outputs": [],
   "source": [
    "df09 = wrangle_acs5(src09)"
   ]
  },
  {
   "cell_type": "code",
   "execution_count": 143,
   "metadata": {},
   "outputs": [
    {
     "output_type": "execute_result",
     "data": {
      "text/plain": "0             B24080_001E  B24080_002E  B24080_003E  B24080_004E  B24080_005E  \\\nblock_group                                                                     \n480291805031        366.0        186.0        113.0        113.0          0.0   \n480291805032        809.0        362.0        302.0        302.0          0.0   \n480291704013        416.0        141.0        126.0        126.0          0.0   \n480291704012        140.0         92.0         67.0         67.0          0.0   \n480291914061       1459.0        798.0        526.0        438.0         88.0   \n\n0             B24080_006E  B24080_007E  B24080_008E  B24080_009E  B24080_010E  \\\nblock_group                                                                     \n480291805031         22.0         11.0          0.0         40.0          0.0   \n480291805032         18.0         35.0          0.0          0.0          7.0   \n480291704013         15.0          0.0          0.0          0.0          0.0   \n480291704012         17.0          8.0          0.0          0.0          0.0   \n480291914061         31.0         70.0         32.0         38.0        101.0   \n\n0             ...  B24080_012E  B24080_013E  B24080_014E  B24080_015E  \\\nblock_group   ...                                                       \n480291805031  ...        180.0        142.0        142.0          0.0   \n480291805032  ...        447.0        354.0        354.0          0.0   \n480291704013  ...        275.0        255.0        255.0          0.0   \n480291704012  ...         48.0         48.0         48.0          0.0   \n480291914061  ...        661.0        328.0        328.0          0.0   \n\n0             B24080_016E  B24080_017E  B24080_018E  B24080_019E  B24080_020E  \\\nblock_group                                                                     \n480291805031          2.0          0.0         36.0          0.0          0.0   \n480291805032         62.0          9.0         22.0          0.0          0.0   \n480291704013          0.0          8.0         12.0          0.0          0.0   \n480291704012          0.0          0.0          0.0          0.0          0.0   \n480291914061        124.0         38.0         11.0         94.0         66.0   \n\n0             B24080_021E  \nblock_group                \n480291805031          0.0  \n480291805032          0.0  \n480291704013          0.0  \n480291704012          0.0  \n480291914061          0.0  \n\n[5 rows x 21 columns]",
      "text/html": "<div>\n<style scoped>\n    .dataframe tbody tr th:only-of-type {\n        vertical-align: middle;\n    }\n\n    .dataframe tbody tr th {\n        vertical-align: top;\n    }\n\n    .dataframe thead th {\n        text-align: right;\n    }\n</style>\n<table border=\"1\" class=\"dataframe\">\n  <thead>\n    <tr style=\"text-align: right;\">\n      <th></th>\n      <th>B24080_001E</th>\n      <th>B24080_002E</th>\n      <th>B24080_003E</th>\n      <th>B24080_004E</th>\n      <th>B24080_005E</th>\n      <th>B24080_006E</th>\n      <th>B24080_007E</th>\n      <th>B24080_008E</th>\n      <th>B24080_009E</th>\n      <th>B24080_010E</th>\n      <th>...</th>\n      <th>B24080_012E</th>\n      <th>B24080_013E</th>\n      <th>B24080_014E</th>\n      <th>B24080_015E</th>\n      <th>B24080_016E</th>\n      <th>B24080_017E</th>\n      <th>B24080_018E</th>\n      <th>B24080_019E</th>\n      <th>B24080_020E</th>\n      <th>B24080_021E</th>\n    </tr>\n    <tr>\n      <th>block_group</th>\n      <th></th>\n      <th></th>\n      <th></th>\n      <th></th>\n      <th></th>\n      <th></th>\n      <th></th>\n      <th></th>\n      <th></th>\n      <th></th>\n      <th></th>\n      <th></th>\n      <th></th>\n      <th></th>\n      <th></th>\n      <th></th>\n      <th></th>\n      <th></th>\n      <th></th>\n      <th></th>\n      <th></th>\n    </tr>\n  </thead>\n  <tbody>\n    <tr>\n      <th>480291805031</th>\n      <td>366.0</td>\n      <td>186.0</td>\n      <td>113.0</td>\n      <td>113.0</td>\n      <td>0.0</td>\n      <td>22.0</td>\n      <td>11.0</td>\n      <td>0.0</td>\n      <td>40.0</td>\n      <td>0.0</td>\n      <td>...</td>\n      <td>180.0</td>\n      <td>142.0</td>\n      <td>142.0</td>\n      <td>0.0</td>\n      <td>2.0</td>\n      <td>0.0</td>\n      <td>36.0</td>\n      <td>0.0</td>\n      <td>0.0</td>\n      <td>0.0</td>\n    </tr>\n    <tr>\n      <th>480291805032</th>\n      <td>809.0</td>\n      <td>362.0</td>\n      <td>302.0</td>\n      <td>302.0</td>\n      <td>0.0</td>\n      <td>18.0</td>\n      <td>35.0</td>\n      <td>0.0</td>\n      <td>0.0</td>\n      <td>7.0</td>\n      <td>...</td>\n      <td>447.0</td>\n      <td>354.0</td>\n      <td>354.0</td>\n      <td>0.0</td>\n      <td>62.0</td>\n      <td>9.0</td>\n      <td>22.0</td>\n      <td>0.0</td>\n      <td>0.0</td>\n      <td>0.0</td>\n    </tr>\n    <tr>\n      <th>480291704013</th>\n      <td>416.0</td>\n      <td>141.0</td>\n      <td>126.0</td>\n      <td>126.0</td>\n      <td>0.0</td>\n      <td>15.0</td>\n      <td>0.0</td>\n      <td>0.0</td>\n      <td>0.0</td>\n      <td>0.0</td>\n      <td>...</td>\n      <td>275.0</td>\n      <td>255.0</td>\n      <td>255.0</td>\n      <td>0.0</td>\n      <td>0.0</td>\n      <td>8.0</td>\n      <td>12.0</td>\n      <td>0.0</td>\n      <td>0.0</td>\n      <td>0.0</td>\n    </tr>\n    <tr>\n      <th>480291704012</th>\n      <td>140.0</td>\n      <td>92.0</td>\n      <td>67.0</td>\n      <td>67.0</td>\n      <td>0.0</td>\n      <td>17.0</td>\n      <td>8.0</td>\n      <td>0.0</td>\n      <td>0.0</td>\n      <td>0.0</td>\n      <td>...</td>\n      <td>48.0</td>\n      <td>48.0</td>\n      <td>48.0</td>\n      <td>0.0</td>\n      <td>0.0</td>\n      <td>0.0</td>\n      <td>0.0</td>\n      <td>0.0</td>\n      <td>0.0</td>\n      <td>0.0</td>\n    </tr>\n    <tr>\n      <th>480291914061</th>\n      <td>1459.0</td>\n      <td>798.0</td>\n      <td>526.0</td>\n      <td>438.0</td>\n      <td>88.0</td>\n      <td>31.0</td>\n      <td>70.0</td>\n      <td>32.0</td>\n      <td>38.0</td>\n      <td>101.0</td>\n      <td>...</td>\n      <td>661.0</td>\n      <td>328.0</td>\n      <td>328.0</td>\n      <td>0.0</td>\n      <td>124.0</td>\n      <td>38.0</td>\n      <td>11.0</td>\n      <td>94.0</td>\n      <td>66.0</td>\n      <td>0.0</td>\n    </tr>\n  </tbody>\n</table>\n<p>5 rows × 21 columns</p>\n</div>"
     },
     "metadata": {},
     "execution_count": 143
    }
   ],
   "source": [
    "df09.head()"
   ]
  },
  {
   "cell_type": "code",
   "execution_count": 144,
   "metadata": {},
   "outputs": [
    {
     "output_type": "execute_result",
     "data": {
      "text/plain": "Index(['B24080_001E', 'B24080_002E', 'B24080_003E', 'B24080_004E',\n       'B24080_005E', 'B24080_006E', 'B24080_007E', 'B24080_008E',\n       'B24080_009E', 'B24080_010E', 'B24080_011E', 'B24080_012E',\n       'B24080_013E', 'B24080_014E', 'B24080_015E', 'B24080_016E',\n       'B24080_017E', 'B24080_018E', 'B24080_019E', 'B24080_020E',\n       'B24080_021E'],\n      dtype='object', name=0)"
     },
     "metadata": {},
     "execution_count": 144
    }
   ],
   "source": [
    "df09.columns"
   ]
  },
  {
   "cell_type": "code",
   "execution_count": 145,
   "metadata": {},
   "outputs": [
    {
     "output_type": "execute_result",
     "data": {
      "text/plain": "0      B24080_001E  B24080_002E  B24080_003E  B24080_004E  B24080_005E  \\\ncount  1084.000000  1084.000000  1084.000000  1084.000000  1084.000000   \nmean    818.693727   434.688192   334.930812   321.678967    13.251845   \nstd     578.131151   314.980195   245.508641   237.177872    23.703973   \nmin       0.000000     0.000000     0.000000     0.000000     0.000000   \n25%     424.750000   231.750000   170.000000   162.000000     0.000000   \n50%     664.000000   343.000000   268.500000   257.500000     0.000000   \n75%    1023.750000   549.500000   430.250000   415.000000    18.000000   \nmax    5029.000000  2968.000000  2125.000000  2081.000000   245.000000   \n\n0      B24080_006E  B24080_007E  B24080_008E  B24080_009E  B24080_010E  ...  \\\ncount  1084.000000  1084.000000  1084.000000  1084.000000  1084.000000  ...   \nmean     18.908672    19.175277    11.860701    20.605166    28.808118  ...   \nstd      27.899039    26.403026    21.005033    39.365923    30.603141  ...   \nmin       0.000000     0.000000     0.000000     0.000000     0.000000  ...   \n25%       0.000000     0.000000     0.000000     0.000000     4.000000  ...   \n50%       9.000000    10.000000     0.000000     7.000000    21.000000  ...   \n75%      28.000000    28.000000    17.000000    26.000000    43.000000  ...   \nmax     318.000000   198.000000   182.000000   645.000000   187.000000  ...   \n\n0      B24080_012E  B24080_013E  B24080_014E  B24080_015E  B24080_016E  \\\ncount  1084.000000  1084.000000  1084.000000  1084.000000  1084.000000   \nmean    384.005535   275.270295   269.411439     5.858856    31.428967   \nstd     279.198950   201.859966   198.541270    13.388071    35.922451   \nmin       0.000000     0.000000     0.000000     0.000000     0.000000   \n25%     190.750000   132.000000   128.000000     0.000000     5.000000   \n50%     309.000000   223.500000   218.000000     0.000000    21.000000   \n75%     500.250000   361.250000   356.000000     8.000000    44.000000   \nmax    2392.000000  1564.000000  1559.000000   138.000000   243.000000   \n\n0      B24080_017E  B24080_018E  B24080_019E  B24080_020E  B24080_021E  \ncount  1084.000000  1084.000000  1084.000000  1084.000000  1084.000000  \nmean     26.109779    20.937269    13.005535    16.566421     0.687269  \nstd      33.853112    28.758775    23.792539    22.997696     5.099109  \nmin       0.000000     0.000000     0.000000     0.000000     0.000000  \n25%       0.000000     0.000000     0.000000     0.000000     0.000000  \n50%      16.000000    12.000000     0.000000     9.000000     0.000000  \n75%      36.000000    31.000000    16.000000    24.000000     0.000000  \nmax     349.000000   212.000000   178.000000   166.000000    88.000000  \n\n[8 rows x 21 columns]",
      "text/html": "<div>\n<style scoped>\n    .dataframe tbody tr th:only-of-type {\n        vertical-align: middle;\n    }\n\n    .dataframe tbody tr th {\n        vertical-align: top;\n    }\n\n    .dataframe thead th {\n        text-align: right;\n    }\n</style>\n<table border=\"1\" class=\"dataframe\">\n  <thead>\n    <tr style=\"text-align: right;\">\n      <th></th>\n      <th>B24080_001E</th>\n      <th>B24080_002E</th>\n      <th>B24080_003E</th>\n      <th>B24080_004E</th>\n      <th>B24080_005E</th>\n      <th>B24080_006E</th>\n      <th>B24080_007E</th>\n      <th>B24080_008E</th>\n      <th>B24080_009E</th>\n      <th>B24080_010E</th>\n      <th>...</th>\n      <th>B24080_012E</th>\n      <th>B24080_013E</th>\n      <th>B24080_014E</th>\n      <th>B24080_015E</th>\n      <th>B24080_016E</th>\n      <th>B24080_017E</th>\n      <th>B24080_018E</th>\n      <th>B24080_019E</th>\n      <th>B24080_020E</th>\n      <th>B24080_021E</th>\n    </tr>\n  </thead>\n  <tbody>\n    <tr>\n      <th>count</th>\n      <td>1084.000000</td>\n      <td>1084.000000</td>\n      <td>1084.000000</td>\n      <td>1084.000000</td>\n      <td>1084.000000</td>\n      <td>1084.000000</td>\n      <td>1084.000000</td>\n      <td>1084.000000</td>\n      <td>1084.000000</td>\n      <td>1084.000000</td>\n      <td>...</td>\n      <td>1084.000000</td>\n      <td>1084.000000</td>\n      <td>1084.000000</td>\n      <td>1084.000000</td>\n      <td>1084.000000</td>\n      <td>1084.000000</td>\n      <td>1084.000000</td>\n      <td>1084.000000</td>\n      <td>1084.000000</td>\n      <td>1084.000000</td>\n    </tr>\n    <tr>\n      <th>mean</th>\n      <td>818.693727</td>\n      <td>434.688192</td>\n      <td>334.930812</td>\n      <td>321.678967</td>\n      <td>13.251845</td>\n      <td>18.908672</td>\n      <td>19.175277</td>\n      <td>11.860701</td>\n      <td>20.605166</td>\n      <td>28.808118</td>\n      <td>...</td>\n      <td>384.005535</td>\n      <td>275.270295</td>\n      <td>269.411439</td>\n      <td>5.858856</td>\n      <td>31.428967</td>\n      <td>26.109779</td>\n      <td>20.937269</td>\n      <td>13.005535</td>\n      <td>16.566421</td>\n      <td>0.687269</td>\n    </tr>\n    <tr>\n      <th>std</th>\n      <td>578.131151</td>\n      <td>314.980195</td>\n      <td>245.508641</td>\n      <td>237.177872</td>\n      <td>23.703973</td>\n      <td>27.899039</td>\n      <td>26.403026</td>\n      <td>21.005033</td>\n      <td>39.365923</td>\n      <td>30.603141</td>\n      <td>...</td>\n      <td>279.198950</td>\n      <td>201.859966</td>\n      <td>198.541270</td>\n      <td>13.388071</td>\n      <td>35.922451</td>\n      <td>33.853112</td>\n      <td>28.758775</td>\n      <td>23.792539</td>\n      <td>22.997696</td>\n      <td>5.099109</td>\n    </tr>\n    <tr>\n      <th>min</th>\n      <td>0.000000</td>\n      <td>0.000000</td>\n      <td>0.000000</td>\n      <td>0.000000</td>\n      <td>0.000000</td>\n      <td>0.000000</td>\n      <td>0.000000</td>\n      <td>0.000000</td>\n      <td>0.000000</td>\n      <td>0.000000</td>\n      <td>...</td>\n      <td>0.000000</td>\n      <td>0.000000</td>\n      <td>0.000000</td>\n      <td>0.000000</td>\n      <td>0.000000</td>\n      <td>0.000000</td>\n      <td>0.000000</td>\n      <td>0.000000</td>\n      <td>0.000000</td>\n      <td>0.000000</td>\n    </tr>\n    <tr>\n      <th>25%</th>\n      <td>424.750000</td>\n      <td>231.750000</td>\n      <td>170.000000</td>\n      <td>162.000000</td>\n      <td>0.000000</td>\n      <td>0.000000</td>\n      <td>0.000000</td>\n      <td>0.000000</td>\n      <td>0.000000</td>\n      <td>4.000000</td>\n      <td>...</td>\n      <td>190.750000</td>\n      <td>132.000000</td>\n      <td>128.000000</td>\n      <td>0.000000</td>\n      <td>5.000000</td>\n      <td>0.000000</td>\n      <td>0.000000</td>\n      <td>0.000000</td>\n      <td>0.000000</td>\n      <td>0.000000</td>\n    </tr>\n    <tr>\n      <th>50%</th>\n      <td>664.000000</td>\n      <td>343.000000</td>\n      <td>268.500000</td>\n      <td>257.500000</td>\n      <td>0.000000</td>\n      <td>9.000000</td>\n      <td>10.000000</td>\n      <td>0.000000</td>\n      <td>7.000000</td>\n      <td>21.000000</td>\n      <td>...</td>\n      <td>309.000000</td>\n      <td>223.500000</td>\n      <td>218.000000</td>\n      <td>0.000000</td>\n      <td>21.000000</td>\n      <td>16.000000</td>\n      <td>12.000000</td>\n      <td>0.000000</td>\n      <td>9.000000</td>\n      <td>0.000000</td>\n    </tr>\n    <tr>\n      <th>75%</th>\n      <td>1023.750000</td>\n      <td>549.500000</td>\n      <td>430.250000</td>\n      <td>415.000000</td>\n      <td>18.000000</td>\n      <td>28.000000</td>\n      <td>28.000000</td>\n      <td>17.000000</td>\n      <td>26.000000</td>\n      <td>43.000000</td>\n      <td>...</td>\n      <td>500.250000</td>\n      <td>361.250000</td>\n      <td>356.000000</td>\n      <td>8.000000</td>\n      <td>44.000000</td>\n      <td>36.000000</td>\n      <td>31.000000</td>\n      <td>16.000000</td>\n      <td>24.000000</td>\n      <td>0.000000</td>\n    </tr>\n    <tr>\n      <th>max</th>\n      <td>5029.000000</td>\n      <td>2968.000000</td>\n      <td>2125.000000</td>\n      <td>2081.000000</td>\n      <td>245.000000</td>\n      <td>318.000000</td>\n      <td>198.000000</td>\n      <td>182.000000</td>\n      <td>645.000000</td>\n      <td>187.000000</td>\n      <td>...</td>\n      <td>2392.000000</td>\n      <td>1564.000000</td>\n      <td>1559.000000</td>\n      <td>138.000000</td>\n      <td>243.000000</td>\n      <td>349.000000</td>\n      <td>212.000000</td>\n      <td>178.000000</td>\n      <td>166.000000</td>\n      <td>88.000000</td>\n    </tr>\n  </tbody>\n</table>\n<p>8 rows × 21 columns</p>\n</div>"
     },
     "metadata": {},
     "execution_count": 145
    }
   ],
   "source": [
    "df09.describe()"
   ]
  },
  {
   "cell_type": "code",
   "execution_count": 146,
   "metadata": {},
   "outputs": [
    {
     "output_type": "execute_result",
     "data": {
      "text/plain": "0\nB24080_001E    887464.0\nB24080_002E    471202.0\nB24080_003E    363065.0\nB24080_004E    348700.0\nB24080_005E     14365.0\nB24080_006E     20497.0\nB24080_007E     20786.0\nB24080_008E     12857.0\nB24080_009E     22336.0\nB24080_010E     31228.0\nB24080_011E       433.0\nB24080_012E    416262.0\nB24080_013E    298393.0\nB24080_014E    292042.0\nB24080_015E      6351.0\nB24080_016E     34069.0\nB24080_017E     28303.0\nB24080_018E     22696.0\nB24080_019E     14098.0\nB24080_020E     17958.0\nB24080_021E       745.0\ndtype: float64"
     },
     "metadata": {},
     "execution_count": 146
    }
   ],
   "source": [
    "df09.sum()"
   ]
  },
  {
   "cell_type": "code",
   "execution_count": null,
   "metadata": {},
   "outputs": [],
   "source": []
  },
  {
   "cell_type": "code",
   "execution_count": 147,
   "metadata": {},
   "outputs": [],
   "source": [
    "# merge workers_a_noncorp_self\n",
    "df09['B24080_009E_M'] = df09.B24080_007E + df09.B24080_008E + df09.B24080_009E"
   ]
  },
  {
   "cell_type": "code",
   "execution_count": 148,
   "metadata": {},
   "outputs": [],
   "source": [
    "# merge workers_f_gvt\n",
    "df09['B24080_019E_M'] = df09.B24080_017E + df09.B24080_018E + df09.B24080_019E"
   ]
  },
  {
   "cell_type": "code",
   "execution_count": 149,
   "metadata": {},
   "outputs": [],
   "source": [
    "# merge workers_a_profit\n",
    "df09['B24080_001E_03'] = df09.B24080_003E + df09.B24080_013E"
   ]
  },
  {
   "cell_type": "code",
   "execution_count": 150,
   "metadata": {},
   "outputs": [],
   "source": [
    "# merge wokers_a_non_profit\n",
    "df09['B24080_001E_06'] = df09.B24080_006E + df09.B24080_016E"
   ]
  },
  {
   "cell_type": "code",
   "execution_count": 151,
   "metadata": {},
   "outputs": [],
   "source": [
    "# merge workers_a_gvt\n",
    "df09['B24080_001E_09'] = df09.B24080_009E_M + df09.B24080_019E_M"
   ]
  },
  {
   "cell_type": "code",
   "execution_count": 152,
   "metadata": {},
   "outputs": [],
   "source": [
    "# merge workers_a_noncorp_self\n",
    "df09['B24080_001E_10'] = df09.B24080_010E + df09.B24080_020E"
   ]
  },
  {
   "cell_type": "code",
   "execution_count": 153,
   "metadata": {},
   "outputs": [],
   "source": [
    "# merge workers_a_noncorp_self\n",
    "df09['B24080_001E_11'] = df09.B24080_011E + df09.B24080_021E"
   ]
  },
  {
   "cell_type": "code",
   "execution_count": null,
   "metadata": {},
   "outputs": [],
   "source": []
  },
  {
   "cell_type": "code",
   "execution_count": null,
   "metadata": {},
   "outputs": [],
   "source": []
  },
  {
   "cell_type": "code",
   "execution_count": null,
   "metadata": {},
   "outputs": [],
   "source": []
  },
  {
   "cell_type": "code",
   "execution_count": null,
   "metadata": {},
   "outputs": [],
   "source": []
  },
  {
   "cell_type": "code",
   "execution_count": null,
   "metadata": {},
   "outputs": [],
   "source": []
  },
  {
   "cell_type": "code",
   "execution_count": 154,
   "metadata": {},
   "outputs": [],
   "source": [
    "df09_keep_cols = [\n",
    "    'B24080_001E', \n",
    "    'B24080_001E_03', \n",
    "    'B24080_001E_06', \n",
    "    'B24080_001E_09', \n",
    "    'B24080_001E_10', \n",
    "    'B24080_001E_11', \n",
    "    'B24080_002E', \n",
    "    'B24080_003E', \n",
    "    'B24080_006E',\n",
    "    'B24080_009E_M', \n",
    "    'B24080_010E', \n",
    "    'B24080_011E', \n",
    "    'B24080_012E',\n",
    "    'B24080_013E', \n",
    "    'B24080_016E',\n",
    "    'B24080_019E_M', \n",
    "    'B24080_020E',\n",
    "    'B24080_021E'\n",
    "]"
   ]
  },
  {
   "cell_type": "code",
   "execution_count": 155,
   "metadata": {},
   "outputs": [
    {
     "output_type": "execute_result",
     "data": {
      "text/plain": "0\nB24080_001E       887464.0\nB24080_001E_03    661458.0\nB24080_001E_06     54566.0\nB24080_001E_09    121076.0\nB24080_001E_10     49186.0\nB24080_001E_11      1178.0\nB24080_002E       471202.0\nB24080_003E       363065.0\nB24080_006E        20497.0\nB24080_009E_M      55979.0\nB24080_010E        31228.0\nB24080_011E          433.0\nB24080_012E       416262.0\nB24080_013E       298393.0\nB24080_016E        34069.0\nB24080_019E_M      65097.0\nB24080_020E        17958.0\nB24080_021E          745.0\ndtype: float64"
     },
     "metadata": {},
     "execution_count": 155
    }
   ],
   "source": [
    "df09[df09_keep_cols].sum()"
   ]
  },
  {
   "cell_type": "code",
   "execution_count": 156,
   "metadata": {},
   "outputs": [],
   "source": [
    "df09 = df09[df09_keep_cols]"
   ]
  },
  {
   "cell_type": "code",
   "execution_count": null,
   "metadata": {},
   "outputs": [],
   "source": []
  },
  {
   "cell_type": "code",
   "execution_count": 157,
   "metadata": {},
   "outputs": [],
   "source": [
    "df09.to_csv(dest09, header=True, index=True, index_label='block_group')"
   ]
  },
  {
   "cell_type": "code",
   "execution_count": 158,
   "metadata": {},
   "outputs": [],
   "source": [
    "rdf09=pd.read_csv(dest09).set_index('block_group')"
   ]
  },
  {
   "cell_type": "code",
   "execution_count": 159,
   "metadata": {
    "tags": []
   },
   "outputs": [
    {
     "output_type": "stream",
     "name": "stdout",
     "text": "<class 'pandas.core.frame.DataFrame'>\nInt64Index: 1084 entries, 480291805031 to 480291922002\nData columns (total 18 columns):\n #   Column          Non-Null Count  Dtype  \n---  ------          --------------  -----  \n 0   B24080_001E     1084 non-null   float64\n 1   B24080_001E_03  1084 non-null   float64\n 2   B24080_001E_06  1084 non-null   float64\n 3   B24080_001E_09  1084 non-null   float64\n 4   B24080_001E_10  1084 non-null   float64\n 5   B24080_001E_11  1084 non-null   float64\n 6   B24080_002E     1084 non-null   float64\n 7   B24080_003E     1084 non-null   float64\n 8   B24080_006E     1084 non-null   float64\n 9   B24080_009E_M   1084 non-null   float64\n 10  B24080_010E     1084 non-null   float64\n 11  B24080_011E     1084 non-null   float64\n 12  B24080_012E     1084 non-null   float64\n 13  B24080_013E     1084 non-null   float64\n 14  B24080_016E     1084 non-null   float64\n 15  B24080_019E_M   1084 non-null   float64\n 16  B24080_020E     1084 non-null   float64\n 17  B24080_021E     1084 non-null   float64\ndtypes: float64(18)\nmemory usage: 160.9 KB\n"
    }
   ],
   "source": [
    "rdf09.info()"
   ]
  },
  {
   "cell_type": "code",
   "execution_count": null,
   "metadata": {},
   "outputs": [],
   "source": []
  },
  {
   "cell_type": "code",
   "execution_count": null,
   "metadata": {},
   "outputs": [],
   "source": []
  },
  {
   "cell_type": "code",
   "execution_count": null,
   "metadata": {},
   "outputs": [],
   "source": []
  },
  {
   "cell_type": "markdown",
   "metadata": {},
   "source": [
    "# C17002"
   ]
  },
  {
   "cell_type": "code",
   "execution_count": 160,
   "metadata": {},
   "outputs": [],
   "source": [
    "data10 = 'https://api.census.gov/data/2018/acs/acs5?get=C17002_001E,C17002_002E,C17002_003E,C17002_004E,C17002_005E,C17002_006E,C17002_007E,C17002_008E&for=block%20group:*&in=state:48&in=county:029&in=tract:*'\n",
    "src10 = '../data_files/census_data/acs5_C17002_RatioIncomePoverty.json'\n",
    "dest10 = '../data_files/census_data/acs5_C17002_RatioIncomePoverty.csv'"
   ]
  },
  {
   "cell_type": "code",
   "execution_count": 161,
   "metadata": {},
   "outputs": [],
   "source": [
    "df10 = wrangle_acs5(src10)"
   ]
  },
  {
   "cell_type": "code",
   "execution_count": 162,
   "metadata": {},
   "outputs": [
    {
     "output_type": "execute_result",
     "data": {
      "text/plain": "0             C17002_001E  C17002_002E  C17002_003E  C17002_004E  C17002_005E  \\\nblock_group                                                                     \n480291805031        659.0         33.0          0.0         69.0        124.0   \n480291805032       1942.0        160.0        280.0         87.0         71.0   \n480291704013       1676.0        630.0        460.0        140.0        163.0   \n480291704012        730.0        260.0         69.0         15.0        101.0   \n480291914061       2612.0          0.0         84.0          0.0        150.0   \n\n0             C17002_006E  C17002_007E  C17002_008E  \nblock_group                                          \n480291805031          9.0         30.0        394.0  \n480291805032        154.0         19.0       1171.0  \n480291704013         77.0          0.0        206.0  \n480291704012        116.0         43.0        126.0  \n480291914061         50.0          0.0       2328.0  ",
      "text/html": "<div>\n<style scoped>\n    .dataframe tbody tr th:only-of-type {\n        vertical-align: middle;\n    }\n\n    .dataframe tbody tr th {\n        vertical-align: top;\n    }\n\n    .dataframe thead th {\n        text-align: right;\n    }\n</style>\n<table border=\"1\" class=\"dataframe\">\n  <thead>\n    <tr style=\"text-align: right;\">\n      <th></th>\n      <th>C17002_001E</th>\n      <th>C17002_002E</th>\n      <th>C17002_003E</th>\n      <th>C17002_004E</th>\n      <th>C17002_005E</th>\n      <th>C17002_006E</th>\n      <th>C17002_007E</th>\n      <th>C17002_008E</th>\n    </tr>\n    <tr>\n      <th>block_group</th>\n      <th></th>\n      <th></th>\n      <th></th>\n      <th></th>\n      <th></th>\n      <th></th>\n      <th></th>\n      <th></th>\n    </tr>\n  </thead>\n  <tbody>\n    <tr>\n      <th>480291805031</th>\n      <td>659.0</td>\n      <td>33.0</td>\n      <td>0.0</td>\n      <td>69.0</td>\n      <td>124.0</td>\n      <td>9.0</td>\n      <td>30.0</td>\n      <td>394.0</td>\n    </tr>\n    <tr>\n      <th>480291805032</th>\n      <td>1942.0</td>\n      <td>160.0</td>\n      <td>280.0</td>\n      <td>87.0</td>\n      <td>71.0</td>\n      <td>154.0</td>\n      <td>19.0</td>\n      <td>1171.0</td>\n    </tr>\n    <tr>\n      <th>480291704013</th>\n      <td>1676.0</td>\n      <td>630.0</td>\n      <td>460.0</td>\n      <td>140.0</td>\n      <td>163.0</td>\n      <td>77.0</td>\n      <td>0.0</td>\n      <td>206.0</td>\n    </tr>\n    <tr>\n      <th>480291704012</th>\n      <td>730.0</td>\n      <td>260.0</td>\n      <td>69.0</td>\n      <td>15.0</td>\n      <td>101.0</td>\n      <td>116.0</td>\n      <td>43.0</td>\n      <td>126.0</td>\n    </tr>\n    <tr>\n      <th>480291914061</th>\n      <td>2612.0</td>\n      <td>0.0</td>\n      <td>84.0</td>\n      <td>0.0</td>\n      <td>150.0</td>\n      <td>50.0</td>\n      <td>0.0</td>\n      <td>2328.0</td>\n    </tr>\n  </tbody>\n</table>\n</div>"
     },
     "metadata": {},
     "execution_count": 162
    }
   ],
   "source": [
    "df10.head()"
   ]
  },
  {
   "cell_type": "code",
   "execution_count": 163,
   "metadata": {},
   "outputs": [
    {
     "output_type": "execute_result",
     "data": {
      "text/plain": "Index(['C17002_001E', 'C17002_002E', 'C17002_003E', 'C17002_004E',\n       'C17002_005E', 'C17002_006E', 'C17002_007E', 'C17002_008E'],\n      dtype='object', name=0)"
     },
     "metadata": {},
     "execution_count": 163
    }
   ],
   "source": [
    "df10.columns"
   ]
  },
  {
   "cell_type": "code",
   "execution_count": 164,
   "metadata": {},
   "outputs": [
    {
     "output_type": "execute_result",
     "data": {
      "text/plain": "0       C17002_001E  C17002_002E  C17002_003E  C17002_004E  C17002_005E  \\\ncount   1084.000000  1084.000000  1084.000000  1084.000000  1084.000000   \nmean    1745.749077   118.272140   165.551661    93.045203    95.821956   \nstd     1158.358617   141.388043   181.213378   116.610767   118.120830   \nmin        0.000000     0.000000     0.000000     0.000000     0.000000   \n25%     1006.000000    25.000000    35.000000    12.000000    10.750000   \n50%     1434.500000    79.000000   104.000000    51.000000    52.500000   \n75%     2173.000000   162.250000   237.250000   136.000000   140.250000   \nmax    10968.000000  1421.000000  1631.000000   978.000000   712.000000   \n\n0      C17002_006E  C17002_007E  C17002_008E  \ncount  1084.000000  1084.000000  1084.000000  \nmean    123.920664    51.661439  1097.476015  \nstd     138.958357    75.648839   986.984593  \nmin       0.000000     0.000000     0.000000  \n25%      25.000000     0.000000   460.750000  \n50%      81.000000    23.000000   772.000000  \n75%     174.000000    70.000000  1400.000000  \nmax    1065.000000   542.000000  8988.000000  ",
      "text/html": "<div>\n<style scoped>\n    .dataframe tbody tr th:only-of-type {\n        vertical-align: middle;\n    }\n\n    .dataframe tbody tr th {\n        vertical-align: top;\n    }\n\n    .dataframe thead th {\n        text-align: right;\n    }\n</style>\n<table border=\"1\" class=\"dataframe\">\n  <thead>\n    <tr style=\"text-align: right;\">\n      <th></th>\n      <th>C17002_001E</th>\n      <th>C17002_002E</th>\n      <th>C17002_003E</th>\n      <th>C17002_004E</th>\n      <th>C17002_005E</th>\n      <th>C17002_006E</th>\n      <th>C17002_007E</th>\n      <th>C17002_008E</th>\n    </tr>\n  </thead>\n  <tbody>\n    <tr>\n      <th>count</th>\n      <td>1084.000000</td>\n      <td>1084.000000</td>\n      <td>1084.000000</td>\n      <td>1084.000000</td>\n      <td>1084.000000</td>\n      <td>1084.000000</td>\n      <td>1084.000000</td>\n      <td>1084.000000</td>\n    </tr>\n    <tr>\n      <th>mean</th>\n      <td>1745.749077</td>\n      <td>118.272140</td>\n      <td>165.551661</td>\n      <td>93.045203</td>\n      <td>95.821956</td>\n      <td>123.920664</td>\n      <td>51.661439</td>\n      <td>1097.476015</td>\n    </tr>\n    <tr>\n      <th>std</th>\n      <td>1158.358617</td>\n      <td>141.388043</td>\n      <td>181.213378</td>\n      <td>116.610767</td>\n      <td>118.120830</td>\n      <td>138.958357</td>\n      <td>75.648839</td>\n      <td>986.984593</td>\n    </tr>\n    <tr>\n      <th>min</th>\n      <td>0.000000</td>\n      <td>0.000000</td>\n      <td>0.000000</td>\n      <td>0.000000</td>\n      <td>0.000000</td>\n      <td>0.000000</td>\n      <td>0.000000</td>\n      <td>0.000000</td>\n    </tr>\n    <tr>\n      <th>25%</th>\n      <td>1006.000000</td>\n      <td>25.000000</td>\n      <td>35.000000</td>\n      <td>12.000000</td>\n      <td>10.750000</td>\n      <td>25.000000</td>\n      <td>0.000000</td>\n      <td>460.750000</td>\n    </tr>\n    <tr>\n      <th>50%</th>\n      <td>1434.500000</td>\n      <td>79.000000</td>\n      <td>104.000000</td>\n      <td>51.000000</td>\n      <td>52.500000</td>\n      <td>81.000000</td>\n      <td>23.000000</td>\n      <td>772.000000</td>\n    </tr>\n    <tr>\n      <th>75%</th>\n      <td>2173.000000</td>\n      <td>162.250000</td>\n      <td>237.250000</td>\n      <td>136.000000</td>\n      <td>140.250000</td>\n      <td>174.000000</td>\n      <td>70.000000</td>\n      <td>1400.000000</td>\n    </tr>\n    <tr>\n      <th>max</th>\n      <td>10968.000000</td>\n      <td>1421.000000</td>\n      <td>1631.000000</td>\n      <td>978.000000</td>\n      <td>712.000000</td>\n      <td>1065.000000</td>\n      <td>542.000000</td>\n      <td>8988.000000</td>\n    </tr>\n  </tbody>\n</table>\n</div>"
     },
     "metadata": {},
     "execution_count": 164
    }
   ],
   "source": [
    "df10.describe()"
   ]
  },
  {
   "cell_type": "code",
   "execution_count": 165,
   "metadata": {},
   "outputs": [
    {
     "output_type": "execute_result",
     "data": {
      "text/plain": "0\nC17002_001E    1892392.0\nC17002_002E     128207.0\nC17002_003E     179458.0\nC17002_004E     100861.0\nC17002_005E     103871.0\nC17002_006E     134330.0\nC17002_007E      56001.0\nC17002_008E    1189664.0\ndtype: float64"
     },
     "metadata": {},
     "execution_count": 165
    }
   ],
   "source": [
    "df10.sum()"
   ]
  },
  {
   "cell_type": "code",
   "execution_count": null,
   "metadata": {},
   "outputs": [],
   "source": []
  },
  {
   "cell_type": "code",
   "execution_count": 166,
   "metadata": {},
   "outputs": [],
   "source": [
    "# merge ratio_inc_pov_ann_050_099\n",
    "df10['C17002_005E_M'] = df10.C17002_004E + df10.C17002_005E"
   ]
  },
  {
   "cell_type": "code",
   "execution_count": 167,
   "metadata": {},
   "outputs": [],
   "source": [
    "# merge ratio_inc_pov_ann_100_150\n",
    "df10['C17002_007E_M'] = df10.C17002_006E + df10.C17002_007E"
   ]
  },
  {
   "cell_type": "code",
   "execution_count": null,
   "metadata": {},
   "outputs": [],
   "source": []
  },
  {
   "cell_type": "code",
   "execution_count": null,
   "metadata": {},
   "outputs": [],
   "source": []
  },
  {
   "cell_type": "code",
   "execution_count": null,
   "metadata": {},
   "outputs": [],
   "source": []
  },
  {
   "cell_type": "code",
   "execution_count": null,
   "metadata": {},
   "outputs": [],
   "source": []
  },
  {
   "cell_type": "code",
   "execution_count": null,
   "metadata": {},
   "outputs": [],
   "source": []
  },
  {
   "cell_type": "code",
   "execution_count": 168,
   "metadata": {},
   "outputs": [],
   "source": [
    "df10_keep_cols = [\n",
    "    'C17002_001E', \n",
    "    'C17002_002E', \n",
    "    'C17002_003E', \n",
    "    'C17002_005E_M',\n",
    "    'C17002_007E_M', \n",
    "    'C17002_008E'\n",
    "]"
   ]
  },
  {
   "cell_type": "code",
   "execution_count": 169,
   "metadata": {},
   "outputs": [
    {
     "output_type": "execute_result",
     "data": {
      "text/plain": "0\nC17002_001E      1892392.0\nC17002_002E       128207.0\nC17002_003E       179458.0\nC17002_005E_M     204732.0\nC17002_007E_M     190331.0\nC17002_008E      1189664.0\ndtype: float64"
     },
     "metadata": {},
     "execution_count": 169
    }
   ],
   "source": [
    "df10[df10_keep_cols].sum()"
   ]
  },
  {
   "cell_type": "code",
   "execution_count": 170,
   "metadata": {},
   "outputs": [],
   "source": [
    "df10 = df10[df10_keep_cols]"
   ]
  },
  {
   "cell_type": "code",
   "execution_count": null,
   "metadata": {},
   "outputs": [],
   "source": []
  },
  {
   "cell_type": "code",
   "execution_count": 171,
   "metadata": {},
   "outputs": [],
   "source": [
    "df10.to_csv(dest10, header=True, index=True, index_label='block_group')"
   ]
  },
  {
   "cell_type": "code",
   "execution_count": 172,
   "metadata": {},
   "outputs": [],
   "source": [
    "rdf10=pd.read_csv(dest10).set_index('block_group')"
   ]
  },
  {
   "cell_type": "code",
   "execution_count": 173,
   "metadata": {
    "tags": []
   },
   "outputs": [
    {
     "output_type": "stream",
     "name": "stdout",
     "text": "<class 'pandas.core.frame.DataFrame'>\nInt64Index: 1084 entries, 480291805031 to 480291922002\nData columns (total 6 columns):\n #   Column         Non-Null Count  Dtype  \n---  ------         --------------  -----  \n 0   C17002_001E    1084 non-null   float64\n 1   C17002_002E    1084 non-null   float64\n 2   C17002_003E    1084 non-null   float64\n 3   C17002_005E_M  1084 non-null   float64\n 4   C17002_007E_M  1084 non-null   float64\n 5   C17002_008E    1084 non-null   float64\ndtypes: float64(6)\nmemory usage: 59.3 KB\n"
    }
   ],
   "source": [
    "rdf10.info()"
   ]
  },
  {
   "cell_type": "code",
   "execution_count": null,
   "metadata": {},
   "outputs": [],
   "source": []
  }
 ],
 "metadata": {
  "kernelspec": {
   "display_name": "Python 3",
   "language": "python",
   "name": "python3"
  },
  "language_info": {
   "codemirror_mode": {
    "name": "ipython",
    "version": 3
   },
   "file_extension": ".py",
   "mimetype": "text/x-python",
   "name": "python",
   "nbconvert_exporter": "python",
   "pygments_lexer": "ipython3",
   "version": "3.7.7-final"
  }
 },
 "nbformat": 4,
 "nbformat_minor": 4
}