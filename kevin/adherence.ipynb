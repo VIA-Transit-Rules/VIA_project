{
 "cells": [
  {
   "cell_type": "code",
   "execution_count": 1,
   "metadata": {},
   "outputs": [],
   "source": [
    "#######################################\n",
    "###\n",
    "### environment setup\n",
    "###\n",
    "#######################################"
   ]
  },
  {
   "cell_type": "code",
   "execution_count": 2,
   "metadata": {},
   "outputs": [],
   "source": [
    "import pandas as pd\n",
    "import numpy as np\n",
    "import matplotlib.pyplot as plt\n",
    "from pyproj import Proj, transform, CRS\n",
    "from shapely.geometry import Polygon, Point\n",
    "import datetime\n",
    "from pprint import pprint\n",
    "import pprint\n",
    "\n",
    "# ignore warnings\n",
    "import warnings\n",
    "warnings.filterwarnings(\"ignore\")\n",
    "\n",
    "# display full\n",
    "pd.set_option('display.max_columns', None)\n",
    "pd.set_option('display.max_rows', None)"
   ]
  },
  {
   "cell_type": "code",
   "execution_count": 3,
   "metadata": {},
   "outputs": [],
   "source": [
    "import geopandas as gpd"
   ]
  },
  {
   "cell_type": "code",
   "execution_count": 4,
   "metadata": {},
   "outputs": [],
   "source": [
    "import geoplot as gplt"
   ]
  },
  {
   "cell_type": "code",
   "execution_count": 5,
   "metadata": {},
   "outputs": [],
   "source": [
    "def show_df(df, head_rows=5):\n",
    "    print(df.info())\n",
    "    display(df.head(head_rows))"
   ]
  },
  {
   "cell_type": "code",
   "execution_count": 6,
   "metadata": {},
   "outputs": [],
   "source": [
    "#######################################\n",
    "###\n",
    "### identify source data sets\n",
    "###\n",
    "#######################################"
   ]
  },
  {
   "cell_type": "code",
   "execution_count": 7,
   "metadata": {},
   "outputs": [],
   "source": [
    "files = {\n",
    "    'via_data': '../data_files/via_datadict.csv',\n",
    "    'tracts' : '../data_files/bexar_county/Bexar_County_Census_Tracts-shp/Bexar_County_Census_Tracts.shp', \n",
    "    'block_groups' : '../data_files/bexar_county/Bexar_County_Census_Block_Groups-shp/Bexar_County_Census_Block_Groups.shp', \n",
    "    'blocks' : '../data_files/bexar_county/Bexar_County_Census_Blocks-shp/Bexar_County_Census_Blocks.shp', \n",
    "    'adherence_2020' : '../data_files/Adherence_2020.csv',\n",
    "    'bus_otp_2020' : '../data_files/BusOnTimePerformance_2020.csv',\n",
    "    'bus_fare_box_2020' : '../data_files/bus_fare_fixed.csv',\n",
    "    'message_logs_2020' : '../data_files/Logged_Messages.csv',\n",
    "    'service_miles_2020' : '../data_files/TotalServiceMiles_2020.csv',\n",
    "    'stops_addr_2020' : '../data_files/Stops_LatLong_GeocodeData_2020.csv',\n",
    "    'stops_201909' : '../data_files/via_201909/stops.txt', \n",
    "    'stops_202004' : '../data_files/via_202004/stops.csv', \n",
    "    'trips_201909' : '../data_files/via_201909/trips.txt', \n",
    "    'trips_202004' : '../data_files/via_202004/trips.csv', \n",
    "    'routes_201909' : '../data_files/via_201909/routes.txt', \n",
    "    'routes_202004' : '../data_files/via_202004/routes.csv', \n",
    "    'stop_times_201909' : '../data_files/via_201909/stop_times.txt', \n",
    "    'stop_times_202004' : '../data_files/via_202004/stop_times.csv', \n",
    "    'transfers_201909' : '../data_files/via_201909/transfers.txt', \n",
    "    'transfers_202004' : '../data_files/via_202004/transfers.csv', \n",
    "    'shapes_201909' : '../data_files/via_201909/shapes.txt', \n",
    "    'shapes_202004' : '../data_files/via_202004/shapes.csv', \n",
    "    'group_stops' : '../data_files/group_stops-shp',\n",
    "    'acs5_name':'../data_files/census_data/acs5_name.csv',\n",
    "    'acs5_key':'../data_files/census_data/acs5_key.csv',\n",
    "    'census_field_names':'../data_files/census_data/census_field_names.csv',\n",
    "    'census_groups_names':'../data_files/census_data/census_groups_names.csv',\n",
    "\n",
    "}"
   ]
  },
  {
   "cell_type": "code",
   "execution_count": 8,
   "metadata": {
    "tags": []
   },
   "outputs": [
    {
     "output_type": "stream",
     "name": "stdout",
     "text": "*** via_datadict ***\n\n<class 'pandas.core.frame.DataFrame'>\nRangeIndex: 54 entries, 0 to 53\nData columns (total 4 columns):\n #   Column       Non-Null Count  Dtype  \n---  ------       --------------  -----  \n 0   via_column   54 non-null     object \n 1   gotb_column  54 non-null     object \n 2   datatype     54 non-null     object \n 3   description  0 non-null      float64\ndtypes: float64(1), object(3)\nmemory usage: 1.8+ KB\nNone\n\n\n*** via_rename ***\n\nvia_column\nServiceDate           service_date\nRoutes                       route\nBlock                  route_block\nRouteDirectionName       route_dir\nStopNumber                 stop_id\nName: gotb_column, dtype: object\n\n\n*** via_datatype ***\n\nvia_column\nServiceDate           datetime64\nRoutes                    string\nBlock                     string\nRouteDirectionName        string\nStopNumber                string\nName: datatype, dtype: object\n\n\n*** gotb_datatype ***\n\ngotb_column\nservice_date    datetime64\nroute               string\nroute_block         string\nroute_dir           string\nstop_id             string\nName: datatype, dtype: object\n"
    }
   ],
   "source": [
    "via_datadict = pd.read_csv(files['via_data'])\n",
    "print('*** via_datadict ***\\n')\n",
    "print(via_datadict.info())\n",
    "\n",
    "via_rename = via_datadict.set_index('via_column')['gotb_column']\n",
    "print('\\n\\n*** via_rename ***\\n')\n",
    "print(via_rename.head())\n",
    "\n",
    "via_datatype = via_datadict.set_index('via_column')['datatype']\n",
    "print('\\n\\n*** via_datatype ***\\n')\n",
    "print(via_datatype.head())\n",
    "\n",
    "gotb_datatype = via_datadict.set_index('gotb_column')['datatype']\n",
    "print('\\n\\n*** gotb_datatype ***\\n')\n",
    "print(gotb_datatype.head())"
   ]
  },
  {
   "cell_type": "code",
   "execution_count": 9,
   "metadata": {},
   "outputs": [],
   "source": [
    "#######################################\n",
    "###\n",
    "### set up census data\n",
    "###\n",
    "#######################################"
   ]
  },
  {
   "cell_type": "code",
   "execution_count": 10,
   "metadata": {
    "tags": []
   },
   "outputs": [],
   "source": [
    "# gdf_tracts = gpd.read_file(files['tracts']).set_index('OBJECTID')\n",
    "# gdf_tracts.index.name = 'TRACTID'\n",
    "# gdf_tracts['density']=gdf_tracts.SUM_POPULA / gdf_tracts.ShapeSTAre.min()\n",
    "# gdf_tracts = gdf_tracts.to_crs('epsg:4326')\n",
    "# gdf_tracts = gdf_tracts.astype({'TRACT':'string'})\n",
    "# show_df(gdf_tracts)"
   ]
  },
  {
   "cell_type": "code",
   "execution_count": 11,
   "metadata": {
    "tags": []
   },
   "outputs": [],
   "source": [
    "# gdf_groups = gpd.read_file(files['block_groups']).set_index('OBJECTID')\n",
    "# gdf_groups.index.name = 'GROUPID'\n",
    "# gdf_groups['density']=gdf_groups.SUM_POPULA / gdf_groups.ShapeSTAre\n",
    "# gdf_groups = gdf_groups.to_crs('epsg:4326')\n",
    "# gdf_groups = gdf_groups.astype({'BLOCKGROUP':'string'})\n",
    "# gdf_groups = gdf_groups.drop(columns=['Shape_STAr','Shape_STLe'])\n",
    "# show_df(gdf_groups)"
   ]
  },
  {
   "cell_type": "code",
   "execution_count": 12,
   "metadata": {},
   "outputs": [],
   "source": [
    "# gdf_blocks_cols = [\n",
    "#     'BLOCK', 'BLOCKGROUP', 'TRACT', 'ID', 'COLORING', 'MCD', \n",
    "#     'PLACE', 'VTD', 'CONGRESS', 'LOWERSLD', 'UPPERSLD', 'UNIFSCHOOL',\n",
    "#     'POPULATION', 'HISPANIC_O', 'NH_WHT', 'NH_BLK', 'NH_ASN', 'NH_OTH',\n",
    "#     'gecovector', 'ShapeSTAre', 'ShapeSTLen', 'geometry'\n",
    "# ]"
   ]
  },
  {
   "cell_type": "code",
   "execution_count": 13,
   "metadata": {
    "tags": []
   },
   "outputs": [],
   "source": [
    "# gdf_blocks = gpd.read_file(files['blocks']).set_index('OBJECTID')\n",
    "# gdf_blocks.index.name = 'BLOCKOBJ'\n",
    "# gdf_blocks['NH_OTH'] = (\n",
    "#     gdf_blocks.POPULATION \n",
    "#     - gdf_blocks.HISPANIC_O \n",
    "#     - gdf_blocks.NH_WHT \n",
    "#     - gdf_blocks.NH_BLK \n",
    "#     - gdf_blocks.NH_ASN\n",
    "# )\n",
    "# gdf_blocks = gdf_blocks[gdf_blocks_cols]\n",
    "# gdf_blocks = gdf_blocks.merge(\n",
    "#     gdf_groups[['BLOCKGROUP','SUM_POPULA']].rename(columns={'SUM_POPULA':'GROUPPOP'}),\n",
    "#     on='BLOCKGROUP',\n",
    "#     how='left'\n",
    "# )\n",
    "# gdf_blocks['GROUPPCT']=gdf_blocks.POPULATION / gdf_blocks.GROUPPOP\n",
    "# gdf_blocks = gdf_blocks.merge(\n",
    "#     gdf_tracts[['TRACT','SUM_POPULA']].rename(columns={'SUM_POPULA':'TRACTPOP'}),\n",
    "#     on='TRACT',\n",
    "#     how='left'\n",
    "# )\n",
    "# gdf_blocks['TRACTPCT']=gdf_blocks.POPULATION / gdf_blocks.TRACTPOP\n",
    "# # gdf_blocks['density']=gdf_blocks.POPULATION / gdf_blocks.ShapeSTAre\n",
    "# gdf_blocks = gdf_blocks.to_crs('epsg:4326')\n",
    "# gdf_blocks = gdf_blocks.astype({\n",
    "#     'BLOCK': 'string',\n",
    "#     'BLOCKGROUP': 'string',\n",
    "#     'TRACT': 'string',\n",
    "#     'MCD': 'string',\n",
    "#     'PLACE': 'string',\n",
    "#     'VTD': 'string',\n",
    "#     'CONGRESS': 'string',\n",
    "#     'LOWERSLD': 'string',\n",
    "#     'UPPERSLD': 'string',\n",
    "#     'UNIFSCHOOL': 'string',\n",
    "# })\n",
    "# show_df(gdf_blocks)"
   ]
  },
  {
   "cell_type": "code",
   "execution_count": 14,
   "metadata": {
    "tags": []
   },
   "outputs": [],
   "source": [
    "# gdf_counties = gdf_tracts[['TRACT','SUM_POPULA','ShapeSTAre','geometry']].copy()\n",
    "# gdf_counties['COUNTY'] = gdf_counties['TRACT'].str[:5]\n",
    "# gdf_counties.drop(columns='TRACT', inplace=True)\n",
    "# gdf_counties = gdf_counties.dissolve(by='COUNTY', aggfunc='sum').reset_index()\n",
    "# gdf_counties.index.name = 'COUNTYID'\n",
    "# gdf_counties = gdf_counties.astype({'COUNTY':\"string\"})\n",
    "# show_df(gdf_counties)"
   ]
  },
  {
   "cell_type": "code",
   "execution_count": 15,
   "metadata": {},
   "outputs": [],
   "source": [
    "# For simplification, using distance per degree latitude to determine buffer amount. \n",
    "# This is slightly inaccurate due to the curvature of the earth. Buffer distances is\n",
    "# set at 800 meters, which is roughly a half mile.\n",
    "\n",
    "# meters_per_degree = 111111\n",
    "# buffer_in_meters = 750\n",
    "# buffer_in_degrees = buffer_in_meters / meters_per_degree\n",
    "# buffer_in_degrees"
   ]
  },
  {
   "cell_type": "code",
   "execution_count": 16,
   "metadata": {},
   "outputs": [],
   "source": [
    "#######################################\n",
    "###\n",
    "### set up via datathon data\n",
    "###\n",
    "#######################################"
   ]
  },
  {
   "cell_type": "code",
   "execution_count": 17,
   "metadata": {},
   "outputs": [],
   "source": [
    "#######################################\n",
    "###\n",
    "### via datathon 2020\n",
    "###\n",
    "### adherence\n",
    "###\n",
    "#######################################"
   ]
  },
  {
   "cell_type": "code",
   "execution_count": 18,
   "metadata": {},
   "outputs": [],
   "source": [
    "def retype_dataframe(df, type_dict):\n",
    "    retype_dict = {k:v for (k,v) in type_dict.items() if k in df.columns}\n",
    "    # print(retype_dict)\n",
    "    string_cols = (k for (k,v) in retype_dict.items() if v == 'string')\n",
    "    # print(string_cols)\n",
    "    for col in string_cols:\n",
    "        df[col] = df[col].apply(str)\n",
    "    df = df.astype(retype_dict).copy()\n",
    "\n",
    "    return df"
   ]
  },
  {
   "cell_type": "code",
   "execution_count": 19,
   "metadata": {},
   "outputs": [],
   "source": [
    "def wrangle_adherence(source_file):\n",
    "\n",
    "    adherence_stops_cols = ['stop_id','stop_name','deg_lat','deg_lon']\n",
    "    adherence_stops_drops = adherence_stops_cols.copy()\n",
    "    adherence_stops_drops.remove('stop_id')\n",
    "    # print(adherence_stops_drops)\n",
    "    \n",
    "    df_adh = pd.read_csv(source_file).rename(columns=via_rename)\n",
    "    df_adh.route_dir = df_adh.route_dir.str.slice(0,1)\n",
    "    df_adh.vehicle_id = df_adh.vehicle_id.apply(str)\n",
    "    df_adh.vehicle_id = df_adh.vehicle_id.apply(lambda x: x.replace('.0',''))\n",
    "    # print('Check F1: df_adh')\n",
    "    # print(df_adh.info())\n",
    "    \n",
    "    gdf_stops = df_adh[adherence_stops_cols]\n",
    "    # print('\\nCheck F2: df_stops')\n",
    "    # print(gdf_stops.info())\n",
    "    \n",
    "    df_adh = df_adh.drop(columns=adherence_stops_drops)\n",
    "    df_adh = retype_dataframe(df_adh, gotb_datatype)\n",
    "    # print('\\nCheck F3: df_adh')\n",
    "    # print(df_adh.info())\n",
    "\n",
    "    adherence_stops_rename = {\n",
    "        'deg_lat' : 'stop_lat', \n",
    "        'deg_lon' : 'stop_lon',\n",
    "    }\n",
    "    \n",
    "    gdf_stops['stops'] = 1\n",
    "    gdf_stops.deg_lat.fillna(0, inplace=True)\n",
    "    gdf_stops.deg_lon.fillna(0, inplace=True)\n",
    "    gdf_stops.deg_lat = gdf_stops.deg_lat * 10 ** -7\n",
    "    gdf_stops.deg_lon = gdf_stops.deg_lon * 10 ** -7\n",
    "    gdf_stops = gdf_stops.groupby(adherence_stops_cols).agg({'stops':['sum']}).reset_index()\n",
    "    gdf_stops.columns = [col[0] for col in gdf_stops.columns]\n",
    "    # print(new_cols)\n",
    "    gdf_stops.rename(columns=adherence_stops_rename, inplace=True)\n",
    "    gdf_stops['stop_code'] = gdf_stops.stop_id\n",
    "    gdf_stops.set_index('stop_code', inplace=True)\n",
    "    gdf_stops = retype_dataframe(gdf_stops, gotb_datatype)\n",
    "    gdf_stops = gpd.GeoDataFrame(\n",
    "        gdf_stops,\n",
    "        geometry = gpd.points_from_xy(gdf_stops.stop_lon, gdf_stops.stop_lat),\n",
    "        crs={'epsg:4326'}\n",
    "    )\n",
    "    # print('\\nCheck F4: df_stops')\n",
    "    # print(gdf_stops.info())\n",
    "    return df_adh, gdf_stops"
   ]
  },
  {
   "cell_type": "code",
   "execution_count": 20,
   "metadata": {
    "tags": []
   },
   "outputs": [
    {
     "output_type": "stream",
     "name": "stdout",
     "text": "\ndf_adherence\n<class 'pandas.core.frame.DataFrame'>\nRangeIndex: 358328 entries, 0 to 358327\nData columns (total 13 columns):\n #   Column          Non-Null Count   Dtype         \n---  ------          --------------   -----         \n 0   service_date    358328 non-null  datetime64[ns]\n 1   route           358328 non-null  string        \n 2   route_block     358328 non-null  string        \n 3   route_dir       358328 non-null  string        \n 4   stop_id         358328 non-null  string        \n 5   sched_time_s    358328 non-null  float64       \n 6   sched_time_hms  358328 non-null  datetime64[ns]\n 7   arr_time_s      329729 non-null  float64       \n 8   arr_time_hms    329729 non-null  datetime64[ns]\n 9   dep_time_s      329729 non-null  float64       \n 10  dep_time_hms    329729 non-null  datetime64[ns]\n 11  odometer        329684 non-null  float64       \n 12  vehicle_id      358328 non-null  string        \ndtypes: datetime64[ns](4), float64(4), string(5)\nmemory usage: 35.5 MB\nNone\n"
    },
    {
     "output_type": "display_data",
     "data": {
      "text/plain": "  service_date route route_block route_dir stop_id  sched_time_s  \\\n0   2019-09-11    34     002-001         N    GARA           0.0   \n1   2019-09-11    34     002-001         N   99166       14940.0   \n2   2019-09-11    34     002-001         N   82589       15540.0   \n3   2019-09-11    34     002-001         N   11726       16020.0   \n4   2019-09-11    34     002-001         N   99396       16200.0   \n\n       sched_time_hms  arr_time_s        arr_time_hms  dep_time_s  \\\n0 2020-08-19 03:53:00     13213.0 2020-08-19 03:40:13     13701.0   \n1 2020-08-19 04:09:00         NaN                 NaT         NaN   \n2 2020-08-19 04:19:00         NaN                 NaT         NaN   \n3 2020-08-19 04:27:00     16081.0 2020-08-19 04:28:01     16094.0   \n4 2020-08-19 04:30:00     16281.0 2020-08-19 04:31:21     16281.0   \n\n         dep_time_hms  odometer vehicle_id  \n0 2020-08-19 03:48:21      0.15        533  \n1                 NaT       NaN        533  \n2                 NaT       NaN        533  \n3 2020-08-19 04:28:14     10.85        533  \n4 2020-08-19 04:31:21     11.28        533  ",
      "text/html": "<div>\n<style scoped>\n    .dataframe tbody tr th:only-of-type {\n        vertical-align: middle;\n    }\n\n    .dataframe tbody tr th {\n        vertical-align: top;\n    }\n\n    .dataframe thead th {\n        text-align: right;\n    }\n</style>\n<table border=\"1\" class=\"dataframe\">\n  <thead>\n    <tr style=\"text-align: right;\">\n      <th></th>\n      <th>service_date</th>\n      <th>route</th>\n      <th>route_block</th>\n      <th>route_dir</th>\n      <th>stop_id</th>\n      <th>sched_time_s</th>\n      <th>sched_time_hms</th>\n      <th>arr_time_s</th>\n      <th>arr_time_hms</th>\n      <th>dep_time_s</th>\n      <th>dep_time_hms</th>\n      <th>odometer</th>\n      <th>vehicle_id</th>\n    </tr>\n  </thead>\n  <tbody>\n    <tr>\n      <th>0</th>\n      <td>2019-09-11</td>\n      <td>34</td>\n      <td>002-001</td>\n      <td>N</td>\n      <td>GARA</td>\n      <td>0.0</td>\n      <td>2020-08-19 03:53:00</td>\n      <td>13213.0</td>\n      <td>2020-08-19 03:40:13</td>\n      <td>13701.0</td>\n      <td>2020-08-19 03:48:21</td>\n      <td>0.15</td>\n      <td>533</td>\n    </tr>\n    <tr>\n      <th>1</th>\n      <td>2019-09-11</td>\n      <td>34</td>\n      <td>002-001</td>\n      <td>N</td>\n      <td>99166</td>\n      <td>14940.0</td>\n      <td>2020-08-19 04:09:00</td>\n      <td>NaN</td>\n      <td>NaT</td>\n      <td>NaN</td>\n      <td>NaT</td>\n      <td>NaN</td>\n      <td>533</td>\n    </tr>\n    <tr>\n      <th>2</th>\n      <td>2019-09-11</td>\n      <td>34</td>\n      <td>002-001</td>\n      <td>N</td>\n      <td>82589</td>\n      <td>15540.0</td>\n      <td>2020-08-19 04:19:00</td>\n      <td>NaN</td>\n      <td>NaT</td>\n      <td>NaN</td>\n      <td>NaT</td>\n      <td>NaN</td>\n      <td>533</td>\n    </tr>\n    <tr>\n      <th>3</th>\n      <td>2019-09-11</td>\n      <td>34</td>\n      <td>002-001</td>\n      <td>N</td>\n      <td>11726</td>\n      <td>16020.0</td>\n      <td>2020-08-19 04:27:00</td>\n      <td>16081.0</td>\n      <td>2020-08-19 04:28:01</td>\n      <td>16094.0</td>\n      <td>2020-08-19 04:28:14</td>\n      <td>10.85</td>\n      <td>533</td>\n    </tr>\n    <tr>\n      <th>4</th>\n      <td>2019-09-11</td>\n      <td>34</td>\n      <td>002-001</td>\n      <td>N</td>\n      <td>99396</td>\n      <td>16200.0</td>\n      <td>2020-08-19 04:30:00</td>\n      <td>16281.0</td>\n      <td>2020-08-19 04:31:21</td>\n      <td>16281.0</td>\n      <td>2020-08-19 04:31:21</td>\n      <td>11.28</td>\n      <td>533</td>\n    </tr>\n  </tbody>\n</table>\n</div>"
     },
     "metadata": {}
    },
    {
     "output_type": "stream",
     "name": "stdout",
     "text": "\ngdf_stops_adh\n<class 'geopandas.geodataframe.GeoDataFrame'>\nIndex: 649 entries, 10013 to GARA\nData columns (total 6 columns):\n #   Column     Non-Null Count  Dtype   \n---  ------     --------------  -----   \n 0   stop_id    649 non-null    string  \n 1   stop_name  649 non-null    string  \n 2   stop_lat   649 non-null    float64 \n 3   stop_lon   649 non-null    float64 \n 4   stops      649 non-null    int64   \n 5   geometry   649 non-null    geometry\ndtypes: float64(2), geometry(1), int64(1), string(2)\nmemory usage: 35.5+ KB\nNone\n"
    },
    {
     "output_type": "display_data",
     "data": {
      "text/plain": "          stop_id                  stop_name   stop_lat   stop_lon  stops  \\\nstop_code                                                                   \n10013       10013  NORTH STAR TRANSIT CENTER  29.519705 -98.498340   1511   \n10019       10019  NORTH STAR TRANSIT CENTER  29.519579 -98.498064    836   \n10023       10023  NORTH STAR TRANSIT CENTER  29.519261 -98.498801    575   \n10029       10029  NORTH STAR TRANSIT CENTER  29.519446 -98.498229    646   \n10033       10033  NORTH STAR TRANSIT CENTER  29.519403 -98.498651    567   \n\n                             geometry  \nstop_code                              \n10013      POINT (-98.49834 29.51970)  \n10019      POINT (-98.49806 29.51958)  \n10023      POINT (-98.49880 29.51926)  \n10029      POINT (-98.49823 29.51945)  \n10033      POINT (-98.49865 29.51940)  ",
      "text/html": "<div>\n<style scoped>\n    .dataframe tbody tr th:only-of-type {\n        vertical-align: middle;\n    }\n\n    .dataframe tbody tr th {\n        vertical-align: top;\n    }\n\n    .dataframe thead th {\n        text-align: right;\n    }\n</style>\n<table border=\"1\" class=\"dataframe\">\n  <thead>\n    <tr style=\"text-align: right;\">\n      <th></th>\n      <th>stop_id</th>\n      <th>stop_name</th>\n      <th>stop_lat</th>\n      <th>stop_lon</th>\n      <th>stops</th>\n      <th>geometry</th>\n    </tr>\n    <tr>\n      <th>stop_code</th>\n      <th></th>\n      <th></th>\n      <th></th>\n      <th></th>\n      <th></th>\n      <th></th>\n    </tr>\n  </thead>\n  <tbody>\n    <tr>\n      <th>10013</th>\n      <td>10013</td>\n      <td>NORTH STAR TRANSIT CENTER</td>\n      <td>29.519705</td>\n      <td>-98.498340</td>\n      <td>1511</td>\n      <td>POINT (-98.49834 29.51970)</td>\n    </tr>\n    <tr>\n      <th>10019</th>\n      <td>10019</td>\n      <td>NORTH STAR TRANSIT CENTER</td>\n      <td>29.519579</td>\n      <td>-98.498064</td>\n      <td>836</td>\n      <td>POINT (-98.49806 29.51958)</td>\n    </tr>\n    <tr>\n      <th>10023</th>\n      <td>10023</td>\n      <td>NORTH STAR TRANSIT CENTER</td>\n      <td>29.519261</td>\n      <td>-98.498801</td>\n      <td>575</td>\n      <td>POINT (-98.49880 29.51926)</td>\n    </tr>\n    <tr>\n      <th>10029</th>\n      <td>10029</td>\n      <td>NORTH STAR TRANSIT CENTER</td>\n      <td>29.519446</td>\n      <td>-98.498229</td>\n      <td>646</td>\n      <td>POINT (-98.49823 29.51945)</td>\n    </tr>\n    <tr>\n      <th>10033</th>\n      <td>10033</td>\n      <td>NORTH STAR TRANSIT CENTER</td>\n      <td>29.519403</td>\n      <td>-98.498651</td>\n      <td>567</td>\n      <td>POINT (-98.49865 29.51940)</td>\n    </tr>\n  </tbody>\n</table>\n</div>"
     },
     "metadata": {}
    }
   ],
   "source": [
    "df_adherence, gdf_stops_adh = wrangle_adherence(files['adherence_2020'])\n",
    "# print(adh.type())\n",
    "# df_adherence = adh[0]\n",
    "# gdf_stops_adh = adh[1]\n",
    "print('\\ndf_adherence')\n",
    "show_df(df_adherence)\n",
    "print('\\ngdf_stops_adh')\n",
    "show_df(gdf_stops_adh)"
   ]
  },
  {
   "cell_type": "code",
   "execution_count": 21,
   "metadata": {},
   "outputs": [
    {
     "output_type": "execute_result",
     "data": {
      "text/plain": "Index(['service_date', 'route', 'route_block', 'route_dir', 'stop_id',\n       'sched_time_s', 'sched_time_hms', 'arr_time_s', 'arr_time_hms',\n       'dep_time_s', 'dep_time_hms', 'odometer', 'vehicle_id'],\n      dtype='object')"
     },
     "metadata": {},
     "execution_count": 21
    }
   ],
   "source": [
    "df_adherence.columns"
   ]
  },
  {
   "cell_type": "code",
   "execution_count": null,
   "metadata": {},
   "outputs": [],
   "source": []
  },
  {
   "cell_type": "code",
   "execution_count": null,
   "metadata": {},
   "outputs": [],
   "source": []
  },
  {
   "cell_type": "code",
   "execution_count": 22,
   "metadata": {
    "tags": []
   },
   "outputs": [
    {
     "output_type": "stream",
     "name": "stdout",
     "text": "<class 'pandas.core.frame.DataFrame'>\nRangeIndex: 357465 entries, 0 to 357464\nData columns (total 12 columns):\n #   Column          Non-Null Count   Dtype         \n---  ------          --------------   -----         \n 0   service_date    357465 non-null  datetime64[ns]\n 1   route_block     357465 non-null  string        \n 2   route_dir       357465 non-null  string        \n 3   vehicle_id      357465 non-null  string        \n 4   route           357465 non-null  string        \n 5   stop_id         357465 non-null  string        \n 6   recs            357465 non-null  int64         \n 7   arr_odometer    328888 non-null  float64       \n 8   dep_odometer    328888 non-null  float64       \n 9   sched_time_hms  357465 non-null  datetime64[ns]\n 10  arr_time_hms    328933 non-null  datetime64[ns]\n 11  dep_time_hms    328933 non-null  datetime64[ns]\ndtypes: datetime64[ns](4), float64(2), int64(1), string(5)\nmemory usage: 32.7 MB\nNone\n"
    },
    {
     "output_type": "display_data",
     "data": {
      "text/plain": "  service_date route_block route_dir vehicle_id route stop_id  recs  \\\n0   2019-09-11     002-001         N        533    34    GARA     1   \n1   2019-09-11     002-001         N        533    34   99166     1   \n2   2019-09-11     002-001         N        533    34   82589     1   \n3   2019-09-11     002-001         N        533    34   11726     1   \n4   2019-09-11     002-001         N        533    34   99396     1   \n\n   arr_odometer  dep_odometer      sched_time_hms        arr_time_hms  \\\n0          0.15          0.15 2019-09-11 00:00:00 2019-09-11 03:40:13   \n1           NaN           NaN 2019-09-11 04:09:00                 NaT   \n2           NaN           NaN 2019-09-11 04:19:00                 NaT   \n3         10.85         10.85 2019-09-11 04:27:00 2019-09-11 04:28:01   \n4         11.28         11.28 2019-09-11 04:30:00 2019-09-11 04:31:21   \n\n         dep_time_hms  \n0 2019-09-11 03:48:21  \n1                 NaT  \n2                 NaT  \n3 2019-09-11 04:28:14  \n4 2019-09-11 04:31:21  ",
      "text/html": "<div>\n<style scoped>\n    .dataframe tbody tr th:only-of-type {\n        vertical-align: middle;\n    }\n\n    .dataframe tbody tr th {\n        vertical-align: top;\n    }\n\n    .dataframe thead th {\n        text-align: right;\n    }\n</style>\n<table border=\"1\" class=\"dataframe\">\n  <thead>\n    <tr style=\"text-align: right;\">\n      <th></th>\n      <th>service_date</th>\n      <th>route_block</th>\n      <th>route_dir</th>\n      <th>vehicle_id</th>\n      <th>route</th>\n      <th>stop_id</th>\n      <th>recs</th>\n      <th>arr_odometer</th>\n      <th>dep_odometer</th>\n      <th>sched_time_hms</th>\n      <th>arr_time_hms</th>\n      <th>dep_time_hms</th>\n    </tr>\n  </thead>\n  <tbody>\n    <tr>\n      <th>0</th>\n      <td>2019-09-11</td>\n      <td>002-001</td>\n      <td>N</td>\n      <td>533</td>\n      <td>34</td>\n      <td>GARA</td>\n      <td>1</td>\n      <td>0.15</td>\n      <td>0.15</td>\n      <td>2019-09-11 00:00:00</td>\n      <td>2019-09-11 03:40:13</td>\n      <td>2019-09-11 03:48:21</td>\n    </tr>\n    <tr>\n      <th>1</th>\n      <td>2019-09-11</td>\n      <td>002-001</td>\n      <td>N</td>\n      <td>533</td>\n      <td>34</td>\n      <td>99166</td>\n      <td>1</td>\n      <td>NaN</td>\n      <td>NaN</td>\n      <td>2019-09-11 04:09:00</td>\n      <td>NaT</td>\n      <td>NaT</td>\n    </tr>\n    <tr>\n      <th>2</th>\n      <td>2019-09-11</td>\n      <td>002-001</td>\n      <td>N</td>\n      <td>533</td>\n      <td>34</td>\n      <td>82589</td>\n      <td>1</td>\n      <td>NaN</td>\n      <td>NaN</td>\n      <td>2019-09-11 04:19:00</td>\n      <td>NaT</td>\n      <td>NaT</td>\n    </tr>\n    <tr>\n      <th>3</th>\n      <td>2019-09-11</td>\n      <td>002-001</td>\n      <td>N</td>\n      <td>533</td>\n      <td>34</td>\n      <td>11726</td>\n      <td>1</td>\n      <td>10.85</td>\n      <td>10.85</td>\n      <td>2019-09-11 04:27:00</td>\n      <td>2019-09-11 04:28:01</td>\n      <td>2019-09-11 04:28:14</td>\n    </tr>\n    <tr>\n      <th>4</th>\n      <td>2019-09-11</td>\n      <td>002-001</td>\n      <td>N</td>\n      <td>533</td>\n      <td>34</td>\n      <td>99396</td>\n      <td>1</td>\n      <td>11.28</td>\n      <td>11.28</td>\n      <td>2019-09-11 04:30:00</td>\n      <td>2019-09-11 04:31:21</td>\n      <td>2019-09-11 04:31:21</td>\n    </tr>\n  </tbody>\n</table>\n</div>"
     },
     "metadata": {}
    }
   ],
   "source": [
    "adh_routes_group_cols = ['service_date','route_block','sched_time_s','route_dir','vehicle_id','route','stop_id']\n",
    "adh_routes_data_cols = ['arr_time_s', 'dep_time_s', 'odometer']\n",
    "adh_routes = df_adherence[adh_routes_group_cols + adh_routes_data_cols]\n",
    "adh_routes['arr_odometer'] = adh_routes.odometer\n",
    "adh_routes['dep_odometer'] = adh_routes.odometer\n",
    "adh_routes['recs'] = 1\n",
    "adh_routes = adh_routes.groupby(adh_routes_group_cols).agg({'recs':['count'], 'arr_time_s':['min'],'dep_time_s':['max'],'arr_odometer':['min'],'dep_odometer':['max']}).reset_index()\n",
    "adh_routes.columns = [col[0] for col in adh_routes.columns]\n",
    "adh_routes = retype_dataframe(adh_routes, gotb_datatype)\n",
    "adh_routes['sched_time_hms'] = adh_routes.service_date + pd.to_timedelta(adh_routes.sched_time_s,'sec')\n",
    "adh_routes['arr_time_hms'] = adh_routes.service_date + pd.to_timedelta(adh_routes.arr_time_s,'sec')\n",
    "adh_routes['dep_time_hms'] = adh_routes.service_date + pd.to_timedelta(adh_routes.dep_time_s,'sec')\n",
    "adh_routes.drop(columns=['sched_time_s', 'arr_time_s', 'dep_time_s'], inplace=True)\n",
    "adh_routes_sort_cols = ['service_date','route_block','sched_time_hms','vehicle_id','arr_time_hms','arr_odometer','route_dir']\n",
    "adh_routes = adh_routes.sort_values(by=adh_routes_sort_cols).reset_index().drop(columns='index')\n",
    "\n",
    "show_df(adh_routes)"
   ]
  },
  {
   "cell_type": "code",
   "execution_count": 23,
   "metadata": {
    "tags": []
   },
   "outputs": [
    {
     "output_type": "stream",
     "name": "stdout",
     "text": "357465\n\n     block_run  run_stop  stops\nidx                            \n0            1       NaN    4.0\n1            1       1.0    4.0\n2            1       2.0    4.0\n3            1       3.0    4.0\n4            1       4.0    4.0\n        block_run  run_stop  stops\nidx                               \n357460      75019       NaN    2.0\n357461      75020       NaN    2.0\n357462      75020       1.0    2.0\n357463      75020       2.0    2.0\n357464      75020       NaN    2.0\n"
    }
   ],
   "source": [
    "def generate_run_ids(df):\n",
    "    #setup\n",
    "    block_run = 0\n",
    "    previous = ()\n",
    "    #for loop - condition then yield\n",
    "    for row in df.index:\n",
    "        # cur_df = df.loc[row]\n",
    "        current=(df.service_date[row],df.vehicle_id[row],df.route[row],df.route_block[row],df.route_dir[row])\n",
    "        # print(run_stop)\n",
    "        if previous != current:\n",
    "            block_run += 1\n",
    "            run_stop = 1\n",
    "        if df.stop_id[row] == 'GARA':\n",
    "            yield row, block_run, None\n",
    "        else:\n",
    "            yield row, block_run, run_stop\n",
    "            run_stop +=1\n",
    "        previous=current\n",
    "\n",
    "# adh_routes_group_cols = ['service_date','vehicle_id','route','sched_time_s','route_block','route_dir','stop_id']\n",
    "# adh_routes_block_cols = adh_routes_group_cols.copy()\n",
    "# print(adh_routes_block_cols)\n",
    "# adh_routes_block_cols.remove('sched_time_s')\n",
    "print(len(adh_routes))\n",
    "# gen_df = pd.DataFrame(generate_run_ids(adh_routes[adh_routes_group_cols][adh_routes.stop_id != 'GARA']), columns=['idx', 'block_run', 'run_stop'])\n",
    "gen_df = pd.DataFrame(generate_run_ids(adh_routes), columns=['idx', 'block_run', 'run_stop'])\n",
    "gen_df = gen_df.merge(\n",
    "    gen_df[['block_run','run_stop']].groupby(['block_run']).agg('max').rename(columns={'run_stop':'stops'}),\n",
    "    how='left',\n",
    "    on='block_run'\n",
    "    ).set_index('idx')\n",
    "\n",
    "print()\n",
    "print(gen_df.head())\n",
    "print(gen_df.tail())\n"
   ]
  },
  {
   "cell_type": "code",
   "execution_count": 24,
   "metadata": {
    "tags": []
   },
   "outputs": [
    {
     "output_type": "stream",
     "name": "stdout",
     "text": "<class 'pandas.core.frame.DataFrame'>\nRangeIndex: 357465 entries, 0 to 357464\nData columns (total 21 columns):\n #   Column          Non-Null Count   Dtype          \n---  ------          --------------   -----          \n 0   service_date    357465 non-null  datetime64[ns] \n 1   route_block     357465 non-null  string         \n 2   route_dir       357465 non-null  string         \n 3   vehicle_id      357465 non-null  string         \n 4   route           357465 non-null  string         \n 5   stop_id         357465 non-null  string         \n 6   recs            357465 non-null  int64          \n 7   arr_odometer    328888 non-null  float64        \n 8   dep_odometer    328888 non-null  float64        \n 9   sched_time_hms  357465 non-null  datetime64[ns] \n 10  arr_time_hms    328933 non-null  datetime64[ns] \n 11  dep_time_hms    264986 non-null  datetime64[ns] \n 12  block_run       357465 non-null  int64          \n 13  run_stop        348993 non-null  float64        \n 14  stops           357279 non-null  float64        \n 15  time_stopped    264986 non-null  timedelta64[ns]\n 16  sched_diff      328933 non-null  timedelta64[ns]\n 17  err_skip        357465 non-null  bool           \n 18  err_early       357465 non-null  bool           \n 19  err_late        357465 non-null  bool           \n 20  on_time         357465 non-null  bool           \ndtypes: bool(4), datetime64[ns](4), float64(4), int64(2), string(5), timedelta64[ns](2)\nmemory usage: 47.7 MB\nNone\n"
    },
    {
     "output_type": "display_data",
     "data": {
      "text/plain": "  service_date route_block route_dir vehicle_id route stop_id  recs  \\\n0   2019-09-11     002-001         N        533    34    GARA     1   \n1   2019-09-11     002-001         N        533    34   99166     1   \n2   2019-09-11     002-001         N        533    34   82589     1   \n3   2019-09-11     002-001         N        533    34   11726     1   \n4   2019-09-11     002-001         N        533    34   99396     1   \n\n   arr_odometer  dep_odometer      sched_time_hms        arr_time_hms  \\\n0          0.15          0.15 2019-09-11 00:00:00 2019-09-11 03:40:13   \n1           NaN           NaN 2019-09-11 04:09:00                 NaT   \n2           NaN           NaN 2019-09-11 04:19:00                 NaT   \n3         10.85         10.85 2019-09-11 04:27:00 2019-09-11 04:28:01   \n4         11.28         11.28 2019-09-11 04:30:00 2019-09-11 04:31:21   \n\n         dep_time_hms  block_run  run_stop  stops time_stopped sched_diff  \\\n0 2019-09-11 03:48:21          1       NaN    4.0     00:08:08   03:48:21   \n1                 NaT          1       1.0    4.0          NaT        NaT   \n2                 NaT          1       2.0    4.0          NaT        NaT   \n3 2019-09-11 04:28:14          1       3.0    4.0     00:00:13   00:01:14   \n4                 NaT          1       4.0    4.0          NaT   00:01:21   \n\n   err_skip  err_early  err_late  on_time  \n0     False      False     False     True  \n1      True      False     False    False  \n2      True      False     False    False  \n3     False      False     False     True  \n4     False      False     False     True  ",
      "text/html": "<div>\n<style scoped>\n    .dataframe tbody tr th:only-of-type {\n        vertical-align: middle;\n    }\n\n    .dataframe tbody tr th {\n        vertical-align: top;\n    }\n\n    .dataframe thead th {\n        text-align: right;\n    }\n</style>\n<table border=\"1\" class=\"dataframe\">\n  <thead>\n    <tr style=\"text-align: right;\">\n      <th></th>\n      <th>service_date</th>\n      <th>route_block</th>\n      <th>route_dir</th>\n      <th>vehicle_id</th>\n      <th>route</th>\n      <th>stop_id</th>\n      <th>recs</th>\n      <th>arr_odometer</th>\n      <th>dep_odometer</th>\n      <th>sched_time_hms</th>\n      <th>arr_time_hms</th>\n      <th>dep_time_hms</th>\n      <th>block_run</th>\n      <th>run_stop</th>\n      <th>stops</th>\n      <th>time_stopped</th>\n      <th>sched_diff</th>\n      <th>err_skip</th>\n      <th>err_early</th>\n      <th>err_late</th>\n      <th>on_time</th>\n    </tr>\n  </thead>\n  <tbody>\n    <tr>\n      <th>0</th>\n      <td>2019-09-11</td>\n      <td>002-001</td>\n      <td>N</td>\n      <td>533</td>\n      <td>34</td>\n      <td>GARA</td>\n      <td>1</td>\n      <td>0.15</td>\n      <td>0.15</td>\n      <td>2019-09-11 00:00:00</td>\n      <td>2019-09-11 03:40:13</td>\n      <td>2019-09-11 03:48:21</td>\n      <td>1</td>\n      <td>NaN</td>\n      <td>4.0</td>\n      <td>00:08:08</td>\n      <td>03:48:21</td>\n      <td>False</td>\n      <td>False</td>\n      <td>False</td>\n      <td>True</td>\n    </tr>\n    <tr>\n      <th>1</th>\n      <td>2019-09-11</td>\n      <td>002-001</td>\n      <td>N</td>\n      <td>533</td>\n      <td>34</td>\n      <td>99166</td>\n      <td>1</td>\n      <td>NaN</td>\n      <td>NaN</td>\n      <td>2019-09-11 04:09:00</td>\n      <td>NaT</td>\n      <td>NaT</td>\n      <td>1</td>\n      <td>1.0</td>\n      <td>4.0</td>\n      <td>NaT</td>\n      <td>NaT</td>\n      <td>True</td>\n      <td>False</td>\n      <td>False</td>\n      <td>False</td>\n    </tr>\n    <tr>\n      <th>2</th>\n      <td>2019-09-11</td>\n      <td>002-001</td>\n      <td>N</td>\n      <td>533</td>\n      <td>34</td>\n      <td>82589</td>\n      <td>1</td>\n      <td>NaN</td>\n      <td>NaN</td>\n      <td>2019-09-11 04:19:00</td>\n      <td>NaT</td>\n      <td>NaT</td>\n      <td>1</td>\n      <td>2.0</td>\n      <td>4.0</td>\n      <td>NaT</td>\n      <td>NaT</td>\n      <td>True</td>\n      <td>False</td>\n      <td>False</td>\n      <td>False</td>\n    </tr>\n    <tr>\n      <th>3</th>\n      <td>2019-09-11</td>\n      <td>002-001</td>\n      <td>N</td>\n      <td>533</td>\n      <td>34</td>\n      <td>11726</td>\n      <td>1</td>\n      <td>10.85</td>\n      <td>10.85</td>\n      <td>2019-09-11 04:27:00</td>\n      <td>2019-09-11 04:28:01</td>\n      <td>2019-09-11 04:28:14</td>\n      <td>1</td>\n      <td>3.0</td>\n      <td>4.0</td>\n      <td>00:00:13</td>\n      <td>00:01:14</td>\n      <td>False</td>\n      <td>False</td>\n      <td>False</td>\n      <td>True</td>\n    </tr>\n    <tr>\n      <th>4</th>\n      <td>2019-09-11</td>\n      <td>002-001</td>\n      <td>N</td>\n      <td>533</td>\n      <td>34</td>\n      <td>99396</td>\n      <td>1</td>\n      <td>11.28</td>\n      <td>11.28</td>\n      <td>2019-09-11 04:30:00</td>\n      <td>2019-09-11 04:31:21</td>\n      <td>NaT</td>\n      <td>1</td>\n      <td>4.0</td>\n      <td>4.0</td>\n      <td>NaT</td>\n      <td>00:01:21</td>\n      <td>False</td>\n      <td>False</td>\n      <td>False</td>\n      <td>True</td>\n    </tr>\n  </tbody>\n</table>\n</div>"
     },
     "metadata": {}
    }
   ],
   "source": [
    "gen_df_cols_in_routes = [col for col in gen_df.columns if col in adh_routes.columns]\n",
    "try:\n",
    "    adh_routes = adh_routes.drop(columns=gen_df_cols_in_routes)\n",
    "except:\n",
    "    print('No drops')\n",
    "    pass\n",
    "\n",
    "# try:\n",
    "#     print(gen_df.info())\n",
    "adh_routes = adh_routes.join(gen_df, how='left')\n",
    "# except:\n",
    "#     print('join failed')\n",
    "#     pass\n",
    "# print(adh_routes.info())\n",
    "\n",
    "adh_routes.dep_time_hms.where(adh_routes.run_stop != adh_routes.stops, None, inplace=True)\n",
    "# adh_routes=adh_routes.rename(columns={'time_missed':'sched_diff'})\n",
    "# print(adh_routes[['dep_time_hms']].info())\n",
    "# adh_routes = adh_routes.astype({'dep_time_hms':'datetime64'})\n",
    "# print(adh_routes[['dep_time_hms']].info())\n",
    "adh_routes['time_stopped'] = adh_routes.dep_time_hms - adh_routes.arr_time_hms\n",
    "adh_routes['sched_diff'] = adh_routes.dep_time_hms - adh_routes.sched_time_hms\n",
    "adh_routes.sched_diff.where(adh_routes.run_stop != adh_routes.stops, adh_routes.arr_time_hms - adh_routes.sched_time_hms, inplace=True)\n",
    "adh_routes['err_skip'] = (adh_routes.run_stop.isna() == False) & (adh_routes.arr_time_hms.isna())\n",
    "adh_routes['err_early'] = (adh_routes.run_stop.isna() == False) & (adh_routes.dep_time_hms.isna() == False) & (adh_routes.sched_diff + pd.Timedelta('00:00:10') < '0') \n",
    "adh_routes['err_late'] = (adh_routes.run_stop.isna() == False) & (adh_routes.sched_diff >= '00:05:00') \n",
    "adh_routes['on_time'] = adh_routes.err_skip + adh_routes.err_late + adh_routes.err_early == 0\n",
    "show_df(adh_routes)"
   ]
  },
  {
   "cell_type": "code",
   "execution_count": 25,
   "metadata": {},
   "outputs": [
    {
     "output_type": "execute_result",
     "data": {
      "text/plain": "           stops\nblock_run       \n1              4\n2              7\n3              6\n4              6\n5              6",
      "text/html": "<div>\n<style scoped>\n    .dataframe tbody tr th:only-of-type {\n        vertical-align: middle;\n    }\n\n    .dataframe tbody tr th {\n        vertical-align: top;\n    }\n\n    .dataframe thead th {\n        text-align: right;\n    }\n</style>\n<table border=\"1\" class=\"dataframe\">\n  <thead>\n    <tr style=\"text-align: right;\">\n      <th></th>\n      <th>stops</th>\n    </tr>\n    <tr>\n      <th>block_run</th>\n      <th></th>\n    </tr>\n  </thead>\n  <tbody>\n    <tr>\n      <th>1</th>\n      <td>4</td>\n    </tr>\n    <tr>\n      <th>2</th>\n      <td>7</td>\n    </tr>\n    <tr>\n      <th>3</th>\n      <td>6</td>\n    </tr>\n    <tr>\n      <th>4</th>\n      <td>6</td>\n    </tr>\n    <tr>\n      <th>5</th>\n      <td>6</td>\n    </tr>\n  </tbody>\n</table>\n</div>"
     },
     "metadata": {},
     "execution_count": 25
    }
   ],
   "source": [
    "adh_routes[['block_run','run_stop']].groupby(['block_run']).agg('count').rename(columns={'run_stop':'stops'}).head()"
   ]
  },
  {
   "cell_type": "code",
   "execution_count": 26,
   "metadata": {
    "tags": []
   },
   "outputs": [
    {
     "output_type": "stream",
     "name": "stdout",
     "text": "<class 'pandas.core.frame.DataFrame'>\nInt64Index: 75020 entries, 1 to 75020\nData columns (total 1 columns):\n #   Column  Non-Null Count  Dtype\n---  ------  --------------  -----\n 0   stops   75020 non-null  int64\ndtypes: int64(1)\nmemory usage: 1.1 MB\n"
    }
   ],
   "source": [
    "pd.DataFrame(adh_routes.block_run.value_counts()).rename(columns={'block_run':'stops'}).sort_index().info()"
   ]
  },
  {
   "cell_type": "code",
   "execution_count": 27,
   "metadata": {},
   "outputs": [
    {
     "output_type": "execute_result",
     "data": {
      "text/plain": "  service_date route_block route_dir vehicle_id route stop_id  recs  \\\n0   2019-09-11     002-001         N        533    34    GARA     1   \n1   2019-09-11     002-001         N        533    34   99166     1   \n2   2019-09-11     002-001         N        533    34   82589     1   \n3   2019-09-11     002-001         N        533    34   11726     1   \n4   2019-09-11     002-001         N        533    34   99396     1   \n\n   arr_odometer  dep_odometer      sched_time_hms        arr_time_hms  \\\n0          0.15          0.15 2019-09-11 00:00:00 2019-09-11 03:40:13   \n1           NaN           NaN 2019-09-11 04:09:00                 NaT   \n2           NaN           NaN 2019-09-11 04:19:00                 NaT   \n3         10.85         10.85 2019-09-11 04:27:00 2019-09-11 04:28:01   \n4         11.28         11.28 2019-09-11 04:30:00 2019-09-11 04:31:21   \n\n         dep_time_hms  block_run  run_stop  stops time_stopped sched_diff  \\\n0 2019-09-11 03:48:21          1       NaN    4.0     00:08:08   03:48:21   \n1                 NaT          1       1.0    4.0          NaT        NaT   \n2                 NaT          1       2.0    4.0          NaT        NaT   \n3 2019-09-11 04:28:14          1       3.0    4.0     00:00:13   00:01:14   \n4                 NaT          1       4.0    4.0          NaT   00:01:21   \n\n   err_skip  err_early  err_late  on_time  \n0     False      False     False     True  \n1      True      False     False    False  \n2      True      False     False    False  \n3     False      False     False     True  \n4     False      False     False     True  ",
      "text/html": "<div>\n<style scoped>\n    .dataframe tbody tr th:only-of-type {\n        vertical-align: middle;\n    }\n\n    .dataframe tbody tr th {\n        vertical-align: top;\n    }\n\n    .dataframe thead th {\n        text-align: right;\n    }\n</style>\n<table border=\"1\" class=\"dataframe\">\n  <thead>\n    <tr style=\"text-align: right;\">\n      <th></th>\n      <th>service_date</th>\n      <th>route_block</th>\n      <th>route_dir</th>\n      <th>vehicle_id</th>\n      <th>route</th>\n      <th>stop_id</th>\n      <th>recs</th>\n      <th>arr_odometer</th>\n      <th>dep_odometer</th>\n      <th>sched_time_hms</th>\n      <th>arr_time_hms</th>\n      <th>dep_time_hms</th>\n      <th>block_run</th>\n      <th>run_stop</th>\n      <th>stops</th>\n      <th>time_stopped</th>\n      <th>sched_diff</th>\n      <th>err_skip</th>\n      <th>err_early</th>\n      <th>err_late</th>\n      <th>on_time</th>\n    </tr>\n  </thead>\n  <tbody>\n    <tr>\n      <th>0</th>\n      <td>2019-09-11</td>\n      <td>002-001</td>\n      <td>N</td>\n      <td>533</td>\n      <td>34</td>\n      <td>GARA</td>\n      <td>1</td>\n      <td>0.15</td>\n      <td>0.15</td>\n      <td>2019-09-11 00:00:00</td>\n      <td>2019-09-11 03:40:13</td>\n      <td>2019-09-11 03:48:21</td>\n      <td>1</td>\n      <td>NaN</td>\n      <td>4.0</td>\n      <td>00:08:08</td>\n      <td>03:48:21</td>\n      <td>False</td>\n      <td>False</td>\n      <td>False</td>\n      <td>True</td>\n    </tr>\n    <tr>\n      <th>1</th>\n      <td>2019-09-11</td>\n      <td>002-001</td>\n      <td>N</td>\n      <td>533</td>\n      <td>34</td>\n      <td>99166</td>\n      <td>1</td>\n      <td>NaN</td>\n      <td>NaN</td>\n      <td>2019-09-11 04:09:00</td>\n      <td>NaT</td>\n      <td>NaT</td>\n      <td>1</td>\n      <td>1.0</td>\n      <td>4.0</td>\n      <td>NaT</td>\n      <td>NaT</td>\n      <td>True</td>\n      <td>False</td>\n      <td>False</td>\n      <td>False</td>\n    </tr>\n    <tr>\n      <th>2</th>\n      <td>2019-09-11</td>\n      <td>002-001</td>\n      <td>N</td>\n      <td>533</td>\n      <td>34</td>\n      <td>82589</td>\n      <td>1</td>\n      <td>NaN</td>\n      <td>NaN</td>\n      <td>2019-09-11 04:19:00</td>\n      <td>NaT</td>\n      <td>NaT</td>\n      <td>1</td>\n      <td>2.0</td>\n      <td>4.0</td>\n      <td>NaT</td>\n      <td>NaT</td>\n      <td>True</td>\n      <td>False</td>\n      <td>False</td>\n      <td>False</td>\n    </tr>\n    <tr>\n      <th>3</th>\n      <td>2019-09-11</td>\n      <td>002-001</td>\n      <td>N</td>\n      <td>533</td>\n      <td>34</td>\n      <td>11726</td>\n      <td>1</td>\n      <td>10.85</td>\n      <td>10.85</td>\n      <td>2019-09-11 04:27:00</td>\n      <td>2019-09-11 04:28:01</td>\n      <td>2019-09-11 04:28:14</td>\n      <td>1</td>\n      <td>3.0</td>\n      <td>4.0</td>\n      <td>00:00:13</td>\n      <td>00:01:14</td>\n      <td>False</td>\n      <td>False</td>\n      <td>False</td>\n      <td>True</td>\n    </tr>\n    <tr>\n      <th>4</th>\n      <td>2019-09-11</td>\n      <td>002-001</td>\n      <td>N</td>\n      <td>533</td>\n      <td>34</td>\n      <td>99396</td>\n      <td>1</td>\n      <td>11.28</td>\n      <td>11.28</td>\n      <td>2019-09-11 04:30:00</td>\n      <td>2019-09-11 04:31:21</td>\n      <td>NaT</td>\n      <td>1</td>\n      <td>4.0</td>\n      <td>4.0</td>\n      <td>NaT</td>\n      <td>00:01:21</td>\n      <td>False</td>\n      <td>False</td>\n      <td>False</td>\n      <td>True</td>\n    </tr>\n  </tbody>\n</table>\n</div>"
     },
     "metadata": {},
     "execution_count": 27
    }
   ],
   "source": [
    "adh_routes[adh_routes.block_run==1]"
   ]
  },
  {
   "cell_type": "code",
   "execution_count": 28,
   "metadata": {},
   "outputs": [
    {
     "output_type": "execute_result",
     "data": {
      "text/plain": "1    356606\n2       857\n4         2\nName: recs, dtype: int64"
     },
     "metadata": {},
     "execution_count": 28
    }
   ],
   "source": [
    "adh_routes.recs.value_counts()"
   ]
  },
  {
   "cell_type": "code",
   "execution_count": 29,
   "metadata": {},
   "outputs": [
    {
     "output_type": "execute_result",
     "data": {
      "text/plain": "S    116631\nN    116201\nE     62920\nW     62576\nName: route_dir, dtype: Int64"
     },
     "metadata": {},
     "execution_count": 29
    }
   ],
   "source": [
    "df_adherence.route_dir.value_counts()"
   ]
  },
  {
   "cell_type": "code",
   "execution_count": 30,
   "metadata": {},
   "outputs": [
    {
     "output_type": "execute_result",
     "data": {
      "text/plain": "nan    1744\n525    1374\n529    1290\n533    1274\n585    1273\nName: vehicle_id, dtype: Int64"
     },
     "metadata": {},
     "execution_count": 30
    }
   ],
   "source": [
    "df_adherence.vehicle_id.value_counts().head()"
   ]
  },
  {
   "cell_type": "code",
   "execution_count": 31,
   "metadata": {},
   "outputs": [
    {
     "output_type": "execute_result",
     "data": {
      "text/plain": "service_date      2019-09-12 00:00:00\nroute_block                   002-008\nroute_dir                           S\nvehicle_id                        500\nroute                               2\nstop_id                         10059\nrecs                                4\narr_odometer                     57.7\ndep_odometer                    57.74\nsched_time_hms    2019-09-12 15:59:00\narr_time_hms      2019-09-12 15:56:10\ndep_time_hms      2019-09-12 15:59:15\nblock_run                        8256\nrun_stop                            2\nstops                               6\ntime_stopped          0 days 00:03:05\nsched_diff            0 days 00:00:15\nerr_skip                        False\nerr_early                       False\nerr_late                        False\non_time                          True\nName: 38955, dtype: object"
     },
     "metadata": {},
     "execution_count": 31
    }
   ],
   "source": [
    "check_mult = adh_routes[adh_routes.recs>2].iloc[0]\n",
    "check_mult"
   ]
  },
  {
   "cell_type": "code",
   "execution_count": 32,
   "metadata": {},
   "outputs": [
    {
     "output_type": "execute_result",
     "data": {
      "text/plain": "'S'"
     },
     "metadata": {},
     "execution_count": 32
    }
   ],
   "source": [
    "check_mult.route_dir"
   ]
  },
  {
   "cell_type": "code",
   "execution_count": 33,
   "metadata": {},
   "outputs": [
    {
     "output_type": "execute_result",
     "data": {
      "text/plain": "Empty DataFrame\nColumns: [service_date, route, route_block, route_dir, stop_id, sched_time_s, sched_time_hms, arr_time_s, arr_time_hms, dep_time_s, dep_time_hms, odometer, vehicle_id]\nIndex: []",
      "text/html": "<div>\n<style scoped>\n    .dataframe tbody tr th:only-of-type {\n        vertical-align: middle;\n    }\n\n    .dataframe tbody tr th {\n        vertical-align: top;\n    }\n\n    .dataframe thead th {\n        text-align: right;\n    }\n</style>\n<table border=\"1\" class=\"dataframe\">\n  <thead>\n    <tr style=\"text-align: right;\">\n      <th></th>\n      <th>service_date</th>\n      <th>route</th>\n      <th>route_block</th>\n      <th>route_dir</th>\n      <th>stop_id</th>\n      <th>sched_time_s</th>\n      <th>sched_time_hms</th>\n      <th>arr_time_s</th>\n      <th>arr_time_hms</th>\n      <th>dep_time_s</th>\n      <th>dep_time_hms</th>\n      <th>odometer</th>\n      <th>vehicle_id</th>\n    </tr>\n  </thead>\n  <tbody>\n  </tbody>\n</table>\n</div>"
     },
     "metadata": {},
     "execution_count": 33
    }
   ],
   "source": [
    "df_adherence[\n",
    "    (df_adherence.route == check_mult.route) & \n",
    "    (df_adherence.vehicle_id == check_mult.vehicle_id) & \n",
    "    (df_adherence.stop_id == check_mult.stop_id) & \n",
    "    (df_adherence.route_dir == check_mult.route_dir) & \n",
    "    (df_adherence.sched_time_hms == check_mult.sched_time_hms) \n",
    "\n",
    "]"
   ]
  },
  {
   "cell_type": "code",
   "execution_count": 34,
   "metadata": {},
   "outputs": [
    {
     "output_type": "execute_result",
     "data": {
      "text/plain": "      service_date route route_block route_dir stop_id  sched_time_s  \\\n11789   2019-09-11    26     020-007         W   11269       24600.0   \n12692   2019-09-11    26     020-016         W   11269       56820.0   \n12876   2019-09-11    26     020-018         W   11269       53040.0   \n50399   2019-09-12    26     020-009         W   11269       59040.0   \n50425   2019-09-12    26     020-009         W   11269       72960.0   \n\n           sched_time_hms  arr_time_s        arr_time_hms  dep_time_s  \\\n11789 2020-08-19 06:50:00     24902.0 2020-08-19 06:55:02     24902.0   \n12692 2020-08-19 15:47:00     56852.0 2020-08-19 15:47:32     56852.0   \n12876 2020-08-19 14:44:00     53116.0 2020-08-19 14:45:16     53116.0   \n50399 2020-08-19 16:24:00     59060.0 2020-08-19 16:24:20     59060.0   \n50425 2020-08-19 20:16:00     73256.0 2020-08-19 20:20:56     73256.0   \n\n             dep_time_hms  odometer vehicle_id  \n11789 2020-08-19 06:55:02       NaN        673  \n12692 2020-08-19 15:47:32       NaN        330  \n12876 2020-08-19 14:45:16       NaN        290  \n50399 2020-08-19 16:24:20       NaN        694  \n50425 2020-08-19 20:20:56       NaN        694  ",
      "text/html": "<div>\n<style scoped>\n    .dataframe tbody tr th:only-of-type {\n        vertical-align: middle;\n    }\n\n    .dataframe tbody tr th {\n        vertical-align: top;\n    }\n\n    .dataframe thead th {\n        text-align: right;\n    }\n</style>\n<table border=\"1\" class=\"dataframe\">\n  <thead>\n    <tr style=\"text-align: right;\">\n      <th></th>\n      <th>service_date</th>\n      <th>route</th>\n      <th>route_block</th>\n      <th>route_dir</th>\n      <th>stop_id</th>\n      <th>sched_time_s</th>\n      <th>sched_time_hms</th>\n      <th>arr_time_s</th>\n      <th>arr_time_hms</th>\n      <th>dep_time_s</th>\n      <th>dep_time_hms</th>\n      <th>odometer</th>\n      <th>vehicle_id</th>\n    </tr>\n  </thead>\n  <tbody>\n    <tr>\n      <th>11789</th>\n      <td>2019-09-11</td>\n      <td>26</td>\n      <td>020-007</td>\n      <td>W</td>\n      <td>11269</td>\n      <td>24600.0</td>\n      <td>2020-08-19 06:50:00</td>\n      <td>24902.0</td>\n      <td>2020-08-19 06:55:02</td>\n      <td>24902.0</td>\n      <td>2020-08-19 06:55:02</td>\n      <td>NaN</td>\n      <td>673</td>\n    </tr>\n    <tr>\n      <th>12692</th>\n      <td>2019-09-11</td>\n      <td>26</td>\n      <td>020-016</td>\n      <td>W</td>\n      <td>11269</td>\n      <td>56820.0</td>\n      <td>2020-08-19 15:47:00</td>\n      <td>56852.0</td>\n      <td>2020-08-19 15:47:32</td>\n      <td>56852.0</td>\n      <td>2020-08-19 15:47:32</td>\n      <td>NaN</td>\n      <td>330</td>\n    </tr>\n    <tr>\n      <th>12876</th>\n      <td>2019-09-11</td>\n      <td>26</td>\n      <td>020-018</td>\n      <td>W</td>\n      <td>11269</td>\n      <td>53040.0</td>\n      <td>2020-08-19 14:44:00</td>\n      <td>53116.0</td>\n      <td>2020-08-19 14:45:16</td>\n      <td>53116.0</td>\n      <td>2020-08-19 14:45:16</td>\n      <td>NaN</td>\n      <td>290</td>\n    </tr>\n    <tr>\n      <th>50399</th>\n      <td>2019-09-12</td>\n      <td>26</td>\n      <td>020-009</td>\n      <td>W</td>\n      <td>11269</td>\n      <td>59040.0</td>\n      <td>2020-08-19 16:24:00</td>\n      <td>59060.0</td>\n      <td>2020-08-19 16:24:20</td>\n      <td>59060.0</td>\n      <td>2020-08-19 16:24:20</td>\n      <td>NaN</td>\n      <td>694</td>\n    </tr>\n    <tr>\n      <th>50425</th>\n      <td>2019-09-12</td>\n      <td>26</td>\n      <td>020-009</td>\n      <td>W</td>\n      <td>11269</td>\n      <td>72960.0</td>\n      <td>2020-08-19 20:16:00</td>\n      <td>73256.0</td>\n      <td>2020-08-19 20:20:56</td>\n      <td>73256.0</td>\n      <td>2020-08-19 20:20:56</td>\n      <td>NaN</td>\n      <td>694</td>\n    </tr>\n  </tbody>\n</table>\n</div>"
     },
     "metadata": {},
     "execution_count": 34
    }
   ],
   "source": [
    "df_adherence[\n",
    "    df_adherence.arr_time_s.isna() != df_adherence.odometer.isna()\n",
    "].head()"
   ]
  },
  {
   "cell_type": "code",
   "execution_count": 35,
   "metadata": {},
   "outputs": [
    {
     "output_type": "execute_result",
     "data": {
      "text/plain": "count    329729.000000\nmean      49029.796148\nstd       17924.176101\nmin       11681.000000\n25%       33741.000000\n50%       48911.000000\n75%       63287.000000\nmax       93624.000000\nName: arr_time_s, dtype: float64"
     },
     "metadata": {},
     "execution_count": 35
    }
   ],
   "source": [
    "df_adherence.arr_time_s.describe()"
   ]
  },
  {
   "cell_type": "code",
   "execution_count": 36,
   "metadata": {},
   "outputs": [
    {
     "output_type": "execute_result",
     "data": {
      "text/plain": "       service_date route route_block route_dir stop_id  sched_time_s  \\\n25516    2019-09-11   100     100-010         S    GARA       93360.0   \n63858    2019-09-12   100     100-010         S    GARA       93360.0   \n102120   2019-09-13   100     100-010         S   10103       93060.0   \n102121   2019-09-13   100     100-010         S    GARA       93360.0   \n103115   2019-09-13   102     102-010         E    GARA       92460.0   \n133668   2019-09-14   100     100-007         S    GARA       93360.0   \n159734   2019-09-15   100     100-007         S    GARA       93240.0   \n192877   2019-09-16   100     100-010         S    GARA       93360.0   \n223726   2019-09-17   289     036-006         S    GARA       91380.0   \n231055   2019-09-17   100     100-010         S    GARA       93360.0   \n232688   2019-09-17   103     103-007         N    GARA       92460.0   \n269270   2019-09-18   100     100-010         S    GARA       93360.0   \n299270   2019-09-19   232     032-007         N   99396       91440.0   \n299272   2019-09-19   232     032-007         N    GARA       92100.0   \n307484   2019-09-19   100     100-010         S    GARA       93360.0   \n345666   2019-09-20   100     100-010         S    GARA       93360.0   \n\n            sched_time_hms  arr_time_s        arr_time_hms  dep_time_s  \\\n25516  2020-08-19 01:56:00     93108.0 2020-08-19 01:51:48     93108.0   \n63858  2020-08-19 01:56:00     93064.0 2020-08-19 01:51:04     93064.0   \n102120 2020-08-19 01:51:00     93038.0 2020-08-19 01:50:38     93090.0   \n102121 2020-08-19 01:56:00     93411.0 2020-08-19 01:56:51     93411.0   \n103115 2020-08-19 01:41:00     93624.0 2020-08-19 02:00:24     93624.0   \n133668 2020-08-19 01:56:00     93349.0 2020-08-19 01:55:49     93349.0   \n159734 2020-08-19 01:54:00     93285.0 2020-08-19 01:54:45     93285.0   \n192877 2020-08-19 01:56:00     93228.0 2020-08-19 01:53:48     93228.0   \n223726 2020-08-19 01:23:00     93049.0 2020-08-19 01:50:49     93049.0   \n231055 2020-08-19 01:56:00     93110.0 2020-08-19 01:51:50     93110.0   \n232688 2020-08-19 01:41:00     93481.0 2020-08-19 01:58:01     93481.0   \n269270 2020-08-19 01:56:00     93210.0 2020-08-19 01:53:30     93210.0   \n299270 2020-08-19 01:24:00     93012.0 2020-08-19 01:50:12     93021.0   \n299272 2020-08-19 01:35:00     93329.0 2020-08-19 01:55:29     93329.0   \n307484 2020-08-19 01:56:00     93108.0 2020-08-19 01:51:48     93108.0   \n345666 2020-08-19 01:56:00     93311.0 2020-08-19 01:55:11     93311.0   \n\n              dep_time_hms  odometer vehicle_id  \n25516  2020-08-19 01:51:48    229.15        966  \n63858  2020-08-19 01:51:04    228.77        962  \n102120 2020-08-19 01:51:30    225.27        962  \n102121 2020-08-19 01:56:51    226.57        962  \n103115 2020-08-19 02:00:24    197.05        982  \n133668 2020-08-19 01:55:49    229.54        965  \n159734 2020-08-19 01:54:45    185.18        734  \n192877 2020-08-19 01:53:48    228.98        966  \n223726 2020-08-19 01:50:49    251.60        640  \n231055 2020-08-19 01:51:50    228.84        965  \n232688 2020-08-19 01:58:01    219.21        986  \n269270 2020-08-19 01:53:30    228.86        965  \n299270 2020-08-19 01:50:21    278.08        484  \n299272 2020-08-19 01:55:29    279.86        484  \n307484 2020-08-19 01:51:48    229.99        965  \n345666 2020-08-19 01:55:11    186.22        963  ",
      "text/html": "<div>\n<style scoped>\n    .dataframe tbody tr th:only-of-type {\n        vertical-align: middle;\n    }\n\n    .dataframe tbody tr th {\n        vertical-align: top;\n    }\n\n    .dataframe thead th {\n        text-align: right;\n    }\n</style>\n<table border=\"1\" class=\"dataframe\">\n  <thead>\n    <tr style=\"text-align: right;\">\n      <th></th>\n      <th>service_date</th>\n      <th>route</th>\n      <th>route_block</th>\n      <th>route_dir</th>\n      <th>stop_id</th>\n      <th>sched_time_s</th>\n      <th>sched_time_hms</th>\n      <th>arr_time_s</th>\n      <th>arr_time_hms</th>\n      <th>dep_time_s</th>\n      <th>dep_time_hms</th>\n      <th>odometer</th>\n      <th>vehicle_id</th>\n    </tr>\n  </thead>\n  <tbody>\n    <tr>\n      <th>25516</th>\n      <td>2019-09-11</td>\n      <td>100</td>\n      <td>100-010</td>\n      <td>S</td>\n      <td>GARA</td>\n      <td>93360.0</td>\n      <td>2020-08-19 01:56:00</td>\n      <td>93108.0</td>\n      <td>2020-08-19 01:51:48</td>\n      <td>93108.0</td>\n      <td>2020-08-19 01:51:48</td>\n      <td>229.15</td>\n      <td>966</td>\n    </tr>\n    <tr>\n      <th>63858</th>\n      <td>2019-09-12</td>\n      <td>100</td>\n      <td>100-010</td>\n      <td>S</td>\n      <td>GARA</td>\n      <td>93360.0</td>\n      <td>2020-08-19 01:56:00</td>\n      <td>93064.0</td>\n      <td>2020-08-19 01:51:04</td>\n      <td>93064.0</td>\n      <td>2020-08-19 01:51:04</td>\n      <td>228.77</td>\n      <td>962</td>\n    </tr>\n    <tr>\n      <th>102120</th>\n      <td>2019-09-13</td>\n      <td>100</td>\n      <td>100-010</td>\n      <td>S</td>\n      <td>10103</td>\n      <td>93060.0</td>\n      <td>2020-08-19 01:51:00</td>\n      <td>93038.0</td>\n      <td>2020-08-19 01:50:38</td>\n      <td>93090.0</td>\n      <td>2020-08-19 01:51:30</td>\n      <td>225.27</td>\n      <td>962</td>\n    </tr>\n    <tr>\n      <th>102121</th>\n      <td>2019-09-13</td>\n      <td>100</td>\n      <td>100-010</td>\n      <td>S</td>\n      <td>GARA</td>\n      <td>93360.0</td>\n      <td>2020-08-19 01:56:00</td>\n      <td>93411.0</td>\n      <td>2020-08-19 01:56:51</td>\n      <td>93411.0</td>\n      <td>2020-08-19 01:56:51</td>\n      <td>226.57</td>\n      <td>962</td>\n    </tr>\n    <tr>\n      <th>103115</th>\n      <td>2019-09-13</td>\n      <td>102</td>\n      <td>102-010</td>\n      <td>E</td>\n      <td>GARA</td>\n      <td>92460.0</td>\n      <td>2020-08-19 01:41:00</td>\n      <td>93624.0</td>\n      <td>2020-08-19 02:00:24</td>\n      <td>93624.0</td>\n      <td>2020-08-19 02:00:24</td>\n      <td>197.05</td>\n      <td>982</td>\n    </tr>\n    <tr>\n      <th>133668</th>\n      <td>2019-09-14</td>\n      <td>100</td>\n      <td>100-007</td>\n      <td>S</td>\n      <td>GARA</td>\n      <td>93360.0</td>\n      <td>2020-08-19 01:56:00</td>\n      <td>93349.0</td>\n      <td>2020-08-19 01:55:49</td>\n      <td>93349.0</td>\n      <td>2020-08-19 01:55:49</td>\n      <td>229.54</td>\n      <td>965</td>\n    </tr>\n    <tr>\n      <th>159734</th>\n      <td>2019-09-15</td>\n      <td>100</td>\n      <td>100-007</td>\n      <td>S</td>\n      <td>GARA</td>\n      <td>93240.0</td>\n      <td>2020-08-19 01:54:00</td>\n      <td>93285.0</td>\n      <td>2020-08-19 01:54:45</td>\n      <td>93285.0</td>\n      <td>2020-08-19 01:54:45</td>\n      <td>185.18</td>\n      <td>734</td>\n    </tr>\n    <tr>\n      <th>192877</th>\n      <td>2019-09-16</td>\n      <td>100</td>\n      <td>100-010</td>\n      <td>S</td>\n      <td>GARA</td>\n      <td>93360.0</td>\n      <td>2020-08-19 01:56:00</td>\n      <td>93228.0</td>\n      <td>2020-08-19 01:53:48</td>\n      <td>93228.0</td>\n      <td>2020-08-19 01:53:48</td>\n      <td>228.98</td>\n      <td>966</td>\n    </tr>\n    <tr>\n      <th>223726</th>\n      <td>2019-09-17</td>\n      <td>289</td>\n      <td>036-006</td>\n      <td>S</td>\n      <td>GARA</td>\n      <td>91380.0</td>\n      <td>2020-08-19 01:23:00</td>\n      <td>93049.0</td>\n      <td>2020-08-19 01:50:49</td>\n      <td>93049.0</td>\n      <td>2020-08-19 01:50:49</td>\n      <td>251.60</td>\n      <td>640</td>\n    </tr>\n    <tr>\n      <th>231055</th>\n      <td>2019-09-17</td>\n      <td>100</td>\n      <td>100-010</td>\n      <td>S</td>\n      <td>GARA</td>\n      <td>93360.0</td>\n      <td>2020-08-19 01:56:00</td>\n      <td>93110.0</td>\n      <td>2020-08-19 01:51:50</td>\n      <td>93110.0</td>\n      <td>2020-08-19 01:51:50</td>\n      <td>228.84</td>\n      <td>965</td>\n    </tr>\n    <tr>\n      <th>232688</th>\n      <td>2019-09-17</td>\n      <td>103</td>\n      <td>103-007</td>\n      <td>N</td>\n      <td>GARA</td>\n      <td>92460.0</td>\n      <td>2020-08-19 01:41:00</td>\n      <td>93481.0</td>\n      <td>2020-08-19 01:58:01</td>\n      <td>93481.0</td>\n      <td>2020-08-19 01:58:01</td>\n      <td>219.21</td>\n      <td>986</td>\n    </tr>\n    <tr>\n      <th>269270</th>\n      <td>2019-09-18</td>\n      <td>100</td>\n      <td>100-010</td>\n      <td>S</td>\n      <td>GARA</td>\n      <td>93360.0</td>\n      <td>2020-08-19 01:56:00</td>\n      <td>93210.0</td>\n      <td>2020-08-19 01:53:30</td>\n      <td>93210.0</td>\n      <td>2020-08-19 01:53:30</td>\n      <td>228.86</td>\n      <td>965</td>\n    </tr>\n    <tr>\n      <th>299270</th>\n      <td>2019-09-19</td>\n      <td>232</td>\n      <td>032-007</td>\n      <td>N</td>\n      <td>99396</td>\n      <td>91440.0</td>\n      <td>2020-08-19 01:24:00</td>\n      <td>93012.0</td>\n      <td>2020-08-19 01:50:12</td>\n      <td>93021.0</td>\n      <td>2020-08-19 01:50:21</td>\n      <td>278.08</td>\n      <td>484</td>\n    </tr>\n    <tr>\n      <th>299272</th>\n      <td>2019-09-19</td>\n      <td>232</td>\n      <td>032-007</td>\n      <td>N</td>\n      <td>GARA</td>\n      <td>92100.0</td>\n      <td>2020-08-19 01:35:00</td>\n      <td>93329.0</td>\n      <td>2020-08-19 01:55:29</td>\n      <td>93329.0</td>\n      <td>2020-08-19 01:55:29</td>\n      <td>279.86</td>\n      <td>484</td>\n    </tr>\n    <tr>\n      <th>307484</th>\n      <td>2019-09-19</td>\n      <td>100</td>\n      <td>100-010</td>\n      <td>S</td>\n      <td>GARA</td>\n      <td>93360.0</td>\n      <td>2020-08-19 01:56:00</td>\n      <td>93108.0</td>\n      <td>2020-08-19 01:51:48</td>\n      <td>93108.0</td>\n      <td>2020-08-19 01:51:48</td>\n      <td>229.99</td>\n      <td>965</td>\n    </tr>\n    <tr>\n      <th>345666</th>\n      <td>2019-09-20</td>\n      <td>100</td>\n      <td>100-010</td>\n      <td>S</td>\n      <td>GARA</td>\n      <td>93360.0</td>\n      <td>2020-08-19 01:56:00</td>\n      <td>93311.0</td>\n      <td>2020-08-19 01:55:11</td>\n      <td>93311.0</td>\n      <td>2020-08-19 01:55:11</td>\n      <td>186.22</td>\n      <td>963</td>\n    </tr>\n  </tbody>\n</table>\n</div>"
     },
     "metadata": {},
     "execution_count": 36
    }
   ],
   "source": [
    "df_adherence[df_adherence.arr_time_s>93000]"
   ]
  },
  {
   "cell_type": "code",
   "execution_count": 37,
   "metadata": {},
   "outputs": [
    {
     "output_type": "execute_result",
     "data": {
      "text/plain": "      service_date route_block route_dir vehicle_id route stop_id  recs  \\\n38944   2019-09-12     002-008         N        500     2   99396     1   \n38947   2019-09-12     002-008         N        500     2   56239     2   \n38948   2019-09-12     002-008         N        500     2   95226     2   \n38949   2019-09-12     002-008         N        500     2   45506     2   \n38950   2019-09-12     002-008         N        500     2   10013     2   \n38951   2019-09-12     002-008         N        500     2   10013     2   \n38952   2019-09-12     002-008         N        500     2   94709     2   \n38953   2019-09-12     002-008         N        500     2   94793     2   \n38954   2019-09-12     002-008         S        500     2   94793     2   \n38955   2019-09-12     002-008         S        500     2   10059     4   \n38956   2019-09-12     002-008         S        500     2   45517     2   \n38957   2019-09-12     002-008         S        500     2   85927     2   \n38958   2019-09-12     002-008         S        500     2   56227     2   \n38959   2019-09-12     002-008         S        500     2   79973     2   \n38973   2019-09-12     002-008         N        500     2   99396     2   \n38974   2019-09-12     002-008         N        500     2   56239     2   \n38975   2019-09-12     002-008         N        500     2   95226     2   \n38976   2019-09-12     002-008         N        500     2   45506     2   \n38977   2019-09-12     002-008         N        500     2   10013     2   \n38978   2019-09-12     002-008         N        500     2   10013     2   \n38979   2019-09-12     002-008         N        500     2   94709     2   \n38980   2019-09-12     002-008         N        500     2   33636     2   \n38981   2019-09-12     002-008         N        500     2   33726     2   \n38982   2019-09-12     002-008         N        500     2   12976     2   \n38983   2019-09-12     002-008         S        500     2   12976     2   \n38984   2019-09-12     002-008         S        500     2   33727     2   \n38985   2019-09-12     002-008         S        500     2   33627     2   \n38986   2019-09-12     002-008         S        500     2   94793     2   \n38987   2019-09-12     002-008         S        500     2   10059     4   \n38988   2019-09-12     002-008         S        500     2   45517     2   \n38989   2019-09-12     002-008         S        500     2   85927     2   \n38990   2019-09-12     002-008         S        500     2   56227     2   \n38991   2019-09-12     002-008         S        500     2   79973     2   \n\n       arr_odometer  dep_odometer      sched_time_hms        arr_time_hms  \\\n38944         42.20         42.20 2019-09-12 14:15:00 2019-09-12 14:16:21   \n38947         44.34         44.38 2019-09-12 14:28:00 2019-09-12 14:34:16   \n38948         46.34         46.37 2019-09-12 14:37:00 2019-09-12 14:48:53   \n38949         47.84         47.88 2019-09-12 14:44:00 2019-09-12 14:56:03   \n38950         50.50         50.54 2019-09-12 14:58:00 2019-09-12 15:09:45   \n38951         50.62         50.68 2019-09-12 15:03:00 2019-09-12 15:09:45   \n38952         53.53         53.64 2019-09-12 15:18:00 2019-09-12 15:26:03   \n38953         54.80         54.86 2019-09-12 15:25:00 2019-09-12 15:33:29   \n38954         54.92         54.94 2019-09-12 15:43:00 2019-09-12 15:33:29   \n38955         57.70         57.74 2019-09-12 15:59:00 2019-09-12 15:56:10   \n38956         60.55         60.59 2019-09-12 16:12:00 2019-09-12 16:14:55   \n38957         62.04         62.09 2019-09-12 16:19:00 2019-09-12 16:21:03   \n38958         64.10         64.12 2019-09-12 16:28:00 2019-09-12 16:30:49   \n38959           NaN           NaN 2019-09-12 16:35:00                 NaT   \n38973         85.28         85.33 2019-09-12 18:25:00 2019-09-12 18:25:18   \n38974         87.07         87.16 2019-09-12 18:37:00 2019-09-12 18:37:33   \n38975         89.07         89.15 2019-09-12 18:45:00 2019-09-12 18:53:07   \n38976         90.62         90.67 2019-09-12 18:51:00 2019-09-12 18:57:38   \n38977         93.22         93.33 2019-09-12 19:03:00 2019-09-12 19:09:54   \n38978         93.37         93.47 2019-09-12 19:08:00 2019-09-12 19:09:54   \n38979         96.28         96.43 2019-09-12 19:21:00 2019-09-12 19:23:48   \n38980         98.56         98.71 2019-09-12 19:27:00 2019-09-12 19:31:10   \n38981        100.59        100.65 2019-09-12 19:31:00 2019-09-12 19:34:04   \n38982        103.46        103.56 2019-09-12 19:39:00 2019-09-12 19:41:33   \n38983        103.59        103.64 2019-09-12 19:45:00 2019-09-12 19:41:33   \n38984        106.38        106.69 2019-09-12 19:54:00 2019-09-12 19:55:53   \n38985        108.00        108.71 2019-09-12 19:58:00 2019-09-12 19:59:37   \n38986        110.62        111.08 2019-09-12 20:05:00 2019-09-12 20:05:48   \n38987        113.78        113.88 2019-09-12 20:20:00 2019-09-12 20:17:56   \n38988        116.73        116.73 2019-09-12 20:31:00 2019-09-12 20:31:59   \n38989        118.22        118.23 2019-09-12 20:37:00 2019-09-12 20:37:50   \n38990        120.19        120.26 2019-09-12 20:45:00 2019-09-12 20:47:07   \n38991           NaN           NaN 2019-09-12 20:50:00                 NaT   \n\n             dep_time_hms  block_run  run_stop  stops time_stopped  \\\n38944                 NaT       8252       1.0    1.0          NaT   \n38947 2019-09-12 14:36:43       8255       1.0    7.0     00:02:27   \n38948 2019-09-12 14:49:59       8255       2.0    7.0     00:01:06   \n38949 2019-09-12 14:56:57       8255       3.0    7.0     00:00:54   \n38950 2019-09-12 15:09:45       8255       4.0    7.0     00:00:00   \n38951 2019-09-12 15:11:44       8255       5.0    7.0     00:01:59   \n38952 2019-09-12 15:26:15       8255       6.0    7.0     00:00:12   \n38953                 NaT       8255       7.0    7.0          NaT   \n38954 2019-09-12 15:42:53       8256       1.0    6.0     00:09:24   \n38955 2019-09-12 15:59:15       8256       2.0    6.0     00:03:05   \n38956 2019-09-12 16:15:49       8256       3.0    6.0     00:00:54   \n38957 2019-09-12 16:21:33       8256       4.0    6.0     00:00:30   \n38958 2019-09-12 16:31:57       8256       5.0    6.0     00:01:08   \n38959                 NaT       8256       6.0    6.0          NaT   \n38973 2019-09-12 18:26:58       8259       1.0   10.0     00:01:40   \n38974 2019-09-12 18:38:17       8259       2.0   10.0     00:00:44   \n38975 2019-09-12 18:53:33       8259       3.0   10.0     00:00:26   \n38976 2019-09-12 18:58:19       8259       4.0   10.0     00:00:41   \n38977 2019-09-12 19:09:54       8259       5.0   10.0     00:00:00   \n38978 2019-09-12 19:11:05       8259       6.0   10.0     00:01:11   \n38979 2019-09-12 19:23:59       8259       7.0   10.0     00:00:11   \n38980 2019-09-12 19:31:17       8259       8.0   10.0     00:00:07   \n38981 2019-09-12 19:34:35       8259       9.0   10.0     00:00:31   \n38982                 NaT       8259      10.0   10.0          NaT   \n38983 2019-09-12 19:46:02       8260       1.0    9.0     00:04:29   \n38984 2019-09-12 19:56:36       8260       2.0    9.0     00:00:43   \n38985 2019-09-12 19:59:47       8260       3.0    9.0     00:00:10   \n38986 2019-09-12 20:06:21       8260       4.0    9.0     00:00:33   \n38987 2019-09-12 20:20:23       8260       5.0    9.0     00:02:27   \n38988 2019-09-12 20:32:14       8260       6.0    9.0     00:00:15   \n38989 2019-09-12 20:39:19       8260       7.0    9.0     00:01:29   \n38990 2019-09-12 20:47:49       8260       8.0    9.0     00:00:42   \n38991                 NaT       8260       9.0    9.0          NaT   \n\n             sched_diff  err_skip  err_early  err_late  on_time  \n38944          00:01:21     False      False     False     True  \n38947          00:08:43     False      False      True    False  \n38948          00:12:59     False      False      True    False  \n38949          00:12:57     False      False      True    False  \n38950          00:11:45     False      False      True    False  \n38951          00:08:44     False      False      True    False  \n38952          00:08:15     False      False      True    False  \n38953          00:08:29     False      False      True    False  \n38954 -1 days +23:59:53     False      False     False     True  \n38955          00:00:15     False      False     False     True  \n38956          00:03:49     False      False     False     True  \n38957          00:02:33     False      False     False     True  \n38958          00:03:57     False      False     False     True  \n38959               NaT      True      False     False    False  \n38973          00:01:58     False      False     False     True  \n38974          00:01:17     False      False     False     True  \n38975          00:08:33     False      False      True    False  \n38976          00:07:19     False      False      True    False  \n38977          00:06:54     False      False      True    False  \n38978          00:03:05     False      False     False     True  \n38979          00:02:59     False      False     False     True  \n38980          00:04:17     False      False     False     True  \n38981          00:03:35     False      False     False     True  \n38982          00:02:33     False      False     False     True  \n38983          00:01:02     False      False     False     True  \n38984          00:02:36     False      False     False     True  \n38985          00:01:47     False      False     False     True  \n38986          00:01:21     False      False     False     True  \n38987          00:00:23     False      False     False     True  \n38988          00:01:14     False      False     False     True  \n38989          00:02:19     False      False     False     True  \n38990          00:02:49     False      False     False     True  \n38991               NaT      True      False     False    False  ",
      "text/html": "<div>\n<style scoped>\n    .dataframe tbody tr th:only-of-type {\n        vertical-align: middle;\n    }\n\n    .dataframe tbody tr th {\n        vertical-align: top;\n    }\n\n    .dataframe thead th {\n        text-align: right;\n    }\n</style>\n<table border=\"1\" class=\"dataframe\">\n  <thead>\n    <tr style=\"text-align: right;\">\n      <th></th>\n      <th>service_date</th>\n      <th>route_block</th>\n      <th>route_dir</th>\n      <th>vehicle_id</th>\n      <th>route</th>\n      <th>stop_id</th>\n      <th>recs</th>\n      <th>arr_odometer</th>\n      <th>dep_odometer</th>\n      <th>sched_time_hms</th>\n      <th>arr_time_hms</th>\n      <th>dep_time_hms</th>\n      <th>block_run</th>\n      <th>run_stop</th>\n      <th>stops</th>\n      <th>time_stopped</th>\n      <th>sched_diff</th>\n      <th>err_skip</th>\n      <th>err_early</th>\n      <th>err_late</th>\n      <th>on_time</th>\n    </tr>\n  </thead>\n  <tbody>\n    <tr>\n      <th>38944</th>\n      <td>2019-09-12</td>\n      <td>002-008</td>\n      <td>N</td>\n      <td>500</td>\n      <td>2</td>\n      <td>99396</td>\n      <td>1</td>\n      <td>42.20</td>\n      <td>42.20</td>\n      <td>2019-09-12 14:15:00</td>\n      <td>2019-09-12 14:16:21</td>\n      <td>NaT</td>\n      <td>8252</td>\n      <td>1.0</td>\n      <td>1.0</td>\n      <td>NaT</td>\n      <td>00:01:21</td>\n      <td>False</td>\n      <td>False</td>\n      <td>False</td>\n      <td>True</td>\n    </tr>\n    <tr>\n      <th>38947</th>\n      <td>2019-09-12</td>\n      <td>002-008</td>\n      <td>N</td>\n      <td>500</td>\n      <td>2</td>\n      <td>56239</td>\n      <td>2</td>\n      <td>44.34</td>\n      <td>44.38</td>\n      <td>2019-09-12 14:28:00</td>\n      <td>2019-09-12 14:34:16</td>\n      <td>2019-09-12 14:36:43</td>\n      <td>8255</td>\n      <td>1.0</td>\n      <td>7.0</td>\n      <td>00:02:27</td>\n      <td>00:08:43</td>\n      <td>False</td>\n      <td>False</td>\n      <td>True</td>\n      <td>False</td>\n    </tr>\n    <tr>\n      <th>38948</th>\n      <td>2019-09-12</td>\n      <td>002-008</td>\n      <td>N</td>\n      <td>500</td>\n      <td>2</td>\n      <td>95226</td>\n      <td>2</td>\n      <td>46.34</td>\n      <td>46.37</td>\n      <td>2019-09-12 14:37:00</td>\n      <td>2019-09-12 14:48:53</td>\n      <td>2019-09-12 14:49:59</td>\n      <td>8255</td>\n      <td>2.0</td>\n      <td>7.0</td>\n      <td>00:01:06</td>\n      <td>00:12:59</td>\n      <td>False</td>\n      <td>False</td>\n      <td>True</td>\n      <td>False</td>\n    </tr>\n    <tr>\n      <th>38949</th>\n      <td>2019-09-12</td>\n      <td>002-008</td>\n      <td>N</td>\n      <td>500</td>\n      <td>2</td>\n      <td>45506</td>\n      <td>2</td>\n      <td>47.84</td>\n      <td>47.88</td>\n      <td>2019-09-12 14:44:00</td>\n      <td>2019-09-12 14:56:03</td>\n      <td>2019-09-12 14:56:57</td>\n      <td>8255</td>\n      <td>3.0</td>\n      <td>7.0</td>\n      <td>00:00:54</td>\n      <td>00:12:57</td>\n      <td>False</td>\n      <td>False</td>\n      <td>True</td>\n      <td>False</td>\n    </tr>\n    <tr>\n      <th>38950</th>\n      <td>2019-09-12</td>\n      <td>002-008</td>\n      <td>N</td>\n      <td>500</td>\n      <td>2</td>\n      <td>10013</td>\n      <td>2</td>\n      <td>50.50</td>\n      <td>50.54</td>\n      <td>2019-09-12 14:58:00</td>\n      <td>2019-09-12 15:09:45</td>\n      <td>2019-09-12 15:09:45</td>\n      <td>8255</td>\n      <td>4.0</td>\n      <td>7.0</td>\n      <td>00:00:00</td>\n      <td>00:11:45</td>\n      <td>False</td>\n      <td>False</td>\n      <td>True</td>\n      <td>False</td>\n    </tr>\n    <tr>\n      <th>38951</th>\n      <td>2019-09-12</td>\n      <td>002-008</td>\n      <td>N</td>\n      <td>500</td>\n      <td>2</td>\n      <td>10013</td>\n      <td>2</td>\n      <td>50.62</td>\n      <td>50.68</td>\n      <td>2019-09-12 15:03:00</td>\n      <td>2019-09-12 15:09:45</td>\n      <td>2019-09-12 15:11:44</td>\n      <td>8255</td>\n      <td>5.0</td>\n      <td>7.0</td>\n      <td>00:01:59</td>\n      <td>00:08:44</td>\n      <td>False</td>\n      <td>False</td>\n      <td>True</td>\n      <td>False</td>\n    </tr>\n    <tr>\n      <th>38952</th>\n      <td>2019-09-12</td>\n      <td>002-008</td>\n      <td>N</td>\n      <td>500</td>\n      <td>2</td>\n      <td>94709</td>\n      <td>2</td>\n      <td>53.53</td>\n      <td>53.64</td>\n      <td>2019-09-12 15:18:00</td>\n      <td>2019-09-12 15:26:03</td>\n      <td>2019-09-12 15:26:15</td>\n      <td>8255</td>\n      <td>6.0</td>\n      <td>7.0</td>\n      <td>00:00:12</td>\n      <td>00:08:15</td>\n      <td>False</td>\n      <td>False</td>\n      <td>True</td>\n      <td>False</td>\n    </tr>\n    <tr>\n      <th>38953</th>\n      <td>2019-09-12</td>\n      <td>002-008</td>\n      <td>N</td>\n      <td>500</td>\n      <td>2</td>\n      <td>94793</td>\n      <td>2</td>\n      <td>54.80</td>\n      <td>54.86</td>\n      <td>2019-09-12 15:25:00</td>\n      <td>2019-09-12 15:33:29</td>\n      <td>NaT</td>\n      <td>8255</td>\n      <td>7.0</td>\n      <td>7.0</td>\n      <td>NaT</td>\n      <td>00:08:29</td>\n      <td>False</td>\n      <td>False</td>\n      <td>True</td>\n      <td>False</td>\n    </tr>\n    <tr>\n      <th>38954</th>\n      <td>2019-09-12</td>\n      <td>002-008</td>\n      <td>S</td>\n      <td>500</td>\n      <td>2</td>\n      <td>94793</td>\n      <td>2</td>\n      <td>54.92</td>\n      <td>54.94</td>\n      <td>2019-09-12 15:43:00</td>\n      <td>2019-09-12 15:33:29</td>\n      <td>2019-09-12 15:42:53</td>\n      <td>8256</td>\n      <td>1.0</td>\n      <td>6.0</td>\n      <td>00:09:24</td>\n      <td>-1 days +23:59:53</td>\n      <td>False</td>\n      <td>False</td>\n      <td>False</td>\n      <td>True</td>\n    </tr>\n    <tr>\n      <th>38955</th>\n      <td>2019-09-12</td>\n      <td>002-008</td>\n      <td>S</td>\n      <td>500</td>\n      <td>2</td>\n      <td>10059</td>\n      <td>4</td>\n      <td>57.70</td>\n      <td>57.74</td>\n      <td>2019-09-12 15:59:00</td>\n      <td>2019-09-12 15:56:10</td>\n      <td>2019-09-12 15:59:15</td>\n      <td>8256</td>\n      <td>2.0</td>\n      <td>6.0</td>\n      <td>00:03:05</td>\n      <td>00:00:15</td>\n      <td>False</td>\n      <td>False</td>\n      <td>False</td>\n      <td>True</td>\n    </tr>\n    <tr>\n      <th>38956</th>\n      <td>2019-09-12</td>\n      <td>002-008</td>\n      <td>S</td>\n      <td>500</td>\n      <td>2</td>\n      <td>45517</td>\n      <td>2</td>\n      <td>60.55</td>\n      <td>60.59</td>\n      <td>2019-09-12 16:12:00</td>\n      <td>2019-09-12 16:14:55</td>\n      <td>2019-09-12 16:15:49</td>\n      <td>8256</td>\n      <td>3.0</td>\n      <td>6.0</td>\n      <td>00:00:54</td>\n      <td>00:03:49</td>\n      <td>False</td>\n      <td>False</td>\n      <td>False</td>\n      <td>True</td>\n    </tr>\n    <tr>\n      <th>38957</th>\n      <td>2019-09-12</td>\n      <td>002-008</td>\n      <td>S</td>\n      <td>500</td>\n      <td>2</td>\n      <td>85927</td>\n      <td>2</td>\n      <td>62.04</td>\n      <td>62.09</td>\n      <td>2019-09-12 16:19:00</td>\n      <td>2019-09-12 16:21:03</td>\n      <td>2019-09-12 16:21:33</td>\n      <td>8256</td>\n      <td>4.0</td>\n      <td>6.0</td>\n      <td>00:00:30</td>\n      <td>00:02:33</td>\n      <td>False</td>\n      <td>False</td>\n      <td>False</td>\n      <td>True</td>\n    </tr>\n    <tr>\n      <th>38958</th>\n      <td>2019-09-12</td>\n      <td>002-008</td>\n      <td>S</td>\n      <td>500</td>\n      <td>2</td>\n      <td>56227</td>\n      <td>2</td>\n      <td>64.10</td>\n      <td>64.12</td>\n      <td>2019-09-12 16:28:00</td>\n      <td>2019-09-12 16:30:49</td>\n      <td>2019-09-12 16:31:57</td>\n      <td>8256</td>\n      <td>5.0</td>\n      <td>6.0</td>\n      <td>00:01:08</td>\n      <td>00:03:57</td>\n      <td>False</td>\n      <td>False</td>\n      <td>False</td>\n      <td>True</td>\n    </tr>\n    <tr>\n      <th>38959</th>\n      <td>2019-09-12</td>\n      <td>002-008</td>\n      <td>S</td>\n      <td>500</td>\n      <td>2</td>\n      <td>79973</td>\n      <td>2</td>\n      <td>NaN</td>\n      <td>NaN</td>\n      <td>2019-09-12 16:35:00</td>\n      <td>NaT</td>\n      <td>NaT</td>\n      <td>8256</td>\n      <td>6.0</td>\n      <td>6.0</td>\n      <td>NaT</td>\n      <td>NaT</td>\n      <td>True</td>\n      <td>False</td>\n      <td>False</td>\n      <td>False</td>\n    </tr>\n    <tr>\n      <th>38973</th>\n      <td>2019-09-12</td>\n      <td>002-008</td>\n      <td>N</td>\n      <td>500</td>\n      <td>2</td>\n      <td>99396</td>\n      <td>2</td>\n      <td>85.28</td>\n      <td>85.33</td>\n      <td>2019-09-12 18:25:00</td>\n      <td>2019-09-12 18:25:18</td>\n      <td>2019-09-12 18:26:58</td>\n      <td>8259</td>\n      <td>1.0</td>\n      <td>10.0</td>\n      <td>00:01:40</td>\n      <td>00:01:58</td>\n      <td>False</td>\n      <td>False</td>\n      <td>False</td>\n      <td>True</td>\n    </tr>\n    <tr>\n      <th>38974</th>\n      <td>2019-09-12</td>\n      <td>002-008</td>\n      <td>N</td>\n      <td>500</td>\n      <td>2</td>\n      <td>56239</td>\n      <td>2</td>\n      <td>87.07</td>\n      <td>87.16</td>\n      <td>2019-09-12 18:37:00</td>\n      <td>2019-09-12 18:37:33</td>\n      <td>2019-09-12 18:38:17</td>\n      <td>8259</td>\n      <td>2.0</td>\n      <td>10.0</td>\n      <td>00:00:44</td>\n      <td>00:01:17</td>\n      <td>False</td>\n      <td>False</td>\n      <td>False</td>\n      <td>True</td>\n    </tr>\n    <tr>\n      <th>38975</th>\n      <td>2019-09-12</td>\n      <td>002-008</td>\n      <td>N</td>\n      <td>500</td>\n      <td>2</td>\n      <td>95226</td>\n      <td>2</td>\n      <td>89.07</td>\n      <td>89.15</td>\n      <td>2019-09-12 18:45:00</td>\n      <td>2019-09-12 18:53:07</td>\n      <td>2019-09-12 18:53:33</td>\n      <td>8259</td>\n      <td>3.0</td>\n      <td>10.0</td>\n      <td>00:00:26</td>\n      <td>00:08:33</td>\n      <td>False</td>\n      <td>False</td>\n      <td>True</td>\n      <td>False</td>\n    </tr>\n    <tr>\n      <th>38976</th>\n      <td>2019-09-12</td>\n      <td>002-008</td>\n      <td>N</td>\n      <td>500</td>\n      <td>2</td>\n      <td>45506</td>\n      <td>2</td>\n      <td>90.62</td>\n      <td>90.67</td>\n      <td>2019-09-12 18:51:00</td>\n      <td>2019-09-12 18:57:38</td>\n      <td>2019-09-12 18:58:19</td>\n      <td>8259</td>\n      <td>4.0</td>\n      <td>10.0</td>\n      <td>00:00:41</td>\n      <td>00:07:19</td>\n      <td>False</td>\n      <td>False</td>\n      <td>True</td>\n      <td>False</td>\n    </tr>\n    <tr>\n      <th>38977</th>\n      <td>2019-09-12</td>\n      <td>002-008</td>\n      <td>N</td>\n      <td>500</td>\n      <td>2</td>\n      <td>10013</td>\n      <td>2</td>\n      <td>93.22</td>\n      <td>93.33</td>\n      <td>2019-09-12 19:03:00</td>\n      <td>2019-09-12 19:09:54</td>\n      <td>2019-09-12 19:09:54</td>\n      <td>8259</td>\n      <td>5.0</td>\n      <td>10.0</td>\n      <td>00:00:00</td>\n      <td>00:06:54</td>\n      <td>False</td>\n      <td>False</td>\n      <td>True</td>\n      <td>False</td>\n    </tr>\n    <tr>\n      <th>38978</th>\n      <td>2019-09-12</td>\n      <td>002-008</td>\n      <td>N</td>\n      <td>500</td>\n      <td>2</td>\n      <td>10013</td>\n      <td>2</td>\n      <td>93.37</td>\n      <td>93.47</td>\n      <td>2019-09-12 19:08:00</td>\n      <td>2019-09-12 19:09:54</td>\n      <td>2019-09-12 19:11:05</td>\n      <td>8259</td>\n      <td>6.0</td>\n      <td>10.0</td>\n      <td>00:01:11</td>\n      <td>00:03:05</td>\n      <td>False</td>\n      <td>False</td>\n      <td>False</td>\n      <td>True</td>\n    </tr>\n    <tr>\n      <th>38979</th>\n      <td>2019-09-12</td>\n      <td>002-008</td>\n      <td>N</td>\n      <td>500</td>\n      <td>2</td>\n      <td>94709</td>\n      <td>2</td>\n      <td>96.28</td>\n      <td>96.43</td>\n      <td>2019-09-12 19:21:00</td>\n      <td>2019-09-12 19:23:48</td>\n      <td>2019-09-12 19:23:59</td>\n      <td>8259</td>\n      <td>7.0</td>\n      <td>10.0</td>\n      <td>00:00:11</td>\n      <td>00:02:59</td>\n      <td>False</td>\n      <td>False</td>\n      <td>False</td>\n      <td>True</td>\n    </tr>\n    <tr>\n      <th>38980</th>\n      <td>2019-09-12</td>\n      <td>002-008</td>\n      <td>N</td>\n      <td>500</td>\n      <td>2</td>\n      <td>33636</td>\n      <td>2</td>\n      <td>98.56</td>\n      <td>98.71</td>\n      <td>2019-09-12 19:27:00</td>\n      <td>2019-09-12 19:31:10</td>\n      <td>2019-09-12 19:31:17</td>\n      <td>8259</td>\n      <td>8.0</td>\n      <td>10.0</td>\n      <td>00:00:07</td>\n      <td>00:04:17</td>\n      <td>False</td>\n      <td>False</td>\n      <td>False</td>\n      <td>True</td>\n    </tr>\n    <tr>\n      <th>38981</th>\n      <td>2019-09-12</td>\n      <td>002-008</td>\n      <td>N</td>\n      <td>500</td>\n      <td>2</td>\n      <td>33726</td>\n      <td>2</td>\n      <td>100.59</td>\n      <td>100.65</td>\n      <td>2019-09-12 19:31:00</td>\n      <td>2019-09-12 19:34:04</td>\n      <td>2019-09-12 19:34:35</td>\n      <td>8259</td>\n      <td>9.0</td>\n      <td>10.0</td>\n      <td>00:00:31</td>\n      <td>00:03:35</td>\n      <td>False</td>\n      <td>False</td>\n      <td>False</td>\n      <td>True</td>\n    </tr>\n    <tr>\n      <th>38982</th>\n      <td>2019-09-12</td>\n      <td>002-008</td>\n      <td>N</td>\n      <td>500</td>\n      <td>2</td>\n      <td>12976</td>\n      <td>2</td>\n      <td>103.46</td>\n      <td>103.56</td>\n      <td>2019-09-12 19:39:00</td>\n      <td>2019-09-12 19:41:33</td>\n      <td>NaT</td>\n      <td>8259</td>\n      <td>10.0</td>\n      <td>10.0</td>\n      <td>NaT</td>\n      <td>00:02:33</td>\n      <td>False</td>\n      <td>False</td>\n      <td>False</td>\n      <td>True</td>\n    </tr>\n    <tr>\n      <th>38983</th>\n      <td>2019-09-12</td>\n      <td>002-008</td>\n      <td>S</td>\n      <td>500</td>\n      <td>2</td>\n      <td>12976</td>\n      <td>2</td>\n      <td>103.59</td>\n      <td>103.64</td>\n      <td>2019-09-12 19:45:00</td>\n      <td>2019-09-12 19:41:33</td>\n      <td>2019-09-12 19:46:02</td>\n      <td>8260</td>\n      <td>1.0</td>\n      <td>9.0</td>\n      <td>00:04:29</td>\n      <td>00:01:02</td>\n      <td>False</td>\n      <td>False</td>\n      <td>False</td>\n      <td>True</td>\n    </tr>\n    <tr>\n      <th>38984</th>\n      <td>2019-09-12</td>\n      <td>002-008</td>\n      <td>S</td>\n      <td>500</td>\n      <td>2</td>\n      <td>33727</td>\n      <td>2</td>\n      <td>106.38</td>\n      <td>106.69</td>\n      <td>2019-09-12 19:54:00</td>\n      <td>2019-09-12 19:55:53</td>\n      <td>2019-09-12 19:56:36</td>\n      <td>8260</td>\n      <td>2.0</td>\n      <td>9.0</td>\n      <td>00:00:43</td>\n      <td>00:02:36</td>\n      <td>False</td>\n      <td>False</td>\n      <td>False</td>\n      <td>True</td>\n    </tr>\n    <tr>\n      <th>38985</th>\n      <td>2019-09-12</td>\n      <td>002-008</td>\n      <td>S</td>\n      <td>500</td>\n      <td>2</td>\n      <td>33627</td>\n      <td>2</td>\n      <td>108.00</td>\n      <td>108.71</td>\n      <td>2019-09-12 19:58:00</td>\n      <td>2019-09-12 19:59:37</td>\n      <td>2019-09-12 19:59:47</td>\n      <td>8260</td>\n      <td>3.0</td>\n      <td>9.0</td>\n      <td>00:00:10</td>\n      <td>00:01:47</td>\n      <td>False</td>\n      <td>False</td>\n      <td>False</td>\n      <td>True</td>\n    </tr>\n    <tr>\n      <th>38986</th>\n      <td>2019-09-12</td>\n      <td>002-008</td>\n      <td>S</td>\n      <td>500</td>\n      <td>2</td>\n      <td>94793</td>\n      <td>2</td>\n      <td>110.62</td>\n      <td>111.08</td>\n      <td>2019-09-12 20:05:00</td>\n      <td>2019-09-12 20:05:48</td>\n      <td>2019-09-12 20:06:21</td>\n      <td>8260</td>\n      <td>4.0</td>\n      <td>9.0</td>\n      <td>00:00:33</td>\n      <td>00:01:21</td>\n      <td>False</td>\n      <td>False</td>\n      <td>False</td>\n      <td>True</td>\n    </tr>\n    <tr>\n      <th>38987</th>\n      <td>2019-09-12</td>\n      <td>002-008</td>\n      <td>S</td>\n      <td>500</td>\n      <td>2</td>\n      <td>10059</td>\n      <td>4</td>\n      <td>113.78</td>\n      <td>113.88</td>\n      <td>2019-09-12 20:20:00</td>\n      <td>2019-09-12 20:17:56</td>\n      <td>2019-09-12 20:20:23</td>\n      <td>8260</td>\n      <td>5.0</td>\n      <td>9.0</td>\n      <td>00:02:27</td>\n      <td>00:00:23</td>\n      <td>False</td>\n      <td>False</td>\n      <td>False</td>\n      <td>True</td>\n    </tr>\n    <tr>\n      <th>38988</th>\n      <td>2019-09-12</td>\n      <td>002-008</td>\n      <td>S</td>\n      <td>500</td>\n      <td>2</td>\n      <td>45517</td>\n      <td>2</td>\n      <td>116.73</td>\n      <td>116.73</td>\n      <td>2019-09-12 20:31:00</td>\n      <td>2019-09-12 20:31:59</td>\n      <td>2019-09-12 20:32:14</td>\n      <td>8260</td>\n      <td>6.0</td>\n      <td>9.0</td>\n      <td>00:00:15</td>\n      <td>00:01:14</td>\n      <td>False</td>\n      <td>False</td>\n      <td>False</td>\n      <td>True</td>\n    </tr>\n    <tr>\n      <th>38989</th>\n      <td>2019-09-12</td>\n      <td>002-008</td>\n      <td>S</td>\n      <td>500</td>\n      <td>2</td>\n      <td>85927</td>\n      <td>2</td>\n      <td>118.22</td>\n      <td>118.23</td>\n      <td>2019-09-12 20:37:00</td>\n      <td>2019-09-12 20:37:50</td>\n      <td>2019-09-12 20:39:19</td>\n      <td>8260</td>\n      <td>7.0</td>\n      <td>9.0</td>\n      <td>00:01:29</td>\n      <td>00:02:19</td>\n      <td>False</td>\n      <td>False</td>\n      <td>False</td>\n      <td>True</td>\n    </tr>\n    <tr>\n      <th>38990</th>\n      <td>2019-09-12</td>\n      <td>002-008</td>\n      <td>S</td>\n      <td>500</td>\n      <td>2</td>\n      <td>56227</td>\n      <td>2</td>\n      <td>120.19</td>\n      <td>120.26</td>\n      <td>2019-09-12 20:45:00</td>\n      <td>2019-09-12 20:47:07</td>\n      <td>2019-09-12 20:47:49</td>\n      <td>8260</td>\n      <td>8.0</td>\n      <td>9.0</td>\n      <td>00:00:42</td>\n      <td>00:02:49</td>\n      <td>False</td>\n      <td>False</td>\n      <td>False</td>\n      <td>True</td>\n    </tr>\n    <tr>\n      <th>38991</th>\n      <td>2019-09-12</td>\n      <td>002-008</td>\n      <td>S</td>\n      <td>500</td>\n      <td>2</td>\n      <td>79973</td>\n      <td>2</td>\n      <td>NaN</td>\n      <td>NaN</td>\n      <td>2019-09-12 20:50:00</td>\n      <td>NaT</td>\n      <td>NaT</td>\n      <td>8260</td>\n      <td>9.0</td>\n      <td>9.0</td>\n      <td>NaT</td>\n      <td>NaT</td>\n      <td>True</td>\n      <td>False</td>\n      <td>False</td>\n      <td>False</td>\n    </tr>\n  </tbody>\n</table>\n</div>"
     },
     "metadata": {},
     "execution_count": 37
    }
   ],
   "source": [
    "adh_routes[\n",
    "    (adh_routes.route == check_mult.route) & \n",
    "    (adh_routes.vehicle_id == check_mult.vehicle_id) & \n",
    "    (adh_routes.service_date == check_mult.service_date) \n",
    "    # & \n",
    "    # (adh_routes.route_dir == check_mult.route_dir) \n",
    "].sort_values(by='sched_time_hms')"
   ]
  },
  {
   "cell_type": "code",
   "execution_count": 38,
   "metadata": {},
   "outputs": [],
   "source": [
    "#######################################\n",
    "###\n",
    "### block_runs\n",
    "###\n",
    "#######################################"
   ]
  },
  {
   "cell_type": "code",
   "execution_count": null,
   "metadata": {},
   "outputs": [],
   "source": []
  },
  {
   "cell_type": "code",
   "execution_count": 39,
   "metadata": {
    "tags": []
   },
   "outputs": [
    {
     "output_type": "stream",
     "name": "stdout",
     "text": "<class 'pandas.core.frame.DataFrame'>\nInt64Index: 74834 entries, 1 to 75020\nData columns (total 19 columns):\n #   Column                 Non-Null Count  Dtype          \n---  ------                 --------------  -----          \n 0   (service_date, first)  74834 non-null  datetime64[ns] \n 1   (route_block, first)   74834 non-null  string         \n 2   (route_dir, first)     74834 non-null  string         \n 3   (vehicle_id, first)    74834 non-null  string         \n 4   (route, first)         74834 non-null  string         \n 5   (stops, first)         74834 non-null  float64        \n 6   (recs, sum)            74834 non-null  int64          \n 7   (stop_id, count)       74834 non-null  int64          \n 8   (arr_odometer, min)    67912 non-null  float64        \n 9   (dep_odometer, max)    67912 non-null  float64        \n 10  (sched_time_hms, min)  74834 non-null  datetime64[ns] \n 11  (sched_time_hms, max)  74834 non-null  datetime64[ns] \n 12  (arr_time_hms, min)    67913 non-null  datetime64[ns] \n 13  (dep_time_hms, max)    65637 non-null  datetime64[ns] \n 14  (time_stopped, sum)    74834 non-null  timedelta64[ns]\n 15  (err_skip, mean)       74834 non-null  float64        \n 16  (err_late, mean)       74834 non-null  float64        \n 17  (err_early, mean)      74834 non-null  float64        \n 18  (on_time, mean)        74834 non-null  float64        \ndtypes: datetime64[ns](5), float64(7), int64(2), string(4), timedelta64[ns](1)\nmemory usage: 11.4 MB\nNone\n"
    },
    {
     "output_type": "display_data",
     "data": {
      "text/plain": "          service_date route_block route_dir vehicle_id route stops recs  \\\n                 first       first     first      first first first  sum   \nblock_run                                                                  \n1           2019-09-11     002-001         N        533    34   4.0    4   \n2           2019-09-11     002-001         N        533     2   7.0    8   \n3           2019-09-11     002-001         S        533     2   6.0    7   \n4           2019-09-11     002-001         S        533    34   6.0    6   \n5           2019-09-11     002-001         N        533    34   6.0    6   \n\n          stop_id arr_odometer dep_odometer      sched_time_hms  \\\n            count          min          max                 min   \nblock_run                                                         \n1               4        10.85        11.28 2019-09-11 04:09:00   \n2               7        11.36        23.41 2019-09-11 04:30:00   \n3               6        23.49        32.42 2019-09-11 05:26:00   \n4               6        34.65        43.75 2019-09-11 06:04:00   \n5               6        43.82        52.99 2019-09-11 07:02:00   \n\n                                     arr_time_hms        dep_time_hms  \\\n                          max                 min                 max   \nblock_run                                                               \n1         2019-09-11 04:30:00 2019-09-11 04:28:01 2019-09-11 04:28:14   \n2         2019-09-11 05:21:00 2019-09-11 04:31:21 2019-09-11 05:15:34   \n3         2019-09-11 06:04:00 2019-09-11 05:19:44 2019-09-11 06:04:12   \n4         2019-09-11 06:49:00 2019-09-11 06:15:15 2019-09-11 06:43:24   \n5         2019-09-11 07:45:00 2019-09-11 06:53:20 2019-09-11 07:48:00   \n\n          time_stopped  err_skip  err_late err_early   on_time  \n                   sum      mean      mean      mean      mean  \nblock_run                                                       \n1             00:00:13  0.500000  0.000000  0.000000  0.500000  \n2             00:08:25  0.000000  0.000000  0.142857  0.857143  \n3             00:11:43  0.166667  0.166667  0.000000  0.666667  \n4             00:03:17  0.166667  0.500000  0.000000  0.333333  \n5             00:13:03  0.333333  0.500000  0.000000  0.166667  ",
      "text/html": "<div>\n<style scoped>\n    .dataframe tbody tr th:only-of-type {\n        vertical-align: middle;\n    }\n\n    .dataframe tbody tr th {\n        vertical-align: top;\n    }\n\n    .dataframe thead tr th {\n        text-align: left;\n    }\n\n    .dataframe thead tr:last-of-type th {\n        text-align: right;\n    }\n</style>\n<table border=\"1\" class=\"dataframe\">\n  <thead>\n    <tr>\n      <th></th>\n      <th>service_date</th>\n      <th>route_block</th>\n      <th>route_dir</th>\n      <th>vehicle_id</th>\n      <th>route</th>\n      <th>stops</th>\n      <th>recs</th>\n      <th>stop_id</th>\n      <th>arr_odometer</th>\n      <th>dep_odometer</th>\n      <th colspan=\"2\" halign=\"left\">sched_time_hms</th>\n      <th>arr_time_hms</th>\n      <th>dep_time_hms</th>\n      <th>time_stopped</th>\n      <th>err_skip</th>\n      <th>err_late</th>\n      <th>err_early</th>\n      <th>on_time</th>\n    </tr>\n    <tr>\n      <th></th>\n      <th>first</th>\n      <th>first</th>\n      <th>first</th>\n      <th>first</th>\n      <th>first</th>\n      <th>first</th>\n      <th>sum</th>\n      <th>count</th>\n      <th>min</th>\n      <th>max</th>\n      <th>min</th>\n      <th>max</th>\n      <th>min</th>\n      <th>max</th>\n      <th>sum</th>\n      <th>mean</th>\n      <th>mean</th>\n      <th>mean</th>\n      <th>mean</th>\n    </tr>\n    <tr>\n      <th>block_run</th>\n      <th></th>\n      <th></th>\n      <th></th>\n      <th></th>\n      <th></th>\n      <th></th>\n      <th></th>\n      <th></th>\n      <th></th>\n      <th></th>\n      <th></th>\n      <th></th>\n      <th></th>\n      <th></th>\n      <th></th>\n      <th></th>\n      <th></th>\n      <th></th>\n      <th></th>\n    </tr>\n  </thead>\n  <tbody>\n    <tr>\n      <th>1</th>\n      <td>2019-09-11</td>\n      <td>002-001</td>\n      <td>N</td>\n      <td>533</td>\n      <td>34</td>\n      <td>4.0</td>\n      <td>4</td>\n      <td>4</td>\n      <td>10.85</td>\n      <td>11.28</td>\n      <td>2019-09-11 04:09:00</td>\n      <td>2019-09-11 04:30:00</td>\n      <td>2019-09-11 04:28:01</td>\n      <td>2019-09-11 04:28:14</td>\n      <td>00:00:13</td>\n      <td>0.500000</td>\n      <td>0.000000</td>\n      <td>0.000000</td>\n      <td>0.500000</td>\n    </tr>\n    <tr>\n      <th>2</th>\n      <td>2019-09-11</td>\n      <td>002-001</td>\n      <td>N</td>\n      <td>533</td>\n      <td>2</td>\n      <td>7.0</td>\n      <td>8</td>\n      <td>7</td>\n      <td>11.36</td>\n      <td>23.41</td>\n      <td>2019-09-11 04:30:00</td>\n      <td>2019-09-11 05:21:00</td>\n      <td>2019-09-11 04:31:21</td>\n      <td>2019-09-11 05:15:34</td>\n      <td>00:08:25</td>\n      <td>0.000000</td>\n      <td>0.000000</td>\n      <td>0.142857</td>\n      <td>0.857143</td>\n    </tr>\n    <tr>\n      <th>3</th>\n      <td>2019-09-11</td>\n      <td>002-001</td>\n      <td>S</td>\n      <td>533</td>\n      <td>2</td>\n      <td>6.0</td>\n      <td>7</td>\n      <td>6</td>\n      <td>23.49</td>\n      <td>32.42</td>\n      <td>2019-09-11 05:26:00</td>\n      <td>2019-09-11 06:04:00</td>\n      <td>2019-09-11 05:19:44</td>\n      <td>2019-09-11 06:04:12</td>\n      <td>00:11:43</td>\n      <td>0.166667</td>\n      <td>0.166667</td>\n      <td>0.000000</td>\n      <td>0.666667</td>\n    </tr>\n    <tr>\n      <th>4</th>\n      <td>2019-09-11</td>\n      <td>002-001</td>\n      <td>S</td>\n      <td>533</td>\n      <td>34</td>\n      <td>6.0</td>\n      <td>6</td>\n      <td>6</td>\n      <td>34.65</td>\n      <td>43.75</td>\n      <td>2019-09-11 06:04:00</td>\n      <td>2019-09-11 06:49:00</td>\n      <td>2019-09-11 06:15:15</td>\n      <td>2019-09-11 06:43:24</td>\n      <td>00:03:17</td>\n      <td>0.166667</td>\n      <td>0.500000</td>\n      <td>0.000000</td>\n      <td>0.333333</td>\n    </tr>\n    <tr>\n      <th>5</th>\n      <td>2019-09-11</td>\n      <td>002-001</td>\n      <td>N</td>\n      <td>533</td>\n      <td>34</td>\n      <td>6.0</td>\n      <td>6</td>\n      <td>6</td>\n      <td>43.82</td>\n      <td>52.99</td>\n      <td>2019-09-11 07:02:00</td>\n      <td>2019-09-11 07:45:00</td>\n      <td>2019-09-11 06:53:20</td>\n      <td>2019-09-11 07:48:00</td>\n      <td>00:13:03</td>\n      <td>0.333333</td>\n      <td>0.500000</td>\n      <td>0.000000</td>\n      <td>0.166667</td>\n    </tr>\n  </tbody>\n</table>\n</div>"
     },
     "metadata": {}
    }
   ],
   "source": [
    "adh_block_runs=(adh_routes[adh_routes.run_stop.isna()==False]\n",
    "    .groupby(by=[\n",
    "        'block_run'\n",
    "    ])\n",
    "    .agg({\n",
    "        'service_date':['first'],\n",
    "        'route_block':['first'],\n",
    "        'route_dir':['first'],\n",
    "        'vehicle_id':['first'],\n",
    "        'route':['first'],\n",
    "        'stops':['first'],\n",
    "        'recs':['sum',],\n",
    "        'stop_id':['count',],\n",
    "        'arr_odometer':['min',],\n",
    "        'dep_odometer':['max',],\n",
    "        'sched_time_hms':['min','max'],\n",
    "        'arr_time_hms':['min',],\n",
    "        'dep_time_hms':['max',],\n",
    "        'time_stopped':['sum',],\n",
    "        # 'sched_diff':['min','max','median'],\n",
    "        'err_skip':['mean',],\n",
    "        'err_late':['mean',],\n",
    "        'err_early':['mean',],\n",
    "        'on_time':['mean',],\n",
    "    })\n",
    ")\n",
    "# .reset_index().set_index('block_run')\n",
    "show_df(adh_block_runs)"
   ]
  },
  {
   "cell_type": "code",
   "execution_count": 40,
   "metadata": {},
   "outputs": [
    {
     "output_type": "execute_result",
     "data": {
      "text/plain": "0                 NaT   \n28          52.56         52.56 2019-09-11 07:41:00 2019-09-11 07:47:32   \n29          52.99         52.99 2019-09-11 07:45:00 2019-09-11 07:52:25   \n30          53.07         53.07 2019-09-11 07:45:00 2019-09-11 07:52:25   \n31          54.90         54.90 2019-09-11 07:56:00 2019-09-11 08:06:33   \n32          56.66         56.66 2019-09-11 08:05:00 2019-09-11 08:16:41   \n33          58.16         58.16 2019-09-11 08:12:00 2019-09-11 08:23:12   \n34          60.83         60.83 2019-09-11 08:25:00 2019-09-11 08:37:49   \n35          60.97         60.97 2019-09-11 08:30:00 2019-09-11 08:37:49   \n36            NaN           NaN 2019-09-11 08:44:00                 NaT   \n37          65.15         65.15 2019-09-11 08:50:00 2019-09-11 09:01:04   \n38          65.23         65.23 2019-09-11 09:21:00 2019-09-11 09:01:04   \n39          67.95         68.03 2019-09-11 09:36:00 2019-09-11 09:34:28   \n40          70.87         70.87 2019-09-11 09:47:00 2019-09-11 09:47:16   \n41          72.36         72.36 2019-09-11 09:54:00 2019-09-11 09:53:14   \n42          74.16         74.16 2019-09-11 10:03:00 2019-09-11 10:02:06   \n43            NaN           NaN 2019-09-11 10:10:00                 NaT   \n44            NaN           NaN 2019-09-11 10:10:00                 NaT   \n45          76.40         76.40 2019-09-11 10:19:00 2019-09-11 10:19:34   \n46          78.74         78.74 2019-09-11 10:26:00 2019-09-11 10:28:17   \n47          80.59         80.59 2019-09-11 10:36:00 2019-09-11 10:36:51   \n48          82.75         82.75 2019-09-11 10:46:00 2019-09-11 10:45:57   \n49          85.46         85.46 2019-09-11 10:58:00 2019-09-11 10:59:00   \n50          85.54         85.54 2019-09-11 11:14:00 2019-09-11 10:59:00   \n51          87.97         87.97 2019-09-11 11:26:00 2019-09-11 11:25:22   \n52            NaN           NaN 2019-09-11 11:37:00                 NaT   \n53            NaN           NaN 2019-09-11 11:48:00                 NaT   \n54          94.17         94.17 2019-09-11 11:56:00 2019-09-11 11:55:53   \n55          94.59         94.59 2019-09-11 12:00:00 2019-09-11 11:59:46   \n56          94.67         94.67 2019-09-11 12:00:00 2019-09-11 11:59:46   \n57          96.49         96.49 2019-09-11 12:13:00 2019-09-11 12:15:06   \n58          98.25         98.25 2019-09-11 12:22:00 2019-09-11 12:23:42   \n59          99.75         99.75 2019-09-11 12:29:00 2019-09-11 12:28:56   \n60         102.41        102.41 2019-09-11 12:43:00 2019-09-11 12:42:36   \n61         102.54        102.54 2019-09-11 12:48:00 2019-09-11 12:42:36   \n62         105.49        105.49 2019-09-11 13:02:00 2019-09-11 13:01:46   \n63         106.70        106.70 2019-09-11 13:07:00 2019-09-11 13:06:38   \n64         106.78        106.78 2019-09-11 13:21:00 2019-09-11 13:06:38   \n65         109.50        109.57 2019-09-11 13:36:00 2019-09-11 13:35:32   \n66         112.41        112.41 2019-09-11 13:47:00 2019-09-11 13:48:50   \n67         113.91        113.91 2019-09-11 13:54:00 2019-09-11 13:53:40   \n68            NaN           NaN 2019-09-11 14:03:00                 NaT   \n69            NaN           NaN 2019-09-11 14:10:00                 NaT   \n70            NaN           NaN 2019-09-11 14:10:00                 NaT   \n71         117.93        117.93 2019-09-11 14:19:00 2019-09-11 14:20:46   \n72         120.28        120.28 2019-09-11 14:26:00 2019-09-11 14:29:17   \n73         122.15        122.15 2019-09-11 14:36:00 2019-09-11 14:39:00   \n74         124.29        124.29 2019-09-11 14:46:00 2019-09-11 14:50:39   \n75         127.02        127.02 2019-09-11 14:58:00 2019-09-11 15:05:03   \n76         127.09        127.09 2019-09-11 15:08:00 2019-09-11 15:05:03   \n77         129.53        129.53 2019-09-11 15:20:00 2019-09-11 15:22:07   \n78            NaN           NaN 2019-09-11 15:31:00                 NaT   \n79            NaN           NaN 2019-09-11 15:43:00                 NaT   \n80         135.98        135.98 2019-09-11 15:51:00 2019-09-11 15:54:41   \n81         136.41        136.41 2019-09-11 15:55:00 2019-09-11 15:58:55   \n82         136.49        136.49 2019-09-11 15:55:00 2019-09-11 15:58:55   \n83         138.32        138.32 2019-09-11 16:10:00 2019-09-11 16:18:20   \n84         140.07        140.07 2019-09-11 16:19:00 2019-09-11 16:26:27   \n85         141.58        141.58 2019-09-11 16:26:00 2019-09-11 16:36:21   \n86         144.29        144.29 2019-09-11 16:40:00 2019-09-11 16:53:13   \n87         144.39        144.39 2019-09-11 16:45:00 2019-09-11 16:53:13   \n88         147.35        147.35 2019-09-11 17:00:00 2019-09-11 17:11:10   \n89         148.57        148.57 2019-09-11 17:07:00 2019-09-11 17:17:49   \n90         148.65        148.65 2019-09-11 17:13:00 2019-09-11 17:17:49   \n91         151.38        151.45 2019-09-11 17:29:00 2019-09-11 17:31:46   \n92         154.31        154.31 2019-09-11 17:42:00 2019-09-11 17:46:51   \n93         155.80        155.80 2019-09-11 17:49:00 2019-09-11 17:52:20   \n94         157.61        157.61 2019-09-11 17:58:00 2019-09-11 17:59:25   \n95            NaN           NaN 2019-09-11 18:05:00                 NaT   \n96            NaN           NaN 2019-09-11 18:05:00                 NaT   \n97         159.84        159.84 2019-09-11 18:14:00 2019-09-11 18:14:52   \n98         162.20        162.20 2019-09-11 18:21:00 2019-09-11 18:22:59   \n99         164.07        164.07 2019-09-11 18:30:00 2019-09-11 18:31:49   \n100        164.16        164.16 2019-09-11 18:43:00 2019-09-11 18:31:49   \n101           NaN           NaN 2019-09-11 18:54:00                 NaT   \n102        168.29        168.29 2019-09-11 19:02:00 2019-09-11 19:04:06   \n103        168.80        168.80 2019-09-11 19:05:00 2019-09-11 19:06:47   \n104        169.18        169.18 2019-09-11 19:07:00 2019-09-11 19:09:30   \n105        170.56        170.56 2019-09-11 19:16:00 2019-09-11 19:16:45   \n\n           dep_time_hms  block_run  run_stop  stops time_stopped  \\\n0   2019-09-11 03:48:21          1       NaN    4.0     00:08:08   \n1                   NaT          1       1.0    4.0          NaT   \n2                   NaT          1       2.0    4.0          NaT   \n3   2019-09-11 04:28:14          1       3.0    4.0     00:00:13   \n4                   NaT          1       4.0    4.0          NaT   \n5   2019-09-11 04:32:02          2       1.0    7.0     00:00:41   \n6   2019-09-11 04:42:55          2       2.0    7.0     00:01:08   \n7   2019-09-11 04:48:37          2       3.0    7.0     00:00:11   \n8   2019-09-11 04:52:55          2       4.0    7.0     00:00:31   \n9   2019-09-11 05:05:08          2       5.0    7.0     00:03:39   \n10  2019-09-11 05:15:34          2       6.0    7.0     00:02:15   \n11                  NaT          2       7.0    7.0          NaT   \n12  2019-09-11 05:27:33          3       1.0    6.0     00:07:49   \n13  2019-09-11 05:40:30          3       2.0    6.0     00:02:06   \n14  2019-09-11 05:51:09          3       3.0    6.0     00:00:35   \n15  2019-09-11 05:55:57          3       4.0    6.0     00:00:12   \n16  2019-09-11 06:04:12          3       5.0    6.0     00:01:01   \n17                  NaT          3       6.0    6.0          NaT   \n18                  NaT          4       1.0    6.0          NaT   \n19  2019-09-11 06:15:52          4       2.0    6.0     00:00:37   \n20  2019-09-11 06:25:20          4       3.0    6.0     00:00:15   \n21  2019-09-11 06:34:32          4       4.0    6.0     00:00:52   \n22  2019-09-11 06:43:24          4       5.0    6.0     00:01:33   \n23                  NaT          4       6.0    6.0          NaT   \n24  2019-09-11 07:05:43          5       1.0    6.0     00:12:23   \n25  2019-09-11 07:17:09          5       2.0    6.0     00:00:12   \n26                  NaT          5       3.0    6.0          NaT   \n27                  NaT          5       4.0    6.0          NaT   \n28  2019-09-11 07:48:00          5       5.0    6.0     00:00:28   \n29                  NaT          5       6.0    6.0          NaT   \n30  2019-09-11 07:53:33          6       1.0    8.0     00:01:08   \n31  2019-09-11 08:07:25          6       2.0    8.0     00:00:52   \n32  2019-09-11 08:17:37          6       3.0    8.0     00:00:56   \n33  2019-09-11 08:24:13          6       4.0    8.0     00:01:01   \n34  2019-09-11 08:37:49          6       5.0    8.0     00:00:00   \n35  2019-09-11 08:39:43          6       6.0    8.0     00:01:54   \n36                  NaT          6       7.0    8.0          NaT   \n37                  NaT          6       8.0    8.0          NaT   \n38  2019-09-11 09:21:41          7       1.0    6.0     00:20:37   \n39  2019-09-11 09:36:23          7       2.0    6.0     00:01:55   \n40  2019-09-11 09:47:56          7       3.0    6.0     00:00:40   \n41  2019-09-11 09:53:29          7       4.0    6.0     00:00:15   \n42  2019-09-11 10:02:59          7       5.0    6.0     00:00:53   \n43                  NaT          7       6.0    6.0          NaT   \n44                  NaT          8       1.0    6.0          NaT   \n45  2019-09-11 10:20:12          8       2.0    6.0     00:00:38   \n46  2019-09-11 10:28:31          8       3.0    6.0     00:00:14   \n47  2019-09-11 10:37:46          8       4.0    6.0     00:00:55   \n48  2019-09-11 10:47:16          8       5.0    6.0     00:01:19   \n49                  NaT          8       6.0    6.0          NaT   \n50  2019-09-11 11:15:04          9       1.0    6.0     00:16:04   \n51  2019-09-11 11:27:41          9       2.0    6.0     00:02:19   \n52                  NaT          9       3.0    6.0          NaT   \n53                  NaT          9       4.0    6.0          NaT   \n54  2019-09-11 11:56:15          9       5.0    6.0     00:00:22   \n55                  NaT          9       6.0    6.0          NaT   \n56  2019-09-11 12:00:28         10       1.0    8.0     00:00:42   \n57  2019-09-11 12:15:46         10       2.0    8.0     00:00:40   \n58  2019-09-11 12:24:32         10       3.0    8.0     00:00:50   \n59  2019-09-11 12:29:37         10       4.0    8.0     00:00:41   \n60  2019-09-11 12:42:36         10       5.0    8.0     00:00:00   \n61  2019-09-11 12:48:46         10       6.0    8.0     00:06:10   \n62  2019-09-11 13:01:58         10       7.0    8.0     00:00:12   \n63                  NaT         10       8.0    8.0          NaT   \n64  2019-09-11 13:21:08         11       1.0    6.0     00:14:30   \n65  2019-09-11 13:38:45         11       2.0    6.0     00:03:13   \n66  2019-09-11 13:49:23         11       3.0    6.0     00:00:33   \n67  2019-09-11 13:54:16         11       4.0    6.0     00:00:36   \n68                  NaT         11       5.0    6.0          NaT   \n69                  NaT         11       6.0    6.0          NaT   \n70                  NaT         12       1.0    6.0          NaT   \n71  2019-09-11 14:21:41         12       2.0    6.0     00:00:55   \n72  2019-09-11 14:29:31         12       3.0    6.0     00:00:14   \n73  2019-09-11 14:41:30         12       4.0    6.0     00:02:30   \n74  2019-09-11 14:52:35         12       5.0    6.0     00:01:56   \n75                  NaT         12       6.0    6.0          NaT   \n76  2019-09-11 15:08:56         13       1.0    6.0     00:03:53   \n77  2019-09-11 15:23:34         13       2.0    6.0     00:01:27   \n78                  NaT         13       3.0    6.0          NaT   \n79                  NaT         13       4.0    6.0          NaT   \n80  2019-09-11 15:55:54         13       5.0    6.0     00:01:13   \n81                  NaT         13       6.0    6.0          NaT   \n82  2019-09-11 16:01:36         14       1.0    8.0     00:02:41   \n83  2019-09-11 16:19:06         14       2.0    8.0     00:00:46   \n84  2019-09-11 16:28:07         14       3.0    8.0     00:01:40   \n85  2019-09-11 16:37:26         14       4.0    8.0     00:01:05   \n86  2019-09-11 16:53:13         14       5.0    8.0     00:00:00   \n87  2019-09-11 16:54:52         14       6.0    8.0     00:01:39   \n88  2019-09-11 17:11:41         14       7.0    8.0     00:00:31   \n89                  NaT         14       8.0    8.0          NaT   \n90  2019-09-11 17:18:08         15       1.0    6.0     00:00:19   \n91  2019-09-11 17:32:58         15       2.0    6.0     00:01:12   \n92  2019-09-11 17:47:47         15       3.0    6.0     00:00:56   \n93  2019-09-11 17:52:40         15       4.0    6.0     00:00:20   \n94  2019-09-11 18:00:33         15       5.0    6.0     00:01:08   \n95                  NaT         15       6.0    6.0          NaT   \n96                  NaT         16       1.0    4.0          NaT   \n97  2019-09-11 18:15:25         16       2.0    4.0     00:00:33   \n98  2019-09-11 18:23:35         16       3.0    4.0     00:00:36   \n99                  NaT         16       4.0    4.0          NaT   \n100 2019-09-11 18:44:14         17       1.0    5.0     00:12:25   \n101                 NaT         17       2.0    5.0          NaT   \n102 2019-09-11 19:04:26         17       3.0    5.0     00:00:20   \n103 2019-09-11 19:07:28         17       4.0    5.0     00:00:41   \n104                 NaT         17       5.0    5.0          NaT   \n105 2019-09-11 19:16:45         17       NaN    5.0     00:00:00   \n\n           sched_diff  err_skip  err_early  err_late  on_time  \n0            03:48:21     False      False     False     True  \n1                 NaT      True      False     False    False  \n2                 NaT      True      False     False    False  \n3            00:01:14     False      False     False     True  \n4            00:01:21     False      False     False     True  \n5            00:02:02     False      False     False     True  \n6            00:03:55     False      False     False     True  \n7            00:01:37     False      False     False     True  \n8   -1 days +23:59:55     False      False     False     True  \n9            00:01:08     False      False     False     True  \n10  -1 days +23:59:34     False       True     False    False  \n11  -1 days +23:58:44     False      False     False     True  \n12           00:01:33     False      False     False     True  \n13           00:01:30     False      False     False     True  \n14           00:04:09     False      False     False     True  \n15           00:03:57     False      False     False     True  \n16           00:05:12     False      False      True    False  \n17                NaT      True      False     False    False  \n18                NaT      True      False     False    False  \n19           00:02:52     False      False     False     True  \n20           00:05:20     False      False      True    False  \n21           00:05:32     False      False      True    False  \n22           00:05:24     False      False      True    False  \n23           00:04:20     False      False     False     True  \n24           00:03:43     False      False     False     True  \n25           00:05:09     False      False      True    False  \n26                NaT      True      False     False    False  \n27                NaT      True      False     False    False  \n28           00:07:00     False      False      True    False  \n29           00:07:25     False      False      True    False  \n30           00:08:33     False      False      True    False  \n31           00:11:25     False      False      True    False  \n32           00:12:37     False      False      True    False  \n33           00:12:13     False      False      True    False  \n34           00:12:49     False      False      True    False  \n35           00:09:43     False      False      True    False  \n36                NaT      True      False     False    False  \n37           00:11:04     False      False      True    False  \n38           00:00:41     False      False     False     True  \n39           00:00:23     False      False     False     True  \n40           00:00:56     False      False     False     True  \n41  -1 days +23:59:29     False       True     False    False  \n42  -1 days +23:59:59     False      False     False     True  \n43                NaT      True      False     False    False  \n44                NaT      True      False     False    False  \n45           00:01:12     False      False     False     True  \n46           00:02:31     False      False     False     True  \n47           00:01:46     False      False     False     True  \n48           00:01:16     False      False     False     True  \n49           00:01:00     False      False     False     True  \n50           00:01:04     False      False     False     True  \n51           00:01:41     False      False     False     True  \n52                NaT      True      False     False    False  \n53                NaT      True      False     False    False  \n54           00:00:15     False      False     False     True  \n55  -1 days +23:59:46     False      False     False     True  \n56           00:00:28     False      False     False     True  \n57           00:02:46     False      False     False     True  \n58           00:02:32     False      False     False     True  \n59           00:00:37     False      False     False     True  \n60  -1 days +23:59:36     False       True     False    False  \n61           00:00:46     False      False     False     True  \n62  -1 days +23:59:58     False      False     False     True  \n63  -1 days +23:59:38     False      False     False     True  \n64           00:00:08     False      False     False     True  \n65           00:02:45     False      False     False     True  \n66           00:02:23     False      False     False     True  \n67           00:00:16     False      False     False     True  \n68                NaT      True      False     False    False  \n69                NaT      True      False     False    False  \n70                NaT      True      False     False    False  \n71           00:02:41     False      False     False     True  \n72           00:03:31     False      False     False     True  \n73           00:05:30     False      False      True    False  \n74           00:06:35     False      False      True    False  \n75           00:07:03     False      False      True    False  \n76           00:00:56     False      False     False     True  \n77           00:03:34     False      False     False     True  \n78                NaT      True      False     False    False  \n79                NaT      True      False     False    False  \n80           00:04:54     False      False     False     True  \n81           00:03:55     False      False     False     True  \n82           00:06:36     False      False      True    False  \n83           00:09:06     False      False      True    False  \n84           00:09:07     False      False      True    False  \n85           00:11:26     False      False      True    False  \n86           00:13:13     False      False      True    False  \n87           00:09:52     False      False      True    False  \n88           00:11:41     False      False      True    False  \n89           00:10:49     False      False      True    False  \n90           00:05:08     False      False      True    False  \n91           00:03:58     False      False     False     True  \n92           00:05:47     False      False      True    False  \n93           00:03:40     False      False     False     True  \n94           00:02:33     False      False     False     True  \n95                NaT      True      False     False    False  \n96                NaT      True      False     False    False  \n97           00:01:25     False      False     False     True  \n98           00:02:35     False      False     False     True  \n99           00:01:49     False      False     False     True  \n100          00:01:14     False      False     False     True  \n101               NaT      True      False     False    False  \n102          00:02:26     False      False     False     True  \n103          00:02:28     False      False     False     True  \n104          00:02:30     False      False     False     True  \n105          00:00:45     False      False     False     True  ",
      "text/html": "<div>\n<style scoped>\n    .dataframe tbody tr th:only-of-type {\n        vertical-align: middle;\n    }\n\n    .dataframe tbody tr th {\n        vertical-align: top;\n    }\n\n    .dataframe thead th {\n        text-align: right;\n    }\n</style>\n<table border=\"1\" class=\"dataframe\">\n  <thead>\n    <tr style=\"text-align: right;\">\n      <th></th>\n      <th>service_date</th>\n      <th>route_block</th>\n      <th>route_dir</th>\n      <th>vehicle_id</th>\n      <th>route</th>\n      <th>stop_id</th>\n      <th>recs</th>\n      <th>arr_odometer</th>\n      <th>dep_odometer</th>\n      <th>sched_time_hms</th>\n      <th>arr_time_hms</th>\n      <th>dep_time_hms</th>\n      <th>block_run</th>\n      <th>run_stop</th>\n      <th>stops</th>\n      <th>time_stopped</th>\n      <th>sched_diff</th>\n      <th>err_skip</th>\n      <th>err_early</th>\n      <th>err_late</th>\n      <th>on_time</th>\n    </tr>\n  </thead>\n  <tbody>\n    <tr>\n      <th>0</th>\n      <td>2019-09-11</td>\n      <td>002-001</td>\n      <td>N</td>\n      <td>533</td>\n      <td>34</td>\n      <td>GARA</td>\n      <td>1</td>\n      <td>0.15</td>\n      <td>0.15</td>\n      <td>2019-09-11 00:00:00</td>\n      <td>2019-09-11 03:40:13</td>\n      <td>2019-09-11 03:48:21</td>\n      <td>1</td>\n      <td>NaN</td>\n      <td>4.0</td>\n      <td>00:08:08</td>\n      <td>03:48:21</td>\n      <td>False</td>\n      <td>False</td>\n      <td>False</td>\n      <td>True</td>\n    </tr>\n    <tr>\n      <th>1</th>\n      <td>2019-09-11</td>\n      <td>002-001</td>\n      <td>N</td>\n      <td>533</td>\n      <td>34</td>\n      <td>99166</td>\n      <td>1</td>\n      <td>NaN</td>\n      <td>NaN</td>\n      <td>2019-09-11 04:09:00</td>\n      <td>NaT</td>\n      <td>NaT</td>\n      <td>1</td>\n      <td>1.0</td>\n      <td>4.0</td>\n      <td>NaT</td>\n      <td>NaT</td>\n      <td>True</td>\n      <td>False</td>\n      <td>False</td>\n      <td>False</td>\n    </tr>\n    <tr>\n      <th>2</th>\n      <td>2019-09-11</td>\n      <td>002-001</td>\n      <td>N</td>\n      <td>533</td>\n      <td>34</td>\n      <td>82589</td>\n      <td>1</td>\n      <td>NaN</td>\n      <td>NaN</td>\n      <td>2019-09-11 04:19:00</td>\n      <td>NaT</td>\n      <td>NaT</td>\n      <td>1</td>\n      <td>2.0</td>\n      <td>4.0</td>\n      <td>NaT</td>\n      <td>NaT</td>\n      <td>True</td>\n      <td>False</td>\n      <td>False</td>\n      <td>False</td>\n    </tr>\n    <tr>\n      <th>3</th>\n      <td>2019-09-11</td>\n      <td>002-001</td>\n      <td>N</td>\n      <td>533</td>\n      <td>34</td>\n      <td>11726</td>\n      <td>1</td>\n      <td>10.85</td>\n      <td>10.85</td>\n      <td>2019-09-11 04:27:00</td>\n      <td>2019-09-11 04:28:01</td>\n      <td>2019-09-11 04:28:14</td>\n      <td>1</td>\n      <td>3.0</td>\n      <td>4.0</td>\n      <td>00:00:13</td>\n      <td>00:01:14</td>\n      <td>False</td>\n      <td>False</td>\n      <td>False</td>\n      <td>True</td>\n    </tr>\n    <tr>\n      <th>4</th>\n      <td>2019-09-11</td>\n      <td>002-001</td>\n      <td>N</td>\n      <td>533</td>\n      <td>34</td>\n      <td>99396</td>\n      <td>1</td>\n      <td>11.28</td>\n      <td>11.28</td>\n      <td>2019-09-11 04:30:00</td>\n      <td>2019-09-11 04:31:21</td>\n      <td>NaT</td>\n      <td>1</td>\n      <td>4.0</td>\n      <td>4.0</td>\n      <td>NaT</td>\n      <td>00:01:21</td>\n      <td>False</td>\n      <td>False</td>\n      <td>False</td>\n      <td>True</td>\n    </tr>\n    <tr>\n      <th>5</th>\n      <td>2019-09-11</td>\n      <td>002-001</td>\n      <td>N</td>\n      <td>533</td>\n      <td>2</td>\n      <td>99396</td>\n      <td>1</td>\n      <td>11.36</td>\n      <td>11.36</td>\n      <td>2019-09-11 04:30:00</td>\n      <td>2019-09-11 04:31:21</td>\n      <td>2019-09-11 04:32:02</td>\n      <td>2</td>\n      <td>1.0</td>\n      <td>7.0</td>\n      <td>00:00:41</td>\n      <td>00:02:02</td>\n      <td>False</td>\n      <td>False</td>\n      <td>False</td>\n      <td>True</td>\n    </tr>\n    <tr>\n      <th>6</th>\n      <td>2019-09-11</td>\n      <td>002-001</td>\n      <td>N</td>\n      <td>533</td>\n      <td>2</td>\n      <td>56239</td>\n      <td>1</td>\n      <td>13.19</td>\n      <td>13.19</td>\n      <td>2019-09-11 04:39:00</td>\n      <td>2019-09-11 04:41:47</td>\n      <td>2019-09-11 04:42:55</td>\n      <td>2</td>\n      <td>2.0</td>\n      <td>7.0</td>\n      <td>00:01:08</td>\n      <td>00:03:55</td>\n      <td>False</td>\n      <td>False</td>\n      <td>False</td>\n      <td>True</td>\n    </tr>\n    <tr>\n      <th>7</th>\n      <td>2019-09-11</td>\n      <td>002-001</td>\n      <td>N</td>\n      <td>533</td>\n      <td>2</td>\n      <td>95226</td>\n      <td>1</td>\n      <td>14.94</td>\n      <td>14.94</td>\n      <td>2019-09-11 04:47:00</td>\n      <td>2019-09-11 04:48:26</td>\n      <td>2019-09-11 04:48:37</td>\n      <td>2</td>\n      <td>3.0</td>\n      <td>7.0</td>\n      <td>00:00:11</td>\n      <td>00:01:37</td>\n      <td>False</td>\n      <td>False</td>\n      <td>False</td>\n      <td>True</td>\n    </tr>\n    <tr>\n      <th>8</th>\n      <td>2019-09-11</td>\n      <td>002-001</td>\n      <td>N</td>\n      <td>533</td>\n      <td>2</td>\n      <td>45506</td>\n      <td>1</td>\n      <td>16.44</td>\n      <td>16.44</td>\n      <td>2019-09-11 04:53:00</td>\n      <td>2019-09-11 04:52:24</td>\n      <td>2019-09-11 04:52:55</td>\n      <td>2</td>\n      <td>4.0</td>\n      <td>7.0</td>\n      <td>00:00:31</td>\n      <td>-1 days +23:59:55</td>\n      <td>False</td>\n      <td>False</td>\n      <td>False</td>\n      <td>True</td>\n    </tr>\n    <tr>\n      <th>9</th>\n      <td>2019-09-11</td>\n      <td>002-001</td>\n      <td>N</td>\n      <td>533</td>\n      <td>2</td>\n      <td>10013</td>\n      <td>2</td>\n      <td>19.10</td>\n      <td>19.25</td>\n      <td>2019-09-11 05:04:00</td>\n      <td>2019-09-11 05:01:29</td>\n      <td>2019-09-11 05:05:08</td>\n      <td>2</td>\n      <td>5.0</td>\n      <td>7.0</td>\n      <td>00:03:39</td>\n      <td>00:01:08</td>\n      <td>False</td>\n      <td>False</td>\n      <td>False</td>\n      <td>True</td>\n    </tr>\n    <tr>\n      <th>10</th>\n      <td>2019-09-11</td>\n      <td>002-001</td>\n      <td>N</td>\n      <td>533</td>\n      <td>2</td>\n      <td>94709</td>\n      <td>1</td>\n      <td>22.19</td>\n      <td>22.19</td>\n      <td>2019-09-11 05:16:00</td>\n      <td>2019-09-11 05:13:19</td>\n      <td>2019-09-11 05:15:34</td>\n      <td>2</td>\n      <td>6.0</td>\n      <td>7.0</td>\n      <td>00:02:15</td>\n      <td>-1 days +23:59:34</td>\n      <td>False</td>\n      <td>True</td>\n      <td>False</td>\n      <td>False</td>\n    </tr>\n    <tr>\n      <th>11</th>\n      <td>2019-09-11</td>\n      <td>002-001</td>\n      <td>N</td>\n      <td>533</td>\n      <td>2</td>\n      <td>94793</td>\n      <td>1</td>\n      <td>23.41</td>\n      <td>23.41</td>\n      <td>2019-09-11 05:21:00</td>\n      <td>2019-09-11 05:19:44</td>\n      <td>NaT</td>\n      <td>2</td>\n      <td>7.0</td>\n      <td>7.0</td>\n      <td>NaT</td>\n      <td>-1 days +23:58:44</td>\n      <td>False</td>\n      <td>False</td>\n      <td>False</td>\n      <td>True</td>\n    </tr>\n    <tr>\n      <th>12</th>\n      <td>2019-09-11</td>\n      <td>002-001</td>\n      <td>S</td>\n      <td>533</td>\n      <td>2</td>\n      <td>94793</td>\n      <td>1</td>\n      <td>23.49</td>\n      <td>23.49</td>\n      <td>2019-09-11 05:26:00</td>\n      <td>2019-09-11 05:19:44</td>\n      <td>2019-09-11 05:27:33</td>\n      <td>3</td>\n      <td>1.0</td>\n      <td>6.0</td>\n      <td>00:07:49</td>\n      <td>00:01:33</td>\n      <td>False</td>\n      <td>False</td>\n      <td>False</td>\n      <td>True</td>\n    </tr>\n    <tr>\n      <th>13</th>\n      <td>2019-09-11</td>\n      <td>002-001</td>\n      <td>S</td>\n      <td>533</td>\n      <td>2</td>\n      <td>10059</td>\n      <td>2</td>\n      <td>26.21</td>\n      <td>26.29</td>\n      <td>2019-09-11 05:39:00</td>\n      <td>2019-09-11 05:38:24</td>\n      <td>2019-09-11 05:40:30</td>\n      <td>3</td>\n      <td>2.0</td>\n      <td>6.0</td>\n      <td>00:02:06</td>\n      <td>00:01:30</td>\n      <td>False</td>\n      <td>False</td>\n      <td>False</td>\n      <td>True</td>\n    </tr>\n    <tr>\n      <th>14</th>\n      <td>2019-09-11</td>\n      <td>002-001</td>\n      <td>S</td>\n      <td>533</td>\n      <td>2</td>\n      <td>45517</td>\n      <td>1</td>\n      <td>29.13</td>\n      <td>29.13</td>\n      <td>2019-09-11 05:47:00</td>\n      <td>2019-09-11 05:50:34</td>\n      <td>2019-09-11 05:51:09</td>\n      <td>3</td>\n      <td>3.0</td>\n      <td>6.0</td>\n      <td>00:00:35</td>\n      <td>00:04:09</td>\n      <td>False</td>\n      <td>False</td>\n      <td>False</td>\n      <td>True</td>\n    </tr>\n    <tr>\n      <th>15</th>\n      <td>2019-09-11</td>\n      <td>002-001</td>\n      <td>S</td>\n      <td>533</td>\n      <td>2</td>\n      <td>85927</td>\n      <td>1</td>\n      <td>30.62</td>\n      <td>30.62</td>\n      <td>2019-09-11 05:52:00</td>\n      <td>2019-09-11 05:55:45</td>\n      <td>2019-09-11 05:55:57</td>\n      <td>3</td>\n      <td>4.0</td>\n      <td>6.0</td>\n      <td>00:00:12</td>\n      <td>00:03:57</td>\n      <td>False</td>\n      <td>False</td>\n      <td>False</td>\n      <td>True</td>\n    </tr>\n    <tr>\n      <th>16</th>\n      <td>2019-09-11</td>\n      <td>002-001</td>\n      <td>S</td>\n      <td>533</td>\n      <td>2</td>\n      <td>56227</td>\n      <td>1</td>\n      <td>32.42</td>\n      <td>32.42</td>\n      <td>2019-09-11 05:59:00</td>\n      <td>2019-09-11 06:03:11</td>\n      <td>2019-09-11 06:04:12</td>\n      <td>3</td>\n      <td>5.0</td>\n      <td>6.0</td>\n      <td>00:01:01</td>\n      <td>00:05:12</td>\n      <td>False</td>\n      <td>False</td>\n      <td>True</td>\n      <td>False</td>\n    </tr>\n    <tr>\n      <th>17</th>\n      <td>2019-09-11</td>\n      <td>002-001</td>\n      <td>S</td>\n      <td>533</td>\n      <td>2</td>\n      <td>79973</td>\n      <td>1</td>\n      <td>NaN</td>\n      <td>NaN</td>\n      <td>2019-09-11 06:04:00</td>\n      <td>NaT</td>\n      <td>NaT</td>\n      <td>3</td>\n      <td>6.0</td>\n      <td>6.0</td>\n      <td>NaT</td>\n      <td>NaT</td>\n      <td>True</td>\n      <td>False</td>\n      <td>False</td>\n      <td>False</td>\n    </tr>\n    <tr>\n      <th>18</th>\n      <td>2019-09-11</td>\n      <td>002-001</td>\n      <td>S</td>\n      <td>533</td>\n      <td>34</td>\n      <td>79973</td>\n      <td>1</td>\n      <td>NaN</td>\n      <td>NaN</td>\n      <td>2019-09-11 06:04:00</td>\n      <td>NaT</td>\n      <td>NaT</td>\n      <td>4</td>\n      <td>1.0</td>\n      <td>6.0</td>\n      <td>NaT</td>\n      <td>NaT</td>\n      <td>True</td>\n      <td>False</td>\n      <td>False</td>\n      <td>False</td>\n    </tr>\n    <tr>\n      <th>19</th>\n      <td>2019-09-11</td>\n      <td>002-001</td>\n      <td>S</td>\n      <td>533</td>\n      <td>34</td>\n      <td>11727</td>\n      <td>1</td>\n      <td>34.65</td>\n      <td>34.65</td>\n      <td>2019-09-11 06:13:00</td>\n      <td>2019-09-11 06:15:15</td>\n      <td>2019-09-11 06:15:52</td>\n      <td>4</td>\n      <td>2.0</td>\n      <td>6.0</td>\n      <td>00:00:37</td>\n      <td>00:02:52</td>\n      <td>False</td>\n      <td>False</td>\n      <td>False</td>\n      <td>True</td>\n    </tr>\n    <tr>\n      <th>20</th>\n      <td>2019-09-11</td>\n      <td>002-001</td>\n      <td>S</td>\n      <td>533</td>\n      <td>34</td>\n      <td>82583</td>\n      <td>1</td>\n      <td>37.01</td>\n      <td>37.01</td>\n      <td>2019-09-11 06:20:00</td>\n      <td>2019-09-11 06:25:05</td>\n      <td>2019-09-11 06:25:20</td>\n      <td>4</td>\n      <td>3.0</td>\n      <td>6.0</td>\n      <td>00:00:15</td>\n      <td>00:05:20</td>\n      <td>False</td>\n      <td>False</td>\n      <td>True</td>\n      <td>False</td>\n    </tr>\n    <tr>\n      <th>21</th>\n      <td>2019-09-11</td>\n      <td>002-001</td>\n      <td>S</td>\n      <td>533</td>\n      <td>34</td>\n      <td>99167</td>\n      <td>1</td>\n      <td>38.88</td>\n      <td>38.88</td>\n      <td>2019-09-11 06:29:00</td>\n      <td>2019-09-11 06:33:40</td>\n      <td>2019-09-11 06:34:32</td>\n      <td>4</td>\n      <td>4.0</td>\n      <td>6.0</td>\n      <td>00:00:52</td>\n      <td>00:05:32</td>\n      <td>False</td>\n      <td>False</td>\n      <td>True</td>\n      <td>False</td>\n    </tr>\n    <tr>\n      <th>22</th>\n      <td>2019-09-11</td>\n      <td>002-001</td>\n      <td>S</td>\n      <td>533</td>\n      <td>34</td>\n      <td>35387</td>\n      <td>1</td>\n      <td>41.03</td>\n      <td>41.03</td>\n      <td>2019-09-11 06:38:00</td>\n      <td>2019-09-11 06:41:51</td>\n      <td>2019-09-11 06:43:24</td>\n      <td>4</td>\n      <td>5.0</td>\n      <td>6.0</td>\n      <td>00:01:33</td>\n      <td>00:05:24</td>\n      <td>False</td>\n      <td>False</td>\n      <td>True</td>\n      <td>False</td>\n    </tr>\n    <tr>\n      <th>23</th>\n      <td>2019-09-11</td>\n      <td>002-001</td>\n      <td>S</td>\n      <td>533</td>\n      <td>34</td>\n      <td>30023</td>\n      <td>1</td>\n      <td>43.75</td>\n      <td>43.75</td>\n      <td>2019-09-11 06:49:00</td>\n      <td>2019-09-11 06:53:20</td>\n      <td>NaT</td>\n      <td>4</td>\n      <td>6.0</td>\n      <td>6.0</td>\n      <td>NaT</td>\n      <td>00:04:20</td>\n      <td>False</td>\n      <td>False</td>\n      <td>False</td>\n      <td>True</td>\n    </tr>\n    <tr>\n      <th>24</th>\n      <td>2019-09-11</td>\n      <td>002-001</td>\n      <td>N</td>\n      <td>533</td>\n      <td>34</td>\n      <td>30023</td>\n      <td>1</td>\n      <td>43.82</td>\n      <td>43.82</td>\n      <td>2019-09-11 07:02:00</td>\n      <td>2019-09-11 06:53:20</td>\n      <td>2019-09-11 07:05:43</td>\n      <td>5</td>\n      <td>1.0</td>\n      <td>6.0</td>\n      <td>00:12:23</td>\n      <td>00:03:43</td>\n      <td>False</td>\n      <td>False</td>\n      <td>False</td>\n      <td>True</td>\n    </tr>\n    <tr>\n      <th>25</th>\n      <td>2019-09-11</td>\n      <td>002-001</td>\n      <td>N</td>\n      <td>533</td>\n      <td>34</td>\n      <td>35386</td>\n      <td>1</td>\n      <td>46.12</td>\n      <td>46.12</td>\n      <td>2019-09-11 07:12:00</td>\n      <td>2019-09-11 07:16:57</td>\n      <td>2019-09-11 07:17:09</td>\n      <td>5</td>\n      <td>2.0</td>\n      <td>6.0</td>\n      <td>00:00:12</td>\n      <td>00:05:09</td>\n      <td>False</td>\n      <td>False</td>\n      <td>True</td>\n      <td>False</td>\n    </tr>\n    <tr>\n      <th>26</th>\n      <td>2019-09-11</td>\n      <td>002-001</td>\n      <td>N</td>\n      <td>533</td>\n      <td>34</td>\n      <td>99166</td>\n      <td>1</td>\n      <td>NaN</td>\n      <td>NaN</td>\n      <td>2019-09-11 07:21:00</td>\n      <td>NaT</td>\n      <td>NaT</td>\n      <td>5</td>\n      <td>3.0</td>\n      <td>6.0</td>\n      <td>NaT</td>\n      <td>NaT</td>\n      <td>True</td>\n      <td>False</td>\n      <td>False</td>\n      <td>False</td>\n    </tr>\n    <tr>\n      <th>27</th>\n      <td>2019-09-11</td>\n      <td>002-001</td>\n      <td>N</td>\n      <td>533</td>\n      <td>34</td>\n      <td>82589</td>\n      <td>1</td>\n      <td>NaN</td>\n      <td>NaN</td>\n      <td>2019-09-11 07:33:00</td>\n      <td>NaT</td>\n      <td>NaT</td>\n      <td>5</td>\n      <td>4.0</td>\n      <td>6.0</td>\n      <td>NaT</td>\n      <td>NaT</td>\n      <td>True</td>\n      <td>False</td>\n      <td>False</td>\n      <td>False</td>\n    </tr>\n    <tr>\n      <th>28</th>\n      <td>2019-09-11</td>\n      <td>002-001</td>\n      <td>N</td>\n      <td>533</td>\n      <td>34</td>\n      <td>11726</td>\n      <td>1</td>\n      <td>52.56</td>\n      <td>52.56</td>\n      <td>2019-09-11 07:41:00</td>\n      <td>2019-09-11 07:47:32</td>\n      <td>2019-09-11 07:48:00</td>\n      <td>5</td>\n      <td>5.0</td>\n      <td>6.0</td>\n      <td>00:00:28</td>\n      <td>00:07:00</td>\n      <td>False</td>\n      <td>False</td>\n      <td>True</td>\n      <td>False</td>\n    </tr>\n    <tr>\n      <th>29</th>\n      <td>2019-09-11</td>\n      <td>002-001</td>\n      <td>N</td>\n      <td>533</td>\n      <td>34</td>\n      <td>99396</td>\n      <td>1</td>\n      <td>52.99</td>\n      <td>52.99</td>\n      <td>2019-09-11 07:45:00</td>\n      <td>2019-09-11 07:52:25</td>\n      <td>NaT</td>\n      <td>5</td>\n      <td>6.0</td>\n      <td>6.0</td>\n      <td>NaT</td>\n      <td>00:07:25</td>\n      <td>False</td>\n      <td>False</td>\n      <td>True</td>\n      <td>False</td>\n    </tr>\n    <tr>\n      <th>30</th>\n      <td>2019-09-11</td>\n      <td>002-001</td>\n      <td>N</td>\n      <td>533</td>\n      <td>2</td>\n      <td>99396</td>\n      <td>1</td>\n      <td>53.07</td>\n      <td>53.07</td>\n      <td>2019-09-11 07:45:00</td>\n      <td>2019-09-11 07:52:25</td>\n      <td>2019-09-11 07:53:33</td>\n      <td>6</td>\n      <td>1.0</td>\n      <td>8.0</td>\n      <td>00:01:08</td>\n      <td>00:08:33</td>\n      <td>False</td>\n      <td>False</td>\n      <td>True</td>\n      <td>False</td>\n    </tr>\n    <tr>\n      <th>31</th>\n      <td>2019-09-11</td>\n      <td>002-001</td>\n      <td>N</td>\n      <td>533</td>\n      <td>2</td>\n      <td>56239</td>\n      <td>1</td>\n      <td>54.90</td>\n      <td>54.90</td>\n      <td>2019-09-11 07:56:00</td>\n      <td>2019-09-11 08:06:33</td>\n      <td>2019-09-11 08:07:25</td>\n      <td>6</td>\n      <td>2.0</td>\n      <td>8.0</td>\n      <td>00:00:52</td>\n      <td>00:11:25</td>\n      <td>False</td>\n      <td>False</td>\n      <td>True</td>\n      <td>False</td>\n    </tr>\n    <tr>\n      <th>32</th>\n      <td>2019-09-11</td>\n      <td>002-001</td>\n      <td>N</td>\n      <td>533</td>\n      <td>2</td>\n      <td>95226</td>\n      <td>1</td>\n      <td>56.66</td>\n      <td>56.66</td>\n      <td>2019-09-11 08:05:00</td>\n      <td>2019-09-11 08:16:41</td>\n      <td>2019-09-11 08:17:37</td>\n      <td>6</td>\n      <td>3.0</td>\n      <td>8.0</td>\n      <td>00:00:56</td>\n      <td>00:12:37</td>\n      <td>False</td>\n      <td>False</td>\n      <td>True</td>\n      <td>False</td>\n    </tr>\n    <tr>\n      <th>33</th>\n      <td>2019-09-11</td>\n      <td>002-001</td>\n      <td>N</td>\n      <td>533</td>\n      <td>2</td>\n      <td>45506</td>\n      <td>1</td>\n      <td>58.16</td>\n      <td>58.16</td>\n      <td>2019-09-11 08:12:00</td>\n      <td>2019-09-11 08:23:12</td>\n      <td>2019-09-11 08:24:13</td>\n      <td>6</td>\n      <td>4.0</td>\n      <td>8.0</td>\n      <td>00:01:01</td>\n      <td>00:12:13</td>\n      <td>False</td>\n      <td>False</td>\n      <td>True</td>\n      <td>False</td>\n    </tr>\n    <tr>\n      <th>34</th>\n      <td>2019-09-11</td>\n      <td>002-001</td>\n      <td>N</td>\n      <td>533</td>\n      <td>2</td>\n      <td>10013</td>\n      <td>1</td>\n      <td>60.83</td>\n      <td>60.83</td>\n      <td>2019-09-11 08:25:00</td>\n      <td>2019-09-11 08:37:49</td>\n      <td>2019-09-11 08:37:49</td>\n      <td>6</td>\n      <td>5.0</td>\n      <td>8.0</td>\n      <td>00:00:00</td>\n      <td>00:12:49</td>\n      <td>False</td>\n      <td>False</td>\n      <td>True</td>\n      <td>False</td>\n    </tr>\n    <tr>\n      <th>35</th>\n      <td>2019-09-11</td>\n      <td>002-001</td>\n      <td>N</td>\n      <td>533</td>\n      <td>2</td>\n      <td>10013</td>\n      <td>1</td>\n      <td>60.97</td>\n      <td>60.97</td>\n      <td>2019-09-11 08:30:00</td>\n      <td>2019-09-11 08:37:49</td>\n      <td>2019-09-11 08:39:43</td>\n      <td>6</td>\n      <td>6.0</td>\n      <td>8.0</td>\n      <td>00:01:54</td>\n      <td>00:09:43</td>\n      <td>False</td>\n      <td>False</td>\n      <td>True</td>\n      <td>False</td>\n    </tr>\n    <tr>\n      <th>36</th>\n      <td>2019-09-11</td>\n      <td>002-001</td>\n      <td>N</td>\n      <td>533</td>\n      <td>2</td>\n      <td>94709</td>\n      <td>1</td>\n      <td>NaN</td>\n      <td>NaN</td>\n      <td>2019-09-11 08:44:00</td>\n      <td>NaT</td>\n      <td>NaT</td>\n      <td>6</td>\n      <td>7.0</td>\n      <td>8.0</td>\n      <td>NaT</td>\n      <td>NaT</td>\n      <td>True</td>\n      <td>False</td>\n      <td>False</td>\n      <td>False</td>\n    </tr>\n    <tr>\n      <th>37</th>\n      <td>2019-09-11</td>\n      <td>002-001</td>\n      <td>N</td>\n      <td>533</td>\n      <td>2</td>\n      <td>94793</td>\n      <td>1</td>\n      <td>65.15</td>\n      <td>65.15</td>\n      <td>2019-09-11 08:50:00</td>\n      <td>2019-09-11 09:01:04</td>\n      <td>NaT</td>\n      <td>6</td>\n      <td>8.0</td>\n      <td>8.0</td>\n      <td>NaT</td>\n      <td>00:11:04</td>\n      <td>False</td>\n      <td>False</td>\n      <td>True</td>\n      <td>False</td>\n    </tr>\n    <tr>\n      <th>38</th>\n      <td>2019-09-11</td>\n      <td>002-001</td>\n      <td>S</td>\n      <td>533</td>\n      <td>2</td>\n      <td>94793</td>\n      <td>1</td>\n      <td>65.23</td>\n      <td>65.23</td>\n      <td>2019-09-11 09:21:00</td>\n      <td>2019-09-11 09:01:04</td>\n      <td>2019-09-11 09:21:41</td>\n      <td>7</td>\n      <td>1.0</td>\n      <td>6.0</td>\n      <td>00:20:37</td>\n      <td>00:00:41</td>\n      <td>False</td>\n      <td>False</td>\n      <td>False</td>\n      <td>True</td>\n    </tr>\n    <tr>\n      <th>39</th>\n      <td>2019-09-11</td>\n      <td>002-001</td>\n      <td>S</td>\n      <td>533</td>\n      <td>2</td>\n      <td>10059</td>\n      <td>2</td>\n      <td>67.95</td>\n      <td>68.03</td>\n      <td>2019-09-11 09:36:00</td>\n      <td>2019-09-11 09:34:28</td>\n      <td>2019-09-11 09:36:23</td>\n      <td>7</td>\n      <td>2.0</td>\n      <td>6.0</td>\n      <td>00:01:55</td>\n      <td>00:00:23</td>\n      <td>False</td>\n      <td>False</td>\n      <td>False</td>\n      <td>True</td>\n    </tr>\n    <tr>\n      <th>40</th>\n      <td>2019-09-11</td>\n      <td>002-001</td>\n      <td>S</td>\n      <td>533</td>\n      <td>2</td>\n      <td>45517</td>\n      <td>1</td>\n      <td>70.87</td>\n      <td>70.87</td>\n      <td>2019-09-11 09:47:00</td>\n      <td>2019-09-11 09:47:16</td>\n      <td>2019-09-11 09:47:56</td>\n      <td>7</td>\n      <td>3.0</td>\n      <td>6.0</td>\n      <td>00:00:40</td>\n      <td>00:00:56</td>\n      <td>False</td>\n      <td>False</td>\n      <td>False</td>\n      <td>True</td>\n    </tr>\n    <tr>\n      <th>41</th>\n      <td>2019-09-11</td>\n      <td>002-001</td>\n      <td>S</td>\n      <td>533</td>\n      <td>2</td>\n      <td>85927</td>\n      <td>1</td>\n      <td>72.36</td>\n      <td>72.36</td>\n      <td>2019-09-11 09:54:00</td>\n      <td>2019-09-11 09:53:14</td>\n      <td>2019-09-11 09:53:29</td>\n      <td>7</td>\n      <td>4.0</td>\n      <td>6.0</td>\n      <td>00:00:15</td>\n      <td>-1 days +23:59:29</td>\n      <td>False</td>\n      <td>True</td>\n      <td>False</td>\n      <td>False</td>\n    </tr>\n    <tr>\n      <th>42</th>\n      <td>2019-09-11</td>\n      <td>002-001</td>\n      <td>S</td>\n      <td>533</td>\n      <td>2</td>\n      <td>56227</td>\n      <td>1</td>\n      <td>74.16</td>\n      <td>74.16</td>\n      <td>2019-09-11 10:03:00</td>\n      <td>2019-09-11 10:02:06</td>\n      <td>2019-09-11 10:02:59</td>\n      <td>7</td>\n      <td>5.0</td>\n      <td>6.0</td>\n      <td>00:00:53</td>\n      <td>-1 days +23:59:59</td>\n      <td>False</td>\n      <td>False</td>\n      <td>False</td>\n      <td>True</td>\n    </tr>\n    <tr>\n      <th>43</th>\n      <td>2019-09-11</td>\n      <td>002-001</td>\n      <td>S</td>\n      <td>533</td>\n      <td>2</td>\n      <td>79973</td>\n      <td>1</td>\n      <td>NaN</td>\n      <td>NaN</td>\n      <td>2019-09-11 10:10:00</td>\n      <td>NaT</td>\n      <td>NaT</td>\n      <td>7</td>\n      <td>6.0</td>\n      <td>6.0</td>\n      <td>NaT</td>\n      <td>NaT</td>\n      <td>True</td>\n      <td>False</td>\n      <td>False</td>\n      <td>False</td>\n    </tr>\n    <tr>\n      <th>44</th>\n      <td>2019-09-11</td>\n      <td>002-001</td>\n      <td>S</td>\n      <td>533</td>\n      <td>34</td>\n      <td>79973</td>\n      <td>1</td>\n      <td>NaN</td>\n      <td>NaN</td>\n      <td>2019-09-11 10:10:00</td>\n      <td>NaT</td>\n      <td>NaT</td>\n      <td>8</td>\n      <td>1.0</td>\n      <td>6.0</td>\n      <td>NaT</td>\n      <td>NaT</td>\n      <td>True</td>\n      <td>False</td>\n      <td>False</td>\n      <td>False</td>\n    </tr>\n    <tr>\n      <th>45</th>\n      <td>2019-09-11</td>\n      <td>002-001</td>\n      <td>S</td>\n      <td>533</td>\n      <td>34</td>\n      <td>11727</td>\n      <td>1</td>\n      <td>76.40</td>\n      <td>76.40</td>\n      <td>2019-09-11 10:19:00</td>\n      <td>2019-09-11 10:19:34</td>\n      <td>2019-09-11 10:20:12</td>\n      <td>8</td>\n      <td>2.0</td>\n      <td>6.0</td>\n      <td>00:00:38</td>\n      <td>00:01:12</td>\n      <td>False</td>\n      <td>False</td>\n      <td>False</td>\n      <td>True</td>\n    </tr>\n    <tr>\n      <th>46</th>\n      <td>2019-09-11</td>\n      <td>002-001</td>\n      <td>S</td>\n      <td>533</td>\n      <td>34</td>\n      <td>82583</td>\n      <td>1</td>\n      <td>78.74</td>\n      <td>78.74</td>\n      <td>2019-09-11 10:26:00</td>\n      <td>2019-09-11 10:28:17</td>\n      <td>2019-09-11 10:28:31</td>\n      <td>8</td>\n      <td>3.0</td>\n      <td>6.0</td>\n      <td>00:00:14</td>\n      <td>00:02:31</td>\n      <td>False</td>\n      <td>False</td>\n      <td>False</td>\n      <td>True</td>\n    </tr>\n    <tr>\n      <th>47</th>\n      <td>2019-09-11</td>\n      <td>002-001</td>\n      <td>S</td>\n      <td>533</td>\n      <td>34</td>\n      <td>99167</td>\n      <td>1</td>\n      <td>80.59</td>\n      <td>80.59</td>\n      <td>2019-09-11 10:36:00</td>\n      <td>2019-09-11 10:36:51</td>\n      <td>2019-09-11 10:37:46</td>\n      <td>8</td>\n      <td>4.0</td>\n      <td>6.0</td>\n      <td>00:00:55</td>\n      <td>00:01:46</td>\n      <td>False</td>\n      <td>False</td>\n      <td>False</td>\n      <td>True</td>\n    </tr>\n    <tr>\n      <th>48</th>\n      <td>2019-09-11</td>\n      <td>002-001</td>\n      <td>S</td>\n      <td>533</td>\n      <td>34</td>\n      <td>35387</td>\n      <td>1</td>\n      <td>82.75</td>\n      <td>82.75</td>\n      <td>2019-09-11 10:46:00</td>\n      <td>2019-09-11 10:45:57</td>\n      <td>2019-09-11 10:47:16</td>\n      <td>8</td>\n      <td>5.0</td>\n      <td>6.0</td>\n      <td>00:01:19</td>\n      <td>00:01:16</td>\n      <td>False</td>\n      <td>False</td>\n      <td>False</td>\n      <td>True</td>\n    </tr>\n    <tr>\n      <th>49</th>\n      <td>2019-09-11</td>\n      <td>002-001</td>\n      <td>S</td>\n      <td>533</td>\n      <td>34</td>\n      <td>30023</td>\n      <td>1</td>\n      <td>85.46</td>\n      <td>85.46</td>\n      <td>2019-09-11 10:58:00</td>\n      <td>2019-09-11 10:59:00</td>\n      <td>NaT</td>\n      <td>8</td>\n      <td>6.0</td>\n      <td>6.0</td>\n      <td>NaT</td>\n      <td>00:01:00</td>\n      <td>False</td>\n      <td>False</td>\n      <td>False</td>\n      <td>True</td>\n    </tr>\n    <tr>\n      <th>50</th>\n      <td>2019-09-11</td>\n      <td>002-001</td>\n      <td>N</td>\n      <td>533</td>\n      <td>34</td>\n      <td>30023</td>\n      <td>1</td>\n      <td>85.54</td>\n      <td>85.54</td>\n      <td>2019-09-11 11:14:00</td>\n      <td>2019-09-11 10:59:00</td>\n      <td>2019-09-11 11:15:04</td>\n      <td>9</td>\n      <td>1.0</td>\n      <td>6.0</td>\n      <td>00:16:04</td>\n      <td>00:01:04</td>\n      <td>False</td>\n      <td>False</td>\n      <td>False</td>\n      <td>True</td>\n    </tr>\n    <tr>\n      <th>51</th>\n      <td>2019-09-11</td>\n      <td>002-001</td>\n      <td>N</td>\n      <td>533</td>\n      <td>34</td>\n      <td>35386</td>\n      <td>1</td>\n      <td>87.97</td>\n      <td>87.97</td>\n      <td>2019-09-11 11:26:00</td>\n      <td>2019-09-11 11:25:22</td>\n      <td>2019-09-11 11:27:41</td>\n      <td>9</td>\n      <td>2.0</td>\n      <td>6.0</td>\n      <td>00:02:19</td>\n      <td>00:01:41</td>\n      <td>False</td>\n      <td>False</td>\n      <td>False</td>\n      <td>True</td>\n    </tr>\n    <tr>\n      <th>52</th>\n      <td>2019-09-11</td>\n      <td>002-001</td>\n      <td>N</td>\n      <td>533</td>\n      <td>34</td>\n      <td>99166</td>\n      <td>1</td>\n      <td>NaN</td>\n      <td>NaN</td>\n      <td>2019-09-11 11:37:00</td>\n      <td>NaT</td>\n      <td>NaT</td>\n      <td>9</td>\n      <td>3.0</td>\n      <td>6.0</td>\n      <td>NaT</td>\n      <td>NaT</td>\n      <td>True</td>\n      <td>False</td>\n      <td>False</td>\n      <td>False</td>\n    </tr>\n    <tr>\n      <th>53</th>\n      <td>2019-09-11</td>\n      <td>002-001</td>\n      <td>N</td>\n      <td>533</td>\n      <td>34</td>\n      <td>82589</td>\n      <td>1</td>\n      <td>NaN</td>\n      <td>NaN</td>\n      <td>2019-09-11 11:48:00</td>\n      <td>NaT</td>\n      <td>NaT</td>\n      <td>9</td>\n      <td>4.0</td>\n      <td>6.0</td>\n      <td>NaT</td>\n      <td>NaT</td>\n      <td>True</td>\n      <td>False</td>\n      <td>False</td>\n      <td>False</td>\n    </tr>\n    <tr>\n      <th>54</th>\n      <td>2019-09-11</td>\n      <td>002-001</td>\n      <td>N</td>\n      <td>533</td>\n      <td>34</td>\n      <td>11726</td>\n      <td>1</td>\n      <td>94.17</td>\n      <td>94.17</td>\n      <td>2019-09-11 11:56:00</td>\n      <td>2019-09-11 11:55:53</td>\n      <td>2019-09-11 11:56:15</td>\n      <td>9</td>\n      <td>5.0</td>\n      <td>6.0</td>\n      <td>00:00:22</td>\n      <td>00:00:15</td>\n      <td>False</td>\n      <td>False</td>\n      <td>False</td>\n      <td>True</td>\n    </tr>\n    <tr>\n      <th>55</th>\n      <td>2019-09-11</td>\n      <td>002-001</td>\n      <td>N</td>\n      <td>533</td>\n      <td>34</td>\n      <td>99396</td>\n      <td>1</td>\n      <td>94.59</td>\n      <td>94.59</td>\n      <td>2019-09-11 12:00:00</td>\n      <td>2019-09-11 11:59:46</td>\n      <td>NaT</td>\n      <td>9</td>\n      <td>6.0</td>\n      <td>6.0</td>\n      <td>NaT</td>\n      <td>-1 days +23:59:46</td>\n      <td>False</td>\n      <td>False</td>\n      <td>False</td>\n      <td>True</td>\n    </tr>\n    <tr>\n      <th>56</th>\n      <td>2019-09-11</td>\n      <td>002-001</td>\n      <td>N</td>\n      <td>533</td>\n      <td>2</td>\n      <td>99396</td>\n      <td>1</td>\n      <td>94.67</td>\n      <td>94.67</td>\n      <td>2019-09-11 12:00:00</td>\n      <td>2019-09-11 11:59:46</td>\n      <td>2019-09-11 12:00:28</td>\n      <td>10</td>\n      <td>1.0</td>\n      <td>8.0</td>\n      <td>00:00:42</td>\n      <td>00:00:28</td>\n      <td>False</td>\n      <td>False</td>\n      <td>False</td>\n      <td>True</td>\n    </tr>\n    <tr>\n      <th>57</th>\n      <td>2019-09-11</td>\n      <td>002-001</td>\n      <td>N</td>\n      <td>533</td>\n      <td>2</td>\n      <td>56239</td>\n      <td>1</td>\n      <td>96.49</td>\n      <td>96.49</td>\n      <td>2019-09-11 12:13:00</td>\n      <td>2019-09-11 12:15:06</td>\n      <td>2019-09-11 12:15:46</td>\n      <td>10</td>\n      <td>2.0</td>\n      <td>8.0</td>\n      <td>00:00:40</td>\n      <td>00:02:46</td>\n      <td>False</td>\n      <td>False</td>\n      <td>False</td>\n      <td>True</td>\n    </tr>\n    <tr>\n      <th>58</th>\n      <td>2019-09-11</td>\n      <td>002-001</td>\n      <td>N</td>\n      <td>533</td>\n      <td>2</td>\n      <td>95226</td>\n      <td>1</td>\n      <td>98.25</td>\n      <td>98.25</td>\n      <td>2019-09-11 12:22:00</td>\n      <td>2019-09-11 12:23:42</td>\n      <td>2019-09-11 12:24:32</td>\n      <td>10</td>\n      <td>3.0</td>\n      <td>8.0</td>\n      <td>00:00:50</td>\n      <td>00:02:32</td>\n      <td>False</td>\n      <td>False</td>\n      <td>False</td>\n      <td>True</td>\n    </tr>\n    <tr>\n      <th>59</th>\n      <td>2019-09-11</td>\n      <td>002-001</td>\n      <td>N</td>\n      <td>533</td>\n      <td>2</td>\n      <td>45506</td>\n      <td>1</td>\n      <td>99.75</td>\n      <td>99.75</td>\n      <td>2019-09-11 12:29:00</td>\n      <td>2019-09-11 12:28:56</td>\n      <td>2019-09-11 12:29:37</td>\n      <td>10</td>\n      <td>4.0</td>\n      <td>8.0</td>\n      <td>00:00:41</td>\n      <td>00:00:37</td>\n      <td>False</td>\n      <td>False</td>\n      <td>False</td>\n      <td>True</td>\n    </tr>\n    <tr>\n      <th>60</th>\n      <td>2019-09-11</td>\n      <td>002-001</td>\n      <td>N</td>\n      <td>533</td>\n      <td>2</td>\n      <td>10013</td>\n      <td>1</td>\n      <td>102.41</td>\n      <td>102.41</td>\n      <td>2019-09-11 12:43:00</td>\n      <td>2019-09-11 12:42:36</td>\n      <td>2019-09-11 12:42:36</td>\n      <td>10</td>\n      <td>5.0</td>\n      <td>8.0</td>\n      <td>00:00:00</td>\n      <td>-1 days +23:59:36</td>\n      <td>False</td>\n      <td>True</td>\n      <td>False</td>\n      <td>False</td>\n    </tr>\n    <tr>\n      <th>61</th>\n      <td>2019-09-11</td>\n      <td>002-001</td>\n      <td>N</td>\n      <td>533</td>\n      <td>2</td>\n      <td>10013</td>\n      <td>1</td>\n      <td>102.54</td>\n      <td>102.54</td>\n      <td>2019-09-11 12:48:00</td>\n      <td>2019-09-11 12:42:36</td>\n      <td>2019-09-11 12:48:46</td>\n      <td>10</td>\n      <td>6.0</td>\n      <td>8.0</td>\n      <td>00:06:10</td>\n      <td>00:00:46</td>\n      <td>False</td>\n      <td>False</td>\n      <td>False</td>\n      <td>True</td>\n    </tr>\n    <tr>\n      <th>62</th>\n      <td>2019-09-11</td>\n      <td>002-001</td>\n      <td>N</td>\n      <td>533</td>\n      <td>2</td>\n      <td>94709</td>\n      <td>1</td>\n      <td>105.49</td>\n      <td>105.49</td>\n      <td>2019-09-11 13:02:00</td>\n      <td>2019-09-11 13:01:46</td>\n      <td>2019-09-11 13:01:58</td>\n      <td>10</td>\n      <td>7.0</td>\n      <td>8.0</td>\n      <td>00:00:12</td>\n      <td>-1 days +23:59:58</td>\n      <td>False</td>\n      <td>False</td>\n      <td>False</td>\n      <td>True</td>\n    </tr>\n    <tr>\n      <th>63</th>\n      <td>2019-09-11</td>\n      <td>002-001</td>\n      <td>N</td>\n      <td>533</td>\n      <td>2</td>\n      <td>94793</td>\n      <td>1</td>\n      <td>106.70</td>\n      <td>106.70</td>\n      <td>2019-09-11 13:07:00</td>\n      <td>2019-09-11 13:06:38</td>\n      <td>NaT</td>\n      <td>10</td>\n      <td>8.0</td>\n      <td>8.0</td>\n      <td>NaT</td>\n      <td>-1 days +23:59:38</td>\n      <td>False</td>\n      <td>False</td>\n      <td>False</td>\n      <td>True</td>\n    </tr>\n    <tr>\n      <th>64</th>\n      <td>2019-09-11</td>\n      <td>002-001</td>\n      <td>S</td>\n      <td>533</td>\n      <td>2</td>\n      <td>94793</td>\n      <td>1</td>\n      <td>106.78</td>\n      <td>106.78</td>\n      <td>2019-09-11 13:21:00</td>\n      <td>2019-09-11 13:06:38</td>\n      <td>2019-09-11 13:21:08</td>\n      <td>11</td>\n      <td>1.0</td>\n      <td>6.0</td>\n      <td>00:14:30</td>\n      <td>00:00:08</td>\n      <td>False</td>\n      <td>False</td>\n      <td>False</td>\n      <td>True</td>\n    </tr>\n    <tr>\n      <th>65</th>\n      <td>2019-09-11</td>\n      <td>002-001</td>\n      <td>S</td>\n      <td>533</td>\n      <td>2</td>\n      <td>10059</td>\n      <td>2</td>\n      <td>109.50</td>\n      <td>109.57</td>\n      <td>2019-09-11 13:36:00</td>\n      <td>2019-09-11 13:35:32</td>\n      <td>2019-09-11 13:38:45</td>\n      <td>11</td>\n      <td>2.0</td>\n      <td>6.0</td>\n      <td>00:03:13</td>\n      <td>00:02:45</td>\n      <td>False</td>\n      <td>False</td>\n      <td>False</td>\n      <td>True</td>\n    </tr>\n    <tr>\n      <th>66</th>\n      <td>2019-09-11</td>\n      <td>002-001</td>\n      <td>S</td>\n      <td>533</td>\n      <td>2</td>\n      <td>45517</td>\n      <td>1</td>\n      <td>112.41</td>\n      <td>112.41</td>\n      <td>2019-09-11 13:47:00</td>\n      <td>2019-09-11 13:48:50</td>\n      <td>2019-09-11 13:49:23</td>\n      <td>11</td>\n      <td>3.0</td>\n      <td>6.0</td>\n      <td>00:00:33</td>\n      <td>00:02:23</td>\n      <td>False</td>\n      <td>False</td>\n      <td>False</td>\n      <td>True</td>\n    </tr>\n    <tr>\n      <th>67</th>\n      <td>2019-09-11</td>\n      <td>002-001</td>\n      <td>S</td>\n      <td>533</td>\n      <td>2</td>\n      <td>85927</td>\n      <td>1</td>\n      <td>113.91</td>\n      <td>113.91</td>\n      <td>2019-09-11 13:54:00</td>\n      <td>2019-09-11 13:53:40</td>\n      <td>2019-09-11 13:54:16</td>\n      <td>11</td>\n      <td>4.0</td>\n      <td>6.0</td>\n      <td>00:00:36</td>\n      <td>00:00:16</td>\n      <td>False</td>\n      <td>False</td>\n      <td>False</td>\n      <td>True</td>\n    </tr>\n    <tr>\n      <th>68</th>\n      <td>2019-09-11</td>\n      <td>002-001</td>\n      <td>S</td>\n      <td>533</td>\n      <td>2</td>\n      <td>56227</td>\n      <td>1</td>\n      <td>NaN</td>\n      <td>NaN</td>\n      <td>2019-09-11 14:03:00</td>\n      <td>NaT</td>\n      <td>NaT</td>\n      <td>11</td>\n      <td>5.0</td>\n      <td>6.0</td>\n      <td>NaT</td>\n      <td>NaT</td>\n      <td>True</td>\n      <td>False</td>\n      <td>False</td>\n      <td>False</td>\n    </tr>\n    <tr>\n      <th>69</th>\n      <td>2019-09-11</td>\n      <td>002-001</td>\n      <td>S</td>\n      <td>533</td>\n      <td>2</td>\n      <td>79973</td>\n      <td>1</td>\n      <td>NaN</td>\n      <td>NaN</td>\n      <td>2019-09-11 14:10:00</td>\n      <td>NaT</td>\n      <td>NaT</td>\n      <td>11</td>\n      <td>6.0</td>\n      <td>6.0</td>\n      <td>NaT</td>\n      <td>NaT</td>\n      <td>True</td>\n      <td>False</td>\n      <td>False</td>\n      <td>False</td>\n    </tr>\n    <tr>\n      <th>70</th>\n      <td>2019-09-11</td>\n      <td>002-001</td>\n      <td>S</td>\n      <td>533</td>\n      <td>34</td>\n      <td>79973</td>\n      <td>1</td>\n      <td>NaN</td>\n      <td>NaN</td>\n      <td>2019-09-11 14:10:00</td>\n      <td>NaT</td>\n      <td>NaT</td>\n      <td>12</td>\n      <td>1.0</td>\n      <td>6.0</td>\n      <td>NaT</td>\n      <td>NaT</td>\n      <td>True</td>\n      <td>False</td>\n      <td>False</td>\n      <td>False</td>\n    </tr>\n    <tr>\n      <th>71</th>\n      <td>2019-09-11</td>\n      <td>002-001</td>\n      <td>S</td>\n      <td>533</td>\n      <td>34</td>\n      <td>11727</td>\n      <td>1</td>\n      <td>117.93</td>\n      <td>117.93</td>\n      <td>2019-09-11 14:19:00</td>\n      <td>2019-09-11 14:20:46</td>\n      <td>2019-09-11 14:21:41</td>\n      <td>12</td>\n      <td>2.0</td>\n      <td>6.0</td>\n      <td>00:00:55</td>\n      <td>00:02:41</td>\n      <td>False</td>\n      <td>False</td>\n      <td>False</td>\n      <td>True</td>\n    </tr>\n    <tr>\n      <th>72</th>\n      <td>2019-09-11</td>\n      <td>002-001</td>\n      <td>S</td>\n      <td>533</td>\n      <td>34</td>\n      <td>82583</td>\n      <td>1</td>\n      <td>120.28</td>\n      <td>120.28</td>\n      <td>2019-09-11 14:26:00</td>\n      <td>2019-09-11 14:29:17</td>\n      <td>2019-09-11 14:29:31</td>\n      <td>12</td>\n      <td>3.0</td>\n      <td>6.0</td>\n      <td>00:00:14</td>\n      <td>00:03:31</td>\n      <td>False</td>\n      <td>False</td>\n      <td>False</td>\n      <td>True</td>\n    </tr>\n    <tr>\n      <th>73</th>\n      <td>2019-09-11</td>\n      <td>002-001</td>\n      <td>S</td>\n      <td>533</td>\n      <td>34</td>\n      <td>99167</td>\n      <td>1</td>\n      <td>122.15</td>\n      <td>122.15</td>\n      <td>2019-09-11 14:36:00</td>\n      <td>2019-09-11 14:39:00</td>\n      <td>2019-09-11 14:41:30</td>\n      <td>12</td>\n      <td>4.0</td>\n      <td>6.0</td>\n      <td>00:02:30</td>\n      <td>00:05:30</td>\n      <td>False</td>\n      <td>False</td>\n      <td>True</td>\n      <td>False</td>\n    </tr>\n    <tr>\n      <th>74</th>\n      <td>2019-09-11</td>\n      <td>002-001</td>\n      <td>S</td>\n      <td>533</td>\n      <td>34</td>\n      <td>35387</td>\n      <td>1</td>\n      <td>124.29</td>\n      <td>124.29</td>\n      <td>2019-09-11 14:46:00</td>\n      <td>2019-09-11 14:50:39</td>\n      <td>2019-09-11 14:52:35</td>\n      <td>12</td>\n      <td>5.0</td>\n      <td>6.0</td>\n      <td>00:01:56</td>\n      <td>00:06:35</td>\n      <td>False</td>\n      <td>False</td>\n      <td>True</td>\n      <td>False</td>\n    </tr>\n    <tr>\n      <th>75</th>\n      <td>2019-09-11</td>\n      <td>002-001</td>\n      <td>S</td>\n      <td>533</td>\n      <td>34</td>\n      <td>30023</td>\n      <td>1</td>\n      <td>127.02</td>\n      <td>127.02</td>\n      <td>2019-09-11 14:58:00</td>\n      <td>2019-09-11 15:05:03</td>\n      <td>NaT</td>\n      <td>12</td>\n      <td>6.0</td>\n      <td>6.0</td>\n      <td>NaT</td>\n      <td>00:07:03</td>\n      <td>False</td>\n      <td>False</td>\n      <td>True</td>\n      <td>False</td>\n    </tr>\n    <tr>\n      <th>76</th>\n      <td>2019-09-11</td>\n      <td>002-001</td>\n      <td>N</td>\n      <td>533</td>\n      <td>34</td>\n      <td>30023</td>\n      <td>1</td>\n      <td>127.09</td>\n      <td>127.09</td>\n      <td>2019-09-11 15:08:00</td>\n      <td>2019-09-11 15:05:03</td>\n      <td>2019-09-11 15:08:56</td>\n      <td>13</td>\n      <td>1.0</td>\n      <td>6.0</td>\n      <td>00:03:53</td>\n      <td>00:00:56</td>\n      <td>False</td>\n      <td>False</td>\n      <td>False</td>\n      <td>True</td>\n    </tr>\n    <tr>\n      <th>77</th>\n      <td>2019-09-11</td>\n      <td>002-001</td>\n      <td>N</td>\n      <td>533</td>\n      <td>34</td>\n      <td>35386</td>\n      <td>1</td>\n      <td>129.53</td>\n      <td>129.53</td>\n      <td>2019-09-11 15:20:00</td>\n      <td>2019-09-11 15:22:07</td>\n      <td>2019-09-11 15:23:34</td>\n      <td>13</td>\n      <td>2.0</td>\n      <td>6.0</td>\n      <td>00:01:27</td>\n      <td>00:03:34</td>\n      <td>False</td>\n      <td>False</td>\n      <td>False</td>\n      <td>True</td>\n    </tr>\n    <tr>\n      <th>78</th>\n      <td>2019-09-11</td>\n      <td>002-001</td>\n      <td>N</td>\n      <td>533</td>\n      <td>34</td>\n      <td>99166</td>\n      <td>1</td>\n      <td>NaN</td>\n      <td>NaN</td>\n      <td>2019-09-11 15:31:00</td>\n      <td>NaT</td>\n      <td>NaT</td>\n      <td>13</td>\n      <td>3.0</td>\n      <td>6.0</td>\n      <td>NaT</td>\n      <td>NaT</td>\n      <td>True</td>\n      <td>False</td>\n      <td>False</td>\n      <td>False</td>\n    </tr>\n    <tr>\n      <th>79</th>\n      <td>2019-09-11</td>\n      <td>002-001</td>\n      <td>N</td>\n      <td>533</td>\n      <td>34</td>\n      <td>82589</td>\n      <td>1</td>\n      <td>NaN</td>\n      <td>NaN</td>\n      <td>2019-09-11 15:43:00</td>\n      <td>NaT</td>\n      <td>NaT</td>\n      <td>13</td>\n      <td>4.0</td>\n      <td>6.0</td>\n      <td>NaT</td>\n      <td>NaT</td>\n      <td>True</td>\n      <td>False</td>\n      <td>False</td>\n      <td>False</td>\n    </tr>\n    <tr>\n      <th>80</th>\n      <td>2019-09-11</td>\n      <td>002-001</td>\n      <td>N</td>\n      <td>533</td>\n      <td>34</td>\n      <td>11726</td>\n      <td>1</td>\n      <td>135.98</td>\n      <td>135.98</td>\n      <td>2019-09-11 15:51:00</td>\n      <td>2019-09-11 15:54:41</td>\n      <td>2019-09-11 15:55:54</td>\n      <td>13</td>\n      <td>5.0</td>\n      <td>6.0</td>\n      <td>00:01:13</td>\n      <td>00:04:54</td>\n      <td>False</td>\n      <td>False</td>\n      <td>False</td>\n      <td>True</td>\n    </tr>\n    <tr>\n      <th>81</th>\n      <td>2019-09-11</td>\n      <td>002-001</td>\n      <td>N</td>\n      <td>533</td>\n      <td>34</td>\n      <td>99396</td>\n      <td>1</td>\n      <td>136.41</td>\n      <td>136.41</td>\n      <td>2019-09-11 15:55:00</td>\n      <td>2019-09-11 15:58:55</td>\n      <td>NaT</td>\n      <td>13</td>\n      <td>6.0</td>\n      <td>6.0</td>\n      <td>NaT</td>\n      <td>00:03:55</td>\n      <td>False</td>\n      <td>False</td>\n      <td>False</td>\n      <td>True</td>\n    </tr>\n    <tr>\n      <th>82</th>\n      <td>2019-09-11</td>\n      <td>002-001</td>\n      <td>N</td>\n      <td>533</td>\n      <td>2</td>\n      <td>99396</td>\n      <td>1</td>\n      <td>136.49</td>\n      <td>136.49</td>\n      <td>2019-09-11 15:55:00</td>\n      <td>2019-09-11 15:58:55</td>\n      <td>2019-09-11 16:01:36</td>\n      <td>14</td>\n      <td>1.0</td>\n      <td>8.0</td>\n      <td>00:02:41</td>\n      <td>00:06:36</td>\n      <td>False</td>\n      <td>False</td>\n      <td>True</td>\n      <td>False</td>\n    </tr>\n    <tr>\n      <th>83</th>\n      <td>2019-09-11</td>\n      <td>002-001</td>\n      <td>N</td>\n      <td>533</td>\n      <td>2</td>\n      <td>56239</td>\n      <td>1</td>\n      <td>138.32</td>\n      <td>138.32</td>\n      <td>2019-09-11 16:10:00</td>\n      <td>2019-09-11 16:18:20</td>\n      <td>2019-09-11 16:19:06</td>\n      <td>14</td>\n      <td>2.0</td>\n      <td>8.0</td>\n      <td>00:00:46</td>\n      <td>00:09:06</td>\n      <td>False</td>\n      <td>False</td>\n      <td>True</td>\n      <td>False</td>\n    </tr>\n    <tr>\n      <th>84</th>\n      <td>2019-09-11</td>\n      <td>002-001</td>\n      <td>N</td>\n      <td>533</td>\n      <td>2</td>\n      <td>95226</td>\n      <td>1</td>\n      <td>140.07</td>\n      <td>140.07</td>\n      <td>2019-09-11 16:19:00</td>\n      <td>2019-09-11 16:26:27</td>\n      <td>2019-09-11 16:28:07</td>\n      <td>14</td>\n      <td>3.0</td>\n      <td>8.0</td>\n      <td>00:01:40</td>\n      <td>00:09:07</td>\n      <td>False</td>\n      <td>False</td>\n      <td>True</td>\n      <td>False</td>\n    </tr>\n    <tr>\n      <th>85</th>\n      <td>2019-09-11</td>\n      <td>002-001</td>\n      <td>N</td>\n      <td>533</td>\n      <td>2</td>\n      <td>45506</td>\n      <td>1</td>\n      <td>141.58</td>\n      <td>141.58</td>\n      <td>2019-09-11 16:26:00</td>\n      <td>2019-09-11 16:36:21</td>\n      <td>2019-09-11 16:37:26</td>\n      <td>14</td>\n      <td>4.0</td>\n      <td>8.0</td>\n      <td>00:01:05</td>\n      <td>00:11:26</td>\n      <td>False</td>\n      <td>False</td>\n      <td>True</td>\n      <td>False</td>\n    </tr>\n    <tr>\n      <th>86</th>\n      <td>2019-09-11</td>\n      <td>002-001</td>\n      <td>N</td>\n      <td>533</td>\n      <td>2</td>\n      <td>10013</td>\n      <td>1</td>\n      <td>144.29</td>\n      <td>144.29</td>\n      <td>2019-09-11 16:40:00</td>\n      <td>2019-09-11 16:53:13</td>\n      <td>2019-09-11 16:53:13</td>\n      <td>14</td>\n      <td>5.0</td>\n      <td>8.0</td>\n      <td>00:00:00</td>\n      <td>00:13:13</td>\n      <td>False</td>\n      <td>False</td>\n      <td>True</td>\n      <td>False</td>\n    </tr>\n    <tr>\n      <th>87</th>\n      <td>2019-09-11</td>\n      <td>002-001</td>\n      <td>N</td>\n      <td>533</td>\n      <td>2</td>\n      <td>10013</td>\n      <td>1</td>\n      <td>144.39</td>\n      <td>144.39</td>\n      <td>2019-09-11 16:45:00</td>\n      <td>2019-09-11 16:53:13</td>\n      <td>2019-09-11 16:54:52</td>\n      <td>14</td>\n      <td>6.0</td>\n      <td>8.0</td>\n      <td>00:01:39</td>\n      <td>00:09:52</td>\n      <td>False</td>\n      <td>False</td>\n      <td>True</td>\n      <td>False</td>\n    </tr>\n    <tr>\n      <th>88</th>\n      <td>2019-09-11</td>\n      <td>002-001</td>\n      <td>N</td>\n      <td>533</td>\n      <td>2</td>\n      <td>94709</td>\n      <td>1</td>\n      <td>147.35</td>\n      <td>147.35</td>\n      <td>2019-09-11 17:00:00</td>\n      <td>2019-09-11 17:11:10</td>\n      <td>2019-09-11 17:11:41</td>\n      <td>14</td>\n      <td>7.0</td>\n      <td>8.0</td>\n      <td>00:00:31</td>\n      <td>00:11:41</td>\n      <td>False</td>\n      <td>False</td>\n      <td>True</td>\n      <td>False</td>\n    </tr>\n    <tr>\n      <th>89</th>\n      <td>2019-09-11</td>\n      <td>002-001</td>\n      <td>N</td>\n      <td>533</td>\n      <td>2</td>\n      <td>94793</td>\n      <td>1</td>\n      <td>148.57</td>\n      <td>148.57</td>\n      <td>2019-09-11 17:07:00</td>\n      <td>2019-09-11 17:17:49</td>\n      <td>NaT</td>\n      <td>14</td>\n      <td>8.0</td>\n      <td>8.0</td>\n      <td>NaT</td>\n      <td>00:10:49</td>\n      <td>False</td>\n      <td>False</td>\n      <td>True</td>\n      <td>False</td>\n    </tr>\n    <tr>\n      <th>90</th>\n      <td>2019-09-11</td>\n      <td>002-001</td>\n      <td>S</td>\n      <td>533</td>\n      <td>2</td>\n      <td>94793</td>\n      <td>1</td>\n      <td>148.65</td>\n      <td>148.65</td>\n      <td>2019-09-11 17:13:00</td>\n      <td>2019-09-11 17:17:49</td>\n      <td>2019-09-11 17:18:08</td>\n      <td>15</td>\n      <td>1.0</td>\n      <td>6.0</td>\n      <td>00:00:19</td>\n      <td>00:05:08</td>\n      <td>False</td>\n      <td>False</td>\n      <td>True</td>\n      <td>False</td>\n    </tr>\n    <tr>\n      <th>91</th>\n      <td>2019-09-11</td>\n      <td>002-001</td>\n      <td>S</td>\n      <td>533</td>\n      <td>2</td>\n      <td>10059</td>\n      <td>2</td>\n      <td>151.38</td>\n      <td>151.45</td>\n      <td>2019-09-11 17:29:00</td>\n      <td>2019-09-11 17:31:46</td>\n      <td>2019-09-11 17:32:58</td>\n      <td>15</td>\n      <td>2.0</td>\n      <td>6.0</td>\n      <td>00:01:12</td>\n      <td>00:03:58</td>\n      <td>False</td>\n      <td>False</td>\n      <td>False</td>\n      <td>True</td>\n    </tr>\n    <tr>\n      <th>92</th>\n      <td>2019-09-11</td>\n      <td>002-001</td>\n      <td>S</td>\n      <td>533</td>\n      <td>2</td>\n      <td>45517</td>\n      <td>1</td>\n      <td>154.31</td>\n      <td>154.31</td>\n      <td>2019-09-11 17:42:00</td>\n      <td>2019-09-11 17:46:51</td>\n      <td>2019-09-11 17:47:47</td>\n      <td>15</td>\n      <td>3.0</td>\n      <td>6.0</td>\n      <td>00:00:56</td>\n      <td>00:05:47</td>\n      <td>False</td>\n      <td>False</td>\n      <td>True</td>\n      <td>False</td>\n    </tr>\n    <tr>\n      <th>93</th>\n      <td>2019-09-11</td>\n      <td>002-001</td>\n      <td>S</td>\n      <td>533</td>\n      <td>2</td>\n      <td>85927</td>\n      <td>1</td>\n      <td>155.80</td>\n      <td>155.80</td>\n      <td>2019-09-11 17:49:00</td>\n      <td>2019-09-11 17:52:20</td>\n      <td>2019-09-11 17:52:40</td>\n      <td>15</td>\n      <td>4.0</td>\n      <td>6.0</td>\n      <td>00:00:20</td>\n      <td>00:03:40</td>\n      <td>False</td>\n      <td>False</td>\n      <td>False</td>\n      <td>True</td>\n    </tr>\n    <tr>\n      <th>94</th>\n      <td>2019-09-11</td>\n      <td>002-001</td>\n      <td>S</td>\n      <td>533</td>\n      <td>2</td>\n      <td>56227</td>\n      <td>1</td>\n      <td>157.61</td>\n      <td>157.61</td>\n      <td>2019-09-11 17:58:00</td>\n      <td>2019-09-11 17:59:25</td>\n      <td>2019-09-11 18:00:33</td>\n      <td>15</td>\n      <td>5.0</td>\n      <td>6.0</td>\n      <td>00:01:08</td>\n      <td>00:02:33</td>\n      <td>False</td>\n      <td>False</td>\n      <td>False</td>\n      <td>True</td>\n    </tr>\n    <tr>\n      <th>95</th>\n      <td>2019-09-11</td>\n      <td>002-001</td>\n      <td>S</td>\n      <td>533</td>\n      <td>2</td>\n      <td>79973</td>\n      <td>1</td>\n      <td>NaN</td>\n      <td>NaN</td>\n      <td>2019-09-11 18:05:00</td>\n      <td>NaT</td>\n      <td>NaT</td>\n      <td>15</td>\n      <td>6.0</td>\n      <td>6.0</td>\n      <td>NaT</td>\n      <td>NaT</td>\n      <td>True</td>\n      <td>False</td>\n      <td>False</td>\n      <td>False</td>\n    </tr>\n    <tr>\n      <th>96</th>\n      <td>2019-09-11</td>\n      <td>002-001</td>\n      <td>S</td>\n      <td>533</td>\n      <td>34</td>\n      <td>79973</td>\n      <td>1</td>\n      <td>NaN</td>\n      <td>NaN</td>\n      <td>2019-09-11 18:05:00</td>\n      <td>NaT</td>\n      <td>NaT</td>\n      <td>16</td>\n      <td>1.0</td>\n      <td>4.0</td>\n      <td>NaT</td>\n      <td>NaT</td>\n      <td>True</td>\n      <td>False</td>\n      <td>False</td>\n      <td>False</td>\n    </tr>\n    <tr>\n      <th>97</th>\n      <td>2019-09-11</td>\n      <td>002-001</td>\n      <td>S</td>\n      <td>533</td>\n      <td>34</td>\n      <td>11727</td>\n      <td>1</td>\n      <td>159.84</td>\n      <td>159.84</td>\n      <td>2019-09-11 18:14:00</td>\n      <td>2019-09-11 18:14:52</td>\n      <td>2019-09-11 18:15:25</td>\n      <td>16</td>\n      <td>2.0</td>\n      <td>4.0</td>\n      <td>00:00:33</td>\n      <td>00:01:25</td>\n      <td>False</td>\n      <td>False</td>\n      <td>False</td>\n      <td>True</td>\n    </tr>\n    <tr>\n      <th>98</th>\n      <td>2019-09-11</td>\n      <td>002-001</td>\n      <td>S</td>\n      <td>533</td>\n      <td>34</td>\n      <td>82583</td>\n      <td>1</td>\n      <td>162.20</td>\n      <td>162.20</td>\n      <td>2019-09-11 18:21:00</td>\n      <td>2019-09-11 18:22:59</td>\n      <td>2019-09-11 18:23:35</td>\n      <td>16</td>\n      <td>3.0</td>\n      <td>4.0</td>\n      <td>00:00:36</td>\n      <td>00:02:35</td>\n      <td>False</td>\n      <td>False</td>\n      <td>False</td>\n      <td>True</td>\n    </tr>\n    <tr>\n      <th>99</th>\n      <td>2019-09-11</td>\n      <td>002-001</td>\n      <td>S</td>\n      <td>533</td>\n      <td>34</td>\n      <td>99166</td>\n      <td>1</td>\n      <td>164.07</td>\n      <td>164.07</td>\n      <td>2019-09-11 18:30:00</td>\n      <td>2019-09-11 18:31:49</td>\n      <td>NaT</td>\n      <td>16</td>\n      <td>4.0</td>\n      <td>4.0</td>\n      <td>NaT</td>\n      <td>00:01:49</td>\n      <td>False</td>\n      <td>False</td>\n      <td>False</td>\n      <td>True</td>\n    </tr>\n    <tr>\n      <th>100</th>\n      <td>2019-09-11</td>\n      <td>002-001</td>\n      <td>N</td>\n      <td>533</td>\n      <td>34</td>\n      <td>99166</td>\n      <td>1</td>\n      <td>164.16</td>\n      <td>164.16</td>\n      <td>2019-09-11 18:43:00</td>\n      <td>2019-09-11 18:31:49</td>\n      <td>2019-09-11 18:44:14</td>\n      <td>17</td>\n      <td>1.0</td>\n      <td>5.0</td>\n      <td>00:12:25</td>\n      <td>00:01:14</td>\n      <td>False</td>\n      <td>False</td>\n      <td>False</td>\n      <td>True</td>\n    </tr>\n    <tr>\n      <th>101</th>\n      <td>2019-09-11</td>\n      <td>002-001</td>\n      <td>N</td>\n      <td>533</td>\n      <td>34</td>\n      <td>82589</td>\n      <td>1</td>\n      <td>NaN</td>\n      <td>NaN</td>\n      <td>2019-09-11 18:54:00</td>\n      <td>NaT</td>\n      <td>NaT</td>\n      <td>17</td>\n      <td>2.0</td>\n      <td>5.0</td>\n      <td>NaT</td>\n      <td>NaT</td>\n      <td>True</td>\n      <td>False</td>\n      <td>False</td>\n      <td>False</td>\n    </tr>\n    <tr>\n      <th>102</th>\n      <td>2019-09-11</td>\n      <td>002-001</td>\n      <td>N</td>\n      <td>533</td>\n      <td>34</td>\n      <td>11726</td>\n      <td>1</td>\n      <td>168.29</td>\n      <td>168.29</td>\n      <td>2019-09-11 19:02:00</td>\n      <td>2019-09-11 19:04:06</td>\n      <td>2019-09-11 19:04:26</td>\n      <td>17</td>\n      <td>3.0</td>\n      <td>5.0</td>\n      <td>00:00:20</td>\n      <td>00:02:26</td>\n      <td>False</td>\n      <td>False</td>\n      <td>False</td>\n      <td>True</td>\n    </tr>\n    <tr>\n      <th>103</th>\n      <td>2019-09-11</td>\n      <td>002-001</td>\n      <td>N</td>\n      <td>533</td>\n      <td>34</td>\n      <td>99396</td>\n      <td>1</td>\n      <td>168.80</td>\n      <td>168.80</td>\n      <td>2019-09-11 19:05:00</td>\n      <td>2019-09-11 19:06:47</td>\n      <td>2019-09-11 19:07:28</td>\n      <td>17</td>\n      <td>4.0</td>\n      <td>5.0</td>\n      <td>00:00:41</td>\n      <td>00:02:28</td>\n      <td>False</td>\n      <td>False</td>\n      <td>False</td>\n      <td>True</td>\n    </tr>\n    <tr>\n      <th>104</th>\n      <td>2019-09-11</td>\n      <td>002-001</td>\n      <td>N</td>\n      <td>533</td>\n      <td>34</td>\n      <td>81226</td>\n      <td>1</td>\n      <td>169.18</td>\n      <td>169.18</td>\n      <td>2019-09-11 19:07:00</td>\n      <td>2019-09-11 19:09:30</td>\n      <td>NaT</td>\n      <td>17</td>\n      <td>5.0</td>\n      <td>5.0</td>\n      <td>NaT</td>\n      <td>00:02:30</td>\n      <td>False</td>\n      <td>False</td>\n      <td>False</td>\n      <td>True</td>\n    </tr>\n    <tr>\n      <th>105</th>\n      <td>2019-09-11</td>\n      <td>002-001</td>\n      <td>N</td>\n      <td>533</td>\n      <td>34</td>\n      <td>GARA</td>\n      <td>1</td>\n      <td>170.56</td>\n      <td>170.56</td>\n      <td>2019-09-11 19:16:00</td>\n      <td>2019-09-11 19:16:45</td>\n      <td>2019-09-11 19:16:45</td>\n      <td>17</td>\n      <td>NaN</td>\n      <td>5.0</td>\n      <td>00:00:00</td>\n      <td>00:00:45</td>\n      <td>False</td>\n      <td>False</td>\n      <td>False</td>\n      <td>True</td>\n    </tr>\n  </tbody>\n</table>\n</div>"
     },
     "metadata": {},
     "execution_count": 40
    }
   ],
   "source": [
    "adh_routes[(adh_routes.vehicle_id=='533') & (adh_routes.service_date=='2019-09-11')]"
   ]
  },
  {
   "cell_type": "code",
   "execution_count": 41,
   "metadata": {},
   "outputs": [],
   "source": [
    "#######################################\n",
    "###\n",
    "### stops\n",
    "###\n",
    "#######################################"
   ]
  },
  {
   "cell_type": "code",
   "execution_count": null,
   "metadata": {},
   "outputs": [],
   "source": []
  },
  {
   "cell_type": "code",
   "execution_count": 42,
   "metadata": {},
   "outputs": [],
   "source": [
    "# def wrangle_stops(source_file, actv_date='20_04'):\n",
    "    \n",
    "#     keep_cols = [\n",
    "#         'stop_id', 'stop_name', 'stop_lat', 'stop_lon'\n",
    "#     ]\n",
    "    \n",
    "#     gdf = pd.read_csv(source_file)\n",
    "#     gdf.stop_code = gdf.stop_code.apply(str)\n",
    "#     gdf.stop_id = gdf.stop_id.apply(str)\n",
    "#     gdf = gdf.astype({'stop_code':'string', 'stop_id':'string', 'stop_name':'string'})\n",
    "#     gdf.set_index('stop_code', inplace=True)\n",
    "#     gdf = gdf[keep_cols]\n",
    "#     gdf = gpd.GeoDataFrame(\n",
    "#         gdf,\n",
    "#         geometry = gpd.points_from_xy(gdf.stop_lon, gdf.stop_lat),\n",
    "#         crs={'epsg:4326'}\n",
    "#     )\n",
    "#     # gdf.stop_id = gdf.stop_id.apply(str)\n",
    "#     gdf['actv_' + str(actv_date)] = 1\n",
    "#     return gdf\n"
   ]
  },
  {
   "cell_type": "code",
   "execution_count": 43,
   "metadata": {},
   "outputs": [],
   "source": [
    "#######################################\n",
    "###\n",
    "### stops\n",
    "###\n",
    "### stops adh\n",
    "###\n",
    "#######################################"
   ]
  },
  {
   "cell_type": "code",
   "execution_count": null,
   "metadata": {},
   "outputs": [],
   "source": []
  },
  {
   "cell_type": "code",
   "execution_count": 44,
   "metadata": {
    "tags": []
   },
   "outputs": [],
   "source": [
    "# gdf_stops_adh['adh_stop'] = 1\n",
    "# gdf_stops_adh = gdf_stops_adh.astype({'adh_stop':'int64'})\n",
    "# show_df(gdf_stops_adh)\n"
   ]
  },
  {
   "cell_type": "code",
   "execution_count": 45,
   "metadata": {
    "tags": []
   },
   "outputs": [],
   "source": [
    "# gdf_stops_adh[gdf_stops_adh.stop_lat==0].stop_id.to_list()"
   ]
  },
  {
   "cell_type": "code",
   "execution_count": 46,
   "metadata": {
    "tags": []
   },
   "outputs": [],
   "source": [
    "# gdf_stops = gdf_stops_adh[gdf_stops_adh.stop_lat != False].drop(columns='stops')\n",
    "# show_df(gdf_stops)"
   ]
  },
  {
   "cell_type": "code",
   "execution_count": 47,
   "metadata": {},
   "outputs": [],
   "source": [
    "#######################################\n",
    "###\n",
    "### stops\n",
    "###\n",
    "### stops 201909\n",
    "###\n",
    "#######################################"
   ]
  },
  {
   "cell_type": "code",
   "execution_count": null,
   "metadata": {},
   "outputs": [],
   "source": []
  },
  {
   "cell_type": "code",
   "execution_count": 48,
   "metadata": {
    "tags": []
   },
   "outputs": [],
   "source": [
    "# gdf_stops_201909 = wrangle_stops(files['stops_201909'], actv_date='19_09')\n",
    "# gdf_stops_201909 = gdf_stops_201909.join(gdf_stops_adh[['adh_stop']], how='left')\n",
    "# gdf_stops_201909 = gdf_stops_201909.join(gdf_stops[['adh_stop']], how='left', rsuffix='2')\n",
    "\n",
    "# gdf_stops_201909.adh_stop.fillna(0, inplace=True)\n",
    "# gdf_stops_201909.adh_stop2.fillna(0, inplace=True)\n",
    "\n",
    "# print('*** gdf_stops_201909 ***\\n')\n",
    "# print(gdf_stops_201909.info())\n",
    "# print('\\nadh stops: ', gdf_stops_201909.adh_stop.sum())\n",
    "# print('\\nadh2 stops:', gdf_stops_201909.adh_stop2.sum())\n",
    "# gdf_stops_201909.head()"
   ]
  },
  {
   "cell_type": "code",
   "execution_count": 49,
   "metadata": {},
   "outputs": [],
   "source": [
    "#######################################\n",
    "###\n",
    "### stops\n",
    "###\n",
    "### stops 200404\n",
    "###\n",
    "#######################################"
   ]
  },
  {
   "cell_type": "code",
   "execution_count": 50,
   "metadata": {
    "tags": []
   },
   "outputs": [],
   "source": [
    "# gdf_stops = gdf_stops.join(gdf_stops_201909['actv_19_09'], how='inner')\n",
    "# show_df(gdf_stops)"
   ]
  },
  {
   "cell_type": "code",
   "execution_count": 51,
   "metadata": {
    "tags": []
   },
   "outputs": [],
   "source": [
    "# gdf_stops.actv_19_09.sum()\n",
    "# gdf_stops_19_append = gdf_stops_201909[gdf_stops_201909.adh_stop2==0]\n",
    "# gdf_stops_19_append = gdf_stops_19_append[gdf_stops.columns]\n",
    "# show_df(gdf_stops_19_append)"
   ]
  },
  {
   "cell_type": "code",
   "execution_count": 52,
   "metadata": {
    "tags": []
   },
   "outputs": [],
   "source": [
    "# gdf_stops = gdf_stops.append(gdf_stops_19_append, verify_integrity=True)\n"
   ]
  },
  {
   "cell_type": "code",
   "execution_count": 53,
   "metadata": {
    "tags": []
   },
   "outputs": [],
   "source": [
    "# gdf_stops=gdf_stops.astype({'adh_stop':'int64'})\n",
    "# print(gdf_stops.adh_stop.sum())\n",
    "# show_df(gdf_stops)"
   ]
  },
  {
   "cell_type": "code",
   "execution_count": null,
   "metadata": {},
   "outputs": [],
   "source": []
  },
  {
   "cell_type": "code",
   "execution_count": 54,
   "metadata": {
    "tags": []
   },
   "outputs": [],
   "source": [
    "# gdf_stops_202004 = wrangle_stops(files['stops_202004'], actv_date='20_04')\n",
    "\n",
    "# print(print(gdf_stops_202004.)\n",
    "# gdf_stops_202004.head()info())"
   ]
  },
  {
   "cell_type": "code",
   "execution_count": 55,
   "metadata": {
    "tags": []
   },
   "outputs": [],
   "source": [
    "# gdf_stops = gdf_stops_202004.join(gdf_stops_201909[['actv_19_09']], how='left')\n",
    "# gdf_stops.actv_19_09 = gdf_stops.actv_19_09.fillna(0)\n",
    "# gdf_stops.info()"
   ]
  },
  {
   "cell_type": "code",
   "execution_count": null,
   "metadata": {},
   "outputs": [],
   "source": []
  },
  {
   "cell_type": "code",
   "execution_count": 56,
   "metadata": {
    "tags": []
   },
   "outputs": [],
   "source": [
    "# adh_join = gdf_stops_adh.join(gdf_stops_201909[['stop_id']], how='left', on='stop_id', rsuffix='_all')\n",
    "# adh_join.info()"
   ]
  },
  {
   "cell_type": "code",
   "execution_count": null,
   "metadata": {},
   "outputs": [],
   "source": []
  },
  {
   "cell_type": "code",
   "execution_count": 57,
   "metadata": {},
   "outputs": [],
   "source": [
    "# gdf_stops_202004[gdf_stops_202004.stop_id == '98013']"
   ]
  },
  {
   "cell_type": "code",
   "execution_count": 58,
   "metadata": {},
   "outputs": [],
   "source": [
    "# adherence_stops_cols = ['StopNumber','Location','Latitude','Longitude','geometry']"
   ]
  },
  {
   "cell_type": "code",
   "execution_count": 59,
   "metadata": {},
   "outputs": [],
   "source": [
    "#######################################\n",
    "###\n",
    "### stops - all\n",
    "###\n",
    "#######################################"
   ]
  },
  {
   "cell_type": "code",
   "execution_count": 60,
   "metadata": {
    "tags": []
   },
   "outputs": [],
   "source": [
    "# adh_stops_merge = gdf_stops_adh[['geometry', 'stop_id']].rename(columns={'geometry': 'geometry_adh', 'stop_id': 'stop_id_adh'})\n",
    "# all_stops = gdf_stops_202004[['geometry','stop_id']].join(gdf_stops_201909[['geometry','stop_id']], how='outer', lsuffix='_20', rsuffix='_19')\n",
    "# all_stops = all_stops.join(adh_stops_merge, how='outer')\n",
    "\n",
    "# all_stops['actv_20_04'] = all_stops.stop_id_20.isna()==False\n",
    "# all_stops['actv_19_09'] = all_stops.stop_id_19.isna()==False\n",
    "# all_stops['actv_adh'] = all_stops.stop_id_adh.isna() == False\n",
    "# all_stops['same_actv'] = all_stops.actv_20_04.astype('int32') + all_stops.actv_19_09.astype('int32') + all_stops.actv_adh.astype('int32')\n",
    "\n",
    "# # all_stops['same_name'] = all_stops.stop_name_20 == all_stops.stop_name_19\n",
    "# all_stops['same_geom'] = all_stops.geometry_20 == all_stops.geometry_19\n",
    "# all_stops['geom_adh_20'] = all_stops.geometry_20 == all_stops.geometry_adh\n",
    "# all_stops['geom_adh_19'] = all_stops.geometry_19 == all_stops.geometry_adh\n",
    "# all_stops['same_lat'] = all_stops.stop_lat_20 == all_stops.stop_lat_19\n",
    "# all_stops['same_lon'] = all_stops.stop_lon_20 == all_stops.stop_lon_19\n",
    "# all_stops['same_wheel'] = all_stops.wheelchair_boarding_20 == all_stops.wheelchair_boarding_19\n",
    "# all_stops.info()"
   ]
  },
  {
   "cell_type": "code",
   "execution_count": 61,
   "metadata": {
    "tags": []
   },
   "outputs": [],
   "source": [
    "# adh_stops_chk = all_stops[all_stops.actv_adh]\n",
    "# adh_stops_chk[adh_stops_chk.same_actv == 1]\n",
    "# adh_stops_chk[all_stops.columns]\n",
    "# adh_stops_chk[adh_stops_chk.same_actv == 1]\n",
    "# adh_mask = adh_stops_chk.same_actv < 3\n",
    "# adh_stops_chk[adh_mask]\n",
    "# adh_stops_chk.index"
   ]
  },
  {
   "cell_type": "code",
   "execution_count": 62,
   "metadata": {
    "tags": []
   },
   "outputs": [],
   "source": [
    "# print(adh_stops_merge.index.to_list()[:20])\n",
    "# print(all_stops.index.to_list()[:20])\n"
   ]
  },
  {
   "cell_type": "code",
   "execution_count": 63,
   "metadata": {
    "tags": []
   },
   "outputs": [],
   "source": [
    "# same_stops = all_stops[all_stops['same_actv']]\n",
    "# same_stops.info()"
   ]
  },
  {
   "cell_type": "code",
   "execution_count": 64,
   "metadata": {},
   "outputs": [],
   "source": [
    "# same_stops[['same_geom']].sum()"
   ]
  },
  {
   "cell_type": "code",
   "execution_count": 65,
   "metadata": {},
   "outputs": [],
   "source": [
    "# all_stops[all_stops.same_geom == False]"
   ]
  },
  {
   "cell_type": "code",
   "execution_count": 66,
   "metadata": {
    "tags": []
   },
   "outputs": [],
   "source": [
    "# gdf_stops_202004_blocks[['BLOCK','geometry']].info()"
   ]
  },
  {
   "cell_type": "code",
   "execution_count": null,
   "metadata": {},
   "outputs": [],
   "source": []
  },
  {
   "cell_type": "code",
   "execution_count": 67,
   "metadata": {},
   "outputs": [],
   "source": [
    "# def buffer_stops(stops_gdf, geo_col='geometry', buffer=.01):\n",
    "\n",
    "#     gdf = stops_gdf.copy()\n",
    "    \n",
    "#     gdf['geometry'] = gdf.buffer(buffer)\n",
    "#     gdf = gdf.set_geometry('geometry')\n",
    "\n",
    "#     return gdf"
   ]
  },
  {
   "cell_type": "code",
   "execution_count": 68,
   "metadata": {
    "tags": []
   },
   "outputs": [],
   "source": [
    "# gdf_stops_buff = buffer_stops(gdf_stops[['stop_id','geometry']], buffer=buffer_in_degrees)\n",
    "# show_df(gdf_stops_buff)"
   ]
  },
  {
   "cell_type": "code",
   "execution_count": 69,
   "metadata": {},
   "outputs": [],
   "source": [
    "# def match_stops(stops_gdf, area_gdf, stops_geo='geometry', area_geo='geometry'):\n",
    "#     sidx_name = stops_gdf.index.name\n",
    "#     aidx_name = area_gdf.index.name\n",
    "#     sidx_geo = sidx_name + '_geo'\n",
    "#     aidx_geo = aidx_name + 'geo'\n",
    "#     sgdf = stops_gdf[[stops_geo]].copy().reset_index()\n",
    "#     agdf = area_gdf[[area_geo]].copy().reset_index()\n",
    "    \n",
    "#     return sidx_name\n",
    "\n",
    "# check_match = match_stops(area_gdf=gdf_blocks[['geometry']], stops_gdf=gdf_stops_202004_buff)\n",
    "# check_match"
   ]
  },
  {
   "cell_type": "code",
   "execution_count": 70,
   "metadata": {
    "tags": []
   },
   "outputs": [],
   "source": [
    "# # gdf_stops_blocks = gpd.sjoin(gdf_blocks[['BLOCK','geometry']], gdf_stops_202004_buff, how='inner', op='intersects')\n",
    "# gdf_stops_fips = gpd.sjoin(gdf_blocks[['BLOCK','BLOCKGROUP','TRACT','geometry']], gdf_stops_buff, how='inner', op='intersects')\n",
    "# gdf_stops_fips = gdf_stops_fips[['BLOCK','BLOCKGROUP','TRACT','stop_id','geometry']]\n",
    "# # gdf_stops_blocks = gdf_stops_blocks.rename(columns={'index_right':'stop_id'})\n",
    "# show_df(gdf_stops_fips)"
   ]
  },
  {
   "cell_type": "code",
   "execution_count": 71,
   "metadata": {
    "tags": []
   },
   "outputs": [],
   "source": [
    "# block_stops = pd.DataFrame(gdf_stops_fips.BLOCK.value_counts()).rename(columns={'BLOCK':'stop_count'})\n",
    "# block_stops.index.name = 'BLOCK'\n",
    "# block_stops = block_stops.merge(gdf_blocks, on=['BLOCK'])\n",
    "# print(block_stops.info())\n",
    "# print('\\nstop count:',block_stops.stop_count.sum())\n",
    "# # print(block_stops.head())\n",
    "# # print(block_stops.tail())\n",
    "# block_stops.head().append(block_stops.tail())\n"
   ]
  },
  {
   "cell_type": "code",
   "execution_count": null,
   "metadata": {},
   "outputs": [],
   "source": []
  },
  {
   "cell_type": "code",
   "execution_count": null,
   "metadata": {
    "tags": []
   },
   "outputs": [],
   "source": []
  },
  {
   "cell_type": "code",
   "execution_count": null,
   "metadata": {},
   "outputs": [],
   "source": []
  },
  {
   "cell_type": "code",
   "execution_count": 72,
   "metadata": {
    "tags": []
   },
   "outputs": [],
   "source": [
    "# gdf_groups_stops = gdf_stops_fips[['BLOCKGROUP','geometry']].dissolve(by='BLOCKGROUP', aggfunc='count')\n",
    "# show_df(gdf_groups_stops)"
   ]
  },
  {
   "cell_type": "code",
   "execution_count": null,
   "metadata": {},
   "outputs": [],
   "source": []
  },
  {
   "cell_type": "code",
   "execution_count": 73,
   "metadata": {
    "tags": []
   },
   "outputs": [],
   "source": [
    "# groups_stops = (gdf_stops_fips\n",
    "#     .groupby(['BLOCKGROUP','stop_id'])\n",
    "#     .agg({'TRACT':'count'})\n",
    "#     .reset_index()\n",
    "#     .groupby('BLOCKGROUP')\n",
    "#     .agg({'stop_id':'count'})\n",
    "#     .rename(columns={'stop_id':'stops'})\n",
    "# )\n",
    "# show_df(groups_stops)\n",
    "\n",
    "# group_stops = group_stops.group_by([BLOCKGROUP])"
   ]
  },
  {
   "cell_type": "code",
   "execution_count": 74,
   "metadata": {
    "tags": []
   },
   "outputs": [],
   "source": [
    "# groups_stops_col_drops=['index','stops']\n",
    "# gdf_groups_stops = gdf_groups_stops.drop(columns=[col for col in groups_stops_col_drops if col in gdf_groups_stops.columns])\n",
    "# gdf_groups_stops = gdf_groups_stops.merge(groups_stops, on='BLOCKGROUP', how='left')\n",
    "# # gdf_groups_stops.index.name='OBJECTID'\n",
    "# show_df(gdf_groups_stops)"
   ]
  },
  {
   "cell_type": "code",
   "execution_count": 75,
   "metadata": {
    "tags": []
   },
   "outputs": [],
   "source": [
    "# read_shp = gpd.read_file(files['group_stops'])\n",
    "# show_df(read_shp)"
   ]
  },
  {
   "cell_type": "code",
   "execution_count": 76,
   "metadata": {},
   "outputs": [],
   "source": [
    "# gdf_groups_stops.to_file(files['group_stops'])"
   ]
  },
  {
   "cell_type": "code",
   "execution_count": 77,
   "metadata": {},
   "outputs": [],
   "source": [
    "# fig, ax = plt.subplots(figsize=(20,20), facecolor='black')\n",
    "# ax.set_aspect('equal')\n",
    "# # ax.set_facecolor('#ff474c')\n",
    "# axbase = gplt.polyplot(gdf_counties, ax=ax, facecolor='lightgrey', edgecolor='red', linewidth=5)\n",
    "# gplt.polyplot(gdf_groups, ax=ax, facecolor='None', edgecolor='red', linewidth=.5)\n",
    "# # gdf_counties.plot()\n",
    "# read_shp.plot(column='stops', ax=ax, cmap='Reds', alpha=1.75)\n",
    "# plt.savefig('block_route_frequency.png')"
   ]
  },
  {
   "cell_type": "code",
   "execution_count": null,
   "metadata": {},
   "outputs": [],
   "source": []
  },
  {
   "cell_type": "code",
   "execution_count": 78,
   "metadata": {
    "tags": []
   },
   "outputs": [],
   "source": [
    "# group_stops = pd.DataFrame(gdf_stops_fips.BLOCKGROUP.value_counts()).rename(columns={'BLOCKGROUP':'stop_count'})\n",
    "# group_stops.index.name = 'BLOCKGROUP'\n",
    "# show_df(group_stops)"
   ]
  },
  {
   "cell_type": "code",
   "execution_count": null,
   "metadata": {},
   "outputs": [],
   "source": []
  },
  {
   "cell_type": "code",
   "execution_count": 79,
   "metadata": {},
   "outputs": [],
   "source": [
    "# stop_blocks = gdf_stops_blocks.stop_id.value_counts()\n",
    "# len(stop_blocks)"
   ]
  },
  {
   "cell_type": "code",
   "execution_count": null,
   "metadata": {
    "tags": []
   },
   "outputs": [],
   "source": []
  },
  {
   "cell_type": "code",
   "execution_count": 80,
   "metadata": {},
   "outputs": [],
   "source": [
    "# gdf_stops_blocks[['BLOCK','geometry']].head()"
   ]
  },
  {
   "cell_type": "code",
   "execution_count": 81,
   "metadata": {},
   "outputs": [],
   "source": [
    "# def wrangle_stops2(source_file, actv_date='20_04'):\n",
    "    \n",
    "#     keep_cols = [\n",
    "#         'stop_id', 'stop_name', 'stop_lat', 'stop_lon'\n",
    "#     ]\n",
    "    \n",
    "#     gdf = pd.read_csv(source_file)\n",
    "#     gdf.stop_code = gdf.stop_code.apply(str)\n",
    "#     gdf.stop_id = gdf.stop_id.apply(str)\n",
    "#     gdf = gdf.astype({'stop_code':'string', 'stop_id':'string', 'stop_name':'string'})\n",
    "#     gdf.set_index('stop_code', inplace=True)\n",
    "#     gdf = gdf[keep_cols]\n",
    "#     gdf = gpd.GeoDataFrame(\n",
    "#         gdf,\n",
    "#         geometry = gpd.points_from_xy(gdf.stop_lon, gdf.stop_lat),\n",
    "#         crs={'epsg:4326'}\n",
    "#     )\n",
    "#     # gdf.stop_id = gdf.stop_id.apply(str)\n",
    "#     gdf['actv_' + str(actv_date)] = 1\n",
    "#     return gdf\n"
   ]
  },
  {
   "cell_type": "code",
   "execution_count": 82,
   "metadata": {},
   "outputs": [],
   "source": [
    "# gdf_stops_201909 = wrangle_stops(files['stops_201909'], actv_date='19_09')\n",
    "# gdf_stops_201909 = gdf_stops_201909.join(gdf_stops_adh[['adh_stop']], how='left')\n",
    "# gdf_stops_201909 = gdf_stops_201909.join(gdf_stops[['adh_stop']], how='left', rsuffix='2')\n",
    "\n",
    "# gdf_stops_201909.adh_stop.fillna(0, inplace=True)\n",
    "# gdf_stops_201909.adh_stop2.fillna(0, inplace=True)\n",
    "\n",
    "# print('*** gdf_stops_201909 ***\\n')\n",
    "# print(gdf_stops_201909.info())\n",
    "# print('\\nadh stops: ', gdf_stops_201909.adh_stop.sum())\n",
    "# print('\\nadh2 stops:', gdf_stops_201909.adh_stop2.sum())\n",
    "# gdf_stops_201909.head()"
   ]
  },
  {
   "cell_type": "code",
   "execution_count": 83,
   "metadata": {
    "tags": []
   },
   "outputs": [],
   "source": [
    "# chktrips=pd.read_csv(files['trips_201909'])\n",
    "# show_df(chktrips)"
   ]
  },
  {
   "cell_type": "code",
   "execution_count": 84,
   "metadata": {
    "tags": []
   },
   "outputs": [],
   "source": [
    "# chkroutetrips=pd.DataFrame(chktrips.route_id.value_counts())\n",
    "# show_df(chkroutetrips)"
   ]
  },
  {
   "cell_type": "code",
   "execution_count": 85,
   "metadata": {
    "tags": []
   },
   "outputs": [],
   "source": [
    "# chkrouteservice=pd.DataFrame(chktrips.service_id.value_counts())\n",
    "# show_df(chkrouteservice)"
   ]
  },
  {
   "cell_type": "code",
   "execution_count": 86,
   "metadata": {
    "tags": []
   },
   "outputs": [],
   "source": [
    "# weekday_trip_ids = chktrips[chktrips.service_id == 1][['trip_id','route_id']]\n",
    "# show_df(weekday_trip_ids)"
   ]
  },
  {
   "cell_type": "code",
   "execution_count": null,
   "metadata": {},
   "outputs": [],
   "source": []
  },
  {
   "cell_type": "code",
   "execution_count": null,
   "metadata": {},
   "outputs": [],
   "source": []
  },
  {
   "cell_type": "code",
   "execution_count": 87,
   "metadata": {
    "tags": []
   },
   "outputs": [],
   "source": [
    "# ''\n",
    "# chkroutes=pd.read_csv(files['routes_201909'])\n",
    "# show_df(chkroutes)\n"
   ]
  },
  {
   "cell_type": "code",
   "execution_count": 88,
   "metadata": {
    "tags": []
   },
   "outputs": [],
   "source": [
    "# ''\n",
    "# chktimes=pd.read_csv(files['stop_times_201909'])\n",
    "# show_df(chktimes)"
   ]
  },
  {
   "cell_type": "code",
   "execution_count": 89,
   "metadata": {
    "tags": []
   },
   "outputs": [],
   "source": [
    "# chktimestops = pd.DataFrame(chktimes.stop_id.value_counts())\n",
    "# show_df(chktimestops)"
   ]
  },
  {
   "cell_type": "code",
   "execution_count": 90,
   "metadata": {
    "tags": []
   },
   "outputs": [],
   "source": [
    "# chktimetrips = pd.DataFrame(chktimes.trip_id.value_counts())\n",
    "# show_df(chktimetrips)"
   ]
  },
  {
   "cell_type": "code",
   "execution_count": 91,
   "metadata": {
    "tags": []
   },
   "outputs": [],
   "source": [
    "# trip_stops = chktimes[['trip_id','stop_id']]\n",
    "# show_df(trip_stops)"
   ]
  },
  {
   "cell_type": "code",
   "execution_count": 92,
   "metadata": {
    "tags": []
   },
   "outputs": [],
   "source": [
    "# weekday_trip_stops = trip_stops.merge(weekday_trip_ids, how='inner', on='trip_id', )\n",
    "# weekday_trip_stops['is_stop']=1\n",
    "# weekday_trip_stops.stop_id = weekday_trip_stops.stop_id.apply(str)\n",
    "# weekday_trip_stops = weekday_trip_stops.astype({'stop_id':'string'}\n",
    "# )\n",
    "# show_df(weekday_trip_stops)"
   ]
  },
  {
   "cell_type": "code",
   "execution_count": 93,
   "metadata": {
    "tags": []
   },
   "outputs": [],
   "source": [
    "# groups_stop_ids = (gdf_stops_fips\n",
    "#     .groupby(['BLOCKGROUP','stop_id'])\n",
    "#     .agg({'TRACT':'count'})\n",
    "#     .reset_index())\n",
    "# show_df(groups_stop_ids)"
   ]
  },
  {
   "cell_type": "code",
   "execution_count": 94,
   "metadata": {
    "tags": []
   },
   "outputs": [],
   "source": [
    "# trip_group_stops = groups_stop_ids.merge(weekday_trip_stops, how='inner', on='stop_id')\n",
    "# show_df(trip_group_stops)"
   ]
  },
  {
   "cell_type": "code",
   "execution_count": 95,
   "metadata": {},
   "outputs": [],
   "source": [
    "# trip_group_stops.trip_id.value_counts().count()"
   ]
  },
  {
   "cell_type": "code",
   "execution_count": 96,
   "metadata": {
    "tags": []
   },
   "outputs": [],
   "source": [
    "# group_trips = (trip_group_stops\n",
    "#     .groupby(['BLOCKGROUP','trip_id']).agg({'stop_id':'count'})\n",
    "#     .reset_index()\n",
    "#     .groupby('BLOCKGROUP').agg({'trip_id':'count'})\n",
    "#     .rename(columns={'trip_id':'trips'})\n",
    "# )\n",
    "# show_df(group_trips)"
   ]
  },
  {
   "cell_type": "code",
   "execution_count": 97,
   "metadata": {},
   "outputs": [],
   "source": [
    "# group_trips.to_csv('group_trips.csv')"
   ]
  },
  {
   "cell_type": "code",
   "execution_count": 98,
   "metadata": {
    "tags": []
   },
   "outputs": [],
   "source": [
    "# gdf_group_cents = gdf_groups_stops.centroid\n",
    "\n",
    "# print(type(gdf_group_cents))\n",
    "# print(gdf_group_cents.head())\n",
    "# # show_df(gdf_group_cents)"
   ]
  },
  {
   "cell_type": "code",
   "execution_count": 99,
   "metadata": {
    "tags": []
   },
   "outputs": [],
   "source": [
    "# gdf_group_trips_c = gpd.GeoDataFrame(gdf_group_cents,columns=['geometry'])\n",
    "# gdf_group_trips_c = gdf_group_trips_c.join(group_trips).reset_index()\n",
    "# show_df(gdf_group_trips_c)"
   ]
  },
  {
   "cell_type": "code",
   "execution_count": 100,
   "metadata": {},
   "outputs": [],
   "source": [
    "# gdf_group_trips_c.to_file('../data_files/gdf_group_trips_c.geojson',driver='GeoJSON')"
   ]
  },
  {
   "cell_type": "code",
   "execution_count": 101,
   "metadata": {
    "tags": []
   },
   "outputs": [],
   "source": [
    "# # gdf_group_trips_b = gdf_group_trips_c.drop(columns='geometry').merge(gdf_groups_stops, on='OBJECTID')\n",
    "# gdf_group_trips_b = gdf_group_trips_c.drop(columns='geometry').merge(gdf_groups_stops, on='BLOCKGROUP')\n",
    "# show_df(gdf_group_trips_b)"
   ]
  },
  {
   "cell_type": "code",
   "execution_count": 102,
   "metadata": {},
   "outputs": [],
   "source": [
    "# fig, ax = plt.subplots(figsize=(20,20), facecolor='black')\n",
    "# ax.set_aspect('equal')\n",
    "# # ax.set_facecolor('#ff474c')\n",
    "# axbase = gplt.polyplot(gdf_counties, ax=ax, facecolor='lightgrey', edgecolor='red', linewidth=5)\n",
    "# gplt.polyplot(gdf_groups, ax=ax, facecolor='None', edgecolor='red', linewidth=.5)\n",
    "# # gdf_counties.plot()\n",
    "# gdf_group_trips_b.plot(column='trips', ax=ax, cmap='Reds', alpha=1.75)\n",
    "# plt.savefig('trips_by_group.png')"
   ]
  },
  {
   "cell_type": "code",
   "execution_count": null,
   "metadata": {},
   "outputs": [],
   "source": []
  },
  {
   "cell_type": "code",
   "execution_count": 103,
   "metadata": {},
   "outputs": [],
   "source": [
    "#######################################\n",
    "###\n",
    "### via datathon 2020\n",
    "###\n",
    "### on time performance\n",
    "###\n",
    "#######################################"
   ]
  },
  {
   "cell_type": "code",
   "execution_count": 104,
   "metadata": {
    "tags": []
   },
   "outputs": [],
   "source": [
    "# df_otp = pd.read_csv(files['bus_otp_2020'])\n",
    "# df_otp = df_otp.astype({'ServiceDateTime':'datetime64','Route':'category','RouteName':'string'})\n",
    "# df_otp.OTP = df_otp.OTP / 100\n",
    "# show_df(df_otp)"
   ]
  },
  {
   "cell_type": "code",
   "execution_count": 105,
   "metadata": {},
   "outputs": [],
   "source": [
    "# df_otp.describe().T"
   ]
  },
  {
   "cell_type": "code",
   "execution_count": null,
   "metadata": {},
   "outputs": [],
   "source": []
  },
  {
   "cell_type": "code",
   "execution_count": 106,
   "metadata": {},
   "outputs": [],
   "source": [
    "# df_otp.columns"
   ]
  },
  {
   "cell_type": "code",
   "execution_count": null,
   "metadata": {},
   "outputs": [],
   "source": []
  },
  {
   "cell_type": "code",
   "execution_count": 107,
   "metadata": {},
   "outputs": [],
   "source": [
    "# df_otp.groupby(by='ServiceDateTime').count().head(14)"
   ]
  },
  {
   "cell_type": "code",
   "execution_count": null,
   "metadata": {},
   "outputs": [],
   "source": []
  },
  {
   "cell_type": "code",
   "execution_count": null,
   "metadata": {},
   "outputs": [],
   "source": []
  },
  {
   "cell_type": "code",
   "execution_count": null,
   "metadata": {},
   "outputs": [],
   "source": []
  },
  {
   "cell_type": "code",
   "execution_count": 108,
   "metadata": {},
   "outputs": [],
   "source": [
    "#######################################\n",
    "###\n",
    "### via datathon 2020\n",
    "###\n",
    "### fare box activity\n",
    "###\n",
    "#######################################"
   ]
  },
  {
   "cell_type": "code",
   "execution_count": 109,
   "metadata": {
    "tags": []
   },
   "outputs": [],
   "source": [
    "# df_fare = pd.read_csv(files['bus_fare_box_2020'], index_col=0)\n",
    "# show_df(df_fare)"
   ]
  },
  {
   "cell_type": "code",
   "execution_count": 110,
   "metadata": {},
   "outputs": [],
   "source": [
    "# df_fare.columns"
   ]
  },
  {
   "cell_type": "code",
   "execution_count": null,
   "metadata": {},
   "outputs": [],
   "source": []
  },
  {
   "cell_type": "code",
   "execution_count": 111,
   "metadata": {},
   "outputs": [],
   "source": [
    "#######################################\n",
    "###\n",
    "### via datathon 2020\n",
    "###\n",
    "### message logs\n",
    "###\n",
    "#######################################"
   ]
  },
  {
   "cell_type": "code",
   "execution_count": 112,
   "metadata": {
    "tags": []
   },
   "outputs": [],
   "source": [
    "# df_logs = pd.read_csv(files['message_logs_2020'])\n",
    "# show_df(df_logs)"
   ]
  },
  {
   "cell_type": "code",
   "execution_count": 113,
   "metadata": {},
   "outputs": [],
   "source": [
    "# df_logs.columns"
   ]
  },
  {
   "cell_type": "code",
   "execution_count": 113,
   "metadata": {},
   "outputs": [],
   "source": [
    "\n"
   ]
  },
  {
   "cell_type": "code",
   "execution_count": 114,
   "metadata": {},
   "outputs": [],
   "source": [
    "# df_logs.MESSAGE_TYPE_TEXT.value_counts()"
   ]
  },
  {
   "cell_type": "code",
   "execution_count": 115,
   "metadata": {},
   "outputs": [],
   "source": [
    "# df_logs.ADHERENCE.value_counts().describe()"
   ]
  },
  {
   "cell_type": "code",
   "execution_count": 116,
   "metadata": {
    "tags": []
   },
   "outputs": [],
   "source": [
    "# vehicle_ids = df_logs.VehicleNumber.value_counts()\n",
    "# print(len(vehicle_ids))\n",
    "# vehicle_ids.head(20)"
   ]
  },
  {
   "cell_type": "code",
   "execution_count": 117,
   "metadata": {},
   "outputs": [],
   "source": [
    "# df_logs[df_logs.VehicleNumber==450].head(20)"
   ]
  },
  {
   "cell_type": "code",
   "execution_count": 118,
   "metadata": {},
   "outputs": [],
   "source": [
    "#######################################\n",
    "###\n",
    "### via datathon 2020\n",
    "###\n",
    "### service miles\n",
    "###\n",
    "#######################################"
   ]
  },
  {
   "cell_type": "code",
   "execution_count": 119,
   "metadata": {
    "tags": []
   },
   "outputs": [],
   "source": [
    "# df_svc_miles = pd.read_csv(files['service_miles_2020'])\n",
    "# show_df(df_svc_miles)"
   ]
  },
  {
   "cell_type": "code",
   "execution_count": 120,
   "metadata": {},
   "outputs": [],
   "source": [
    "# df_svc_miles.columns\n"
   ]
  },
  {
   "cell_type": "code",
   "execution_count": null,
   "metadata": {},
   "outputs": [],
   "source": []
  },
  {
   "cell_type": "code",
   "execution_count": null,
   "metadata": {},
   "outputs": [],
   "source": []
  },
  {
   "cell_type": "code",
   "execution_count": 121,
   "metadata": {},
   "outputs": [],
   "source": [
    "#######################################\n",
    "###\n",
    "### via datathon 2020\n",
    "###\n",
    "### stop addresses\n",
    "###\n",
    "#######################################"
   ]
  },
  {
   "cell_type": "code",
   "execution_count": 122,
   "metadata": {
    "tags": []
   },
   "outputs": [],
   "source": [
    "# df_stop_addrs = pd.read_csv(files['stops_addr_2020'])\n",
    "# show_df(df_stop_addrs)"
   ]
  },
  {
   "cell_type": "code",
   "execution_count": 123,
   "metadata": {},
   "outputs": [],
   "source": [
    "# df_stop_addrs.columns"
   ]
  },
  {
   "cell_type": "code",
   "execution_count": null,
   "metadata": {},
   "outputs": [],
   "source": []
  },
  {
   "cell_type": "code",
   "execution_count": null,
   "metadata": {},
   "outputs": [],
   "source": []
  },
  {
   "cell_type": "code",
   "execution_count": 124,
   "metadata": {
    "tags": []
   },
   "outputs": [],
   "source": [
    "# block_pop = gdf_blocks[['BLOCK','BLOCKGROUP','POPULATION','GROUPPCT']].merge(block_stops.drop(columns=['BLOCKGROUP','POPULATION','GROUPPCT']), on='BLOCK', how='left')\n",
    "# block_pop.stop_count.fillna(0,inplace=True)\n",
    "# show_df(block_pop)"
   ]
  },
  {
   "cell_type": "code",
   "execution_count": 125,
   "metadata": {
    "tags": []
   },
   "outputs": [],
   "source": [
    "# block_pop_all = block_pop.POPULATION.sum()\n",
    "# block_pop_stop = block_pop.POPULATION[block_pop.stop_count > 0].sum()\n",
    "# block_pop_not = block_pop.POPULATION[block_pop.stop_count == 0].sum()\n",
    "# block_pop_stop_pct = block_pop_stop / block_pop_all\n",
    "# block_pop_not_pct = block_pop_not / block_pop_all\n",
    "\n",
    "# print('all:   ',block_pop_all)\n",
    "# print('stop:  ',block_pop_stop)\n",
    "# print('not:   ',block_pop_not)\n",
    "# print('stop%: ',block_pop_stop_pct)\n",
    "# print('not%:  ',block_pop_not_pct)"
   ]
  },
  {
   "cell_type": "code",
   "execution_count": 126,
   "metadata": {
    "tags": []
   },
   "outputs": [],
   "source": [
    "# rdf_name=pd.read_csv(files['acs5_name']).set_index('block_group')\n",
    "# show_df(rdf_name)"
   ]
  },
  {
   "cell_type": "code",
   "execution_count": null,
   "metadata": {},
   "outputs": [],
   "source": []
  },
  {
   "cell_type": "code",
   "execution_count": null,
   "metadata": {},
   "outputs": [],
   "source": []
  },
  {
   "cell_type": "code",
   "execution_count": null,
   "metadata": {},
   "outputs": [],
   "source": []
  }
 ],
 "metadata": {
  "kernelspec": {
   "display_name": "Python 3",
   "language": "python",
   "name": "python3"
  },
  "language_info": {
   "codemirror_mode": {
    "name": "ipython",
    "version": 3
   },
   "file_extension": ".py",
   "mimetype": "text/x-python",
   "name": "python",
   "nbconvert_exporter": "python",
   "pygments_lexer": "ipython3",
   "version": "3.7.7-final"
  }
 },
 "nbformat": 4,
 "nbformat_minor": 4
}